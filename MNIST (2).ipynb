{
  "nbformat": 4,
  "nbformat_minor": 0,
  "metadata": {
    "colab": {
      "provenance": []
    },
    "kernelspec": {
      "name": "python3",
      "display_name": "Python 3"
    },
    "language_info": {
      "name": "python"
    }
  },
  "cells": [
    {
      "cell_type": "markdown",
      "source": [
        "#### pre-requisites for all models:"
      ],
      "metadata": {
        "id": "7IK1cRyZAqKH"
      }
    },
    {
      "cell_type": "code",
      "execution_count": 3,
      "metadata": {
        "id": "yCNSA8l5HZti"
      },
      "outputs": [],
      "source": [
        "import pandas as pd\n",
        "import numpy as np\n",
        "import seaborn as sns\n",
        "import matplotlib.pyplot as plt"
      ]
    },
    {
      "cell_type": "code",
      "source": [
        "mnist_train_dataset_initial = pd.read_csv('/home/MNIST_train.csv')"
      ],
      "metadata": {
        "id": "YtOjPce9I92l"
      },
      "execution_count": 4,
      "outputs": []
    },
    {
      "cell_type": "code",
      "source": [
        "mnist_train_dataset_initial"
      ],
      "metadata": {
        "id": "JmNlo7LfyNbP",
        "colab": {
          "base_uri": "https://localhost:8080/",
          "height": 424
        },
        "outputId": "9c182e71-4ed6-4ad2-b0ac-63f27a18faf0"
      },
      "execution_count": 5,
      "outputs": [
        {
          "output_type": "execute_result",
          "data": {
            "text/plain": [
              "       Unnamed: 0  index  labels  0  1  2  3  4  5  6  ...  774  775  776  \\\n",
              "0               0      0       5  0  0  0  0  0  0  0  ...    0    0    0   \n",
              "1               1      1       0  0  0  0  0  0  0  0  ...    0    0    0   \n",
              "2               2      2       4  0  0  0  0  0  0  0  ...    0    0    0   \n",
              "3               3      3       1  0  0  0  0  0  0  0  ...    0    0    0   \n",
              "4               4      4       9  0  0  0  0  0  0  0  ...    0    0    0   \n",
              "...           ...    ...     ... .. .. .. .. .. .. ..  ...  ...  ...  ...   \n",
              "59995       59995  59995       8  0  0  0  0  0  0  0  ...    0    0    0   \n",
              "59996       59996  59996       3  0  0  0  0  0  0  0  ...    0    0    0   \n",
              "59997       59997  59997       5  0  0  0  0  0  0  0  ...    0    0    0   \n",
              "59998       59998  59998       6  0  0  0  0  0  0  0  ...    0    0    0   \n",
              "59999       59999  59999       8  0  0  0  0  0  0  0  ...    0    0    0   \n",
              "\n",
              "       777  778  779  780  781  782  783  \n",
              "0        0    0    0    0    0    0    0  \n",
              "1        0    0    0    0    0    0    0  \n",
              "2        0    0    0    0    0    0    0  \n",
              "3        0    0    0    0    0    0    0  \n",
              "4        0    0    0    0    0    0    0  \n",
              "...    ...  ...  ...  ...  ...  ...  ...  \n",
              "59995    0    0    0    0    0    0    0  \n",
              "59996    0    0    0    0    0    0    0  \n",
              "59997    0    0    0    0    0    0    0  \n",
              "59998    0    0    0    0    0    0    0  \n",
              "59999    0    0    0    0    0    0    0  \n",
              "\n",
              "[60000 rows x 787 columns]"
            ],
            "text/html": [
              "\n",
              "  <div id=\"df-e2d8b1a0-4e2d-4ad8-8d26-d0c9ea2991a3\" class=\"colab-df-container\">\n",
              "    <div>\n",
              "<style scoped>\n",
              "    .dataframe tbody tr th:only-of-type {\n",
              "        vertical-align: middle;\n",
              "    }\n",
              "\n",
              "    .dataframe tbody tr th {\n",
              "        vertical-align: top;\n",
              "    }\n",
              "\n",
              "    .dataframe thead th {\n",
              "        text-align: right;\n",
              "    }\n",
              "</style>\n",
              "<table border=\"1\" class=\"dataframe\">\n",
              "  <thead>\n",
              "    <tr style=\"text-align: right;\">\n",
              "      <th></th>\n",
              "      <th>Unnamed: 0</th>\n",
              "      <th>index</th>\n",
              "      <th>labels</th>\n",
              "      <th>0</th>\n",
              "      <th>1</th>\n",
              "      <th>2</th>\n",
              "      <th>3</th>\n",
              "      <th>4</th>\n",
              "      <th>5</th>\n",
              "      <th>6</th>\n",
              "      <th>...</th>\n",
              "      <th>774</th>\n",
              "      <th>775</th>\n",
              "      <th>776</th>\n",
              "      <th>777</th>\n",
              "      <th>778</th>\n",
              "      <th>779</th>\n",
              "      <th>780</th>\n",
              "      <th>781</th>\n",
              "      <th>782</th>\n",
              "      <th>783</th>\n",
              "    </tr>\n",
              "  </thead>\n",
              "  <tbody>\n",
              "    <tr>\n",
              "      <th>0</th>\n",
              "      <td>0</td>\n",
              "      <td>0</td>\n",
              "      <td>5</td>\n",
              "      <td>0</td>\n",
              "      <td>0</td>\n",
              "      <td>0</td>\n",
              "      <td>0</td>\n",
              "      <td>0</td>\n",
              "      <td>0</td>\n",
              "      <td>0</td>\n",
              "      <td>...</td>\n",
              "      <td>0</td>\n",
              "      <td>0</td>\n",
              "      <td>0</td>\n",
              "      <td>0</td>\n",
              "      <td>0</td>\n",
              "      <td>0</td>\n",
              "      <td>0</td>\n",
              "      <td>0</td>\n",
              "      <td>0</td>\n",
              "      <td>0</td>\n",
              "    </tr>\n",
              "    <tr>\n",
              "      <th>1</th>\n",
              "      <td>1</td>\n",
              "      <td>1</td>\n",
              "      <td>0</td>\n",
              "      <td>0</td>\n",
              "      <td>0</td>\n",
              "      <td>0</td>\n",
              "      <td>0</td>\n",
              "      <td>0</td>\n",
              "      <td>0</td>\n",
              "      <td>0</td>\n",
              "      <td>...</td>\n",
              "      <td>0</td>\n",
              "      <td>0</td>\n",
              "      <td>0</td>\n",
              "      <td>0</td>\n",
              "      <td>0</td>\n",
              "      <td>0</td>\n",
              "      <td>0</td>\n",
              "      <td>0</td>\n",
              "      <td>0</td>\n",
              "      <td>0</td>\n",
              "    </tr>\n",
              "    <tr>\n",
              "      <th>2</th>\n",
              "      <td>2</td>\n",
              "      <td>2</td>\n",
              "      <td>4</td>\n",
              "      <td>0</td>\n",
              "      <td>0</td>\n",
              "      <td>0</td>\n",
              "      <td>0</td>\n",
              "      <td>0</td>\n",
              "      <td>0</td>\n",
              "      <td>0</td>\n",
              "      <td>...</td>\n",
              "      <td>0</td>\n",
              "      <td>0</td>\n",
              "      <td>0</td>\n",
              "      <td>0</td>\n",
              "      <td>0</td>\n",
              "      <td>0</td>\n",
              "      <td>0</td>\n",
              "      <td>0</td>\n",
              "      <td>0</td>\n",
              "      <td>0</td>\n",
              "    </tr>\n",
              "    <tr>\n",
              "      <th>3</th>\n",
              "      <td>3</td>\n",
              "      <td>3</td>\n",
              "      <td>1</td>\n",
              "      <td>0</td>\n",
              "      <td>0</td>\n",
              "      <td>0</td>\n",
              "      <td>0</td>\n",
              "      <td>0</td>\n",
              "      <td>0</td>\n",
              "      <td>0</td>\n",
              "      <td>...</td>\n",
              "      <td>0</td>\n",
              "      <td>0</td>\n",
              "      <td>0</td>\n",
              "      <td>0</td>\n",
              "      <td>0</td>\n",
              "      <td>0</td>\n",
              "      <td>0</td>\n",
              "      <td>0</td>\n",
              "      <td>0</td>\n",
              "      <td>0</td>\n",
              "    </tr>\n",
              "    <tr>\n",
              "      <th>4</th>\n",
              "      <td>4</td>\n",
              "      <td>4</td>\n",
              "      <td>9</td>\n",
              "      <td>0</td>\n",
              "      <td>0</td>\n",
              "      <td>0</td>\n",
              "      <td>0</td>\n",
              "      <td>0</td>\n",
              "      <td>0</td>\n",
              "      <td>0</td>\n",
              "      <td>...</td>\n",
              "      <td>0</td>\n",
              "      <td>0</td>\n",
              "      <td>0</td>\n",
              "      <td>0</td>\n",
              "      <td>0</td>\n",
              "      <td>0</td>\n",
              "      <td>0</td>\n",
              "      <td>0</td>\n",
              "      <td>0</td>\n",
              "      <td>0</td>\n",
              "    </tr>\n",
              "    <tr>\n",
              "      <th>...</th>\n",
              "      <td>...</td>\n",
              "      <td>...</td>\n",
              "      <td>...</td>\n",
              "      <td>...</td>\n",
              "      <td>...</td>\n",
              "      <td>...</td>\n",
              "      <td>...</td>\n",
              "      <td>...</td>\n",
              "      <td>...</td>\n",
              "      <td>...</td>\n",
              "      <td>...</td>\n",
              "      <td>...</td>\n",
              "      <td>...</td>\n",
              "      <td>...</td>\n",
              "      <td>...</td>\n",
              "      <td>...</td>\n",
              "      <td>...</td>\n",
              "      <td>...</td>\n",
              "      <td>...</td>\n",
              "      <td>...</td>\n",
              "      <td>...</td>\n",
              "    </tr>\n",
              "    <tr>\n",
              "      <th>59995</th>\n",
              "      <td>59995</td>\n",
              "      <td>59995</td>\n",
              "      <td>8</td>\n",
              "      <td>0</td>\n",
              "      <td>0</td>\n",
              "      <td>0</td>\n",
              "      <td>0</td>\n",
              "      <td>0</td>\n",
              "      <td>0</td>\n",
              "      <td>0</td>\n",
              "      <td>...</td>\n",
              "      <td>0</td>\n",
              "      <td>0</td>\n",
              "      <td>0</td>\n",
              "      <td>0</td>\n",
              "      <td>0</td>\n",
              "      <td>0</td>\n",
              "      <td>0</td>\n",
              "      <td>0</td>\n",
              "      <td>0</td>\n",
              "      <td>0</td>\n",
              "    </tr>\n",
              "    <tr>\n",
              "      <th>59996</th>\n",
              "      <td>59996</td>\n",
              "      <td>59996</td>\n",
              "      <td>3</td>\n",
              "      <td>0</td>\n",
              "      <td>0</td>\n",
              "      <td>0</td>\n",
              "      <td>0</td>\n",
              "      <td>0</td>\n",
              "      <td>0</td>\n",
              "      <td>0</td>\n",
              "      <td>...</td>\n",
              "      <td>0</td>\n",
              "      <td>0</td>\n",
              "      <td>0</td>\n",
              "      <td>0</td>\n",
              "      <td>0</td>\n",
              "      <td>0</td>\n",
              "      <td>0</td>\n",
              "      <td>0</td>\n",
              "      <td>0</td>\n",
              "      <td>0</td>\n",
              "    </tr>\n",
              "    <tr>\n",
              "      <th>59997</th>\n",
              "      <td>59997</td>\n",
              "      <td>59997</td>\n",
              "      <td>5</td>\n",
              "      <td>0</td>\n",
              "      <td>0</td>\n",
              "      <td>0</td>\n",
              "      <td>0</td>\n",
              "      <td>0</td>\n",
              "      <td>0</td>\n",
              "      <td>0</td>\n",
              "      <td>...</td>\n",
              "      <td>0</td>\n",
              "      <td>0</td>\n",
              "      <td>0</td>\n",
              "      <td>0</td>\n",
              "      <td>0</td>\n",
              "      <td>0</td>\n",
              "      <td>0</td>\n",
              "      <td>0</td>\n",
              "      <td>0</td>\n",
              "      <td>0</td>\n",
              "    </tr>\n",
              "    <tr>\n",
              "      <th>59998</th>\n",
              "      <td>59998</td>\n",
              "      <td>59998</td>\n",
              "      <td>6</td>\n",
              "      <td>0</td>\n",
              "      <td>0</td>\n",
              "      <td>0</td>\n",
              "      <td>0</td>\n",
              "      <td>0</td>\n",
              "      <td>0</td>\n",
              "      <td>0</td>\n",
              "      <td>...</td>\n",
              "      <td>0</td>\n",
              "      <td>0</td>\n",
              "      <td>0</td>\n",
              "      <td>0</td>\n",
              "      <td>0</td>\n",
              "      <td>0</td>\n",
              "      <td>0</td>\n",
              "      <td>0</td>\n",
              "      <td>0</td>\n",
              "      <td>0</td>\n",
              "    </tr>\n",
              "    <tr>\n",
              "      <th>59999</th>\n",
              "      <td>59999</td>\n",
              "      <td>59999</td>\n",
              "      <td>8</td>\n",
              "      <td>0</td>\n",
              "      <td>0</td>\n",
              "      <td>0</td>\n",
              "      <td>0</td>\n",
              "      <td>0</td>\n",
              "      <td>0</td>\n",
              "      <td>0</td>\n",
              "      <td>...</td>\n",
              "      <td>0</td>\n",
              "      <td>0</td>\n",
              "      <td>0</td>\n",
              "      <td>0</td>\n",
              "      <td>0</td>\n",
              "      <td>0</td>\n",
              "      <td>0</td>\n",
              "      <td>0</td>\n",
              "      <td>0</td>\n",
              "      <td>0</td>\n",
              "    </tr>\n",
              "  </tbody>\n",
              "</table>\n",
              "<p>60000 rows × 787 columns</p>\n",
              "</div>\n",
              "    <div class=\"colab-df-buttons\">\n",
              "\n",
              "  <div class=\"colab-df-container\">\n",
              "    <button class=\"colab-df-convert\" onclick=\"convertToInteractive('df-e2d8b1a0-4e2d-4ad8-8d26-d0c9ea2991a3')\"\n",
              "            title=\"Convert this dataframe to an interactive table.\"\n",
              "            style=\"display:none;\">\n",
              "\n",
              "  <svg xmlns=\"http://www.w3.org/2000/svg\" height=\"24px\" viewBox=\"0 -960 960 960\">\n",
              "    <path d=\"M120-120v-720h720v720H120Zm60-500h600v-160H180v160Zm220 220h160v-160H400v160Zm0 220h160v-160H400v160ZM180-400h160v-160H180v160Zm440 0h160v-160H620v160ZM180-180h160v-160H180v160Zm440 0h160v-160H620v160Z\"/>\n",
              "  </svg>\n",
              "    </button>\n",
              "\n",
              "  <style>\n",
              "    .colab-df-container {\n",
              "      display:flex;\n",
              "      gap: 12px;\n",
              "    }\n",
              "\n",
              "    .colab-df-convert {\n",
              "      background-color: #E8F0FE;\n",
              "      border: none;\n",
              "      border-radius: 50%;\n",
              "      cursor: pointer;\n",
              "      display: none;\n",
              "      fill: #1967D2;\n",
              "      height: 32px;\n",
              "      padding: 0 0 0 0;\n",
              "      width: 32px;\n",
              "    }\n",
              "\n",
              "    .colab-df-convert:hover {\n",
              "      background-color: #E2EBFA;\n",
              "      box-shadow: 0px 1px 2px rgba(60, 64, 67, 0.3), 0px 1px 3px 1px rgba(60, 64, 67, 0.15);\n",
              "      fill: #174EA6;\n",
              "    }\n",
              "\n",
              "    .colab-df-buttons div {\n",
              "      margin-bottom: 4px;\n",
              "    }\n",
              "\n",
              "    [theme=dark] .colab-df-convert {\n",
              "      background-color: #3B4455;\n",
              "      fill: #D2E3FC;\n",
              "    }\n",
              "\n",
              "    [theme=dark] .colab-df-convert:hover {\n",
              "      background-color: #434B5C;\n",
              "      box-shadow: 0px 1px 3px 1px rgba(0, 0, 0, 0.15);\n",
              "      filter: drop-shadow(0px 1px 2px rgba(0, 0, 0, 0.3));\n",
              "      fill: #FFFFFF;\n",
              "    }\n",
              "  </style>\n",
              "\n",
              "    <script>\n",
              "      const buttonEl =\n",
              "        document.querySelector('#df-e2d8b1a0-4e2d-4ad8-8d26-d0c9ea2991a3 button.colab-df-convert');\n",
              "      buttonEl.style.display =\n",
              "        google.colab.kernel.accessAllowed ? 'block' : 'none';\n",
              "\n",
              "      async function convertToInteractive(key) {\n",
              "        const element = document.querySelector('#df-e2d8b1a0-4e2d-4ad8-8d26-d0c9ea2991a3');\n",
              "        const dataTable =\n",
              "          await google.colab.kernel.invokeFunction('convertToInteractive',\n",
              "                                                    [key], {});\n",
              "        if (!dataTable) return;\n",
              "\n",
              "        const docLinkHtml = 'Like what you see? Visit the ' +\n",
              "          '<a target=\"_blank\" href=https://colab.research.google.com/notebooks/data_table.ipynb>data table notebook</a>'\n",
              "          + ' to learn more about interactive tables.';\n",
              "        element.innerHTML = '';\n",
              "        dataTable['output_type'] = 'display_data';\n",
              "        await google.colab.output.renderOutput(dataTable, element);\n",
              "        const docLink = document.createElement('div');\n",
              "        docLink.innerHTML = docLinkHtml;\n",
              "        element.appendChild(docLink);\n",
              "      }\n",
              "    </script>\n",
              "  </div>\n",
              "\n",
              "\n",
              "<div id=\"df-40627249-f232-428f-ae11-cd2efa044a91\">\n",
              "  <button class=\"colab-df-quickchart\" onclick=\"quickchart('df-40627249-f232-428f-ae11-cd2efa044a91')\"\n",
              "            title=\"Suggest charts\"\n",
              "            style=\"display:none;\">\n",
              "\n",
              "<svg xmlns=\"http://www.w3.org/2000/svg\" height=\"24px\"viewBox=\"0 0 24 24\"\n",
              "     width=\"24px\">\n",
              "    <g>\n",
              "        <path d=\"M19 3H5c-1.1 0-2 .9-2 2v14c0 1.1.9 2 2 2h14c1.1 0 2-.9 2-2V5c0-1.1-.9-2-2-2zM9 17H7v-7h2v7zm4 0h-2V7h2v10zm4 0h-2v-4h2v4z\"/>\n",
              "    </g>\n",
              "</svg>\n",
              "  </button>\n",
              "\n",
              "<style>\n",
              "  .colab-df-quickchart {\n",
              "      --bg-color: #E8F0FE;\n",
              "      --fill-color: #1967D2;\n",
              "      --hover-bg-color: #E2EBFA;\n",
              "      --hover-fill-color: #174EA6;\n",
              "      --disabled-fill-color: #AAA;\n",
              "      --disabled-bg-color: #DDD;\n",
              "  }\n",
              "\n",
              "  [theme=dark] .colab-df-quickchart {\n",
              "      --bg-color: #3B4455;\n",
              "      --fill-color: #D2E3FC;\n",
              "      --hover-bg-color: #434B5C;\n",
              "      --hover-fill-color: #FFFFFF;\n",
              "      --disabled-bg-color: #3B4455;\n",
              "      --disabled-fill-color: #666;\n",
              "  }\n",
              "\n",
              "  .colab-df-quickchart {\n",
              "    background-color: var(--bg-color);\n",
              "    border: none;\n",
              "    border-radius: 50%;\n",
              "    cursor: pointer;\n",
              "    display: none;\n",
              "    fill: var(--fill-color);\n",
              "    height: 32px;\n",
              "    padding: 0;\n",
              "    width: 32px;\n",
              "  }\n",
              "\n",
              "  .colab-df-quickchart:hover {\n",
              "    background-color: var(--hover-bg-color);\n",
              "    box-shadow: 0 1px 2px rgba(60, 64, 67, 0.3), 0 1px 3px 1px rgba(60, 64, 67, 0.15);\n",
              "    fill: var(--button-hover-fill-color);\n",
              "  }\n",
              "\n",
              "  .colab-df-quickchart-complete:disabled,\n",
              "  .colab-df-quickchart-complete:disabled:hover {\n",
              "    background-color: var(--disabled-bg-color);\n",
              "    fill: var(--disabled-fill-color);\n",
              "    box-shadow: none;\n",
              "  }\n",
              "\n",
              "  .colab-df-spinner {\n",
              "    border: 2px solid var(--fill-color);\n",
              "    border-color: transparent;\n",
              "    border-bottom-color: var(--fill-color);\n",
              "    animation:\n",
              "      spin 1s steps(1) infinite;\n",
              "  }\n",
              "\n",
              "  @keyframes spin {\n",
              "    0% {\n",
              "      border-color: transparent;\n",
              "      border-bottom-color: var(--fill-color);\n",
              "      border-left-color: var(--fill-color);\n",
              "    }\n",
              "    20% {\n",
              "      border-color: transparent;\n",
              "      border-left-color: var(--fill-color);\n",
              "      border-top-color: var(--fill-color);\n",
              "    }\n",
              "    30% {\n",
              "      border-color: transparent;\n",
              "      border-left-color: var(--fill-color);\n",
              "      border-top-color: var(--fill-color);\n",
              "      border-right-color: var(--fill-color);\n",
              "    }\n",
              "    40% {\n",
              "      border-color: transparent;\n",
              "      border-right-color: var(--fill-color);\n",
              "      border-top-color: var(--fill-color);\n",
              "    }\n",
              "    60% {\n",
              "      border-color: transparent;\n",
              "      border-right-color: var(--fill-color);\n",
              "    }\n",
              "    80% {\n",
              "      border-color: transparent;\n",
              "      border-right-color: var(--fill-color);\n",
              "      border-bottom-color: var(--fill-color);\n",
              "    }\n",
              "    90% {\n",
              "      border-color: transparent;\n",
              "      border-bottom-color: var(--fill-color);\n",
              "    }\n",
              "  }\n",
              "</style>\n",
              "\n",
              "  <script>\n",
              "    async function quickchart(key) {\n",
              "      const quickchartButtonEl =\n",
              "        document.querySelector('#' + key + ' button');\n",
              "      quickchartButtonEl.disabled = true;  // To prevent multiple clicks.\n",
              "      quickchartButtonEl.classList.add('colab-df-spinner');\n",
              "      try {\n",
              "        const charts = await google.colab.kernel.invokeFunction(\n",
              "            'suggestCharts', [key], {});\n",
              "      } catch (error) {\n",
              "        console.error('Error during call to suggestCharts:', error);\n",
              "      }\n",
              "      quickchartButtonEl.classList.remove('colab-df-spinner');\n",
              "      quickchartButtonEl.classList.add('colab-df-quickchart-complete');\n",
              "    }\n",
              "    (() => {\n",
              "      let quickchartButtonEl =\n",
              "        document.querySelector('#df-40627249-f232-428f-ae11-cd2efa044a91 button');\n",
              "      quickchartButtonEl.style.display =\n",
              "        google.colab.kernel.accessAllowed ? 'block' : 'none';\n",
              "    })();\n",
              "  </script>\n",
              "</div>\n",
              "    </div>\n",
              "  </div>\n"
            ],
            "application/vnd.google.colaboratory.intrinsic+json": {
              "type": "dataframe",
              "variable_name": "mnist_train_dataset_initial"
            }
          },
          "metadata": {},
          "execution_count": 5
        }
      ]
    },
    {
      "cell_type": "code",
      "source": [
        "null_list = mnist_train_dataset_initial.isna().sum()"
      ],
      "metadata": {
        "id": "QQiugXQLKAw9"
      },
      "execution_count": 6,
      "outputs": []
    },
    {
      "cell_type": "code",
      "source": [
        "null_list"
      ],
      "metadata": {
        "id": "GCd_CgwurXjC",
        "colab": {
          "base_uri": "https://localhost:8080/"
        },
        "outputId": "3ec68fea-cdcc-4dc4-bf4f-1b3680be56f4"
      },
      "execution_count": 7,
      "outputs": [
        {
          "output_type": "execute_result",
          "data": {
            "text/plain": [
              "Unnamed: 0    0\n",
              "index         0\n",
              "labels        0\n",
              "0             0\n",
              "1             0\n",
              "             ..\n",
              "779           0\n",
              "780           0\n",
              "781           0\n",
              "782           0\n",
              "783           0\n",
              "Length: 787, dtype: int64"
            ]
          },
          "metadata": {},
          "execution_count": 7
        }
      ]
    },
    {
      "cell_type": "code",
      "source": [
        "mnist_train_dataset_initial.columns"
      ],
      "metadata": {
        "id": "ZpKWFDRHKgAw",
        "colab": {
          "base_uri": "https://localhost:8080/"
        },
        "outputId": "4ed4696e-fc66-465c-c371-26ea431add17"
      },
      "execution_count": 8,
      "outputs": [
        {
          "output_type": "execute_result",
          "data": {
            "text/plain": [
              "Index(['Unnamed: 0', 'index', 'labels', '0', '1', '2', '3', '4', '5', '6',\n",
              "       ...\n",
              "       '774', '775', '776', '777', '778', '779', '780', '781', '782', '783'],\n",
              "      dtype='object', length=787)"
            ]
          },
          "metadata": {},
          "execution_count": 8
        }
      ]
    },
    {
      "cell_type": "markdown",
      "source": [
        "####removing the unnamed column and setting index correctly"
      ],
      "metadata": {
        "id": "0e_xtoTrI3f0"
      }
    },
    {
      "cell_type": "code",
      "source": [
        "mnist_train_dataset_initial = mnist_train_dataset_initial.drop('Unnamed: 0',axis =1)"
      ],
      "metadata": {
        "id": "_ThkpGNwPwc0"
      },
      "execution_count": 9,
      "outputs": []
    },
    {
      "cell_type": "code",
      "source": [
        "mnist_train_dataset_initial.set_index('index',inplace=True)"
      ],
      "metadata": {
        "id": "0-9-fez1FD-I"
      },
      "execution_count": 10,
      "outputs": []
    },
    {
      "cell_type": "code",
      "source": [
        "mnist_train_dataset_initial.columns"
      ],
      "metadata": {
        "id": "uSFcLLSLGp1a",
        "colab": {
          "base_uri": "https://localhost:8080/"
        },
        "outputId": "97c70a72-d8e7-4d55-c727-68bdfcae95a7"
      },
      "execution_count": 11,
      "outputs": [
        {
          "output_type": "execute_result",
          "data": {
            "text/plain": [
              "Index(['labels', '0', '1', '2', '3', '4', '5', '6', '7', '8',\n",
              "       ...\n",
              "       '774', '775', '776', '777', '778', '779', '780', '781', '782', '783'],\n",
              "      dtype='object', length=785)"
            ]
          },
          "metadata": {},
          "execution_count": 11
        }
      ]
    },
    {
      "cell_type": "markdown",
      "source": [
        "####visualizing one row data as image"
      ],
      "metadata": {
        "id": "d2vRbf-6q_TE"
      }
    },
    {
      "cell_type": "code",
      "source": [
        "np_row = mnist_train_dataset_initial.iloc[2,1:].to_numpy()"
      ],
      "metadata": {
        "id": "XVS3OsSqRrNK"
      },
      "execution_count": 12,
      "outputs": []
    },
    {
      "cell_type": "code",
      "source": [
        "np_row_final =np_row.reshape(28,28)"
      ],
      "metadata": {
        "id": "rl-nrye_NcPR"
      },
      "execution_count": 13,
      "outputs": []
    },
    {
      "cell_type": "code",
      "source": [
        "plt.imshow(np_row_final)"
      ],
      "metadata": {
        "id": "dyo_bEwWPTkU",
        "colab": {
          "base_uri": "https://localhost:8080/",
          "height": 447
        },
        "outputId": "8a4e044d-4d7a-47cf-97fa-0c6e639617b4"
      },
      "execution_count": 14,
      "outputs": [
        {
          "output_type": "execute_result",
          "data": {
            "text/plain": [
              "<matplotlib.image.AxesImage at 0x7fa35e855870>"
            ]
          },
          "metadata": {},
          "execution_count": 14
        },
        {
          "output_type": "display_data",
          "data": {
            "text/plain": [
              "<Figure size 640x480 with 1 Axes>"
            ],
            "image/png": "[encoded data removed]"
          },
          "metadata": {}
        }
      ]
    },
    {
      "cell_type": "markdown",
      "source": [
        "Storing the values of X and y for our modelling"
      ],
      "metadata": {
        "id": "UFL98cLKSBV8"
      }
    },
    {
      "cell_type": "code",
      "source": [
        "mnist_train_dataset_initial.loc[:,'0':]"
      ],
      "metadata": {
        "id": "dsVjd-auPTgO",
        "colab": {
          "base_uri": "https://localhost:8080/",
          "height": 455
        },
        "outputId": "b1a505c7-b638-4262-d0cc-eeac26ed40b9"
      },
      "execution_count": 15,
      "outputs": [
        {
          "output_type": "execute_result",
          "data": {
            "text/plain": [
              "       0  1  2  3  4  5  6  7  8  9  ...  774  775  776  777  778  779  780  \\\n",
              "index                                ...                                      \n",
              "0      0  0  0  0  0  0  0  0  0  0  ...    0    0    0    0    0    0    0   \n",
              "1      0  0  0  0  0  0  0  0  0  0  ...    0    0    0    0    0    0    0   \n",
              "2      0  0  0  0  0  0  0  0  0  0  ...    0    0    0    0    0    0    0   \n",
              "3      0  0  0  0  0  0  0  0  0  0  ...    0    0    0    0    0    0    0   \n",
              "4      0  0  0  0  0  0  0  0  0  0  ...    0    0    0    0    0    0    0   \n",
              "...   .. .. .. .. .. .. .. .. .. ..  ...  ...  ...  ...  ...  ...  ...  ...   \n",
              "59995  0  0  0  0  0  0  0  0  0  0  ...    0    0    0    0    0    0    0   \n",
              "59996  0  0  0  0  0  0  0  0  0  0  ...    0    0    0    0    0    0    0   \n",
              "59997  0  0  0  0  0  0  0  0  0  0  ...    0    0    0    0    0    0    0   \n",
              "59998  0  0  0  0  0  0  0  0  0  0  ...    0    0    0    0    0    0    0   \n",
              "59999  0  0  0  0  0  0  0  0  0  0  ...    0    0    0    0    0    0    0   \n",
              "\n",
              "       781  782  783  \n",
              "index                 \n",
              "0        0    0    0  \n",
              "1        0    0    0  \n",
              "2        0    0    0  \n",
              "3        0    0    0  \n",
              "4        0    0    0  \n",
              "...    ...  ...  ...  \n",
              "59995    0    0    0  \n",
              "59996    0    0    0  \n",
              "59997    0    0    0  \n",
              "59998    0    0    0  \n",
              "59999    0    0    0  \n",
              "\n",
              "[60000 rows x 784 columns]"
            ],
            "text/html": [
              "\n",
              "  <div id=\"df-8558c406-4235-4460-a9c4-928b3371eb6f\" class=\"colab-df-container\">\n",
              "    <div>\n",
              "<style scoped>\n",
              "    .dataframe tbody tr th:only-of-type {\n",
              "        vertical-align: middle;\n",
              "    }\n",
              "\n",
              "    .dataframe tbody tr th {\n",
              "        vertical-align: top;\n",
              "    }\n",
              "\n",
              "    .dataframe thead th {\n",
              "        text-align: right;\n",
              "    }\n",
              "</style>\n",
              "<table border=\"1\" class=\"dataframe\">\n",
              "  <thead>\n",
              "    <tr style=\"text-align: right;\">\n",
              "      <th></th>\n",
              "      <th>0</th>\n",
              "      <th>1</th>\n",
              "      <th>2</th>\n",
              "      <th>3</th>\n",
              "      <th>4</th>\n",
              "      <th>5</th>\n",
              "      <th>6</th>\n",
              "      <th>7</th>\n",
              "      <th>8</th>\n",
              "      <th>9</th>\n",
              "      <th>...</th>\n",
              "      <th>774</th>\n",
              "      <th>775</th>\n",
              "      <th>776</th>\n",
              "      <th>777</th>\n",
              "      <th>778</th>\n",
              "      <th>779</th>\n",
              "      <th>780</th>\n",
              "      <th>781</th>\n",
              "      <th>782</th>\n",
              "      <th>783</th>\n",
              "    </tr>\n",
              "    <tr>\n",
              "      <th>index</th>\n",
              "      <th></th>\n",
              "      <th></th>\n",
              "      <th></th>\n",
              "      <th></th>\n",
              "      <th></th>\n",
              "      <th></th>\n",
              "      <th></th>\n",
              "      <th></th>\n",
              "      <th></th>\n",
              "      <th></th>\n",
              "      <th></th>\n",
              "      <th></th>\n",
              "      <th></th>\n",
              "      <th></th>\n",
              "      <th></th>\n",
              "      <th></th>\n",
              "      <th></th>\n",
              "      <th></th>\n",
              "      <th></th>\n",
              "      <th></th>\n",
              "      <th></th>\n",
              "    </tr>\n",
              "  </thead>\n",
              "  <tbody>\n",
              "    <tr>\n",
              "      <th>0</th>\n",
              "      <td>0</td>\n",
              "      <td>0</td>\n",
              "      <td>0</td>\n",
              "      <td>0</td>\n",
              "      <td>0</td>\n",
              "      <td>0</td>\n",
              "      <td>0</td>\n",
              "      <td>0</td>\n",
              "      <td>0</td>\n",
              "      <td>0</td>\n",
              "      <td>...</td>\n",
              "      <td>0</td>\n",
              "      <td>0</td>\n",
              "      <td>0</td>\n",
              "      <td>0</td>\n",
              "      <td>0</td>\n",
              "      <td>0</td>\n",
              "      <td>0</td>\n",
              "      <td>0</td>\n",
              "      <td>0</td>\n",
              "      <td>0</td>\n",
              "    </tr>\n",
              "    <tr>\n",
              "      <th>1</th>\n",
              "      <td>0</td>\n",
              "      <td>0</td>\n",
              "      <td>0</td>\n",
              "      <td>0</td>\n",
              "      <td>0</td>\n",
              "      <td>0</td>\n",
              "      <td>0</td>\n",
              "      <td>0</td>\n",
              "      <td>0</td>\n",
              "      <td>0</td>\n",
              "      <td>...</td>\n",
              "      <td>0</td>\n",
              "      <td>0</td>\n",
              "      <td>0</td>\n",
              "      <td>0</td>\n",
              "      <td>0</td>\n",
              "      <td>0</td>\n",
              "      <td>0</td>\n",
              "      <td>0</td>\n",
              "      <td>0</td>\n",
              "      <td>0</td>\n",
              "    </tr>\n",
              "    <tr>\n",
              "      <th>2</th>\n",
              "      <td>0</td>\n",
              "      <td>0</td>\n",
              "      <td>0</td>\n",
              "      <td>0</td>\n",
              "      <td>0</td>\n",
              "      <td>0</td>\n",
              "      <td>0</td>\n",
              "      <td>0</td>\n",
              "      <td>0</td>\n",
              "      <td>0</td>\n",
              "      <td>...</td>\n",
              "      <td>0</td>\n",
              "      <td>0</td>\n",
              "      <td>0</td>\n",
              "      <td>0</td>\n",
              "      <td>0</td>\n",
              "      <td>0</td>\n",
              "      <td>0</td>\n",
              "      <td>0</td>\n",
              "      <td>0</td>\n",
              "      <td>0</td>\n",
              "    </tr>\n",
              "    <tr>\n",
              "      <th>3</th>\n",
              "      <td>0</td>\n",
              "      <td>0</td>\n",
              "      <td>0</td>\n",
              "      <td>0</td>\n",
              "      <td>0</td>\n",
              "      <td>0</td>\n",
              "      <td>0</td>\n",
              "      <td>0</td>\n",
              "      <td>0</td>\n",
              "      <td>0</td>\n",
              "      <td>...</td>\n",
              "      <td>0</td>\n",
              "      <td>0</td>\n",
              "      <td>0</td>\n",
              "      <td>0</td>\n",
              "      <td>0</td>\n",
              "      <td>0</td>\n",
              "      <td>0</td>\n",
              "      <td>0</td>\n",
              "      <td>0</td>\n",
              "      <td>0</td>\n",
              "    </tr>\n",
              "    <tr>\n",
              "      <th>4</th>\n",
              "      <td>0</td>\n",
              "      <td>0</td>\n",
              "      <td>0</td>\n",
              "      <td>0</td>\n",
              "      <td>0</td>\n",
              "      <td>0</td>\n",
              "      <td>0</td>\n",
              "      <td>0</td>\n",
              "      <td>0</td>\n",
              "      <td>0</td>\n",
              "      <td>...</td>\n",
              "      <td>0</td>\n",
              "      <td>0</td>\n",
              "      <td>0</td>\n",
              "      <td>0</td>\n",
              "      <td>0</td>\n",
              "      <td>0</td>\n",
              "      <td>0</td>\n",
              "      <td>0</td>\n",
              "      <td>0</td>\n",
              "      <td>0</td>\n",
              "    </tr>\n",
              "    <tr>\n",
              "      <th>...</th>\n",
              "      <td>...</td>\n",
              "      <td>...</td>\n",
              "      <td>...</td>\n",
              "      <td>...</td>\n",
              "      <td>...</td>\n",
              "      <td>...</td>\n",
              "      <td>...</td>\n",
              "      <td>...</td>\n",
              "      <td>...</td>\n",
              "      <td>...</td>\n",
              "      <td>...</td>\n",
              "      <td>...</td>\n",
              "      <td>...</td>\n",
              "      <td>...</td>\n",
              "      <td>...</td>\n",
              "      <td>...</td>\n",
              "      <td>...</td>\n",
              "      <td>...</td>\n",
              "      <td>...</td>\n",
              "      <td>...</td>\n",
              "      <td>...</td>\n",
              "    </tr>\n",
              "    <tr>\n",
              "      <th>59995</th>\n",
              "      <td>0</td>\n",
              "      <td>0</td>\n",
              "      <td>0</td>\n",
              "      <td>0</td>\n",
              "      <td>0</td>\n",
              "      <td>0</td>\n",
              "      <td>0</td>\n",
              "      <td>0</td>\n",
              "      <td>0</td>\n",
              "      <td>0</td>\n",
              "      <td>...</td>\n",
              "      <td>0</td>\n",
              "      <td>0</td>\n",
              "      <td>0</td>\n",
              "      <td>0</td>\n",
              "      <td>0</td>\n",
              "      <td>0</td>\n",
              "      <td>0</td>\n",
              "      <td>0</td>\n",
              "      <td>0</td>\n",
              "      <td>0</td>\n",
              "    </tr>\n",
              "    <tr>\n",
              "      <th>59996</th>\n",
              "      <td>0</td>\n",
              "      <td>0</td>\n",
              "      <td>0</td>\n",
              "      <td>0</td>\n",
              "      <td>0</td>\n",
              "      <td>0</td>\n",
              "      <td>0</td>\n",
              "      <td>0</td>\n",
              "      <td>0</td>\n",
              "      <td>0</td>\n",
              "      <td>...</td>\n",
              "      <td>0</td>\n",
              "      <td>0</td>\n",
              "      <td>0</td>\n",
              "      <td>0</td>\n",
              "      <td>0</td>\n",
              "      <td>0</td>\n",
              "      <td>0</td>\n",
              "      <td>0</td>\n",
              "      <td>0</td>\n",
              "      <td>0</td>\n",
              "    </tr>\n",
              "    <tr>\n",
              "      <th>59997</th>\n",
              "      <td>0</td>\n",
              "      <td>0</td>\n",
              "      <td>0</td>\n",
              "      <td>0</td>\n",
              "      <td>0</td>\n",
              "      <td>0</td>\n",
              "      <td>0</td>\n",
              "      <td>0</td>\n",
              "      <td>0</td>\n",
              "      <td>0</td>\n",
              "      <td>...</td>\n",
              "      <td>0</td>\n",
              "      <td>0</td>\n",
              "      <td>0</td>\n",
              "      <td>0</td>\n",
              "      <td>0</td>\n",
              "      <td>0</td>\n",
              "      <td>0</td>\n",
              "      <td>0</td>\n",
              "      <td>0</td>\n",
              "      <td>0</td>\n",
              "    </tr>\n",
              "    <tr>\n",
              "      <th>59998</th>\n",
              "      <td>0</td>\n",
              "      <td>0</td>\n",
              "      <td>0</td>\n",
              "      <td>0</td>\n",
              "      <td>0</td>\n",
              "      <td>0</td>\n",
              "      <td>0</td>\n",
              "      <td>0</td>\n",
              "      <td>0</td>\n",
              "      <td>0</td>\n",
              "      <td>...</td>\n",
              "      <td>0</td>\n",
              "      <td>0</td>\n",
              "      <td>0</td>\n",
              "      <td>0</td>\n",
              "      <td>0</td>\n",
              "      <td>0</td>\n",
              "      <td>0</td>\n",
              "      <td>0</td>\n",
              "      <td>0</td>\n",
              "      <td>0</td>\n",
              "    </tr>\n",
              "    <tr>\n",
              "      <th>59999</th>\n",
              "      <td>0</td>\n",
              "      <td>0</td>\n",
              "      <td>0</td>\n",
              "      <td>0</td>\n",
              "      <td>0</td>\n",
              "      <td>0</td>\n",
              "      <td>0</td>\n",
              "      <td>0</td>\n",
              "      <td>0</td>\n",
              "      <td>0</td>\n",
              "      <td>...</td>\n",
              "      <td>0</td>\n",
              "      <td>0</td>\n",
              "      <td>0</td>\n",
              "      <td>0</td>\n",
              "      <td>0</td>\n",
              "      <td>0</td>\n",
              "      <td>0</td>\n",
              "      <td>0</td>\n",
              "      <td>0</td>\n",
              "      <td>0</td>\n",
              "    </tr>\n",
              "  </tbody>\n",
              "</table>\n",
              "<p>60000 rows × 784 columns</p>\n",
              "</div>\n",
              "    <div class=\"colab-df-buttons\">\n",
              "\n",
              "  <div class=\"colab-df-container\">\n",
              "    <button class=\"colab-df-convert\" onclick=\"convertToInteractive('df-8558c406-4235-4460-a9c4-928b3371eb6f')\"\n",
              "            title=\"Convert this dataframe to an interactive table.\"\n",
              "            style=\"display:none;\">\n",
              "\n",
              "  <svg xmlns=\"http://www.w3.org/2000/svg\" height=\"24px\" viewBox=\"0 -960 960 960\">\n",
              "    <path d=\"M120-120v-720h720v720H120Zm60-500h600v-160H180v160Zm220 220h160v-160H400v160Zm0 220h160v-160H400v160ZM180-400h160v-160H180v160Zm440 0h160v-160H620v160ZM180-180h160v-160H180v160Zm440 0h160v-160H620v160Z\"/>\n",
              "  </svg>\n",
              "    </button>\n",
              "\n",
              "  <style>\n",
              "    .colab-df-container {\n",
              "      display:flex;\n",
              "      gap: 12px;\n",
              "    }\n",
              "\n",
              "    .colab-df-convert {\n",
              "      background-color: #E8F0FE;\n",
              "      border: none;\n",
              "      border-radius: 50%;\n",
              "      cursor: pointer;\n",
              "      display: none;\n",
              "      fill: #1967D2;\n",
              "      height: 32px;\n",
              "      padding: 0 0 0 0;\n",
              "      width: 32px;\n",
              "    }\n",
              "\n",
              "    .colab-df-convert:hover {\n",
              "      background-color: #E2EBFA;\n",
              "      box-shadow: 0px 1px 2px rgba(60, 64, 67, 0.3), 0px 1px 3px 1px rgba(60, 64, 67, 0.15);\n",
              "      fill: #174EA6;\n",
              "    }\n",
              "\n",
              "    .colab-df-buttons div {\n",
              "      margin-bottom: 4px;\n",
              "    }\n",
              "\n",
              "    [theme=dark] .colab-df-convert {\n",
              "      background-color: #3B4455;\n",
              "      fill: #D2E3FC;\n",
              "    }\n",
              "\n",
              "    [theme=dark] .colab-df-convert:hover {\n",
              "      background-color: #434B5C;\n",
              "      box-shadow: 0px 1px 3px 1px rgba(0, 0, 0, 0.15);\n",
              "      filter: drop-shadow(0px 1px 2px rgba(0, 0, 0, 0.3));\n",
              "      fill: #FFFFFF;\n",
              "    }\n",
              "  </style>\n",
              "\n",
              "    <script>\n",
              "      const buttonEl =\n",
              "        document.querySelector('#df-8558c406-4235-4460-a9c4-928b3371eb6f button.colab-df-convert');\n",
              "      buttonEl.style.display =\n",
              "        google.colab.kernel.accessAllowed ? 'block' : 'none';\n",
              "\n",
              "      async function convertToInteractive(key) {\n",
              "        const element = document.querySelector('#df-8558c406-4235-4460-a9c4-928b3371eb6f');\n",
              "        const dataTable =\n",
              "          await google.colab.kernel.invokeFunction('convertToInteractive',\n",
              "                                                    [key], {});\n",
              "        if (!dataTable) return;\n",
              "\n",
              "        const docLinkHtml = 'Like what you see? Visit the ' +\n",
              "          '<a target=\"_blank\" href=https://colab.research.google.com/notebooks/data_table.ipynb>data table notebook</a>'\n",
              "          + ' to learn more about interactive tables.';\n",
              "        element.innerHTML = '';\n",
              "        dataTable['output_type'] = 'display_data';\n",
              "        await google.colab.output.renderOutput(dataTable, element);\n",
              "        const docLink = document.createElement('div');\n",
              "        docLink.innerHTML = docLinkHtml;\n",
              "        element.appendChild(docLink);\n",
              "      }\n",
              "    </script>\n",
              "  </div>\n",
              "\n",
              "\n",
              "<div id=\"df-3a76e7b5-bb21-42bf-b44f-37c094394717\">\n",
              "  <button class=\"colab-df-quickchart\" onclick=\"quickchart('df-3a76e7b5-bb21-42bf-b44f-37c094394717')\"\n",
              "            title=\"Suggest charts\"\n",
              "            style=\"display:none;\">\n",
              "\n",
              "<svg xmlns=\"http://www.w3.org/2000/svg\" height=\"24px\"viewBox=\"0 0 24 24\"\n",
              "     width=\"24px\">\n",
              "    <g>\n",
              "        <path d=\"M19 3H5c-1.1 0-2 .9-2 2v14c0 1.1.9 2 2 2h14c1.1 0 2-.9 2-2V5c0-1.1-.9-2-2-2zM9 17H7v-7h2v7zm4 0h-2V7h2v10zm4 0h-2v-4h2v4z\"/>\n",
              "    </g>\n",
              "</svg>\n",
              "  </button>\n",
              "\n",
              "<style>\n",
              "  .colab-df-quickchart {\n",
              "      --bg-color: #E8F0FE;\n",
              "      --fill-color: #1967D2;\n",
              "      --hover-bg-color: #E2EBFA;\n",
              "      --hover-fill-color: #174EA6;\n",
              "      --disabled-fill-color: #AAA;\n",
              "      --disabled-bg-color: #DDD;\n",
              "  }\n",
              "\n",
              "  [theme=dark] .colab-df-quickchart {\n",
              "      --bg-color: #3B4455;\n",
              "      --fill-color: #D2E3FC;\n",
              "      --hover-bg-color: #434B5C;\n",
              "      --hover-fill-color: #FFFFFF;\n",
              "      --disabled-bg-color: #3B4455;\n",
              "      --disabled-fill-color: #666;\n",
              "  }\n",
              "\n",
              "  .colab-df-quickchart {\n",
              "    background-color: var(--bg-color);\n",
              "    border: none;\n",
              "    border-radius: 50%;\n",
              "    cursor: pointer;\n",
              "    display: none;\n",
              "    fill: var(--fill-color);\n",
              "    height: 32px;\n",
              "    padding: 0;\n",
              "    width: 32px;\n",
              "  }\n",
              "\n",
              "  .colab-df-quickchart:hover {\n",
              "    background-color: var(--hover-bg-color);\n",
              "    box-shadow: 0 1px 2px rgba(60, 64, 67, 0.3), 0 1px 3px 1px rgba(60, 64, 67, 0.15);\n",
              "    fill: var(--button-hover-fill-color);\n",
              "  }\n",
              "\n",
              "  .colab-df-quickchart-complete:disabled,\n",
              "  .colab-df-quickchart-complete:disabled:hover {\n",
              "    background-color: var(--disabled-bg-color);\n",
              "    fill: var(--disabled-fill-color);\n",
              "    box-shadow: none;\n",
              "  }\n",
              "\n",
              "  .colab-df-spinner {\n",
              "    border: 2px solid var(--fill-color);\n",
              "    border-color: transparent;\n",
              "    border-bottom-color: var(--fill-color);\n",
              "    animation:\n",
              "      spin 1s steps(1) infinite;\n",
              "  }\n",
              "\n",
              "  @keyframes spin {\n",
              "    0% {\n",
              "      border-color: transparent;\n",
              "      border-bottom-color: var(--fill-color);\n",
              "      border-left-color: var(--fill-color);\n",
              "    }\n",
              "    20% {\n",
              "      border-color: transparent;\n",
              "      border-left-color: var(--fill-color);\n",
              "      border-top-color: var(--fill-color);\n",
              "    }\n",
              "    30% {\n",
              "      border-color: transparent;\n",
              "      border-left-color: var(--fill-color);\n",
              "      border-top-color: var(--fill-color);\n",
              "      border-right-color: var(--fill-color);\n",
              "    }\n",
              "    40% {\n",
              "      border-color: transparent;\n",
              "      border-right-color: var(--fill-color);\n",
              "      border-top-color: var(--fill-color);\n",
              "    }\n",
              "    60% {\n",
              "      border-color: transparent;\n",
              "      border-right-color: var(--fill-color);\n",
              "    }\n",
              "    80% {\n",
              "      border-color: transparent;\n",
              "      border-right-color: var(--fill-color);\n",
              "      border-bottom-color: var(--fill-color);\n",
              "    }\n",
              "    90% {\n",
              "      border-color: transparent;\n",
              "      border-bottom-color: var(--fill-color);\n",
              "    }\n",
              "  }\n",
              "</style>\n",
              "\n",
              "  <script>\n",
              "    async function quickchart(key) {\n",
              "      const quickchartButtonEl =\n",
              "        document.querySelector('#' + key + ' button');\n",
              "      quickchartButtonEl.disabled = true;  // To prevent multiple clicks.\n",
              "      quickchartButtonEl.classList.add('colab-df-spinner');\n",
              "      try {\n",
              "        const charts = await google.colab.kernel.invokeFunction(\n",
              "            'suggestCharts', [key], {});\n",
              "      } catch (error) {\n",
              "        console.error('Error during call to suggestCharts:', error);\n",
              "      }\n",
              "      quickchartButtonEl.classList.remove('colab-df-spinner');\n",
              "      quickchartButtonEl.classList.add('colab-df-quickchart-complete');\n",
              "    }\n",
              "    (() => {\n",
              "      let quickchartButtonEl =\n",
              "        document.querySelector('#df-3a76e7b5-bb21-42bf-b44f-37c094394717 button');\n",
              "      quickchartButtonEl.style.display =\n",
              "        google.colab.kernel.accessAllowed ? 'block' : 'none';\n",
              "    })();\n",
              "  </script>\n",
              "</div>\n",
              "    </div>\n",
              "  </div>\n"
            ],
            "application/vnd.google.colaboratory.intrinsic+json": {
              "type": "dataframe"
            }
          },
          "metadata": {},
          "execution_count": 15
        }
      ]
    },
    {
      "cell_type": "code",
      "source": [
        "last_row = mnist_train_dataset_initial[59999:]"
      ],
      "metadata": {
        "id": "kOOj_W6VWCWR"
      },
      "execution_count": 16,
      "outputs": []
    },
    {
      "cell_type": "code",
      "source": [
        "last_row.isna().sum()"
      ],
      "metadata": {
        "id": "SG5hn5JgZVOR",
        "colab": {
          "base_uri": "https://localhost:8080/"
        },
        "outputId": "3c98b0d5-6d4b-4859-e64d-71ff489193d1"
      },
      "execution_count": 17,
      "outputs": [
        {
          "output_type": "execute_result",
          "data": {
            "text/plain": [
              "labels    0\n",
              "0         0\n",
              "1         0\n",
              "2         0\n",
              "3         0\n",
              "         ..\n",
              "779       0\n",
              "780       0\n",
              "781       0\n",
              "782       0\n",
              "783       0\n",
              "Length: 785, dtype: int64"
            ]
          },
          "metadata": {},
          "execution_count": 17
        }
      ]
    },
    {
      "cell_type": "markdown",
      "source": [
        "in last row of dataset 751 are null values so we drop the row from dataframe"
      ],
      "metadata": {
        "id": "rehCl8bWZcFb"
      }
    },
    {
      "cell_type": "code",
      "source": [
        "'''\n",
        "plt.figure(figsize=(10,7))\n",
        "y_actu = pd.Series(y, name='Actual')\n",
        "y_pred = pd.Series(y_hat, name='Predicted')\n",
        "cm = pd.crosstab(y_actu, y_pred)\n",
        "ax = sns.heatmap(cm, annot=True, fmt=\"d\")\n",
        "plt.ylabel('True label')\n",
        "plt.xlabel('Predicted label')\n",
        "'''"
      ],
      "metadata": {
        "colab": {
          "base_uri": "https://localhost:8080/",
          "height": 53
        },
        "id": "HfDKBZu-1PDB",
        "outputId": "5d8fb94a-5f86-4e1b-e710-7f53b863dba9"
      },
      "execution_count": 18,
      "outputs": [
        {
          "output_type": "execute_result",
          "data": {
            "text/plain": [
              "'\\nplt.figure(figsize=(10,7))\\ny_actu = pd.Series(y, name=\\'Actual\\')\\ny_pred = pd.Series(y_hat, name=\\'Predicted\\')\\ncm = pd.crosstab(y_actu, y_pred)\\nax = sns.heatmap(cm, annot=True, fmt=\"d\")\\nplt.ylabel(\\'True label\\')\\nplt.xlabel(\\'Predicted label\\')\\n'"
            ],
            "application/vnd.google.colaboratory.intrinsic+json": {
              "type": "string"
            }
          },
          "metadata": {},
          "execution_count": 18
        }
      ]
    },
    {
      "cell_type": "code",
      "source": [
        "last_row_index = mnist_train_dataset_initial.tail(1).index"
      ],
      "metadata": {
        "id": "ytvDxUFTtFEd"
      },
      "execution_count": 19,
      "outputs": []
    },
    {
      "cell_type": "code",
      "source": [
        "mnist_train_dataset_initial.drop(last_row_index,inplace = True)"
      ],
      "metadata": {
        "id": "YnhC99iXtlSO"
      },
      "execution_count": 20,
      "outputs": []
    },
    {
      "cell_type": "code",
      "source": [
        "mnist_train_dataset_initial.isna().sum().sum()"
      ],
      "metadata": {
        "id": "q2isVCljz2y7",
        "colab": {
          "base_uri": "https://localhost:8080/"
        },
        "outputId": "e77d17d7-c1a0-445d-a61b-71a2f1b7af2c"
      },
      "execution_count": 21,
      "outputs": [
        {
          "output_type": "execute_result",
          "data": {
            "text/plain": [
              "0"
            ]
          },
          "metadata": {},
          "execution_count": 21
        }
      ]
    },
    {
      "cell_type": "markdown",
      "source": [
        "####no more null values"
      ],
      "metadata": {
        "id": "HmEQL4Dkt2at"
      }
    },
    {
      "cell_type": "markdown",
      "source": [
        "##### Now we separate the dependent and independent variables in two different numpy arrays so that we can feed the train numpy array to the model and check the predicted y values against the actual y values"
      ],
      "metadata": {
        "id": "tj0JU1V7l9jz"
      }
    },
    {
      "cell_type": "code",
      "source": [
        "X_train_independent_var_dataset = mnist_train_dataset_initial.loc[:,'0':]"
      ],
      "metadata": {
        "id": "GK4j-R2NPTcX"
      },
      "execution_count": 22,
      "outputs": []
    },
    {
      "cell_type": "code",
      "source": [
        "y_train_digit_dependent_var= mnist_train_dataset_initial.loc[:,'labels']"
      ],
      "metadata": {
        "id": "tpsD7Lo5PTYV"
      },
      "execution_count": 23,
      "outputs": []
    },
    {
      "cell_type": "code",
      "source": [
        "y_train_digit_dependent_var"
      ],
      "metadata": {
        "id": "PaRDrKPUPTUK",
        "colab": {
          "base_uri": "https://localhost:8080/"
        },
        "outputId": "1abc6a70-5548-4a0e-ac27-ccbcf3ae3aaa"
      },
      "execution_count": 24,
      "outputs": [
        {
          "output_type": "execute_result",
          "data": {
            "text/plain": [
              "index\n",
              "0        5\n",
              "1        0\n",
              "2        4\n",
              "3        1\n",
              "4        9\n",
              "        ..\n",
              "59994    1\n",
              "59995    8\n",
              "59996    3\n",
              "59997    5\n",
              "59998    6\n",
              "Name: labels, Length: 59999, dtype: int64"
            ]
          },
          "metadata": {},
          "execution_count": 24
        }
      ]
    },
    {
      "cell_type": "code",
      "source": [
        "X_train_independent_var_dataset.shape"
      ],
      "metadata": {
        "id": "ST2QY1sN0YWv",
        "colab": {
          "base_uri": "https://localhost:8080/"
        },
        "outputId": "2b8fbfd7-07b4-4235-a896-7d50e0daf79e"
      },
      "execution_count": 25,
      "outputs": [
        {
          "output_type": "execute_result",
          "data": {
            "text/plain": [
              "(59999, 784)"
            ]
          },
          "metadata": {},
          "execution_count": 25
        }
      ]
    },
    {
      "cell_type": "code",
      "source": [
        "y_train_digit_dependent_var.shape"
      ],
      "metadata": {
        "id": "VSqjJ5mo0abh",
        "colab": {
          "base_uri": "https://localhost:8080/"
        },
        "outputId": "8dd9ef6a-3d7c-4cda-a459-5044f7586448"
      },
      "execution_count": 26,
      "outputs": [
        {
          "output_type": "execute_result",
          "data": {
            "text/plain": [
              "(59999,)"
            ]
          },
          "metadata": {},
          "execution_count": 26
        }
      ]
    },
    {
      "cell_type": "code",
      "source": [
        "X_train_independent_var_dataset = X_train_independent_var_dataset.to_numpy()\n",
        "y_train_digit_dependent_var = y_train_digit_dependent_var.to_numpy()"
      ],
      "metadata": {
        "id": "gCrnLHdSNUy2"
      },
      "execution_count": 27,
      "outputs": []
    },
    {
      "cell_type": "code",
      "source": [
        "X_train_independent_var_dataset"
      ],
      "metadata": {
        "id": "6Kel9dTgQoI2",
        "colab": {
          "base_uri": "https://localhost:8080/"
        },
        "outputId": "82141b12-9032-46cd-bbb7-78c4ebb7425f"
      },
      "execution_count": 28,
      "outputs": [
        {
          "output_type": "execute_result",
          "data": {
            "text/plain": [
              "array([[0, 0, 0, ..., 0, 0, 0],\n",
              "       [0, 0, 0, ..., 0, 0, 0],\n",
              "       [0, 0, 0, ..., 0, 0, 0],\n",
              "       ...,\n",
              "       [0, 0, 0, ..., 0, 0, 0],\n",
              "       [0, 0, 0, ..., 0, 0, 0],\n",
              "       [0, 0, 0, ..., 0, 0, 0]])"
            ]
          },
          "metadata": {},
          "execution_count": 28
        }
      ]
    },
    {
      "cell_type": "code",
      "source": [
        "y_train_digit_dependent_var"
      ],
      "metadata": {
        "id": "1AKM463KQqOl",
        "colab": {
          "base_uri": "https://localhost:8080/"
        },
        "outputId": "7b16a7f3-b60e-4fc4-f11a-35b41f368535"
      },
      "execution_count": 29,
      "outputs": [
        {
          "output_type": "execute_result",
          "data": {
            "text/plain": [
              "array([5, 0, 4, ..., 3, 5, 6])"
            ]
          },
          "metadata": {},
          "execution_count": 29
        }
      ]
    },
    {
      "cell_type": "code",
      "source": [
        "X_train_independent_var_dataset.shape[0]"
      ],
      "metadata": {
        "colab": {
          "base_uri": "https://localhost:8080/"
        },
        "id": "3WKnoqjKFIIi",
        "outputId": "f887cad2-f353-4069-8226-540a4d9b4b8f"
      },
      "execution_count": 30,
      "outputs": [
        {
          "output_type": "execute_result",
          "data": {
            "text/plain": [
              "59999"
            ]
          },
          "metadata": {},
          "execution_count": 30
        }
      ]
    },
    {
      "cell_type": "markdown",
      "source": [
        "#####Scaling the X_train dataset"
      ],
      "metadata": {
        "id": "zGnVEZwH5jDI"
      }
    },
    {
      "cell_type": "code",
      "source": [
        "# basic formula :\n",
        "'''\n",
        "x_hat = x_xMIN\n",
        "----------------\n",
        "X_max - X_min\n",
        "'''"
      ],
      "metadata": {
        "colab": {
          "base_uri": "https://localhost:8080/",
          "height": 35
        },
        "id": "6y4CiRP8oBJO",
        "outputId": "dff55d6a-09f2-4401-9731-667d2e7b7300"
      },
      "execution_count": 31,
      "outputs": [
        {
          "output_type": "execute_result",
          "data": {
            "text/plain": [
              "'\\nx_hat = x_xMIN\\n----------------\\nX_max - X_min\\n'"
            ],
            "application/vnd.google.colaboratory.intrinsic+json": {
              "type": "string"
            }
          },
          "metadata": {},
          "execution_count": 31
        }
      ]
    },
    {
      "cell_type": "code",
      "source": [
        "X_train_independent_var_scaled_dataset = (X_train_independent_var_dataset -(X_train_independent_var_dataset.min()))/(X_train_independent_var_dataset.max()-X_train_independent_var_dataset.min())"
      ],
      "metadata": {
        "id": "sq5XPQ_8vSbp"
      },
      "execution_count": 32,
      "outputs": []
    },
    {
      "cell_type": "markdown",
      "source": [
        "#### writing the class for model building"
      ],
      "metadata": {
        "id": "Iw31WjdBa05D"
      }
    },
    {
      "cell_type": "markdown",
      "source": [
        "#### 1st Naive Bayes Model"
      ],
      "metadata": {
        "id": "Rxoy7EPpuG-P"
      }
    },
    {
      "cell_type": "code",
      "source": [
        "from scipy.stats import multivariate_normal as mvn"
      ],
      "metadata": {
        "id": "qoId7_o9Onu1"
      },
      "execution_count": 33,
      "outputs": []
    },
    {
      "cell_type": "code",
      "source": [
        "class MnistNaiveBayes:\n",
        "  def __init__(self,likelihoods = dict(), priors = dict(),epsilon=1e-3):\n",
        "    self.likelihoods = likelihoods\n",
        "    self.priors = priors\n",
        "    self.epsilon = epsilon\n",
        "\n",
        "\n",
        "  def fit(self,X_train_independent_var_dataset,y_train_digit_dependent_var):\n",
        "    self.unique_digits = set(y_train_digit_dependent_var.astype(int))\n",
        "    for single_digit in self.unique_digits:\n",
        "      X_for_single_digit = X_train_independent_var_dataset[y_train_digit_dependent_var==single_digit,:]\n",
        "      self.likelihoods[single_digit]={\"mean\":X_for_single_digit.mean(axis=0),\n",
        "                                      \"cov\":X_for_single_digit.var(axis=0)+self.epsilon}\n",
        "      self.priors[single_digit]=len(X_for_single_digit)/len(X_train_independent_var_dataset)\n",
        "\n",
        "  def predict(self,X_test_dataset):\n",
        "    rows_of_dataset = X_test_dataset.shape[0]\n",
        "    columns_of_dataset = X_test_dataset.shape[1]\n",
        "    # creating a zero based array which will be filled later with actual probablity values which\n",
        "    # our method calculates\n",
        "    Probablity_values_array = np.zeros(shape = (rows_of_dataset,len(self.unique_digits)))\n",
        "    for digit_under_consideration,result_array_for_digit in self.likelihoods.items():\n",
        "      Probablity_values_array[:,digit_under_consideration] =       mvn.logpdf(X_test_dataset,result_array_for_digit['mean'],result_array_for_digit['cov'])\n",
        "      + np.log(self.priors[digit_under_consideration])\n",
        "\n",
        "    return Probablity_values_array.argmax(axis=1)\n",
        "\n",
        "\n"
      ],
      "metadata": {
        "id": "BfFv06CBPTQE"
      },
      "execution_count": 48,
      "outputs": []
    },
    {
      "cell_type": "markdown",
      "source": [
        "#### Test Data needs to be imported here now and some cleaning needs to be done on that"
      ],
      "metadata": {
        "id": "yFhzPQGf6SEM"
      }
    },
    {
      "cell_type": "code",
      "source": [
        "mnist_test_dataset = pd.read_csv('/home/MNIST_test.csv')"
      ],
      "metadata": {
        "id": "WyOcjUf_6Z8R"
      },
      "execution_count": 35,
      "outputs": []
    },
    {
      "cell_type": "code",
      "source": [
        "mnist_test_dataset"
      ],
      "metadata": {
        "colab": {
          "base_uri": "https://localhost:8080/",
          "height": 424
        },
        "id": "J2vTmF4bvTOU",
        "outputId": "0a7a6b55-7b01-45f4-d569-a45dbf6c3847"
      },
      "execution_count": 36,
      "outputs": [
        {
          "output_type": "execute_result",
          "data": {
            "text/plain": [
              "      Unnamed: 0  index  labels  0  1  2  3  4  5  6  ...  774  775  776  777  \\\n",
              "0              0      0       7  0  0  0  0  0  0  0  ...    0    0    0    0   \n",
              "1              1      1       2  0  0  0  0  0  0  0  ...    0    0    0    0   \n",
              "2              2      2       1  0  0  0  0  0  0  0  ...    0    0    0    0   \n",
              "3              3      3       0  0  0  0  0  0  0  0  ...    0    0    0    0   \n",
              "4              4      4       4  0  0  0  0  0  0  0  ...    0    0    0    0   \n",
              "...          ...    ...     ... .. .. .. .. .. .. ..  ...  ...  ...  ...  ...   \n",
              "9995        9995   9995       2  0  0  0  0  0  0  0  ...    0    0    0    0   \n",
              "9996        9996   9996       3  0  0  0  0  0  0  0  ...    0    0    0    0   \n",
              "9997        9997   9997       4  0  0  0  0  0  0  0  ...    0    0    0    0   \n",
              "9998        9998   9998       5  0  0  0  0  0  0  0  ...    0    0    0    0   \n",
              "9999        9999   9999       6  0  0  0  0  0  0  0  ...    0    0    0    0   \n",
              "\n",
              "      778  779  780  781  782  783  \n",
              "0       0    0    0    0    0    0  \n",
              "1       0    0    0    0    0    0  \n",
              "2       0    0    0    0    0    0  \n",
              "3       0    0    0    0    0    0  \n",
              "4       0    0    0    0    0    0  \n",
              "...   ...  ...  ...  ...  ...  ...  \n",
              "9995    0    0    0    0    0    0  \n",
              "9996    0    0    0    0    0    0  \n",
              "9997    0    0    0    0    0    0  \n",
              "9998    0    0    0    0    0    0  \n",
              "9999    0    0    0    0    0    0  \n",
              "\n",
              "[10000 rows x 787 columns]"
            ],
            "text/html": [
              "\n",
              "  <div id=\"df-3a640eb0-baae-471b-b185-cdd4146dade8\" class=\"colab-df-container\">\n",
              "    <div>\n",
              "<style scoped>\n",
              "    .dataframe tbody tr th:only-of-type {\n",
              "        vertical-align: middle;\n",
              "    }\n",
              "\n",
              "    .dataframe tbody tr th {\n",
              "        vertical-align: top;\n",
              "    }\n",
              "\n",
              "    .dataframe thead th {\n",
              "        text-align: right;\n",
              "    }\n",
              "</style>\n",
              "<table border=\"1\" class=\"dataframe\">\n",
              "  <thead>\n",
              "    <tr style=\"text-align: right;\">\n",
              "      <th></th>\n",
              "      <th>Unnamed: 0</th>\n",
              "      <th>index</th>\n",
              "      <th>labels</th>\n",
              "      <th>0</th>\n",
              "      <th>1</th>\n",
              "      <th>2</th>\n",
              "      <th>3</th>\n",
              "      <th>4</th>\n",
              "      <th>5</th>\n",
              "      <th>6</th>\n",
              "      <th>...</th>\n",
              "      <th>774</th>\n",
              "      <th>775</th>\n",
              "      <th>776</th>\n",
              "      <th>777</th>\n",
              "      <th>778</th>\n",
              "      <th>779</th>\n",
              "      <th>780</th>\n",
              "      <th>781</th>\n",
              "      <th>782</th>\n",
              "      <th>783</th>\n",
              "    </tr>\n",
              "  </thead>\n",
              "  <tbody>\n",
              "    <tr>\n",
              "      <th>0</th>\n",
              "      <td>0</td>\n",
              "      <td>0</td>\n",
              "      <td>7</td>\n",
              "      <td>0</td>\n",
              "      <td>0</td>\n",
              "      <td>0</td>\n",
              "      <td>0</td>\n",
              "      <td>0</td>\n",
              "      <td>0</td>\n",
              "      <td>0</td>\n",
              "      <td>...</td>\n",
              "      <td>0</td>\n",
              "      <td>0</td>\n",
              "      <td>0</td>\n",
              "      <td>0</td>\n",
              "      <td>0</td>\n",
              "      <td>0</td>\n",
              "      <td>0</td>\n",
              "      <td>0</td>\n",
              "      <td>0</td>\n",
              "      <td>0</td>\n",
              "    </tr>\n",
              "    <tr>\n",
              "      <th>1</th>\n",
              "      <td>1</td>\n",
              "      <td>1</td>\n",
              "      <td>2</td>\n",
              "      <td>0</td>\n",
              "      <td>0</td>\n",
              "      <td>0</td>\n",
              "      <td>0</td>\n",
              "      <td>0</td>\n",
              "      <td>0</td>\n",
              "      <td>0</td>\n",
              "      <td>...</td>\n",
              "      <td>0</td>\n",
              "      <td>0</td>\n",
              "      <td>0</td>\n",
              "      <td>0</td>\n",
              "      <td>0</td>\n",
              "      <td>0</td>\n",
              "      <td>0</td>\n",
              "      <td>0</td>\n",
              "      <td>0</td>\n",
              "      <td>0</td>\n",
              "    </tr>\n",
              "    <tr>\n",
              "      <th>2</th>\n",
              "      <td>2</td>\n",
              "      <td>2</td>\n",
              "      <td>1</td>\n",
              "      <td>0</td>\n",
              "      <td>0</td>\n",
              "      <td>0</td>\n",
              "      <td>0</td>\n",
              "      <td>0</td>\n",
              "      <td>0</td>\n",
              "      <td>0</td>\n",
              "      <td>...</td>\n",
              "      <td>0</td>\n",
              "      <td>0</td>\n",
              "      <td>0</td>\n",
              "      <td>0</td>\n",
              "      <td>0</td>\n",
              "      <td>0</td>\n",
              "      <td>0</td>\n",
              "      <td>0</td>\n",
              "      <td>0</td>\n",
              "      <td>0</td>\n",
              "    </tr>\n",
              "    <tr>\n",
              "      <th>3</th>\n",
              "      <td>3</td>\n",
              "      <td>3</td>\n",
              "      <td>0</td>\n",
              "      <td>0</td>\n",
              "      <td>0</td>\n",
              "      <td>0</td>\n",
              "      <td>0</td>\n",
              "      <td>0</td>\n",
              "      <td>0</td>\n",
              "      <td>0</td>\n",
              "      <td>...</td>\n",
              "      <td>0</td>\n",
              "      <td>0</td>\n",
              "      <td>0</td>\n",
              "      <td>0</td>\n",
              "      <td>0</td>\n",
              "      <td>0</td>\n",
              "      <td>0</td>\n",
              "      <td>0</td>\n",
              "      <td>0</td>\n",
              "      <td>0</td>\n",
              "    </tr>\n",
              "    <tr>\n",
              "      <th>4</th>\n",
              "      <td>4</td>\n",
              "      <td>4</td>\n",
              "      <td>4</td>\n",
              "      <td>0</td>\n",
              "      <td>0</td>\n",
              "      <td>0</td>\n",
              "      <td>0</td>\n",
              "      <td>0</td>\n",
              "      <td>0</td>\n",
              "      <td>0</td>\n",
              "      <td>...</td>\n",
              "      <td>0</td>\n",
              "      <td>0</td>\n",
              "      <td>0</td>\n",
              "      <td>0</td>\n",
              "      <td>0</td>\n",
              "      <td>0</td>\n",
              "      <td>0</td>\n",
              "      <td>0</td>\n",
              "      <td>0</td>\n",
              "      <td>0</td>\n",
              "    </tr>\n",
              "    <tr>\n",
              "      <th>...</th>\n",
              "      <td>...</td>\n",
              "      <td>...</td>\n",
              "      <td>...</td>\n",
              "      <td>...</td>\n",
              "      <td>...</td>\n",
              "      <td>...</td>\n",
              "      <td>...</td>\n",
              "      <td>...</td>\n",
              "      <td>...</td>\n",
              "      <td>...</td>\n",
              "      <td>...</td>\n",
              "      <td>...</td>\n",
              "      <td>...</td>\n",
              "      <td>...</td>\n",
              "      <td>...</td>\n",
              "      <td>...</td>\n",
              "      <td>...</td>\n",
              "      <td>...</td>\n",
              "      <td>...</td>\n",
              "      <td>...</td>\n",
              "      <td>...</td>\n",
              "    </tr>\n",
              "    <tr>\n",
              "      <th>9995</th>\n",
              "      <td>9995</td>\n",
              "      <td>9995</td>\n",
              "      <td>2</td>\n",
              "      <td>0</td>\n",
              "      <td>0</td>\n",
              "      <td>0</td>\n",
              "      <td>0</td>\n",
              "      <td>0</td>\n",
              "      <td>0</td>\n",
              "      <td>0</td>\n",
              "      <td>...</td>\n",
              "      <td>0</td>\n",
              "      <td>0</td>\n",
              "      <td>0</td>\n",
              "      <td>0</td>\n",
              "      <td>0</td>\n",
              "      <td>0</td>\n",
              "      <td>0</td>\n",
              "      <td>0</td>\n",
              "      <td>0</td>\n",
              "      <td>0</td>\n",
              "    </tr>\n",
              "    <tr>\n",
              "      <th>9996</th>\n",
              "      <td>9996</td>\n",
              "      <td>9996</td>\n",
              "      <td>3</td>\n",
              "      <td>0</td>\n",
              "      <td>0</td>\n",
              "      <td>0</td>\n",
              "      <td>0</td>\n",
              "      <td>0</td>\n",
              "      <td>0</td>\n",
              "      <td>0</td>\n",
              "      <td>...</td>\n",
              "      <td>0</td>\n",
              "      <td>0</td>\n",
              "      <td>0</td>\n",
              "      <td>0</td>\n",
              "      <td>0</td>\n",
              "      <td>0</td>\n",
              "      <td>0</td>\n",
              "      <td>0</td>\n",
              "      <td>0</td>\n",
              "      <td>0</td>\n",
              "    </tr>\n",
              "    <tr>\n",
              "      <th>9997</th>\n",
              "      <td>9997</td>\n",
              "      <td>9997</td>\n",
              "      <td>4</td>\n",
              "      <td>0</td>\n",
              "      <td>0</td>\n",
              "      <td>0</td>\n",
              "      <td>0</td>\n",
              "      <td>0</td>\n",
              "      <td>0</td>\n",
              "      <td>0</td>\n",
              "      <td>...</td>\n",
              "      <td>0</td>\n",
              "      <td>0</td>\n",
              "      <td>0</td>\n",
              "      <td>0</td>\n",
              "      <td>0</td>\n",
              "      <td>0</td>\n",
              "      <td>0</td>\n",
              "      <td>0</td>\n",
              "      <td>0</td>\n",
              "      <td>0</td>\n",
              "    </tr>\n",
              "    <tr>\n",
              "      <th>9998</th>\n",
              "      <td>9998</td>\n",
              "      <td>9998</td>\n",
              "      <td>5</td>\n",
              "      <td>0</td>\n",
              "      <td>0</td>\n",
              "      <td>0</td>\n",
              "      <td>0</td>\n",
              "      <td>0</td>\n",
              "      <td>0</td>\n",
              "      <td>0</td>\n",
              "      <td>...</td>\n",
              "      <td>0</td>\n",
              "      <td>0</td>\n",
              "      <td>0</td>\n",
              "      <td>0</td>\n",
              "      <td>0</td>\n",
              "      <td>0</td>\n",
              "      <td>0</td>\n",
              "      <td>0</td>\n",
              "      <td>0</td>\n",
              "      <td>0</td>\n",
              "    </tr>\n",
              "    <tr>\n",
              "      <th>9999</th>\n",
              "      <td>9999</td>\n",
              "      <td>9999</td>\n",
              "      <td>6</td>\n",
              "      <td>0</td>\n",
              "      <td>0</td>\n",
              "      <td>0</td>\n",
              "      <td>0</td>\n",
              "      <td>0</td>\n",
              "      <td>0</td>\n",
              "      <td>0</td>\n",
              "      <td>...</td>\n",
              "      <td>0</td>\n",
              "      <td>0</td>\n",
              "      <td>0</td>\n",
              "      <td>0</td>\n",
              "      <td>0</td>\n",
              "      <td>0</td>\n",
              "      <td>0</td>\n",
              "      <td>0</td>\n",
              "      <td>0</td>\n",
              "      <td>0</td>\n",
              "    </tr>\n",
              "  </tbody>\n",
              "</table>\n",
              "<p>10000 rows × 787 columns</p>\n",
              "</div>\n",
              "    <div class=\"colab-df-buttons\">\n",
              "\n",
              "  <div class=\"colab-df-container\">\n",
              "    <button class=\"colab-df-convert\" onclick=\"convertToInteractive('df-3a640eb0-baae-471b-b185-cdd4146dade8')\"\n",
              "            title=\"Convert this dataframe to an interactive table.\"\n",
              "            style=\"display:none;\">\n",
              "\n",
              "  <svg xmlns=\"http://www.w3.org/2000/svg\" height=\"24px\" viewBox=\"0 -960 960 960\">\n",
              "    <path d=\"M120-120v-720h720v720H120Zm60-500h600v-160H180v160Zm220 220h160v-160H400v160Zm0 220h160v-160H400v160ZM180-400h160v-160H180v160Zm440 0h160v-160H620v160ZM180-180h160v-160H180v160Zm440 0h160v-160H620v160Z\"/>\n",
              "  </svg>\n",
              "    </button>\n",
              "\n",
              "  <style>\n",
              "    .colab-df-container {\n",
              "      display:flex;\n",
              "      gap: 12px;\n",
              "    }\n",
              "\n",
              "    .colab-df-convert {\n",
              "      background-color: #E8F0FE;\n",
              "      border: none;\n",
              "      border-radius: 50%;\n",
              "      cursor: pointer;\n",
              "      display: none;\n",
              "      fill: #1967D2;\n",
              "      height: 32px;\n",
              "      padding: 0 0 0 0;\n",
              "      width: 32px;\n",
              "    }\n",
              "\n",
              "    .colab-df-convert:hover {\n",
              "      background-color: #E2EBFA;\n",
              "      box-shadow: 0px 1px 2px rgba(60, 64, 67, 0.3), 0px 1px 3px 1px rgba(60, 64, 67, 0.15);\n",
              "      fill: #174EA6;\n",
              "    }\n",
              "\n",
              "    .colab-df-buttons div {\n",
              "      margin-bottom: 4px;\n",
              "    }\n",
              "\n",
              "    [theme=dark] .colab-df-convert {\n",
              "      background-color: #3B4455;\n",
              "      fill: #D2E3FC;\n",
              "    }\n",
              "\n",
              "    [theme=dark] .colab-df-convert:hover {\n",
              "      background-color: #434B5C;\n",
              "      box-shadow: 0px 1px 3px 1px rgba(0, 0, 0, 0.15);\n",
              "      filter: drop-shadow(0px 1px 2px rgba(0, 0, 0, 0.3));\n",
              "      fill: #FFFFFF;\n",
              "    }\n",
              "  </style>\n",
              "\n",
              "    <script>\n",
              "      const buttonEl =\n",
              "        document.querySelector('#df-3a640eb0-baae-471b-b185-cdd4146dade8 button.colab-df-convert');\n",
              "      buttonEl.style.display =\n",
              "        google.colab.kernel.accessAllowed ? 'block' : 'none';\n",
              "\n",
              "      async function convertToInteractive(key) {\n",
              "        const element = document.querySelector('#df-3a640eb0-baae-471b-b185-cdd4146dade8');\n",
              "        const dataTable =\n",
              "          await google.colab.kernel.invokeFunction('convertToInteractive',\n",
              "                                                    [key], {});\n",
              "        if (!dataTable) return;\n",
              "\n",
              "        const docLinkHtml = 'Like what you see? Visit the ' +\n",
              "          '<a target=\"_blank\" href=https://colab.research.google.com/notebooks/data_table.ipynb>data table notebook</a>'\n",
              "          + ' to learn more about interactive tables.';\n",
              "        element.innerHTML = '';\n",
              "        dataTable['output_type'] = 'display_data';\n",
              "        await google.colab.output.renderOutput(dataTable, element);\n",
              "        const docLink = document.createElement('div');\n",
              "        docLink.innerHTML = docLinkHtml;\n",
              "        element.appendChild(docLink);\n",
              "      }\n",
              "    </script>\n",
              "  </div>\n",
              "\n",
              "\n",
              "<div id=\"df-e4cdf025-6ddf-4031-aa85-dcb9cbe635d3\">\n",
              "  <button class=\"colab-df-quickchart\" onclick=\"quickchart('df-e4cdf025-6ddf-4031-aa85-dcb9cbe635d3')\"\n",
              "            title=\"Suggest charts\"\n",
              "            style=\"display:none;\">\n",
              "\n",
              "<svg xmlns=\"http://www.w3.org/2000/svg\" height=\"24px\"viewBox=\"0 0 24 24\"\n",
              "     width=\"24px\">\n",
              "    <g>\n",
              "        <path d=\"M19 3H5c-1.1 0-2 .9-2 2v14c0 1.1.9 2 2 2h14c1.1 0 2-.9 2-2V5c0-1.1-.9-2-2-2zM9 17H7v-7h2v7zm4 0h-2V7h2v10zm4 0h-2v-4h2v4z\"/>\n",
              "    </g>\n",
              "</svg>\n",
              "  </button>\n",
              "\n",
              "<style>\n",
              "  .colab-df-quickchart {\n",
              "      --bg-color: #E8F0FE;\n",
              "      --fill-color: #1967D2;\n",
              "      --hover-bg-color: #E2EBFA;\n",
              "      --hover-fill-color: #174EA6;\n",
              "      --disabled-fill-color: #AAA;\n",
              "      --disabled-bg-color: #DDD;\n",
              "  }\n",
              "\n",
              "  [theme=dark] .colab-df-quickchart {\n",
              "      --bg-color: #3B4455;\n",
              "      --fill-color: #D2E3FC;\n",
              "      --hover-bg-color: #434B5C;\n",
              "      --hover-fill-color: #FFFFFF;\n",
              "      --disabled-bg-color: #3B4455;\n",
              "      --disabled-fill-color: #666;\n",
              "  }\n",
              "\n",
              "  .colab-df-quickchart {\n",
              "    background-color: var(--bg-color);\n",
              "    border: none;\n",
              "    border-radius: 50%;\n",
              "    cursor: pointer;\n",
              "    display: none;\n",
              "    fill: var(--fill-color);\n",
              "    height: 32px;\n",
              "    padding: 0;\n",
              "    width: 32px;\n",
              "  }\n",
              "\n",
              "  .colab-df-quickchart:hover {\n",
              "    background-color: var(--hover-bg-color);\n",
              "    box-shadow: 0 1px 2px rgba(60, 64, 67, 0.3), 0 1px 3px 1px rgba(60, 64, 67, 0.15);\n",
              "    fill: var(--button-hover-fill-color);\n",
              "  }\n",
              "\n",
              "  .colab-df-quickchart-complete:disabled,\n",
              "  .colab-df-quickchart-complete:disabled:hover {\n",
              "    background-color: var(--disabled-bg-color);\n",
              "    fill: var(--disabled-fill-color);\n",
              "    box-shadow: none;\n",
              "  }\n",
              "\n",
              "  .colab-df-spinner {\n",
              "    border: 2px solid var(--fill-color);\n",
              "    border-color: transparent;\n",
              "    border-bottom-color: var(--fill-color);\n",
              "    animation:\n",
              "      spin 1s steps(1) infinite;\n",
              "  }\n",
              "\n",
              "  @keyframes spin {\n",
              "    0% {\n",
              "      border-color: transparent;\n",
              "      border-bottom-color: var(--fill-color);\n",
              "      border-left-color: var(--fill-color);\n",
              "    }\n",
              "    20% {\n",
              "      border-color: transparent;\n",
              "      border-left-color: var(--fill-color);\n",
              "      border-top-color: var(--fill-color);\n",
              "    }\n",
              "    30% {\n",
              "      border-color: transparent;\n",
              "      border-left-color: var(--fill-color);\n",
              "      border-top-color: var(--fill-color);\n",
              "      border-right-color: var(--fill-color);\n",
              "    }\n",
              "    40% {\n",
              "      border-color: transparent;\n",
              "      border-right-color: var(--fill-color);\n",
              "      border-top-color: var(--fill-color);\n",
              "    }\n",
              "    60% {\n",
              "      border-color: transparent;\n",
              "      border-right-color: var(--fill-color);\n",
              "    }\n",
              "    80% {\n",
              "      border-color: transparent;\n",
              "      border-right-color: var(--fill-color);\n",
              "      border-bottom-color: var(--fill-color);\n",
              "    }\n",
              "    90% {\n",
              "      border-color: transparent;\n",
              "      border-bottom-color: var(--fill-color);\n",
              "    }\n",
              "  }\n",
              "</style>\n",
              "\n",
              "  <script>\n",
              "    async function quickchart(key) {\n",
              "      const quickchartButtonEl =\n",
              "        document.querySelector('#' + key + ' button');\n",
              "      quickchartButtonEl.disabled = true;  // To prevent multiple clicks.\n",
              "      quickchartButtonEl.classList.add('colab-df-spinner');\n",
              "      try {\n",
              "        const charts = await google.colab.kernel.invokeFunction(\n",
              "            'suggestCharts', [key], {});\n",
              "      } catch (error) {\n",
              "        console.error('Error during call to suggestCharts:', error);\n",
              "      }\n",
              "      quickchartButtonEl.classList.remove('colab-df-spinner');\n",
              "      quickchartButtonEl.classList.add('colab-df-quickchart-complete');\n",
              "    }\n",
              "    (() => {\n",
              "      let quickchartButtonEl =\n",
              "        document.querySelector('#df-e4cdf025-6ddf-4031-aa85-dcb9cbe635d3 button');\n",
              "      quickchartButtonEl.style.display =\n",
              "        google.colab.kernel.accessAllowed ? 'block' : 'none';\n",
              "    })();\n",
              "  </script>\n",
              "</div>\n",
              "    </div>\n",
              "  </div>\n"
            ],
            "application/vnd.google.colaboratory.intrinsic+json": {
              "type": "dataframe",
              "variable_name": "mnist_test_dataset"
            }
          },
          "metadata": {},
          "execution_count": 36
        }
      ]
    },
    {
      "cell_type": "code",
      "source": [
        "mnist_test_dataset = mnist_test_dataset.drop('Unnamed: 0',axis =1)"
      ],
      "metadata": {
        "id": "euW_8bzzvTK4"
      },
      "execution_count": 37,
      "outputs": []
    },
    {
      "cell_type": "code",
      "source": [
        "mnist_test_dataset.set_index('index',inplace=True)"
      ],
      "metadata": {
        "id": "Mv-aqapovTH4"
      },
      "execution_count": 38,
      "outputs": []
    },
    {
      "cell_type": "markdown",
      "source": [
        "as we can see there are no null values in test set"
      ],
      "metadata": {
        "id": "I77dZIqMlSru"
      }
    },
    {
      "cell_type": "code",
      "source": [
        "mnist_test_dataset.isna().sum().sum()"
      ],
      "metadata": {
        "colab": {
          "base_uri": "https://localhost:8080/"
        },
        "id": "7N0-M_52vTEr",
        "outputId": "8b8326f9-02b6-48bb-a4ed-47ea5dae5c60"
      },
      "execution_count": 39,
      "outputs": [
        {
          "output_type": "execute_result",
          "data": {
            "text/plain": [
              "0"
            ]
          },
          "metadata": {},
          "execution_count": 39
        }
      ]
    },
    {
      "cell_type": "code",
      "source": [
        "X_test_independent_var_dataset = mnist_test_dataset.loc[:,'0':]"
      ],
      "metadata": {
        "id": "RZwI6K35vTBk"
      },
      "execution_count": 40,
      "outputs": []
    },
    {
      "cell_type": "code",
      "source": [
        "y_test_digit_dependent_var = mnist_test_dataset.loc[:,'labels']"
      ],
      "metadata": {
        "id": "e8Vf4GIMvSyL"
      },
      "execution_count": 41,
      "outputs": []
    },
    {
      "cell_type": "code",
      "source": [
        "X_test_independent_var_dataset.shape"
      ],
      "metadata": {
        "colab": {
          "base_uri": "https://localhost:8080/"
        },
        "id": "AW7ijd-tiYQu",
        "outputId": "5df0b3c1-9ce8-4a97-c5d2-3c902a4eca9e"
      },
      "execution_count": 42,
      "outputs": [
        {
          "output_type": "execute_result",
          "data": {
            "text/plain": [
              "(10000, 784)"
            ]
          },
          "metadata": {},
          "execution_count": 42
        }
      ]
    },
    {
      "cell_type": "markdown",
      "source": [
        "####scaling the test dataset"
      ],
      "metadata": {
        "id": "-syM_i21A8vj"
      }
    },
    {
      "cell_type": "code",
      "source": [
        "X_test_independent_var_dataset = X_test_independent_var_dataset.to_numpy()"
      ],
      "metadata": {
        "id": "F2ALe3pICJFw"
      },
      "execution_count": 43,
      "outputs": []
    },
    {
      "cell_type": "code",
      "source": [
        "X_test_independent_var_scaled_dataset=(X_test_independent_var_dataset-X_test_independent_var_dataset.min())/(X_test_independent_var_dataset.max()-X_test_independent_var_dataset.min())"
      ],
      "metadata": {
        "id": "BCxsp8aPA_wA"
      },
      "execution_count": 44,
      "outputs": []
    },
    {
      "cell_type": "code",
      "source": [
        "X_test_independent_var_scaled_dataset"
      ],
      "metadata": {
        "colab": {
          "base_uri": "https://localhost:8080/"
        },
        "id": "_g3ZkOFrA_sh",
        "outputId": "01da0f1b-169f-4351-9c13-6ec0b417fda5"
      },
      "execution_count": 45,
      "outputs": [
        {
          "output_type": "execute_result",
          "data": {
            "text/plain": [
              "array([[0., 0., 0., ..., 0., 0., 0.],\n",
              "       [0., 0., 0., ..., 0., 0., 0.],\n",
              "       [0., 0., 0., ..., 0., 0., 0.],\n",
              "       ...,\n",
              "       [0., 0., 0., ..., 0., 0., 0.],\n",
              "       [0., 0., 0., ..., 0., 0., 0.],\n",
              "       [0., 0., 0., ..., 0., 0., 0.]])"
            ]
          },
          "metadata": {},
          "execution_count": 45
        }
      ]
    },
    {
      "cell_type": "markdown",
      "source": [
        "####creating the instance for naive bayes class"
      ],
      "metadata": {
        "id": "MEjyom42BKo6"
      }
    },
    {
      "cell_type": "code",
      "source": [
        "mnist_naive_bayes_instance = MnistNaiveBayes()\n",
        "mnist_naive_bayes_instance.fit(X_train_independent_var_dataset = X_train_independent_var_scaled_dataset,y_train_digit_dependent_var = y_train_digit_dependent_var)"
      ],
      "metadata": {
        "id": "7hSASLspEyaN"
      },
      "execution_count": 49,
      "outputs": []
    },
    {
      "cell_type": "markdown",
      "source": [
        "##### testing with train set data"
      ],
      "metadata": {
        "id": "XWX1TCcLkI_R"
      }
    },
    {
      "cell_type": "code",
      "source": [
        "digit_predicted_value_for_train_set = mnist_naive_bayes_instance.predict(X_test_dataset=X_train_independent_var_scaled_dataset)"
      ],
      "metadata": {
        "id": "vnEfQhb2IUfk"
      },
      "execution_count": 50,
      "outputs": []
    },
    {
      "cell_type": "markdown",
      "source": [
        "##### testing with the actual test set data"
      ],
      "metadata": {
        "id": "7FfKqlWBkflj"
      }
    },
    {
      "cell_type": "code",
      "source": [
        "digit_predicted_value_for_test_set = mnist_naive_bayes_instance.predict(X_test_dataset=X_test_independent_var_scaled_dataset)"
      ],
      "metadata": {
        "id": "24W02_ngkiga"
      },
      "execution_count": 51,
      "outputs": []
    },
    {
      "cell_type": "markdown",
      "source": [],
      "metadata": {
        "id": "Ln3R5AyZkONX"
      }
    },
    {
      "cell_type": "code",
      "source": [
        "def accuracy(y, y_hat):\n",
        "  return np.mean(y==y_hat)"
      ],
      "metadata": {
        "id": "iKS9n8hU40UG"
      },
      "execution_count": 52,
      "outputs": []
    },
    {
      "cell_type": "markdown",
      "source": [
        "##### accuracy with train set"
      ],
      "metadata": {
        "id": "dnKs9pDXjThX"
      }
    },
    {
      "cell_type": "code",
      "source": [
        "accuracy(y_train_digit_dependent_var,digit_predicted_value_for_train_set)"
      ],
      "metadata": {
        "colab": {
          "base_uri": "https://localhost:8080/"
        },
        "id": "t1JT2FB3vSve",
        "outputId": "9f8e5e9f-dfc7-4707-c390-fe5e7699de17"
      },
      "execution_count": 53,
      "outputs": [
        {
          "output_type": "execute_result",
          "data": {
            "text/plain": [
              "0.768262804380073"
            ]
          },
          "metadata": {},
          "execution_count": 53
        }
      ]
    },
    {
      "cell_type": "markdown",
      "source": [
        "##### accuracy with test set"
      ],
      "metadata": {
        "id": "0C5Wm154k2bI"
      }
    },
    {
      "cell_type": "code",
      "source": [
        "accuracy(y_test_digit_dependent_var,digit_predicted_value_for_test_set)"
      ],
      "metadata": {
        "colab": {
          "base_uri": "https://localhost:8080/"
        },
        "id": "MfM56_C-vSqV",
        "outputId": "679142c5-4144-4e52-ec55-d3ba23d3f935"
      },
      "execution_count": 54,
      "outputs": [
        {
          "output_type": "execute_result",
          "data": {
            "text/plain": [
              "0.7746"
            ]
          },
          "metadata": {},
          "execution_count": 54
        }
      ]
    },
    {
      "cell_type": "markdown",
      "source": [
        "##### Second instance with different value of epsilon to test accuracy"
      ],
      "metadata": {
        "id": "0wX2PX2vCw1R"
      }
    },
    {
      "cell_type": "code",
      "source": [
        "mnist_naive_bayes_instance_2 = MnistNaiveBayes(epsilon = 0.5)"
      ],
      "metadata": {
        "id": "mMXr747wvSZG"
      },
      "execution_count": 55,
      "outputs": []
    },
    {
      "cell_type": "code",
      "source": [
        "mnist_naive_bayes_instance_2.fit(X_train_independent_var_dataset=X_train_independent_var_scaled_dataset,y_train_digit_dependent_var=y_train_digit_dependent_var)\n",
        "digit_predicted_value_for_train_set_2 = mnist_naive_bayes_instance_2.predict(X_test_dataset=X_train_independent_var_scaled_dataset)\n",
        "digit_predicted_value_for_test_set_2= mnist_naive_bayes_instance_2.predict(X_test_dataset=X_test_independent_var_scaled_dataset)\n",
        "accuracy_for_train_set_2 = accuracy(y_train_digit_dependent_var,digit_predicted_value_for_train_set)\n",
        "accuracy_for_test_set_2= accuracy(y_test_digit_dependent_var,digit_predicted_value_for_test_set)"
      ],
      "metadata": {
        "id": "WyclMfNCvSV0"
      },
      "execution_count": 56,
      "outputs": []
    },
    {
      "cell_type": "code",
      "source": [
        "accuracy_for_test_set_2"
      ],
      "metadata": {
        "id": "Q1OMk1BuvSNn",
        "colab": {
          "base_uri": "https://localhost:8080/"
        },
        "outputId": "f1e67d98-78d6-47d3-e73b-c794fedd8997"
      },
      "execution_count": 57,
      "outputs": [
        {
          "output_type": "execute_result",
          "data": {
            "text/plain": [
              "0.7746"
            ]
          },
          "metadata": {},
          "execution_count": 57
        }
      ]
    },
    {
      "cell_type": "code",
      "source": [
        "accuracy_dict_naive_bayes = {}"
      ],
      "metadata": {
        "id": "i-I5gNPz1v_1"
      },
      "execution_count": 58,
      "outputs": []
    },
    {
      "cell_type": "code",
      "source": [
        "possible_epsilon_values_naive_bayes = np.arange(0.0001,0.03,0.0005)"
      ],
      "metadata": {
        "id": "o1NOR-Vc1_3a"
      },
      "execution_count": 59,
      "outputs": []
    },
    {
      "cell_type": "code",
      "source": [
        "\n",
        "for epsilon_value in possible_epsilon_values_naive_bayes:\n",
        "  current_instance = MnistNaiveBayes(epsilon = epsilon_value)\n",
        "  # instances_list.append(current_instance)\n",
        "  current_instance.fit(X_train_independent_var_dataset=X_train_independent_var_scaled_dataset,y_train_digit_dependent_var=y_train_digit_dependent_var)\n",
        "  # gauss_bayes_digit_predicted_train_set = gauss_bayes_instance_3.gaussbayes_predict(X_train_independent_var_scaled_dataset)\n",
        "  naive_bayes_digit_predicted_test_set = current_instance.predict(X_test_independent_var_scaled_dataset)\n",
        "  accuracy_nb_testset = accuracy(naive_bayes_digit_predicted_test_set,y_test_digit_dependent_var)\n",
        "  accuracy_dict_naive_bayes[current_instance] = [epsilon_value,accuracy_nb_testset]\n",
        "  print(accuracy_dict_naive_bayes)"
      ],
      "metadata": {
        "id": "10MFksOSvSKV"
      },
      "execution_count": 60,
      "outputs": []
    },
    {
      "cell_type": "code",
      "source": [
        "naive_bayes_accuracy_df = pd.DataFrame(accuracy_dict_naive_bayes.values())"
      ],
      "metadata": {
        "id": "ma4YaESFsknP"
      },
      "execution_count": 68,
      "outputs": []
    },
    {
      "cell_type": "code",
      "source": [
        "naive_bayes_accuracy_df.rename(columns ={0:'epsilon value',1:'accuracy'},inplace = True)"
      ],
      "metadata": {
        "id": "sFmce0DDZfhj"
      },
      "execution_count": 75,
      "outputs": []
    },
    {
      "cell_type": "code",
      "source": [
        "sns.scatterplot(data= naive_bayes_accuracy_df,x = 'epsilon value',y='accuracy' )"
      ],
      "metadata": {
        "colab": {
          "base_uri": "https://localhost:8080/",
          "height": 472
        },
        "id": "_sLTh-pXZqcA",
        "outputId": "556cd5b4-d12f-40db-c600-64710bc4cff6"
      },
      "execution_count": 77,
      "outputs": [
        {
          "output_type": "execute_result",
          "data": {
            "text/plain": [
              "<Axes: xlabel='epsilon value', ylabel='accuracy'>"
            ]
          },
          "metadata": {},
          "execution_count": 77
        },
        {
          "output_type": "display_data",
          "data": {
            "text/plain": [
              "<Figure size 640x480 with 1 Axes>"
            ],
            "image/png": "[encoded data removed]"
          },
          "metadata": {}
        }
      ]
    },
    {
      "cell_type": "code",
      "source": [
        "# so in case of Naive Bayes we can get maximum accuracy of 82.12 with epsilon value 0.0121"
      ],
      "metadata": {
        "id": "rvoEbqhDskeA"
      },
      "execution_count": 62,
      "outputs": []
    },
    {
      "cell_type": "markdown",
      "source": [
        "####2nd Gauss Bayes Model"
      ],
      "metadata": {
        "id": "Tqzxuan1uMYm"
      }
    },
    {
      "cell_type": "markdown",
      "source": [
        "Since we already have train dataset, test dataset ready we will write the class for GaussBayes directly"
      ],
      "metadata": {
        "id": "Trz9R_r1NcOv"
      }
    },
    {
      "cell_type": "code",
      "source": [
        "class MnistGaussBayes():\n",
        "  def __init__(self,likelihoods=dict(),priors=dict(),epsilon=1e-3):\n",
        "    self.likelihoods = likelihoods\n",
        "    self.priors = priors\n",
        "    self.epsilon = epsilon\n",
        "\n",
        "  def gaussbayes_fit(self,X_train_independent_var_dataset,y_train_digit_dependent_var):\n",
        "    self.unique_digits_in_labels = set(y_train_digit_dependent_var.astype(int))\n",
        "\n",
        "    for single_digit in self.unique_digits_in_labels:\n",
        "      X_for_single_digit = X_train_independent_var_dataset[y_train_digit_dependent_var==single_digit,:]\n",
        "      row_count = X_for_single_digit.shape[0]\n",
        "      column_count = X_for_single_digit.shape[1]\n",
        "      mu_value_for_current_digit = X_for_single_digit.mean(axis=0)\n",
        "      self.likelihoods[single_digit]={\"mean\":X_for_single_digit.mean(axis=0),\"cov\":(1/(row_count-1))*np.matmul((X_for_single_digit- mu_value_for_current_digit).T,X_for_single_digit-mu_value_for_current_digit) + self.epsilon*np.identity(column_count)}\n",
        "      self.priors[single_digit] = len(X_for_single_digit)/len(X_train_independent_var_dataset)\n",
        "\n",
        "  def gaussbayes_predict(self,X_test_dataset):\n",
        "    test_dataset_rows_count = X_test_dataset.shape[0]\n",
        "    test_dataset_column_count = X_test_dataset.shape[1]\n",
        "    # initializing probablities value array\n",
        "    self.probablities_value_array = np.zeros(shape = (test_dataset_rows_count,len(self.unique_digits_in_labels)))\n",
        "\n",
        "    for digit_under_consideration ,result_array_for_digit in self.likelihoods.items():\n",
        "      self.probablities_value_array[:,digit_under_consideration]=  mvn.logpdf(X_test_dataset,result_array_for_digit[\"mean\"],result_array_for_digit[\"cov\"]) + np.log(self.priors[digit_under_consideration])\n",
        "    return self.probablities_value_array.argmax(axis = 1)\n",
        "\n",
        "\n"
      ],
      "metadata": {
        "id": "8B8Y3awauUMX"
      },
      "execution_count": 78,
      "outputs": []
    },
    {
      "cell_type": "markdown",
      "source": [
        "##### creating instance and fitting the model"
      ],
      "metadata": {
        "id": "p9T-jlLITvtc"
      }
    },
    {
      "cell_type": "code",
      "source": [
        "gauss_bayes_instance_1 = MnistGaussBayes()"
      ],
      "metadata": {
        "id": "Q0lIWRn9T0Hi"
      },
      "execution_count": 79,
      "outputs": []
    },
    {
      "cell_type": "code",
      "source": [
        "gauss_bayes_instance_1.gaussbayes_fit(X_train_independent_var_dataset=X_train_independent_var_scaled_dataset,y_train_digit_dependent_var=y_train_digit_dependent_var)\n",
        "gauss_bayes_digit_predicted_train_set = gauss_bayes_instance_1.gaussbayes_predict(X_train_independent_var_scaled_dataset)\n",
        "gauss_bayes_digit_predicted_test_set = gauss_bayes_instance_1.gaussbayes_predict(X_test_independent_var_scaled_dataset)\n",
        "accuracy_gb_testset_1 = accuracy(gauss_bayes_digit_predicted_test_set,y_test_digit_dependent_var)"
      ],
      "metadata": {
        "id": "PJxoeT5-T0Bk"
      },
      "execution_count": 80,
      "outputs": []
    },
    {
      "cell_type": "code",
      "source": [
        "accuracy_gb_testset_1"
      ],
      "metadata": {
        "id": "jiOziLAIaiZe",
        "colab": {
          "base_uri": "https://localhost:8080/"
        },
        "outputId": "18867920-1a06-4a12-a218-bd8c3019a748"
      },
      "execution_count": 81,
      "outputs": [
        {
          "output_type": "execute_result",
          "data": {
            "text/plain": [
              "0.9108"
            ]
          },
          "metadata": {},
          "execution_count": 81
        }
      ]
    },
    {
      "cell_type": "markdown",
      "source": [
        "gaussbayes iteration 2: with epsilon different epsilon value"
      ],
      "metadata": {
        "id": "-VSobDBSapJD"
      }
    },
    {
      "cell_type": "code",
      "source": [
        "gauss_bayes_instance_2= MnistGaussBayes(epsilon = 0.005)"
      ],
      "metadata": {
        "id": "VvvZCqqMb8K0"
      },
      "execution_count": 82,
      "outputs": []
    },
    {
      "cell_type": "code",
      "source": [
        "gauss_bayes_instance_2.gaussbayes_fit(X_train_independent_var_dataset=X_train_independent_var_scaled_dataset,y_train_digit_dependent_var=y_train_digit_dependent_var)\n",
        "gauss_bayes_digit_predicted_train_set = gauss_bayes_instance_2.gaussbayes_predict(X_train_independent_var_scaled_dataset)\n",
        "gauss_bayes_digit_predicted_test_set = gauss_bayes_instance_2.gaussbayes_predict(X_test_independent_var_scaled_dataset)\n",
        "accuracy_gb_testset_2 = accuracy(gauss_bayes_digit_predicted_test_set,y_test_digit_dependent_var)\n",
        "accuracy_gb_testset_2"
      ],
      "metadata": {
        "id": "-wbx3jsMcCyK",
        "colab": {
          "base_uri": "https://localhost:8080/",
          "height": 356
        },
        "outputId": "0f349434-16af-4241-cd19-c35024dce361"
      },
      "execution_count": 83,
      "outputs": [
        {
          "output_type": "error",
          "ename": "KeyboardInterrupt",
          "evalue": "",
          "traceback": [
            "\u001b[0;31m---------------------------------------------------------------------------\u001b[0m",
            "\u001b[0;31mKeyboardInterrupt\u001b[0m                         Traceback (most recent call last)",
            "\u001b[0;32m<ipython-input-83-530119d195d7>\u001b[0m in \u001b[0;36m<cell line: 2>\u001b[0;34m()\u001b[0m\n\u001b[1;32m      1\u001b[0m \u001b[0mgauss_bayes_instance_2\u001b[0m\u001b[0;34m.\u001b[0m\u001b[0mgaussbayes_fit\u001b[0m\u001b[0;34m(\u001b[0m\u001b[0mX_train_independent_var_dataset\u001b[0m\u001b[0;34m=\u001b[0m\u001b[0mX_train_independent_var_scaled_dataset\u001b[0m\u001b[0;34m,\u001b[0m\u001b[0my_train_digit_dependent_var\u001b[0m\u001b[0;34m=\u001b[0m\u001b[0my_train_digit_dependent_var\u001b[0m\u001b[0;34m)\u001b[0m\u001b[0;34m\u001b[0m\u001b[0;34m\u001b[0m\u001b[0m\n\u001b[0;32m----> 2\u001b[0;31m \u001b[0mgauss_bayes_digit_predicted_train_set\u001b[0m \u001b[0;34m=\u001b[0m \u001b[0mgauss_bayes_instance_2\u001b[0m\u001b[0;34m.\u001b[0m\u001b[0mgaussbayes_predict\u001b[0m\u001b[0;34m(\u001b[0m\u001b[0mX_train_independent_var_scaled_dataset\u001b[0m\u001b[0;34m)\u001b[0m\u001b[0;34m\u001b[0m\u001b[0;34m\u001b[0m\u001b[0m\n\u001b[0m\u001b[1;32m      3\u001b[0m \u001b[0mgauss_bayes_digit_predicted_test_set\u001b[0m \u001b[0;34m=\u001b[0m \u001b[0mgauss_bayes_instance_2\u001b[0m\u001b[0;34m.\u001b[0m\u001b[0mgaussbayes_predict\u001b[0m\u001b[0;34m(\u001b[0m\u001b[0mX_test_independent_var_scaled_dataset\u001b[0m\u001b[0;34m)\u001b[0m\u001b[0;34m\u001b[0m\u001b[0;34m\u001b[0m\u001b[0m\n\u001b[1;32m      4\u001b[0m \u001b[0maccuracy_gb_testset_2\u001b[0m \u001b[0;34m=\u001b[0m \u001b[0maccuracy\u001b[0m\u001b[0;34m(\u001b[0m\u001b[0mgauss_bayes_digit_predicted_test_set\u001b[0m\u001b[0;34m,\u001b[0m\u001b[0my_test_digit_dependent_var\u001b[0m\u001b[0;34m)\u001b[0m\u001b[0;34m\u001b[0m\u001b[0;34m\u001b[0m\u001b[0m\n\u001b[1;32m      5\u001b[0m \u001b[0maccuracy_gb_testset_2\u001b[0m\u001b[0;34m\u001b[0m\u001b[0;34m\u001b[0m\u001b[0m\n",
            "\u001b[0;32m<ipython-input-78-19a46d478c46>\u001b[0m in \u001b[0;36mgaussbayes_predict\u001b[0;34m(self, X_test_dataset)\u001b[0m\n\u001b[1;32m     23\u001b[0m \u001b[0;34m\u001b[0m\u001b[0m\n\u001b[1;32m     24\u001b[0m     \u001b[0;32mfor\u001b[0m \u001b[0mdigit_under_consideration\u001b[0m \u001b[0;34m,\u001b[0m\u001b[0mresult_array_for_digit\u001b[0m \u001b[0;32min\u001b[0m \u001b[0mself\u001b[0m\u001b[0;34m.\u001b[0m\u001b[0mlikelihoods\u001b[0m\u001b[0;34m.\u001b[0m\u001b[0mitems\u001b[0m\u001b[0;34m(\u001b[0m\u001b[0;34m)\u001b[0m\u001b[0;34m:\u001b[0m\u001b[0;34m\u001b[0m\u001b[0;34m\u001b[0m\u001b[0m\n\u001b[0;32m---> 25\u001b[0;31m       \u001b[0mself\u001b[0m\u001b[0;34m.\u001b[0m\u001b[0mprobablities_value_array\u001b[0m\u001b[0;34m[\u001b[0m\u001b[0;34m:\u001b[0m\u001b[0;34m,\u001b[0m\u001b[0mdigit_under_consideration\u001b[0m\u001b[0;34m]\u001b[0m\u001b[0;34m=\u001b[0m  \u001b[0mmvn\u001b[0m\u001b[0;34m.\u001b[0m\u001b[0mlogpdf\u001b[0m\u001b[0;34m(\u001b[0m\u001b[0mX_test_dataset\u001b[0m\u001b[0;34m,\u001b[0m\u001b[0mresult_array_for_digit\u001b[0m\u001b[0;34m[\u001b[0m\u001b[0;34m\"mean\"\u001b[0m\u001b[0;34m]\u001b[0m\u001b[0;34m,\u001b[0m\u001b[0mresult_array_for_digit\u001b[0m\u001b[0;34m[\u001b[0m\u001b[0;34m\"cov\"\u001b[0m\u001b[0;34m]\u001b[0m\u001b[0;34m)\u001b[0m \u001b[0;34m+\u001b[0m \u001b[0mnp\u001b[0m\u001b[0;34m.\u001b[0m\u001b[0mlog\u001b[0m\u001b[0;34m(\u001b[0m\u001b[0mself\u001b[0m\u001b[0;34m.\u001b[0m\u001b[0mpriors\u001b[0m\u001b[0;34m[\u001b[0m\u001b[0mdigit_under_consideration\u001b[0m\u001b[0;34m]\u001b[0m\u001b[0;34m)\u001b[0m\u001b[0;34m\u001b[0m\u001b[0;34m\u001b[0m\u001b[0m\n\u001b[0m\u001b[1;32m     26\u001b[0m     \u001b[0;32mreturn\u001b[0m \u001b[0mself\u001b[0m\u001b[0;34m.\u001b[0m\u001b[0mprobablities_value_array\u001b[0m\u001b[0;34m.\u001b[0m\u001b[0margmax\u001b[0m\u001b[0;34m(\u001b[0m\u001b[0maxis\u001b[0m \u001b[0;34m=\u001b[0m \u001b[0;36m1\u001b[0m\u001b[0;34m)\u001b[0m\u001b[0;34m\u001b[0m\u001b[0;34m\u001b[0m\u001b[0m\n\u001b[1;32m     27\u001b[0m \u001b[0;34m\u001b[0m\u001b[0m\n",
            "\u001b[0;32m/usr/local/lib/python3.10/dist-packages/scipy/stats/_multivariate.py\u001b[0m in \u001b[0;36mlogpdf\u001b[0;34m(self, x, mean, cov, allow_singular)\u001b[0m\n\u001b[1;32m    558\u001b[0m         \u001b[0mdim\u001b[0m\u001b[0;34m,\u001b[0m \u001b[0mmean\u001b[0m\u001b[0;34m,\u001b[0m \u001b[0mcov_object\u001b[0m \u001b[0;34m=\u001b[0m \u001b[0mparams\u001b[0m\u001b[0;34m\u001b[0m\u001b[0;34m\u001b[0m\u001b[0m\n\u001b[1;32m    559\u001b[0m         \u001b[0mx\u001b[0m \u001b[0;34m=\u001b[0m \u001b[0mself\u001b[0m\u001b[0;34m.\u001b[0m\u001b[0m_process_quantiles\u001b[0m\u001b[0;34m(\u001b[0m\u001b[0mx\u001b[0m\u001b[0;34m,\u001b[0m \u001b[0mdim\u001b[0m\u001b[0;34m)\u001b[0m\u001b[0;34m\u001b[0m\u001b[0;34m\u001b[0m\u001b[0m\n\u001b[0;32m--> 560\u001b[0;31m         \u001b[0mout\u001b[0m \u001b[0;34m=\u001b[0m \u001b[0mself\u001b[0m\u001b[0;34m.\u001b[0m\u001b[0m_logpdf\u001b[0m\u001b[0;34m(\u001b[0m\u001b[0mx\u001b[0m\u001b[0;34m,\u001b[0m \u001b[0mmean\u001b[0m\u001b[0;34m,\u001b[0m \u001b[0mcov_object\u001b[0m\u001b[0;34m)\u001b[0m\u001b[0;34m\u001b[0m\u001b[0;34m\u001b[0m\u001b[0m\n\u001b[0m\u001b[1;32m    561\u001b[0m         \u001b[0;32mif\u001b[0m \u001b[0mnp\u001b[0m\u001b[0;34m.\u001b[0m\u001b[0many\u001b[0m\u001b[0;34m(\u001b[0m\u001b[0mcov_object\u001b[0m\u001b[0;34m.\u001b[0m\u001b[0mrank\u001b[0m \u001b[0;34m<\u001b[0m \u001b[0mdim\u001b[0m\u001b[0;34m)\u001b[0m\u001b[0;34m:\u001b[0m\u001b[0;34m\u001b[0m\u001b[0;34m\u001b[0m\u001b[0m\n\u001b[1;32m    562\u001b[0m             \u001b[0mout_of_bounds\u001b[0m \u001b[0;34m=\u001b[0m \u001b[0;34m~\u001b[0m\u001b[0mcov_object\u001b[0m\u001b[0;34m.\u001b[0m\u001b[0m_support_mask\u001b[0m\u001b[0;34m(\u001b[0m\u001b[0mx\u001b[0m\u001b[0;34m-\u001b[0m\u001b[0mmean\u001b[0m\u001b[0;34m)\u001b[0m\u001b[0;34m\u001b[0m\u001b[0;34m\u001b[0m\u001b[0m\n",
            "\u001b[0;32m/usr/local/lib/python3.10/dist-packages/scipy/stats/_multivariate.py\u001b[0m in \u001b[0;36m_logpdf\u001b[0;34m(self, x, mean, cov_object)\u001b[0m\n\u001b[1;32m    533\u001b[0m             \u001b[0mlog_det_cov\u001b[0m \u001b[0;34m=\u001b[0m \u001b[0mlog_det_cov\u001b[0m\u001b[0;34m[\u001b[0m\u001b[0;34m...\u001b[0m\u001b[0;34m,\u001b[0m \u001b[0mnp\u001b[0m\u001b[0;34m.\u001b[0m\u001b[0mnewaxis\u001b[0m\u001b[0;34m]\u001b[0m\u001b[0;34m\u001b[0m\u001b[0;34m\u001b[0m\u001b[0m\n\u001b[1;32m    534\u001b[0m             \u001b[0mrank\u001b[0m \u001b[0;34m=\u001b[0m \u001b[0mrank\u001b[0m\u001b[0;34m[\u001b[0m\u001b[0;34m...\u001b[0m\u001b[0;34m,\u001b[0m \u001b[0mnp\u001b[0m\u001b[0;34m.\u001b[0m\u001b[0mnewaxis\u001b[0m\u001b[0;34m]\u001b[0m\u001b[0;34m\u001b[0m\u001b[0;34m\u001b[0m\u001b[0m\n\u001b[0;32m--> 535\u001b[0;31m         \u001b[0mmaha\u001b[0m \u001b[0;34m=\u001b[0m \u001b[0mnp\u001b[0m\u001b[0;34m.\u001b[0m\u001b[0msum\u001b[0m\u001b[0;34m(\u001b[0m\u001b[0mnp\u001b[0m\u001b[0;34m.\u001b[0m\u001b[0msquare\u001b[0m\u001b[0;34m(\u001b[0m\u001b[0mcov_object\u001b[0m\u001b[0;34m.\u001b[0m\u001b[0mwhiten\u001b[0m\u001b[0;34m(\u001b[0m\u001b[0mdev\u001b[0m\u001b[0;34m)\u001b[0m\u001b[0;34m)\u001b[0m\u001b[0;34m,\u001b[0m \u001b[0maxis\u001b[0m\u001b[0;34m=\u001b[0m\u001b[0;34m-\u001b[0m\u001b[0;36m1\u001b[0m\u001b[0;34m)\u001b[0m\u001b[0;34m\u001b[0m\u001b[0;34m\u001b[0m\u001b[0m\n\u001b[0m\u001b[1;32m    536\u001b[0m         \u001b[0;32mreturn\u001b[0m \u001b[0;34m-\u001b[0m\u001b[0;36m0.5\u001b[0m \u001b[0;34m*\u001b[0m \u001b[0;34m(\u001b[0m\u001b[0mrank\u001b[0m \u001b[0;34m*\u001b[0m \u001b[0m_LOG_2PI\u001b[0m \u001b[0;34m+\u001b[0m \u001b[0mlog_det_cov\u001b[0m \u001b[0;34m+\u001b[0m \u001b[0mmaha\u001b[0m\u001b[0;34m)\u001b[0m\u001b[0;34m\u001b[0m\u001b[0;34m\u001b[0m\u001b[0m\n\u001b[1;32m    537\u001b[0m \u001b[0;34m\u001b[0m\u001b[0m\n",
            "\u001b[0;32m/usr/local/lib/python3.10/dist-packages/scipy/stats/_covariance.py\u001b[0m in \u001b[0;36mwhiten\u001b[0;34m(self, x)\u001b[0m\n\u001b[1;32m    360\u001b[0m \u001b[0;34m\u001b[0m\u001b[0m\n\u001b[1;32m    361\u001b[0m         \"\"\"\n\u001b[0;32m--> 362\u001b[0;31m         \u001b[0;32mreturn\u001b[0m \u001b[0mself\u001b[0m\u001b[0;34m.\u001b[0m\u001b[0m_whiten\u001b[0m\u001b[0;34m(\u001b[0m\u001b[0mnp\u001b[0m\u001b[0;34m.\u001b[0m\u001b[0masarray\u001b[0m\u001b[0;34m(\u001b[0m\u001b[0mx\u001b[0m\u001b[0;34m)\u001b[0m\u001b[0;34m)\u001b[0m\u001b[0;34m\u001b[0m\u001b[0;34m\u001b[0m\u001b[0m\n\u001b[0m\u001b[1;32m    363\u001b[0m \u001b[0;34m\u001b[0m\u001b[0m\n\u001b[1;32m    364\u001b[0m     \u001b[0;32mdef\u001b[0m \u001b[0mcolorize\u001b[0m\u001b[0;34m(\u001b[0m\u001b[0mself\u001b[0m\u001b[0;34m,\u001b[0m \u001b[0mx\u001b[0m\u001b[0;34m)\u001b[0m\u001b[0;34m:\u001b[0m\u001b[0;34m\u001b[0m\u001b[0;34m\u001b[0m\u001b[0m\n",
            "\u001b[0;31mKeyboardInterrupt\u001b[0m: "
          ]
        }
      ]
    },
    {
      "cell_type": "markdown",
      "source": [
        "##### iteration 3"
      ],
      "metadata": {
        "id": "tQV5KW8wcOWF"
      }
    },
    {
      "cell_type": "code",
      "source": [
        "gauss_bayes_instance_3=MnistGaussBayes(epsilon = 0.5)"
      ],
      "metadata": {
        "id": "Aq03TF6ibF-N"
      },
      "execution_count": null,
      "outputs": []
    },
    {
      "cell_type": "code",
      "source": [
        "gauss_bayes_instance_3.gaussbayes_fit(X_train_independent_var_dataset=X_train_independent_var_scaled_dataset,y_train_digit_dependent_var=y_train_digit_dependent_var)\n",
        "gauss_bayes_digit_predicted_train_set = gauss_bayes_instance_3.gaussbayes_predict(X_train_independent_var_scaled_dataset)\n",
        "gauss_bayes_digit_predicted_test_set = gauss_bayes_instance_3.gaussbayes_predict(X_test_independent_var_scaled_dataset)\n",
        "accuracy_gb_testset_3 = accuracy(gauss_bayes_digit_predicted_test_set,y_test_digit_dependent_var)"
      ],
      "metadata": {
        "id": "ZNZsXbTNbOcd"
      },
      "execution_count": null,
      "outputs": []
    },
    {
      "cell_type": "code",
      "source": [
        "accuracy_gb_testset_3"
      ],
      "metadata": {
        "id": "wWhfXW8ubjri"
      },
      "execution_count": null,
      "outputs": []
    },
    {
      "cell_type": "code",
      "source": [
        "possible_epsilon_values = np.arange(0.001,0.5,0.003)"
      ],
      "metadata": {
        "id": "_8fgEWMzjDgh"
      },
      "execution_count": 90,
      "outputs": []
    },
    {
      "cell_type": "code",
      "source": [
        "accuracy_gauss_bayes_dict = dict()"
      ],
      "metadata": {
        "id": "M18lJQqdjrEC"
      },
      "execution_count": 91,
      "outputs": []
    },
    {
      "cell_type": "code",
      "source": [
        "for epsilon_value in possible_epsilon_values:\n",
        "  current_instance = MnistGaussBayes(epsilon = epsilon_value)\n",
        "  # instances_list.append(current_instance)\n",
        "  current_instance.gaussbayes_fit(X_train_independent_var_dataset=X_train_independent_var_scaled_dataset,y_train_digit_dependent_var=y_train_digit_dependent_var)\n",
        "  # gauss_bayes_digit_predicted_train_set = gauss_bayes_instance_3.gaussbayes_predict(X_train_independent_var_scaled_dataset)\n",
        "  gauss_bayes_digit_predicted_test_set = current_instance.gaussbayes_predict(X_test_independent_var_scaled_dataset)\n",
        "  accuracy_gb_testset = accuracy(gauss_bayes_digit_predicted_test_set,y_test_digit_dependent_var)\n",
        "  accuracy_gauss_bayes_dict[epsilon_value] = accuracy_gb_testset\n",
        "  print(accuracy_gauss_bayes_dict)"
      ],
      "metadata": {
        "id": "Xl4WYhN8jWsg",
        "colab": {
          "base_uri": "https://localhost:8080/"
        },
        "outputId": "6da8e506-416b-4b02-c20e-1d8ef0de337e"
      },
      "execution_count": 92,
      "outputs": [
        {
          "output_type": "stream",
          "name": "stdout",
          "text": [
            "{0.001: 0.9108}\n",
            "{0.001: 0.9108, 0.004: 0.9355}\n",
            "{0.001: 0.9108, 0.004: 0.9355, 0.007: 0.9423}\n",
            "{0.001: 0.9108, 0.004: 0.9355, 0.007: 0.9423, 0.010000000000000002: 0.9473}\n",
            "{0.001: 0.9108, 0.004: 0.9355, 0.007: 0.9423, 0.010000000000000002: 0.9473, 0.013000000000000001: 0.9498}\n",
            "{0.001: 0.9108, 0.004: 0.9355, 0.007: 0.9423, 0.010000000000000002: 0.9473, 0.013000000000000001: 0.9498, 0.016: 0.9516}\n",
            "{0.001: 0.9108, 0.004: 0.9355, 0.007: 0.9423, 0.010000000000000002: 0.9473, 0.013000000000000001: 0.9498, 0.016: 0.9516, 0.019000000000000003: 0.953}\n",
            "{0.001: 0.9108, 0.004: 0.9355, 0.007: 0.9423, 0.010000000000000002: 0.9473, 0.013000000000000001: 0.9498, 0.016: 0.9516, 0.019000000000000003: 0.953, 0.022000000000000002: 0.9546}\n",
            "{0.001: 0.9108, 0.004: 0.9355, 0.007: 0.9423, 0.010000000000000002: 0.9473, 0.013000000000000001: 0.9498, 0.016: 0.9516, 0.019000000000000003: 0.953, 0.022000000000000002: 0.9546, 0.025: 0.9556}\n",
            "{0.001: 0.9108, 0.004: 0.9355, 0.007: 0.9423, 0.010000000000000002: 0.9473, 0.013000000000000001: 0.9498, 0.016: 0.9516, 0.019000000000000003: 0.953, 0.022000000000000002: 0.9546, 0.025: 0.9556, 0.028: 0.956}\n",
            "{0.001: 0.9108, 0.004: 0.9355, 0.007: 0.9423, 0.010000000000000002: 0.9473, 0.013000000000000001: 0.9498, 0.016: 0.9516, 0.019000000000000003: 0.953, 0.022000000000000002: 0.9546, 0.025: 0.9556, 0.028: 0.956, 0.031: 0.9562}\n",
            "{0.001: 0.9108, 0.004: 0.9355, 0.007: 0.9423, 0.010000000000000002: 0.9473, 0.013000000000000001: 0.9498, 0.016: 0.9516, 0.019000000000000003: 0.953, 0.022000000000000002: 0.9546, 0.025: 0.9556, 0.028: 0.956, 0.031: 0.9562, 0.034: 0.9564}\n",
            "{0.001: 0.9108, 0.004: 0.9355, 0.007: 0.9423, 0.010000000000000002: 0.9473, 0.013000000000000001: 0.9498, 0.016: 0.9516, 0.019000000000000003: 0.953, 0.022000000000000002: 0.9546, 0.025: 0.9556, 0.028: 0.956, 0.031: 0.9562, 0.034: 0.9564, 0.037000000000000005: 0.9564}\n",
            "{0.001: 0.9108, 0.004: 0.9355, 0.007: 0.9423, 0.010000000000000002: 0.9473, 0.013000000000000001: 0.9498, 0.016: 0.9516, 0.019000000000000003: 0.953, 0.022000000000000002: 0.9546, 0.025: 0.9556, 0.028: 0.956, 0.031: 0.9562, 0.034: 0.9564, 0.037000000000000005: 0.9564, 0.04: 0.957}\n",
            "{0.001: 0.9108, 0.004: 0.9355, 0.007: 0.9423, 0.010000000000000002: 0.9473, 0.013000000000000001: 0.9498, 0.016: 0.9516, 0.019000000000000003: 0.953, 0.022000000000000002: 0.9546, 0.025: 0.9556, 0.028: 0.956, 0.031: 0.9562, 0.034: 0.9564, 0.037000000000000005: 0.9564, 0.04: 0.957, 0.043000000000000003: 0.9571}\n",
            "{0.001: 0.9108, 0.004: 0.9355, 0.007: 0.9423, 0.010000000000000002: 0.9473, 0.013000000000000001: 0.9498, 0.016: 0.9516, 0.019000000000000003: 0.953, 0.022000000000000002: 0.9546, 0.025: 0.9556, 0.028: 0.956, 0.031: 0.9562, 0.034: 0.9564, 0.037000000000000005: 0.9564, 0.04: 0.957, 0.043000000000000003: 0.9571, 0.046: 0.9565}\n",
            "{0.001: 0.9108, 0.004: 0.9355, 0.007: 0.9423, 0.010000000000000002: 0.9473, 0.013000000000000001: 0.9498, 0.016: 0.9516, 0.019000000000000003: 0.953, 0.022000000000000002: 0.9546, 0.025: 0.9556, 0.028: 0.956, 0.031: 0.9562, 0.034: 0.9564, 0.037000000000000005: 0.9564, 0.04: 0.957, 0.043000000000000003: 0.9571, 0.046: 0.9565, 0.049: 0.9564}\n",
            "{0.001: 0.9108, 0.004: 0.9355, 0.007: 0.9423, 0.010000000000000002: 0.9473, 0.013000000000000001: 0.9498, 0.016: 0.9516, 0.019000000000000003: 0.953, 0.022000000000000002: 0.9546, 0.025: 0.9556, 0.028: 0.956, 0.031: 0.9562, 0.034: 0.9564, 0.037000000000000005: 0.9564, 0.04: 0.957, 0.043000000000000003: 0.9571, 0.046: 0.9565, 0.049: 0.9564, 0.052000000000000005: 0.9566}\n",
            "{0.001: 0.9108, 0.004: 0.9355, 0.007: 0.9423, 0.010000000000000002: 0.9473, 0.013000000000000001: 0.9498, 0.016: 0.9516, 0.019000000000000003: 0.953, 0.022000000000000002: 0.9546, 0.025: 0.9556, 0.028: 0.956, 0.031: 0.9562, 0.034: 0.9564, 0.037000000000000005: 0.9564, 0.04: 0.957, 0.043000000000000003: 0.9571, 0.046: 0.9565, 0.049: 0.9564, 0.052000000000000005: 0.9566, 0.055: 0.9562}\n",
            "{0.001: 0.9108, 0.004: 0.9355, 0.007: 0.9423, 0.010000000000000002: 0.9473, 0.013000000000000001: 0.9498, 0.016: 0.9516, 0.019000000000000003: 0.953, 0.022000000000000002: 0.9546, 0.025: 0.9556, 0.028: 0.956, 0.031: 0.9562, 0.034: 0.9564, 0.037000000000000005: 0.9564, 0.04: 0.957, 0.043000000000000003: 0.9571, 0.046: 0.9565, 0.049: 0.9564, 0.052000000000000005: 0.9566, 0.055: 0.9562, 0.058: 0.9565}\n",
            "{0.001: 0.9108, 0.004: 0.9355, 0.007: 0.9423, 0.010000000000000002: 0.9473, 0.013000000000000001: 0.9498, 0.016: 0.9516, 0.019000000000000003: 0.953, 0.022000000000000002: 0.9546, 0.025: 0.9556, 0.028: 0.956, 0.031: 0.9562, 0.034: 0.9564, 0.037000000000000005: 0.9564, 0.04: 0.957, 0.043000000000000003: 0.9571, 0.046: 0.9565, 0.049: 0.9564, 0.052000000000000005: 0.9566, 0.055: 0.9562, 0.058: 0.9565, 0.061: 0.9571}\n",
            "{0.001: 0.9108, 0.004: 0.9355, 0.007: 0.9423, 0.010000000000000002: 0.9473, 0.013000000000000001: 0.9498, 0.016: 0.9516, 0.019000000000000003: 0.953, 0.022000000000000002: 0.9546, 0.025: 0.9556, 0.028: 0.956, 0.031: 0.9562, 0.034: 0.9564, 0.037000000000000005: 0.9564, 0.04: 0.957, 0.043000000000000003: 0.9571, 0.046: 0.9565, 0.049: 0.9564, 0.052000000000000005: 0.9566, 0.055: 0.9562, 0.058: 0.9565, 0.061: 0.9571, 0.064: 0.9567}\n",
            "{0.001: 0.9108, 0.004: 0.9355, 0.007: 0.9423, 0.010000000000000002: 0.9473, 0.013000000000000001: 0.9498, 0.016: 0.9516, 0.019000000000000003: 0.953, 0.022000000000000002: 0.9546, 0.025: 0.9556, 0.028: 0.956, 0.031: 0.9562, 0.034: 0.9564, 0.037000000000000005: 0.9564, 0.04: 0.957, 0.043000000000000003: 0.9571, 0.046: 0.9565, 0.049: 0.9564, 0.052000000000000005: 0.9566, 0.055: 0.9562, 0.058: 0.9565, 0.061: 0.9571, 0.064: 0.9567, 0.067: 0.9566}\n",
            "{0.001: 0.9108, 0.004: 0.9355, 0.007: 0.9423, 0.010000000000000002: 0.9473, 0.013000000000000001: 0.9498, 0.016: 0.9516, 0.019000000000000003: 0.953, 0.022000000000000002: 0.9546, 0.025: 0.9556, 0.028: 0.956, 0.031: 0.9562, 0.034: 0.9564, 0.037000000000000005: 0.9564, 0.04: 0.957, 0.043000000000000003: 0.9571, 0.046: 0.9565, 0.049: 0.9564, 0.052000000000000005: 0.9566, 0.055: 0.9562, 0.058: 0.9565, 0.061: 0.9571, 0.064: 0.9567, 0.067: 0.9566, 0.07: 0.9563}\n",
            "{0.001: 0.9108, 0.004: 0.9355, 0.007: 0.9423, 0.010000000000000002: 0.9473, 0.013000000000000001: 0.9498, 0.016: 0.9516, 0.019000000000000003: 0.953, 0.022000000000000002: 0.9546, 0.025: 0.9556, 0.028: 0.956, 0.031: 0.9562, 0.034: 0.9564, 0.037000000000000005: 0.9564, 0.04: 0.957, 0.043000000000000003: 0.9571, 0.046: 0.9565, 0.049: 0.9564, 0.052000000000000005: 0.9566, 0.055: 0.9562, 0.058: 0.9565, 0.061: 0.9571, 0.064: 0.9567, 0.067: 0.9566, 0.07: 0.9563, 0.07300000000000001: 0.9562}\n",
            "{0.001: 0.9108, 0.004: 0.9355, 0.007: 0.9423, 0.010000000000000002: 0.9473, 0.013000000000000001: 0.9498, 0.016: 0.9516, 0.019000000000000003: 0.953, 0.022000000000000002: 0.9546, 0.025: 0.9556, 0.028: 0.956, 0.031: 0.9562, 0.034: 0.9564, 0.037000000000000005: 0.9564, 0.04: 0.957, 0.043000000000000003: 0.9571, 0.046: 0.9565, 0.049: 0.9564, 0.052000000000000005: 0.9566, 0.055: 0.9562, 0.058: 0.9565, 0.061: 0.9571, 0.064: 0.9567, 0.067: 0.9566, 0.07: 0.9563, 0.07300000000000001: 0.9562, 0.076: 0.9563}\n",
            "{0.001: 0.9108, 0.004: 0.9355, 0.007: 0.9423, 0.010000000000000002: 0.9473, 0.013000000000000001: 0.9498, 0.016: 0.9516, 0.019000000000000003: 0.953, 0.022000000000000002: 0.9546, 0.025: 0.9556, 0.028: 0.956, 0.031: 0.9562, 0.034: 0.9564, 0.037000000000000005: 0.9564, 0.04: 0.957, 0.043000000000000003: 0.9571, 0.046: 0.9565, 0.049: 0.9564, 0.052000000000000005: 0.9566, 0.055: 0.9562, 0.058: 0.9565, 0.061: 0.9571, 0.064: 0.9567, 0.067: 0.9566, 0.07: 0.9563, 0.07300000000000001: 0.9562, 0.076: 0.9563, 0.079: 0.9562}\n",
            "{0.001: 0.9108, 0.004: 0.9355, 0.007: 0.9423, 0.010000000000000002: 0.9473, 0.013000000000000001: 0.9498, 0.016: 0.9516, 0.019000000000000003: 0.953, 0.022000000000000002: 0.9546, 0.025: 0.9556, 0.028: 0.956, 0.031: 0.9562, 0.034: 0.9564, 0.037000000000000005: 0.9564, 0.04: 0.957, 0.043000000000000003: 0.9571, 0.046: 0.9565, 0.049: 0.9564, 0.052000000000000005: 0.9566, 0.055: 0.9562, 0.058: 0.9565, 0.061: 0.9571, 0.064: 0.9567, 0.067: 0.9566, 0.07: 0.9563, 0.07300000000000001: 0.9562, 0.076: 0.9563, 0.079: 0.9562, 0.082: 0.9563}\n",
            "{0.001: 0.9108, 0.004: 0.9355, 0.007: 0.9423, 0.010000000000000002: 0.9473, 0.013000000000000001: 0.9498, 0.016: 0.9516, 0.019000000000000003: 0.953, 0.022000000000000002: 0.9546, 0.025: 0.9556, 0.028: 0.956, 0.031: 0.9562, 0.034: 0.9564, 0.037000000000000005: 0.9564, 0.04: 0.957, 0.043000000000000003: 0.9571, 0.046: 0.9565, 0.049: 0.9564, 0.052000000000000005: 0.9566, 0.055: 0.9562, 0.058: 0.9565, 0.061: 0.9571, 0.064: 0.9567, 0.067: 0.9566, 0.07: 0.9563, 0.07300000000000001: 0.9562, 0.076: 0.9563, 0.079: 0.9562, 0.082: 0.9563, 0.085: 0.9562}\n",
            "{0.001: 0.9108, 0.004: 0.9355, 0.007: 0.9423, 0.010000000000000002: 0.9473, 0.013000000000000001: 0.9498, 0.016: 0.9516, 0.019000000000000003: 0.953, 0.022000000000000002: 0.9546, 0.025: 0.9556, 0.028: 0.956, 0.031: 0.9562, 0.034: 0.9564, 0.037000000000000005: 0.9564, 0.04: 0.957, 0.043000000000000003: 0.9571, 0.046: 0.9565, 0.049: 0.9564, 0.052000000000000005: 0.9566, 0.055: 0.9562, 0.058: 0.9565, 0.061: 0.9571, 0.064: 0.9567, 0.067: 0.9566, 0.07: 0.9563, 0.07300000000000001: 0.9562, 0.076: 0.9563, 0.079: 0.9562, 0.082: 0.9563, 0.085: 0.9562, 0.08800000000000001: 0.9558}\n",
            "{0.001: 0.9108, 0.004: 0.9355, 0.007: 0.9423, 0.010000000000000002: 0.9473, 0.013000000000000001: 0.9498, 0.016: 0.9516, 0.019000000000000003: 0.953, 0.022000000000000002: 0.9546, 0.025: 0.9556, 0.028: 0.956, 0.031: 0.9562, 0.034: 0.9564, 0.037000000000000005: 0.9564, 0.04: 0.957, 0.043000000000000003: 0.9571, 0.046: 0.9565, 0.049: 0.9564, 0.052000000000000005: 0.9566, 0.055: 0.9562, 0.058: 0.9565, 0.061: 0.9571, 0.064: 0.9567, 0.067: 0.9566, 0.07: 0.9563, 0.07300000000000001: 0.9562, 0.076: 0.9563, 0.079: 0.9562, 0.082: 0.9563, 0.085: 0.9562, 0.08800000000000001: 0.9558, 0.091: 0.9555}\n",
            "{0.001: 0.9108, 0.004: 0.9355, 0.007: 0.9423, 0.010000000000000002: 0.9473, 0.013000000000000001: 0.9498, 0.016: 0.9516, 0.019000000000000003: 0.953, 0.022000000000000002: 0.9546, 0.025: 0.9556, 0.028: 0.956, 0.031: 0.9562, 0.034: 0.9564, 0.037000000000000005: 0.9564, 0.04: 0.957, 0.043000000000000003: 0.9571, 0.046: 0.9565, 0.049: 0.9564, 0.052000000000000005: 0.9566, 0.055: 0.9562, 0.058: 0.9565, 0.061: 0.9571, 0.064: 0.9567, 0.067: 0.9566, 0.07: 0.9563, 0.07300000000000001: 0.9562, 0.076: 0.9563, 0.079: 0.9562, 0.082: 0.9563, 0.085: 0.9562, 0.08800000000000001: 0.9558, 0.091: 0.9555, 0.094: 0.9552}\n",
            "{0.001: 0.9108, 0.004: 0.9355, 0.007: 0.9423, 0.010000000000000002: 0.9473, 0.013000000000000001: 0.9498, 0.016: 0.9516, 0.019000000000000003: 0.953, 0.022000000000000002: 0.9546, 0.025: 0.9556, 0.028: 0.956, 0.031: 0.9562, 0.034: 0.9564, 0.037000000000000005: 0.9564, 0.04: 0.957, 0.043000000000000003: 0.9571, 0.046: 0.9565, 0.049: 0.9564, 0.052000000000000005: 0.9566, 0.055: 0.9562, 0.058: 0.9565, 0.061: 0.9571, 0.064: 0.9567, 0.067: 0.9566, 0.07: 0.9563, 0.07300000000000001: 0.9562, 0.076: 0.9563, 0.079: 0.9562, 0.082: 0.9563, 0.085: 0.9562, 0.08800000000000001: 0.9558, 0.091: 0.9555, 0.094: 0.9552, 0.097: 0.9545}\n",
            "{0.001: 0.9108, 0.004: 0.9355, 0.007: 0.9423, 0.010000000000000002: 0.9473, 0.013000000000000001: 0.9498, 0.016: 0.9516, 0.019000000000000003: 0.953, 0.022000000000000002: 0.9546, 0.025: 0.9556, 0.028: 0.956, 0.031: 0.9562, 0.034: 0.9564, 0.037000000000000005: 0.9564, 0.04: 0.957, 0.043000000000000003: 0.9571, 0.046: 0.9565, 0.049: 0.9564, 0.052000000000000005: 0.9566, 0.055: 0.9562, 0.058: 0.9565, 0.061: 0.9571, 0.064: 0.9567, 0.067: 0.9566, 0.07: 0.9563, 0.07300000000000001: 0.9562, 0.076: 0.9563, 0.079: 0.9562, 0.082: 0.9563, 0.085: 0.9562, 0.08800000000000001: 0.9558, 0.091: 0.9555, 0.094: 0.9552, 0.097: 0.9545, 0.1: 0.9542}\n",
            "{0.001: 0.9108, 0.004: 0.9355, 0.007: 0.9423, 0.010000000000000002: 0.9473, 0.013000000000000001: 0.9498, 0.016: 0.9516, 0.019000000000000003: 0.953, 0.022000000000000002: 0.9546, 0.025: 0.9556, 0.028: 0.956, 0.031: 0.9562, 0.034: 0.9564, 0.037000000000000005: 0.9564, 0.04: 0.957, 0.043000000000000003: 0.9571, 0.046: 0.9565, 0.049: 0.9564, 0.052000000000000005: 0.9566, 0.055: 0.9562, 0.058: 0.9565, 0.061: 0.9571, 0.064: 0.9567, 0.067: 0.9566, 0.07: 0.9563, 0.07300000000000001: 0.9562, 0.076: 0.9563, 0.079: 0.9562, 0.082: 0.9563, 0.085: 0.9562, 0.08800000000000001: 0.9558, 0.091: 0.9555, 0.094: 0.9552, 0.097: 0.9545, 0.1: 0.9542, 0.10300000000000001: 0.9536}\n",
            "{0.001: 0.9108, 0.004: 0.9355, 0.007: 0.9423, 0.010000000000000002: 0.9473, 0.013000000000000001: 0.9498, 0.016: 0.9516, 0.019000000000000003: 0.953, 0.022000000000000002: 0.9546, 0.025: 0.9556, 0.028: 0.956, 0.031: 0.9562, 0.034: 0.9564, 0.037000000000000005: 0.9564, 0.04: 0.957, 0.043000000000000003: 0.9571, 0.046: 0.9565, 0.049: 0.9564, 0.052000000000000005: 0.9566, 0.055: 0.9562, 0.058: 0.9565, 0.061: 0.9571, 0.064: 0.9567, 0.067: 0.9566, 0.07: 0.9563, 0.07300000000000001: 0.9562, 0.076: 0.9563, 0.079: 0.9562, 0.082: 0.9563, 0.085: 0.9562, 0.08800000000000001: 0.9558, 0.091: 0.9555, 0.094: 0.9552, 0.097: 0.9545, 0.1: 0.9542, 0.10300000000000001: 0.9536, 0.106: 0.9531}\n",
            "{0.001: 0.9108, 0.004: 0.9355, 0.007: 0.9423, 0.010000000000000002: 0.9473, 0.013000000000000001: 0.9498, 0.016: 0.9516, 0.019000000000000003: 0.953, 0.022000000000000002: 0.9546, 0.025: 0.9556, 0.028: 0.956, 0.031: 0.9562, 0.034: 0.9564, 0.037000000000000005: 0.9564, 0.04: 0.957, 0.043000000000000003: 0.9571, 0.046: 0.9565, 0.049: 0.9564, 0.052000000000000005: 0.9566, 0.055: 0.9562, 0.058: 0.9565, 0.061: 0.9571, 0.064: 0.9567, 0.067: 0.9566, 0.07: 0.9563, 0.07300000000000001: 0.9562, 0.076: 0.9563, 0.079: 0.9562, 0.082: 0.9563, 0.085: 0.9562, 0.08800000000000001: 0.9558, 0.091: 0.9555, 0.094: 0.9552, 0.097: 0.9545, 0.1: 0.9542, 0.10300000000000001: 0.9536, 0.106: 0.9531, 0.109: 0.9527}\n",
            "{0.001: 0.9108, 0.004: 0.9355, 0.007: 0.9423, 0.010000000000000002: 0.9473, 0.013000000000000001: 0.9498, 0.016: 0.9516, 0.019000000000000003: 0.953, 0.022000000000000002: 0.9546, 0.025: 0.9556, 0.028: 0.956, 0.031: 0.9562, 0.034: 0.9564, 0.037000000000000005: 0.9564, 0.04: 0.957, 0.043000000000000003: 0.9571, 0.046: 0.9565, 0.049: 0.9564, 0.052000000000000005: 0.9566, 0.055: 0.9562, 0.058: 0.9565, 0.061: 0.9571, 0.064: 0.9567, 0.067: 0.9566, 0.07: 0.9563, 0.07300000000000001: 0.9562, 0.076: 0.9563, 0.079: 0.9562, 0.082: 0.9563, 0.085: 0.9562, 0.08800000000000001: 0.9558, 0.091: 0.9555, 0.094: 0.9552, 0.097: 0.9545, 0.1: 0.9542, 0.10300000000000001: 0.9536, 0.106: 0.9531, 0.109: 0.9527, 0.112: 0.9525}\n",
            "{0.001: 0.9108, 0.004: 0.9355, 0.007: 0.9423, 0.010000000000000002: 0.9473, 0.013000000000000001: 0.9498, 0.016: 0.9516, 0.019000000000000003: 0.953, 0.022000000000000002: 0.9546, 0.025: 0.9556, 0.028: 0.956, 0.031: 0.9562, 0.034: 0.9564, 0.037000000000000005: 0.9564, 0.04: 0.957, 0.043000000000000003: 0.9571, 0.046: 0.9565, 0.049: 0.9564, 0.052000000000000005: 0.9566, 0.055: 0.9562, 0.058: 0.9565, 0.061: 0.9571, 0.064: 0.9567, 0.067: 0.9566, 0.07: 0.9563, 0.07300000000000001: 0.9562, 0.076: 0.9563, 0.079: 0.9562, 0.082: 0.9563, 0.085: 0.9562, 0.08800000000000001: 0.9558, 0.091: 0.9555, 0.094: 0.9552, 0.097: 0.9545, 0.1: 0.9542, 0.10300000000000001: 0.9536, 0.106: 0.9531, 0.109: 0.9527, 0.112: 0.9525, 0.115: 0.9524}\n",
            "{0.001: 0.9108, 0.004: 0.9355, 0.007: 0.9423, 0.010000000000000002: 0.9473, 0.013000000000000001: 0.9498, 0.016: 0.9516, 0.019000000000000003: 0.953, 0.022000000000000002: 0.9546, 0.025: 0.9556, 0.028: 0.956, 0.031: 0.9562, 0.034: 0.9564, 0.037000000000000005: 0.9564, 0.04: 0.957, 0.043000000000000003: 0.9571, 0.046: 0.9565, 0.049: 0.9564, 0.052000000000000005: 0.9566, 0.055: 0.9562, 0.058: 0.9565, 0.061: 0.9571, 0.064: 0.9567, 0.067: 0.9566, 0.07: 0.9563, 0.07300000000000001: 0.9562, 0.076: 0.9563, 0.079: 0.9562, 0.082: 0.9563, 0.085: 0.9562, 0.08800000000000001: 0.9558, 0.091: 0.9555, 0.094: 0.9552, 0.097: 0.9545, 0.1: 0.9542, 0.10300000000000001: 0.9536, 0.106: 0.9531, 0.109: 0.9527, 0.112: 0.9525, 0.115: 0.9524, 0.11800000000000001: 0.9522}\n",
            "{0.001: 0.9108, 0.004: 0.9355, 0.007: 0.9423, 0.010000000000000002: 0.9473, 0.013000000000000001: 0.9498, 0.016: 0.9516, 0.019000000000000003: 0.953, 0.022000000000000002: 0.9546, 0.025: 0.9556, 0.028: 0.956, 0.031: 0.9562, 0.034: 0.9564, 0.037000000000000005: 0.9564, 0.04: 0.957, 0.043000000000000003: 0.9571, 0.046: 0.9565, 0.049: 0.9564, 0.052000000000000005: 0.9566, 0.055: 0.9562, 0.058: 0.9565, 0.061: 0.9571, 0.064: 0.9567, 0.067: 0.9566, 0.07: 0.9563, 0.07300000000000001: 0.9562, 0.076: 0.9563, 0.079: 0.9562, 0.082: 0.9563, 0.085: 0.9562, 0.08800000000000001: 0.9558, 0.091: 0.9555, 0.094: 0.9552, 0.097: 0.9545, 0.1: 0.9542, 0.10300000000000001: 0.9536, 0.106: 0.9531, 0.109: 0.9527, 0.112: 0.9525, 0.115: 0.9524, 0.11800000000000001: 0.9522, 0.121: 0.9517}\n",
            "{0.001: 0.9108, 0.004: 0.9355, 0.007: 0.9423, 0.010000000000000002: 0.9473, 0.013000000000000001: 0.9498, 0.016: 0.9516, 0.019000000000000003: 0.953, 0.022000000000000002: 0.9546, 0.025: 0.9556, 0.028: 0.956, 0.031: 0.9562, 0.034: 0.9564, 0.037000000000000005: 0.9564, 0.04: 0.957, 0.043000000000000003: 0.9571, 0.046: 0.9565, 0.049: 0.9564, 0.052000000000000005: 0.9566, 0.055: 0.9562, 0.058: 0.9565, 0.061: 0.9571, 0.064: 0.9567, 0.067: 0.9566, 0.07: 0.9563, 0.07300000000000001: 0.9562, 0.076: 0.9563, 0.079: 0.9562, 0.082: 0.9563, 0.085: 0.9562, 0.08800000000000001: 0.9558, 0.091: 0.9555, 0.094: 0.9552, 0.097: 0.9545, 0.1: 0.9542, 0.10300000000000001: 0.9536, 0.106: 0.9531, 0.109: 0.9527, 0.112: 0.9525, 0.115: 0.9524, 0.11800000000000001: 0.9522, 0.121: 0.9517, 0.124: 0.9511}\n",
            "{0.001: 0.9108, 0.004: 0.9355, 0.007: 0.9423, 0.010000000000000002: 0.9473, 0.013000000000000001: 0.9498, 0.016: 0.9516, 0.019000000000000003: 0.953, 0.022000000000000002: 0.9546, 0.025: 0.9556, 0.028: 0.956, 0.031: 0.9562, 0.034: 0.9564, 0.037000000000000005: 0.9564, 0.04: 0.957, 0.043000000000000003: 0.9571, 0.046: 0.9565, 0.049: 0.9564, 0.052000000000000005: 0.9566, 0.055: 0.9562, 0.058: 0.9565, 0.061: 0.9571, 0.064: 0.9567, 0.067: 0.9566, 0.07: 0.9563, 0.07300000000000001: 0.9562, 0.076: 0.9563, 0.079: 0.9562, 0.082: 0.9563, 0.085: 0.9562, 0.08800000000000001: 0.9558, 0.091: 0.9555, 0.094: 0.9552, 0.097: 0.9545, 0.1: 0.9542, 0.10300000000000001: 0.9536, 0.106: 0.9531, 0.109: 0.9527, 0.112: 0.9525, 0.115: 0.9524, 0.11800000000000001: 0.9522, 0.121: 0.9517, 0.124: 0.9511, 0.127: 0.9507}\n",
            "{0.001: 0.9108, 0.004: 0.9355, 0.007: 0.9423, 0.010000000000000002: 0.9473, 0.013000000000000001: 0.9498, 0.016: 0.9516, 0.019000000000000003: 0.953, 0.022000000000000002: 0.9546, 0.025: 0.9556, 0.028: 0.956, 0.031: 0.9562, 0.034: 0.9564, 0.037000000000000005: 0.9564, 0.04: 0.957, 0.043000000000000003: 0.9571, 0.046: 0.9565, 0.049: 0.9564, 0.052000000000000005: 0.9566, 0.055: 0.9562, 0.058: 0.9565, 0.061: 0.9571, 0.064: 0.9567, 0.067: 0.9566, 0.07: 0.9563, 0.07300000000000001: 0.9562, 0.076: 0.9563, 0.079: 0.9562, 0.082: 0.9563, 0.085: 0.9562, 0.08800000000000001: 0.9558, 0.091: 0.9555, 0.094: 0.9552, 0.097: 0.9545, 0.1: 0.9542, 0.10300000000000001: 0.9536, 0.106: 0.9531, 0.109: 0.9527, 0.112: 0.9525, 0.115: 0.9524, 0.11800000000000001: 0.9522, 0.121: 0.9517, 0.124: 0.9511, 0.127: 0.9507, 0.13: 0.9503}\n",
            "{0.001: 0.9108, 0.004: 0.9355, 0.007: 0.9423, 0.010000000000000002: 0.9473, 0.013000000000000001: 0.9498, 0.016: 0.9516, 0.019000000000000003: 0.953, 0.022000000000000002: 0.9546, 0.025: 0.9556, 0.028: 0.956, 0.031: 0.9562, 0.034: 0.9564, 0.037000000000000005: 0.9564, 0.04: 0.957, 0.043000000000000003: 0.9571, 0.046: 0.9565, 0.049: 0.9564, 0.052000000000000005: 0.9566, 0.055: 0.9562, 0.058: 0.9565, 0.061: 0.9571, 0.064: 0.9567, 0.067: 0.9566, 0.07: 0.9563, 0.07300000000000001: 0.9562, 0.076: 0.9563, 0.079: 0.9562, 0.082: 0.9563, 0.085: 0.9562, 0.08800000000000001: 0.9558, 0.091: 0.9555, 0.094: 0.9552, 0.097: 0.9545, 0.1: 0.9542, 0.10300000000000001: 0.9536, 0.106: 0.9531, 0.109: 0.9527, 0.112: 0.9525, 0.115: 0.9524, 0.11800000000000001: 0.9522, 0.121: 0.9517, 0.124: 0.9511, 0.127: 0.9507, 0.13: 0.9503, 0.133: 0.9505}\n",
            "{0.001: 0.9108, 0.004: 0.9355, 0.007: 0.9423, 0.010000000000000002: 0.9473, 0.013000000000000001: 0.9498, 0.016: 0.9516, 0.019000000000000003: 0.953, 0.022000000000000002: 0.9546, 0.025: 0.9556, 0.028: 0.956, 0.031: 0.9562, 0.034: 0.9564, 0.037000000000000005: 0.9564, 0.04: 0.957, 0.043000000000000003: 0.9571, 0.046: 0.9565, 0.049: 0.9564, 0.052000000000000005: 0.9566, 0.055: 0.9562, 0.058: 0.9565, 0.061: 0.9571, 0.064: 0.9567, 0.067: 0.9566, 0.07: 0.9563, 0.07300000000000001: 0.9562, 0.076: 0.9563, 0.079: 0.9562, 0.082: 0.9563, 0.085: 0.9562, 0.08800000000000001: 0.9558, 0.091: 0.9555, 0.094: 0.9552, 0.097: 0.9545, 0.1: 0.9542, 0.10300000000000001: 0.9536, 0.106: 0.9531, 0.109: 0.9527, 0.112: 0.9525, 0.115: 0.9524, 0.11800000000000001: 0.9522, 0.121: 0.9517, 0.124: 0.9511, 0.127: 0.9507, 0.13: 0.9503, 0.133: 0.9505, 0.136: 0.9504}\n",
            "{0.001: 0.9108, 0.004: 0.9355, 0.007: 0.9423, 0.010000000000000002: 0.9473, 0.013000000000000001: 0.9498, 0.016: 0.9516, 0.019000000000000003: 0.953, 0.022000000000000002: 0.9546, 0.025: 0.9556, 0.028: 0.956, 0.031: 0.9562, 0.034: 0.9564, 0.037000000000000005: 0.9564, 0.04: 0.957, 0.043000000000000003: 0.9571, 0.046: 0.9565, 0.049: 0.9564, 0.052000000000000005: 0.9566, 0.055: 0.9562, 0.058: 0.9565, 0.061: 0.9571, 0.064: 0.9567, 0.067: 0.9566, 0.07: 0.9563, 0.07300000000000001: 0.9562, 0.076: 0.9563, 0.079: 0.9562, 0.082: 0.9563, 0.085: 0.9562, 0.08800000000000001: 0.9558, 0.091: 0.9555, 0.094: 0.9552, 0.097: 0.9545, 0.1: 0.9542, 0.10300000000000001: 0.9536, 0.106: 0.9531, 0.109: 0.9527, 0.112: 0.9525, 0.115: 0.9524, 0.11800000000000001: 0.9522, 0.121: 0.9517, 0.124: 0.9511, 0.127: 0.9507, 0.13: 0.9503, 0.133: 0.9505, 0.136: 0.9504, 0.139: 0.95}\n",
            "{0.001: 0.9108, 0.004: 0.9355, 0.007: 0.9423, 0.010000000000000002: 0.9473, 0.013000000000000001: 0.9498, 0.016: 0.9516, 0.019000000000000003: 0.953, 0.022000000000000002: 0.9546, 0.025: 0.9556, 0.028: 0.956, 0.031: 0.9562, 0.034: 0.9564, 0.037000000000000005: 0.9564, 0.04: 0.957, 0.043000000000000003: 0.9571, 0.046: 0.9565, 0.049: 0.9564, 0.052000000000000005: 0.9566, 0.055: 0.9562, 0.058: 0.9565, 0.061: 0.9571, 0.064: 0.9567, 0.067: 0.9566, 0.07: 0.9563, 0.07300000000000001: 0.9562, 0.076: 0.9563, 0.079: 0.9562, 0.082: 0.9563, 0.085: 0.9562, 0.08800000000000001: 0.9558, 0.091: 0.9555, 0.094: 0.9552, 0.097: 0.9545, 0.1: 0.9542, 0.10300000000000001: 0.9536, 0.106: 0.9531, 0.109: 0.9527, 0.112: 0.9525, 0.115: 0.9524, 0.11800000000000001: 0.9522, 0.121: 0.9517, 0.124: 0.9511, 0.127: 0.9507, 0.13: 0.9503, 0.133: 0.9505, 0.136: 0.9504, 0.139: 0.95, 0.14200000000000002: 0.9499}\n",
            "{0.001: 0.9108, 0.004: 0.9355, 0.007: 0.9423, 0.010000000000000002: 0.9473, 0.013000000000000001: 0.9498, 0.016: 0.9516, 0.019000000000000003: 0.953, 0.022000000000000002: 0.9546, 0.025: 0.9556, 0.028: 0.956, 0.031: 0.9562, 0.034: 0.9564, 0.037000000000000005: 0.9564, 0.04: 0.957, 0.043000000000000003: 0.9571, 0.046: 0.9565, 0.049: 0.9564, 0.052000000000000005: 0.9566, 0.055: 0.9562, 0.058: 0.9565, 0.061: 0.9571, 0.064: 0.9567, 0.067: 0.9566, 0.07: 0.9563, 0.07300000000000001: 0.9562, 0.076: 0.9563, 0.079: 0.9562, 0.082: 0.9563, 0.085: 0.9562, 0.08800000000000001: 0.9558, 0.091: 0.9555, 0.094: 0.9552, 0.097: 0.9545, 0.1: 0.9542, 0.10300000000000001: 0.9536, 0.106: 0.9531, 0.109: 0.9527, 0.112: 0.9525, 0.115: 0.9524, 0.11800000000000001: 0.9522, 0.121: 0.9517, 0.124: 0.9511, 0.127: 0.9507, 0.13: 0.9503, 0.133: 0.9505, 0.136: 0.9504, 0.139: 0.95, 0.14200000000000002: 0.9499, 0.14500000000000002: 0.9495}\n",
            "{0.001: 0.9108, 0.004: 0.9355, 0.007: 0.9423, 0.010000000000000002: 0.9473, 0.013000000000000001: 0.9498, 0.016: 0.9516, 0.019000000000000003: 0.953, 0.022000000000000002: 0.9546, 0.025: 0.9556, 0.028: 0.956, 0.031: 0.9562, 0.034: 0.9564, 0.037000000000000005: 0.9564, 0.04: 0.957, 0.043000000000000003: 0.9571, 0.046: 0.9565, 0.049: 0.9564, 0.052000000000000005: 0.9566, 0.055: 0.9562, 0.058: 0.9565, 0.061: 0.9571, 0.064: 0.9567, 0.067: 0.9566, 0.07: 0.9563, 0.07300000000000001: 0.9562, 0.076: 0.9563, 0.079: 0.9562, 0.082: 0.9563, 0.085: 0.9562, 0.08800000000000001: 0.9558, 0.091: 0.9555, 0.094: 0.9552, 0.097: 0.9545, 0.1: 0.9542, 0.10300000000000001: 0.9536, 0.106: 0.9531, 0.109: 0.9527, 0.112: 0.9525, 0.115: 0.9524, 0.11800000000000001: 0.9522, 0.121: 0.9517, 0.124: 0.9511, 0.127: 0.9507, 0.13: 0.9503, 0.133: 0.9505, 0.136: 0.9504, 0.139: 0.95, 0.14200000000000002: 0.9499, 0.14500000000000002: 0.9495, 0.148: 0.9494}\n",
            "{0.001: 0.9108, 0.004: 0.9355, 0.007: 0.9423, 0.010000000000000002: 0.9473, 0.013000000000000001: 0.9498, 0.016: 0.9516, 0.019000000000000003: 0.953, 0.022000000000000002: 0.9546, 0.025: 0.9556, 0.028: 0.956, 0.031: 0.9562, 0.034: 0.9564, 0.037000000000000005: 0.9564, 0.04: 0.957, 0.043000000000000003: 0.9571, 0.046: 0.9565, 0.049: 0.9564, 0.052000000000000005: 0.9566, 0.055: 0.9562, 0.058: 0.9565, 0.061: 0.9571, 0.064: 0.9567, 0.067: 0.9566, 0.07: 0.9563, 0.07300000000000001: 0.9562, 0.076: 0.9563, 0.079: 0.9562, 0.082: 0.9563, 0.085: 0.9562, 0.08800000000000001: 0.9558, 0.091: 0.9555, 0.094: 0.9552, 0.097: 0.9545, 0.1: 0.9542, 0.10300000000000001: 0.9536, 0.106: 0.9531, 0.109: 0.9527, 0.112: 0.9525, 0.115: 0.9524, 0.11800000000000001: 0.9522, 0.121: 0.9517, 0.124: 0.9511, 0.127: 0.9507, 0.13: 0.9503, 0.133: 0.9505, 0.136: 0.9504, 0.139: 0.95, 0.14200000000000002: 0.9499, 0.14500000000000002: 0.9495, 0.148: 0.9494, 0.151: 0.9492}\n",
            "{0.001: 0.9108, 0.004: 0.9355, 0.007: 0.9423, 0.010000000000000002: 0.9473, 0.013000000000000001: 0.9498, 0.016: 0.9516, 0.019000000000000003: 0.953, 0.022000000000000002: 0.9546, 0.025: 0.9556, 0.028: 0.956, 0.031: 0.9562, 0.034: 0.9564, 0.037000000000000005: 0.9564, 0.04: 0.957, 0.043000000000000003: 0.9571, 0.046: 0.9565, 0.049: 0.9564, 0.052000000000000005: 0.9566, 0.055: 0.9562, 0.058: 0.9565, 0.061: 0.9571, 0.064: 0.9567, 0.067: 0.9566, 0.07: 0.9563, 0.07300000000000001: 0.9562, 0.076: 0.9563, 0.079: 0.9562, 0.082: 0.9563, 0.085: 0.9562, 0.08800000000000001: 0.9558, 0.091: 0.9555, 0.094: 0.9552, 0.097: 0.9545, 0.1: 0.9542, 0.10300000000000001: 0.9536, 0.106: 0.9531, 0.109: 0.9527, 0.112: 0.9525, 0.115: 0.9524, 0.11800000000000001: 0.9522, 0.121: 0.9517, 0.124: 0.9511, 0.127: 0.9507, 0.13: 0.9503, 0.133: 0.9505, 0.136: 0.9504, 0.139: 0.95, 0.14200000000000002: 0.9499, 0.14500000000000002: 0.9495, 0.148: 0.9494, 0.151: 0.9492, 0.154: 0.9491}\n",
            "{0.001: 0.9108, 0.004: 0.9355, 0.007: 0.9423, 0.010000000000000002: 0.9473, 0.013000000000000001: 0.9498, 0.016: 0.9516, 0.019000000000000003: 0.953, 0.022000000000000002: 0.9546, 0.025: 0.9556, 0.028: 0.956, 0.031: 0.9562, 0.034: 0.9564, 0.037000000000000005: 0.9564, 0.04: 0.957, 0.043000000000000003: 0.9571, 0.046: 0.9565, 0.049: 0.9564, 0.052000000000000005: 0.9566, 0.055: 0.9562, 0.058: 0.9565, 0.061: 0.9571, 0.064: 0.9567, 0.067: 0.9566, 0.07: 0.9563, 0.07300000000000001: 0.9562, 0.076: 0.9563, 0.079: 0.9562, 0.082: 0.9563, 0.085: 0.9562, 0.08800000000000001: 0.9558, 0.091: 0.9555, 0.094: 0.9552, 0.097: 0.9545, 0.1: 0.9542, 0.10300000000000001: 0.9536, 0.106: 0.9531, 0.109: 0.9527, 0.112: 0.9525, 0.115: 0.9524, 0.11800000000000001: 0.9522, 0.121: 0.9517, 0.124: 0.9511, 0.127: 0.9507, 0.13: 0.9503, 0.133: 0.9505, 0.136: 0.9504, 0.139: 0.95, 0.14200000000000002: 0.9499, 0.14500000000000002: 0.9495, 0.148: 0.9494, 0.151: 0.9492, 0.154: 0.9491, 0.157: 0.9485}\n",
            "{0.001: 0.9108, 0.004: 0.9355, 0.007: 0.9423, 0.010000000000000002: 0.9473, 0.013000000000000001: 0.9498, 0.016: 0.9516, 0.019000000000000003: 0.953, 0.022000000000000002: 0.9546, 0.025: 0.9556, 0.028: 0.956, 0.031: 0.9562, 0.034: 0.9564, 0.037000000000000005: 0.9564, 0.04: 0.957, 0.043000000000000003: 0.9571, 0.046: 0.9565, 0.049: 0.9564, 0.052000000000000005: 0.9566, 0.055: 0.9562, 0.058: 0.9565, 0.061: 0.9571, 0.064: 0.9567, 0.067: 0.9566, 0.07: 0.9563, 0.07300000000000001: 0.9562, 0.076: 0.9563, 0.079: 0.9562, 0.082: 0.9563, 0.085: 0.9562, 0.08800000000000001: 0.9558, 0.091: 0.9555, 0.094: 0.9552, 0.097: 0.9545, 0.1: 0.9542, 0.10300000000000001: 0.9536, 0.106: 0.9531, 0.109: 0.9527, 0.112: 0.9525, 0.115: 0.9524, 0.11800000000000001: 0.9522, 0.121: 0.9517, 0.124: 0.9511, 0.127: 0.9507, 0.13: 0.9503, 0.133: 0.9505, 0.136: 0.9504, 0.139: 0.95, 0.14200000000000002: 0.9499, 0.14500000000000002: 0.9495, 0.148: 0.9494, 0.151: 0.9492, 0.154: 0.9491, 0.157: 0.9485, 0.16: 0.9483}\n",
            "{0.001: 0.9108, 0.004: 0.9355, 0.007: 0.9423, 0.010000000000000002: 0.9473, 0.013000000000000001: 0.9498, 0.016: 0.9516, 0.019000000000000003: 0.953, 0.022000000000000002: 0.9546, 0.025: 0.9556, 0.028: 0.956, 0.031: 0.9562, 0.034: 0.9564, 0.037000000000000005: 0.9564, 0.04: 0.957, 0.043000000000000003: 0.9571, 0.046: 0.9565, 0.049: 0.9564, 0.052000000000000005: 0.9566, 0.055: 0.9562, 0.058: 0.9565, 0.061: 0.9571, 0.064: 0.9567, 0.067: 0.9566, 0.07: 0.9563, 0.07300000000000001: 0.9562, 0.076: 0.9563, 0.079: 0.9562, 0.082: 0.9563, 0.085: 0.9562, 0.08800000000000001: 0.9558, 0.091: 0.9555, 0.094: 0.9552, 0.097: 0.9545, 0.1: 0.9542, 0.10300000000000001: 0.9536, 0.106: 0.9531, 0.109: 0.9527, 0.112: 0.9525, 0.115: 0.9524, 0.11800000000000001: 0.9522, 0.121: 0.9517, 0.124: 0.9511, 0.127: 0.9507, 0.13: 0.9503, 0.133: 0.9505, 0.136: 0.9504, 0.139: 0.95, 0.14200000000000002: 0.9499, 0.14500000000000002: 0.9495, 0.148: 0.9494, 0.151: 0.9492, 0.154: 0.9491, 0.157: 0.9485, 0.16: 0.9483, 0.163: 0.9479}\n",
            "{0.001: 0.9108, 0.004: 0.9355, 0.007: 0.9423, 0.010000000000000002: 0.9473, 0.013000000000000001: 0.9498, 0.016: 0.9516, 0.019000000000000003: 0.953, 0.022000000000000002: 0.9546, 0.025: 0.9556, 0.028: 0.956, 0.031: 0.9562, 0.034: 0.9564, 0.037000000000000005: 0.9564, 0.04: 0.957, 0.043000000000000003: 0.9571, 0.046: 0.9565, 0.049: 0.9564, 0.052000000000000005: 0.9566, 0.055: 0.9562, 0.058: 0.9565, 0.061: 0.9571, 0.064: 0.9567, 0.067: 0.9566, 0.07: 0.9563, 0.07300000000000001: 0.9562, 0.076: 0.9563, 0.079: 0.9562, 0.082: 0.9563, 0.085: 0.9562, 0.08800000000000001: 0.9558, 0.091: 0.9555, 0.094: 0.9552, 0.097: 0.9545, 0.1: 0.9542, 0.10300000000000001: 0.9536, 0.106: 0.9531, 0.109: 0.9527, 0.112: 0.9525, 0.115: 0.9524, 0.11800000000000001: 0.9522, 0.121: 0.9517, 0.124: 0.9511, 0.127: 0.9507, 0.13: 0.9503, 0.133: 0.9505, 0.136: 0.9504, 0.139: 0.95, 0.14200000000000002: 0.9499, 0.14500000000000002: 0.9495, 0.148: 0.9494, 0.151: 0.9492, 0.154: 0.9491, 0.157: 0.9485, 0.16: 0.9483, 0.163: 0.9479, 0.166: 0.9475}\n",
            "{0.001: 0.9108, 0.004: 0.9355, 0.007: 0.9423, 0.010000000000000002: 0.9473, 0.013000000000000001: 0.9498, 0.016: 0.9516, 0.019000000000000003: 0.953, 0.022000000000000002: 0.9546, 0.025: 0.9556, 0.028: 0.956, 0.031: 0.9562, 0.034: 0.9564, 0.037000000000000005: 0.9564, 0.04: 0.957, 0.043000000000000003: 0.9571, 0.046: 0.9565, 0.049: 0.9564, 0.052000000000000005: 0.9566, 0.055: 0.9562, 0.058: 0.9565, 0.061: 0.9571, 0.064: 0.9567, 0.067: 0.9566, 0.07: 0.9563, 0.07300000000000001: 0.9562, 0.076: 0.9563, 0.079: 0.9562, 0.082: 0.9563, 0.085: 0.9562, 0.08800000000000001: 0.9558, 0.091: 0.9555, 0.094: 0.9552, 0.097: 0.9545, 0.1: 0.9542, 0.10300000000000001: 0.9536, 0.106: 0.9531, 0.109: 0.9527, 0.112: 0.9525, 0.115: 0.9524, 0.11800000000000001: 0.9522, 0.121: 0.9517, 0.124: 0.9511, 0.127: 0.9507, 0.13: 0.9503, 0.133: 0.9505, 0.136: 0.9504, 0.139: 0.95, 0.14200000000000002: 0.9499, 0.14500000000000002: 0.9495, 0.148: 0.9494, 0.151: 0.9492, 0.154: 0.9491, 0.157: 0.9485, 0.16: 0.9483, 0.163: 0.9479, 0.166: 0.9475, 0.169: 0.9473}\n",
            "{0.001: 0.9108, 0.004: 0.9355, 0.007: 0.9423, 0.010000000000000002: 0.9473, 0.013000000000000001: 0.9498, 0.016: 0.9516, 0.019000000000000003: 0.953, 0.022000000000000002: 0.9546, 0.025: 0.9556, 0.028: 0.956, 0.031: 0.9562, 0.034: 0.9564, 0.037000000000000005: 0.9564, 0.04: 0.957, 0.043000000000000003: 0.9571, 0.046: 0.9565, 0.049: 0.9564, 0.052000000000000005: 0.9566, 0.055: 0.9562, 0.058: 0.9565, 0.061: 0.9571, 0.064: 0.9567, 0.067: 0.9566, 0.07: 0.9563, 0.07300000000000001: 0.9562, 0.076: 0.9563, 0.079: 0.9562, 0.082: 0.9563, 0.085: 0.9562, 0.08800000000000001: 0.9558, 0.091: 0.9555, 0.094: 0.9552, 0.097: 0.9545, 0.1: 0.9542, 0.10300000000000001: 0.9536, 0.106: 0.9531, 0.109: 0.9527, 0.112: 0.9525, 0.115: 0.9524, 0.11800000000000001: 0.9522, 0.121: 0.9517, 0.124: 0.9511, 0.127: 0.9507, 0.13: 0.9503, 0.133: 0.9505, 0.136: 0.9504, 0.139: 0.95, 0.14200000000000002: 0.9499, 0.14500000000000002: 0.9495, 0.148: 0.9494, 0.151: 0.9492, 0.154: 0.9491, 0.157: 0.9485, 0.16: 0.9483, 0.163: 0.9479, 0.166: 0.9475, 0.169: 0.9473, 0.17200000000000001: 0.9474}\n",
            "{0.001: 0.9108, 0.004: 0.9355, 0.007: 0.9423, 0.010000000000000002: 0.9473, 0.013000000000000001: 0.9498, 0.016: 0.9516, 0.019000000000000003: 0.953, 0.022000000000000002: 0.9546, 0.025: 0.9556, 0.028: 0.956, 0.031: 0.9562, 0.034: 0.9564, 0.037000000000000005: 0.9564, 0.04: 0.957, 0.043000000000000003: 0.9571, 0.046: 0.9565, 0.049: 0.9564, 0.052000000000000005: 0.9566, 0.055: 0.9562, 0.058: 0.9565, 0.061: 0.9571, 0.064: 0.9567, 0.067: 0.9566, 0.07: 0.9563, 0.07300000000000001: 0.9562, 0.076: 0.9563, 0.079: 0.9562, 0.082: 0.9563, 0.085: 0.9562, 0.08800000000000001: 0.9558, 0.091: 0.9555, 0.094: 0.9552, 0.097: 0.9545, 0.1: 0.9542, 0.10300000000000001: 0.9536, 0.106: 0.9531, 0.109: 0.9527, 0.112: 0.9525, 0.115: 0.9524, 0.11800000000000001: 0.9522, 0.121: 0.9517, 0.124: 0.9511, 0.127: 0.9507, 0.13: 0.9503, 0.133: 0.9505, 0.136: 0.9504, 0.139: 0.95, 0.14200000000000002: 0.9499, 0.14500000000000002: 0.9495, 0.148: 0.9494, 0.151: 0.9492, 0.154: 0.9491, 0.157: 0.9485, 0.16: 0.9483, 0.163: 0.9479, 0.166: 0.9475, 0.169: 0.9473, 0.17200000000000001: 0.9474, 0.17500000000000002: 0.9473}\n",
            "{0.001: 0.9108, 0.004: 0.9355, 0.007: 0.9423, 0.010000000000000002: 0.9473, 0.013000000000000001: 0.9498, 0.016: 0.9516, 0.019000000000000003: 0.953, 0.022000000000000002: 0.9546, 0.025: 0.9556, 0.028: 0.956, 0.031: 0.9562, 0.034: 0.9564, 0.037000000000000005: 0.9564, 0.04: 0.957, 0.043000000000000003: 0.9571, 0.046: 0.9565, 0.049: 0.9564, 0.052000000000000005: 0.9566, 0.055: 0.9562, 0.058: 0.9565, 0.061: 0.9571, 0.064: 0.9567, 0.067: 0.9566, 0.07: 0.9563, 0.07300000000000001: 0.9562, 0.076: 0.9563, 0.079: 0.9562, 0.082: 0.9563, 0.085: 0.9562, 0.08800000000000001: 0.9558, 0.091: 0.9555, 0.094: 0.9552, 0.097: 0.9545, 0.1: 0.9542, 0.10300000000000001: 0.9536, 0.106: 0.9531, 0.109: 0.9527, 0.112: 0.9525, 0.115: 0.9524, 0.11800000000000001: 0.9522, 0.121: 0.9517, 0.124: 0.9511, 0.127: 0.9507, 0.13: 0.9503, 0.133: 0.9505, 0.136: 0.9504, 0.139: 0.95, 0.14200000000000002: 0.9499, 0.14500000000000002: 0.9495, 0.148: 0.9494, 0.151: 0.9492, 0.154: 0.9491, 0.157: 0.9485, 0.16: 0.9483, 0.163: 0.9479, 0.166: 0.9475, 0.169: 0.9473, 0.17200000000000001: 0.9474, 0.17500000000000002: 0.9473, 0.178: 0.9469}\n",
            "{0.001: 0.9108, 0.004: 0.9355, 0.007: 0.9423, 0.010000000000000002: 0.9473, 0.013000000000000001: 0.9498, 0.016: 0.9516, 0.019000000000000003: 0.953, 0.022000000000000002: 0.9546, 0.025: 0.9556, 0.028: 0.956, 0.031: 0.9562, 0.034: 0.9564, 0.037000000000000005: 0.9564, 0.04: 0.957, 0.043000000000000003: 0.9571, 0.046: 0.9565, 0.049: 0.9564, 0.052000000000000005: 0.9566, 0.055: 0.9562, 0.058: 0.9565, 0.061: 0.9571, 0.064: 0.9567, 0.067: 0.9566, 0.07: 0.9563, 0.07300000000000001: 0.9562, 0.076: 0.9563, 0.079: 0.9562, 0.082: 0.9563, 0.085: 0.9562, 0.08800000000000001: 0.9558, 0.091: 0.9555, 0.094: 0.9552, 0.097: 0.9545, 0.1: 0.9542, 0.10300000000000001: 0.9536, 0.106: 0.9531, 0.109: 0.9527, 0.112: 0.9525, 0.115: 0.9524, 0.11800000000000001: 0.9522, 0.121: 0.9517, 0.124: 0.9511, 0.127: 0.9507, 0.13: 0.9503, 0.133: 0.9505, 0.136: 0.9504, 0.139: 0.95, 0.14200000000000002: 0.9499, 0.14500000000000002: 0.9495, 0.148: 0.9494, 0.151: 0.9492, 0.154: 0.9491, 0.157: 0.9485, 0.16: 0.9483, 0.163: 0.9479, 0.166: 0.9475, 0.169: 0.9473, 0.17200000000000001: 0.9474, 0.17500000000000002: 0.9473, 0.178: 0.9469, 0.181: 0.9467}\n",
            "{0.001: 0.9108, 0.004: 0.9355, 0.007: 0.9423, 0.010000000000000002: 0.9473, 0.013000000000000001: 0.9498, 0.016: 0.9516, 0.019000000000000003: 0.953, 0.022000000000000002: 0.9546, 0.025: 0.9556, 0.028: 0.956, 0.031: 0.9562, 0.034: 0.9564, 0.037000000000000005: 0.9564, 0.04: 0.957, 0.043000000000000003: 0.9571, 0.046: 0.9565, 0.049: 0.9564, 0.052000000000000005: 0.9566, 0.055: 0.9562, 0.058: 0.9565, 0.061: 0.9571, 0.064: 0.9567, 0.067: 0.9566, 0.07: 0.9563, 0.07300000000000001: 0.9562, 0.076: 0.9563, 0.079: 0.9562, 0.082: 0.9563, 0.085: 0.9562, 0.08800000000000001: 0.9558, 0.091: 0.9555, 0.094: 0.9552, 0.097: 0.9545, 0.1: 0.9542, 0.10300000000000001: 0.9536, 0.106: 0.9531, 0.109: 0.9527, 0.112: 0.9525, 0.115: 0.9524, 0.11800000000000001: 0.9522, 0.121: 0.9517, 0.124: 0.9511, 0.127: 0.9507, 0.13: 0.9503, 0.133: 0.9505, 0.136: 0.9504, 0.139: 0.95, 0.14200000000000002: 0.9499, 0.14500000000000002: 0.9495, 0.148: 0.9494, 0.151: 0.9492, 0.154: 0.9491, 0.157: 0.9485, 0.16: 0.9483, 0.163: 0.9479, 0.166: 0.9475, 0.169: 0.9473, 0.17200000000000001: 0.9474, 0.17500000000000002: 0.9473, 0.178: 0.9469, 0.181: 0.9467, 0.184: 0.9465}\n",
            "{0.001: 0.9108, 0.004: 0.9355, 0.007: 0.9423, 0.010000000000000002: 0.9473, 0.013000000000000001: 0.9498, 0.016: 0.9516, 0.019000000000000003: 0.953, 0.022000000000000002: 0.9546, 0.025: 0.9556, 0.028: 0.956, 0.031: 0.9562, 0.034: 0.9564, 0.037000000000000005: 0.9564, 0.04: 0.957, 0.043000000000000003: 0.9571, 0.046: 0.9565, 0.049: 0.9564, 0.052000000000000005: 0.9566, 0.055: 0.9562, 0.058: 0.9565, 0.061: 0.9571, 0.064: 0.9567, 0.067: 0.9566, 0.07: 0.9563, 0.07300000000000001: 0.9562, 0.076: 0.9563, 0.079: 0.9562, 0.082: 0.9563, 0.085: 0.9562, 0.08800000000000001: 0.9558, 0.091: 0.9555, 0.094: 0.9552, 0.097: 0.9545, 0.1: 0.9542, 0.10300000000000001: 0.9536, 0.106: 0.9531, 0.109: 0.9527, 0.112: 0.9525, 0.115: 0.9524, 0.11800000000000001: 0.9522, 0.121: 0.9517, 0.124: 0.9511, 0.127: 0.9507, 0.13: 0.9503, 0.133: 0.9505, 0.136: 0.9504, 0.139: 0.95, 0.14200000000000002: 0.9499, 0.14500000000000002: 0.9495, 0.148: 0.9494, 0.151: 0.9492, 0.154: 0.9491, 0.157: 0.9485, 0.16: 0.9483, 0.163: 0.9479, 0.166: 0.9475, 0.169: 0.9473, 0.17200000000000001: 0.9474, 0.17500000000000002: 0.9473, 0.178: 0.9469, 0.181: 0.9467, 0.184: 0.9465, 0.187: 0.9464}\n",
            "{0.001: 0.9108, 0.004: 0.9355, 0.007: 0.9423, 0.010000000000000002: 0.9473, 0.013000000000000001: 0.9498, 0.016: 0.9516, 0.019000000000000003: 0.953, 0.022000000000000002: 0.9546, 0.025: 0.9556, 0.028: 0.956, 0.031: 0.9562, 0.034: 0.9564, 0.037000000000000005: 0.9564, 0.04: 0.957, 0.043000000000000003: 0.9571, 0.046: 0.9565, 0.049: 0.9564, 0.052000000000000005: 0.9566, 0.055: 0.9562, 0.058: 0.9565, 0.061: 0.9571, 0.064: 0.9567, 0.067: 0.9566, 0.07: 0.9563, 0.07300000000000001: 0.9562, 0.076: 0.9563, 0.079: 0.9562, 0.082: 0.9563, 0.085: 0.9562, 0.08800000000000001: 0.9558, 0.091: 0.9555, 0.094: 0.9552, 0.097: 0.9545, 0.1: 0.9542, 0.10300000000000001: 0.9536, 0.106: 0.9531, 0.109: 0.9527, 0.112: 0.9525, 0.115: 0.9524, 0.11800000000000001: 0.9522, 0.121: 0.9517, 0.124: 0.9511, 0.127: 0.9507, 0.13: 0.9503, 0.133: 0.9505, 0.136: 0.9504, 0.139: 0.95, 0.14200000000000002: 0.9499, 0.14500000000000002: 0.9495, 0.148: 0.9494, 0.151: 0.9492, 0.154: 0.9491, 0.157: 0.9485, 0.16: 0.9483, 0.163: 0.9479, 0.166: 0.9475, 0.169: 0.9473, 0.17200000000000001: 0.9474, 0.17500000000000002: 0.9473, 0.178: 0.9469, 0.181: 0.9467, 0.184: 0.9465, 0.187: 0.9464, 0.19: 0.9465}\n",
            "{0.001: 0.9108, 0.004: 0.9355, 0.007: 0.9423, 0.010000000000000002: 0.9473, 0.013000000000000001: 0.9498, 0.016: 0.9516, 0.019000000000000003: 0.953, 0.022000000000000002: 0.9546, 0.025: 0.9556, 0.028: 0.956, 0.031: 0.9562, 0.034: 0.9564, 0.037000000000000005: 0.9564, 0.04: 0.957, 0.043000000000000003: 0.9571, 0.046: 0.9565, 0.049: 0.9564, 0.052000000000000005: 0.9566, 0.055: 0.9562, 0.058: 0.9565, 0.061: 0.9571, 0.064: 0.9567, 0.067: 0.9566, 0.07: 0.9563, 0.07300000000000001: 0.9562, 0.076: 0.9563, 0.079: 0.9562, 0.082: 0.9563, 0.085: 0.9562, 0.08800000000000001: 0.9558, 0.091: 0.9555, 0.094: 0.9552, 0.097: 0.9545, 0.1: 0.9542, 0.10300000000000001: 0.9536, 0.106: 0.9531, 0.109: 0.9527, 0.112: 0.9525, 0.115: 0.9524, 0.11800000000000001: 0.9522, 0.121: 0.9517, 0.124: 0.9511, 0.127: 0.9507, 0.13: 0.9503, 0.133: 0.9505, 0.136: 0.9504, 0.139: 0.95, 0.14200000000000002: 0.9499, 0.14500000000000002: 0.9495, 0.148: 0.9494, 0.151: 0.9492, 0.154: 0.9491, 0.157: 0.9485, 0.16: 0.9483, 0.163: 0.9479, 0.166: 0.9475, 0.169: 0.9473, 0.17200000000000001: 0.9474, 0.17500000000000002: 0.9473, 0.178: 0.9469, 0.181: 0.9467, 0.184: 0.9465, 0.187: 0.9464, 0.19: 0.9465, 0.193: 0.9464}\n",
            "{0.001: 0.9108, 0.004: 0.9355, 0.007: 0.9423, 0.010000000000000002: 0.9473, 0.013000000000000001: 0.9498, 0.016: 0.9516, 0.019000000000000003: 0.953, 0.022000000000000002: 0.9546, 0.025: 0.9556, 0.028: 0.956, 0.031: 0.9562, 0.034: 0.9564, 0.037000000000000005: 0.9564, 0.04: 0.957, 0.043000000000000003: 0.9571, 0.046: 0.9565, 0.049: 0.9564, 0.052000000000000005: 0.9566, 0.055: 0.9562, 0.058: 0.9565, 0.061: 0.9571, 0.064: 0.9567, 0.067: 0.9566, 0.07: 0.9563, 0.07300000000000001: 0.9562, 0.076: 0.9563, 0.079: 0.9562, 0.082: 0.9563, 0.085: 0.9562, 0.08800000000000001: 0.9558, 0.091: 0.9555, 0.094: 0.9552, 0.097: 0.9545, 0.1: 0.9542, 0.10300000000000001: 0.9536, 0.106: 0.9531, 0.109: 0.9527, 0.112: 0.9525, 0.115: 0.9524, 0.11800000000000001: 0.9522, 0.121: 0.9517, 0.124: 0.9511, 0.127: 0.9507, 0.13: 0.9503, 0.133: 0.9505, 0.136: 0.9504, 0.139: 0.95, 0.14200000000000002: 0.9499, 0.14500000000000002: 0.9495, 0.148: 0.9494, 0.151: 0.9492, 0.154: 0.9491, 0.157: 0.9485, 0.16: 0.9483, 0.163: 0.9479, 0.166: 0.9475, 0.169: 0.9473, 0.17200000000000001: 0.9474, 0.17500000000000002: 0.9473, 0.178: 0.9469, 0.181: 0.9467, 0.184: 0.9465, 0.187: 0.9464, 0.19: 0.9465, 0.193: 0.9464, 0.196: 0.9459}\n",
            "{0.001: 0.9108, 0.004: 0.9355, 0.007: 0.9423, 0.010000000000000002: 0.9473, 0.013000000000000001: 0.9498, 0.016: 0.9516, 0.019000000000000003: 0.953, 0.022000000000000002: 0.9546, 0.025: 0.9556, 0.028: 0.956, 0.031: 0.9562, 0.034: 0.9564, 0.037000000000000005: 0.9564, 0.04: 0.957, 0.043000000000000003: 0.9571, 0.046: 0.9565, 0.049: 0.9564, 0.052000000000000005: 0.9566, 0.055: 0.9562, 0.058: 0.9565, 0.061: 0.9571, 0.064: 0.9567, 0.067: 0.9566, 0.07: 0.9563, 0.07300000000000001: 0.9562, 0.076: 0.9563, 0.079: 0.9562, 0.082: 0.9563, 0.085: 0.9562, 0.08800000000000001: 0.9558, 0.091: 0.9555, 0.094: 0.9552, 0.097: 0.9545, 0.1: 0.9542, 0.10300000000000001: 0.9536, 0.106: 0.9531, 0.109: 0.9527, 0.112: 0.9525, 0.115: 0.9524, 0.11800000000000001: 0.9522, 0.121: 0.9517, 0.124: 0.9511, 0.127: 0.9507, 0.13: 0.9503, 0.133: 0.9505, 0.136: 0.9504, 0.139: 0.95, 0.14200000000000002: 0.9499, 0.14500000000000002: 0.9495, 0.148: 0.9494, 0.151: 0.9492, 0.154: 0.9491, 0.157: 0.9485, 0.16: 0.9483, 0.163: 0.9479, 0.166: 0.9475, 0.169: 0.9473, 0.17200000000000001: 0.9474, 0.17500000000000002: 0.9473, 0.178: 0.9469, 0.181: 0.9467, 0.184: 0.9465, 0.187: 0.9464, 0.19: 0.9465, 0.193: 0.9464, 0.196: 0.9459, 0.199: 0.9455}\n",
            "{0.001: 0.9108, 0.004: 0.9355, 0.007: 0.9423, 0.010000000000000002: 0.9473, 0.013000000000000001: 0.9498, 0.016: 0.9516, 0.019000000000000003: 0.953, 0.022000000000000002: 0.9546, 0.025: 0.9556, 0.028: 0.956, 0.031: 0.9562, 0.034: 0.9564, 0.037000000000000005: 0.9564, 0.04: 0.957, 0.043000000000000003: 0.9571, 0.046: 0.9565, 0.049: 0.9564, 0.052000000000000005: 0.9566, 0.055: 0.9562, 0.058: 0.9565, 0.061: 0.9571, 0.064: 0.9567, 0.067: 0.9566, 0.07: 0.9563, 0.07300000000000001: 0.9562, 0.076: 0.9563, 0.079: 0.9562, 0.082: 0.9563, 0.085: 0.9562, 0.08800000000000001: 0.9558, 0.091: 0.9555, 0.094: 0.9552, 0.097: 0.9545, 0.1: 0.9542, 0.10300000000000001: 0.9536, 0.106: 0.9531, 0.109: 0.9527, 0.112: 0.9525, 0.115: 0.9524, 0.11800000000000001: 0.9522, 0.121: 0.9517, 0.124: 0.9511, 0.127: 0.9507, 0.13: 0.9503, 0.133: 0.9505, 0.136: 0.9504, 0.139: 0.95, 0.14200000000000002: 0.9499, 0.14500000000000002: 0.9495, 0.148: 0.9494, 0.151: 0.9492, 0.154: 0.9491, 0.157: 0.9485, 0.16: 0.9483, 0.163: 0.9479, 0.166: 0.9475, 0.169: 0.9473, 0.17200000000000001: 0.9474, 0.17500000000000002: 0.9473, 0.178: 0.9469, 0.181: 0.9467, 0.184: 0.9465, 0.187: 0.9464, 0.19: 0.9465, 0.193: 0.9464, 0.196: 0.9459, 0.199: 0.9455, 0.202: 0.9448}\n",
            "{0.001: 0.9108, 0.004: 0.9355, 0.007: 0.9423, 0.010000000000000002: 0.9473, 0.013000000000000001: 0.9498, 0.016: 0.9516, 0.019000000000000003: 0.953, 0.022000000000000002: 0.9546, 0.025: 0.9556, 0.028: 0.956, 0.031: 0.9562, 0.034: 0.9564, 0.037000000000000005: 0.9564, 0.04: 0.957, 0.043000000000000003: 0.9571, 0.046: 0.9565, 0.049: 0.9564, 0.052000000000000005: 0.9566, 0.055: 0.9562, 0.058: 0.9565, 0.061: 0.9571, 0.064: 0.9567, 0.067: 0.9566, 0.07: 0.9563, 0.07300000000000001: 0.9562, 0.076: 0.9563, 0.079: 0.9562, 0.082: 0.9563, 0.085: 0.9562, 0.08800000000000001: 0.9558, 0.091: 0.9555, 0.094: 0.9552, 0.097: 0.9545, 0.1: 0.9542, 0.10300000000000001: 0.9536, 0.106: 0.9531, 0.109: 0.9527, 0.112: 0.9525, 0.115: 0.9524, 0.11800000000000001: 0.9522, 0.121: 0.9517, 0.124: 0.9511, 0.127: 0.9507, 0.13: 0.9503, 0.133: 0.9505, 0.136: 0.9504, 0.139: 0.95, 0.14200000000000002: 0.9499, 0.14500000000000002: 0.9495, 0.148: 0.9494, 0.151: 0.9492, 0.154: 0.9491, 0.157: 0.9485, 0.16: 0.9483, 0.163: 0.9479, 0.166: 0.9475, 0.169: 0.9473, 0.17200000000000001: 0.9474, 0.17500000000000002: 0.9473, 0.178: 0.9469, 0.181: 0.9467, 0.184: 0.9465, 0.187: 0.9464, 0.19: 0.9465, 0.193: 0.9464, 0.196: 0.9459, 0.199: 0.9455, 0.202: 0.9448, 0.20500000000000002: 0.9446}\n",
            "{0.001: 0.9108, 0.004: 0.9355, 0.007: 0.9423, 0.010000000000000002: 0.9473, 0.013000000000000001: 0.9498, 0.016: 0.9516, 0.019000000000000003: 0.953, 0.022000000000000002: 0.9546, 0.025: 0.9556, 0.028: 0.956, 0.031: 0.9562, 0.034: 0.9564, 0.037000000000000005: 0.9564, 0.04: 0.957, 0.043000000000000003: 0.9571, 0.046: 0.9565, 0.049: 0.9564, 0.052000000000000005: 0.9566, 0.055: 0.9562, 0.058: 0.9565, 0.061: 0.9571, 0.064: 0.9567, 0.067: 0.9566, 0.07: 0.9563, 0.07300000000000001: 0.9562, 0.076: 0.9563, 0.079: 0.9562, 0.082: 0.9563, 0.085: 0.9562, 0.08800000000000001: 0.9558, 0.091: 0.9555, 0.094: 0.9552, 0.097: 0.9545, 0.1: 0.9542, 0.10300000000000001: 0.9536, 0.106: 0.9531, 0.109: 0.9527, 0.112: 0.9525, 0.115: 0.9524, 0.11800000000000001: 0.9522, 0.121: 0.9517, 0.124: 0.9511, 0.127: 0.9507, 0.13: 0.9503, 0.133: 0.9505, 0.136: 0.9504, 0.139: 0.95, 0.14200000000000002: 0.9499, 0.14500000000000002: 0.9495, 0.148: 0.9494, 0.151: 0.9492, 0.154: 0.9491, 0.157: 0.9485, 0.16: 0.9483, 0.163: 0.9479, 0.166: 0.9475, 0.169: 0.9473, 0.17200000000000001: 0.9474, 0.17500000000000002: 0.9473, 0.178: 0.9469, 0.181: 0.9467, 0.184: 0.9465, 0.187: 0.9464, 0.19: 0.9465, 0.193: 0.9464, 0.196: 0.9459, 0.199: 0.9455, 0.202: 0.9448, 0.20500000000000002: 0.9446, 0.20800000000000002: 0.944}\n",
            "{0.001: 0.9108, 0.004: 0.9355, 0.007: 0.9423, 0.010000000000000002: 0.9473, 0.013000000000000001: 0.9498, 0.016: 0.9516, 0.019000000000000003: 0.953, 0.022000000000000002: 0.9546, 0.025: 0.9556, 0.028: 0.956, 0.031: 0.9562, 0.034: 0.9564, 0.037000000000000005: 0.9564, 0.04: 0.957, 0.043000000000000003: 0.9571, 0.046: 0.9565, 0.049: 0.9564, 0.052000000000000005: 0.9566, 0.055: 0.9562, 0.058: 0.9565, 0.061: 0.9571, 0.064: 0.9567, 0.067: 0.9566, 0.07: 0.9563, 0.07300000000000001: 0.9562, 0.076: 0.9563, 0.079: 0.9562, 0.082: 0.9563, 0.085: 0.9562, 0.08800000000000001: 0.9558, 0.091: 0.9555, 0.094: 0.9552, 0.097: 0.9545, 0.1: 0.9542, 0.10300000000000001: 0.9536, 0.106: 0.9531, 0.109: 0.9527, 0.112: 0.9525, 0.115: 0.9524, 0.11800000000000001: 0.9522, 0.121: 0.9517, 0.124: 0.9511, 0.127: 0.9507, 0.13: 0.9503, 0.133: 0.9505, 0.136: 0.9504, 0.139: 0.95, 0.14200000000000002: 0.9499, 0.14500000000000002: 0.9495, 0.148: 0.9494, 0.151: 0.9492, 0.154: 0.9491, 0.157: 0.9485, 0.16: 0.9483, 0.163: 0.9479, 0.166: 0.9475, 0.169: 0.9473, 0.17200000000000001: 0.9474, 0.17500000000000002: 0.9473, 0.178: 0.9469, 0.181: 0.9467, 0.184: 0.9465, 0.187: 0.9464, 0.19: 0.9465, 0.193: 0.9464, 0.196: 0.9459, 0.199: 0.9455, 0.202: 0.9448, 0.20500000000000002: 0.9446, 0.20800000000000002: 0.944, 0.211: 0.9436}\n",
            "{0.001: 0.9108, 0.004: 0.9355, 0.007: 0.9423, 0.010000000000000002: 0.9473, 0.013000000000000001: 0.9498, 0.016: 0.9516, 0.019000000000000003: 0.953, 0.022000000000000002: 0.9546, 0.025: 0.9556, 0.028: 0.956, 0.031: 0.9562, 0.034: 0.9564, 0.037000000000000005: 0.9564, 0.04: 0.957, 0.043000000000000003: 0.9571, 0.046: 0.9565, 0.049: 0.9564, 0.052000000000000005: 0.9566, 0.055: 0.9562, 0.058: 0.9565, 0.061: 0.9571, 0.064: 0.9567, 0.067: 0.9566, 0.07: 0.9563, 0.07300000000000001: 0.9562, 0.076: 0.9563, 0.079: 0.9562, 0.082: 0.9563, 0.085: 0.9562, 0.08800000000000001: 0.9558, 0.091: 0.9555, 0.094: 0.9552, 0.097: 0.9545, 0.1: 0.9542, 0.10300000000000001: 0.9536, 0.106: 0.9531, 0.109: 0.9527, 0.112: 0.9525, 0.115: 0.9524, 0.11800000000000001: 0.9522, 0.121: 0.9517, 0.124: 0.9511, 0.127: 0.9507, 0.13: 0.9503, 0.133: 0.9505, 0.136: 0.9504, 0.139: 0.95, 0.14200000000000002: 0.9499, 0.14500000000000002: 0.9495, 0.148: 0.9494, 0.151: 0.9492, 0.154: 0.9491, 0.157: 0.9485, 0.16: 0.9483, 0.163: 0.9479, 0.166: 0.9475, 0.169: 0.9473, 0.17200000000000001: 0.9474, 0.17500000000000002: 0.9473, 0.178: 0.9469, 0.181: 0.9467, 0.184: 0.9465, 0.187: 0.9464, 0.19: 0.9465, 0.193: 0.9464, 0.196: 0.9459, 0.199: 0.9455, 0.202: 0.9448, 0.20500000000000002: 0.9446, 0.20800000000000002: 0.944, 0.211: 0.9436, 0.214: 0.9433}\n",
            "{0.001: 0.9108, 0.004: 0.9355, 0.007: 0.9423, 0.010000000000000002: 0.9473, 0.013000000000000001: 0.9498, 0.016: 0.9516, 0.019000000000000003: 0.953, 0.022000000000000002: 0.9546, 0.025: 0.9556, 0.028: 0.956, 0.031: 0.9562, 0.034: 0.9564, 0.037000000000000005: 0.9564, 0.04: 0.957, 0.043000000000000003: 0.9571, 0.046: 0.9565, 0.049: 0.9564, 0.052000000000000005: 0.9566, 0.055: 0.9562, 0.058: 0.9565, 0.061: 0.9571, 0.064: 0.9567, 0.067: 0.9566, 0.07: 0.9563, 0.07300000000000001: 0.9562, 0.076: 0.9563, 0.079: 0.9562, 0.082: 0.9563, 0.085: 0.9562, 0.08800000000000001: 0.9558, 0.091: 0.9555, 0.094: 0.9552, 0.097: 0.9545, 0.1: 0.9542, 0.10300000000000001: 0.9536, 0.106: 0.9531, 0.109: 0.9527, 0.112: 0.9525, 0.115: 0.9524, 0.11800000000000001: 0.9522, 0.121: 0.9517, 0.124: 0.9511, 0.127: 0.9507, 0.13: 0.9503, 0.133: 0.9505, 0.136: 0.9504, 0.139: 0.95, 0.14200000000000002: 0.9499, 0.14500000000000002: 0.9495, 0.148: 0.9494, 0.151: 0.9492, 0.154: 0.9491, 0.157: 0.9485, 0.16: 0.9483, 0.163: 0.9479, 0.166: 0.9475, 0.169: 0.9473, 0.17200000000000001: 0.9474, 0.17500000000000002: 0.9473, 0.178: 0.9469, 0.181: 0.9467, 0.184: 0.9465, 0.187: 0.9464, 0.19: 0.9465, 0.193: 0.9464, 0.196: 0.9459, 0.199: 0.9455, 0.202: 0.9448, 0.20500000000000002: 0.9446, 0.20800000000000002: 0.944, 0.211: 0.9436, 0.214: 0.9433, 0.217: 0.9433}\n",
            "{0.001: 0.9108, 0.004: 0.9355, 0.007: 0.9423, 0.010000000000000002: 0.9473, 0.013000000000000001: 0.9498, 0.016: 0.9516, 0.019000000000000003: 0.953, 0.022000000000000002: 0.9546, 0.025: 0.9556, 0.028: 0.956, 0.031: 0.9562, 0.034: 0.9564, 0.037000000000000005: 0.9564, 0.04: 0.957, 0.043000000000000003: 0.9571, 0.046: 0.9565, 0.049: 0.9564, 0.052000000000000005: 0.9566, 0.055: 0.9562, 0.058: 0.9565, 0.061: 0.9571, 0.064: 0.9567, 0.067: 0.9566, 0.07: 0.9563, 0.07300000000000001: 0.9562, 0.076: 0.9563, 0.079: 0.9562, 0.082: 0.9563, 0.085: 0.9562, 0.08800000000000001: 0.9558, 0.091: 0.9555, 0.094: 0.9552, 0.097: 0.9545, 0.1: 0.9542, 0.10300000000000001: 0.9536, 0.106: 0.9531, 0.109: 0.9527, 0.112: 0.9525, 0.115: 0.9524, 0.11800000000000001: 0.9522, 0.121: 0.9517, 0.124: 0.9511, 0.127: 0.9507, 0.13: 0.9503, 0.133: 0.9505, 0.136: 0.9504, 0.139: 0.95, 0.14200000000000002: 0.9499, 0.14500000000000002: 0.9495, 0.148: 0.9494, 0.151: 0.9492, 0.154: 0.9491, 0.157: 0.9485, 0.16: 0.9483, 0.163: 0.9479, 0.166: 0.9475, 0.169: 0.9473, 0.17200000000000001: 0.9474, 0.17500000000000002: 0.9473, 0.178: 0.9469, 0.181: 0.9467, 0.184: 0.9465, 0.187: 0.9464, 0.19: 0.9465, 0.193: 0.9464, 0.196: 0.9459, 0.199: 0.9455, 0.202: 0.9448, 0.20500000000000002: 0.9446, 0.20800000000000002: 0.944, 0.211: 0.9436, 0.214: 0.9433, 0.217: 0.9433, 0.22: 0.9432}\n",
            "{0.001: 0.9108, 0.004: 0.9355, 0.007: 0.9423, 0.010000000000000002: 0.9473, 0.013000000000000001: 0.9498, 0.016: 0.9516, 0.019000000000000003: 0.953, 0.022000000000000002: 0.9546, 0.025: 0.9556, 0.028: 0.956, 0.031: 0.9562, 0.034: 0.9564, 0.037000000000000005: 0.9564, 0.04: 0.957, 0.043000000000000003: 0.9571, 0.046: 0.9565, 0.049: 0.9564, 0.052000000000000005: 0.9566, 0.055: 0.9562, 0.058: 0.9565, 0.061: 0.9571, 0.064: 0.9567, 0.067: 0.9566, 0.07: 0.9563, 0.07300000000000001: 0.9562, 0.076: 0.9563, 0.079: 0.9562, 0.082: 0.9563, 0.085: 0.9562, 0.08800000000000001: 0.9558, 0.091: 0.9555, 0.094: 0.9552, 0.097: 0.9545, 0.1: 0.9542, 0.10300000000000001: 0.9536, 0.106: 0.9531, 0.109: 0.9527, 0.112: 0.9525, 0.115: 0.9524, 0.11800000000000001: 0.9522, 0.121: 0.9517, 0.124: 0.9511, 0.127: 0.9507, 0.13: 0.9503, 0.133: 0.9505, 0.136: 0.9504, 0.139: 0.95, 0.14200000000000002: 0.9499, 0.14500000000000002: 0.9495, 0.148: 0.9494, 0.151: 0.9492, 0.154: 0.9491, 0.157: 0.9485, 0.16: 0.9483, 0.163: 0.9479, 0.166: 0.9475, 0.169: 0.9473, 0.17200000000000001: 0.9474, 0.17500000000000002: 0.9473, 0.178: 0.9469, 0.181: 0.9467, 0.184: 0.9465, 0.187: 0.9464, 0.19: 0.9465, 0.193: 0.9464, 0.196: 0.9459, 0.199: 0.9455, 0.202: 0.9448, 0.20500000000000002: 0.9446, 0.20800000000000002: 0.944, 0.211: 0.9436, 0.214: 0.9433, 0.217: 0.9433, 0.22: 0.9432, 0.223: 0.9428}\n",
            "{0.001: 0.9108, 0.004: 0.9355, 0.007: 0.9423, 0.010000000000000002: 0.9473, 0.013000000000000001: 0.9498, 0.016: 0.9516, 0.019000000000000003: 0.953, 0.022000000000000002: 0.9546, 0.025: 0.9556, 0.028: 0.956, 0.031: 0.9562, 0.034: 0.9564, 0.037000000000000005: 0.9564, 0.04: 0.957, 0.043000000000000003: 0.9571, 0.046: 0.9565, 0.049: 0.9564, 0.052000000000000005: 0.9566, 0.055: 0.9562, 0.058: 0.9565, 0.061: 0.9571, 0.064: 0.9567, 0.067: 0.9566, 0.07: 0.9563, 0.07300000000000001: 0.9562, 0.076: 0.9563, 0.079: 0.9562, 0.082: 0.9563, 0.085: 0.9562, 0.08800000000000001: 0.9558, 0.091: 0.9555, 0.094: 0.9552, 0.097: 0.9545, 0.1: 0.9542, 0.10300000000000001: 0.9536, 0.106: 0.9531, 0.109: 0.9527, 0.112: 0.9525, 0.115: 0.9524, 0.11800000000000001: 0.9522, 0.121: 0.9517, 0.124: 0.9511, 0.127: 0.9507, 0.13: 0.9503, 0.133: 0.9505, 0.136: 0.9504, 0.139: 0.95, 0.14200000000000002: 0.9499, 0.14500000000000002: 0.9495, 0.148: 0.9494, 0.151: 0.9492, 0.154: 0.9491, 0.157: 0.9485, 0.16: 0.9483, 0.163: 0.9479, 0.166: 0.9475, 0.169: 0.9473, 0.17200000000000001: 0.9474, 0.17500000000000002: 0.9473, 0.178: 0.9469, 0.181: 0.9467, 0.184: 0.9465, 0.187: 0.9464, 0.19: 0.9465, 0.193: 0.9464, 0.196: 0.9459, 0.199: 0.9455, 0.202: 0.9448, 0.20500000000000002: 0.9446, 0.20800000000000002: 0.944, 0.211: 0.9436, 0.214: 0.9433, 0.217: 0.9433, 0.22: 0.9432, 0.223: 0.9428, 0.226: 0.9426}\n",
            "{0.001: 0.9108, 0.004: 0.9355, 0.007: 0.9423, 0.010000000000000002: 0.9473, 0.013000000000000001: 0.9498, 0.016: 0.9516, 0.019000000000000003: 0.953, 0.022000000000000002: 0.9546, 0.025: 0.9556, 0.028: 0.956, 0.031: 0.9562, 0.034: 0.9564, 0.037000000000000005: 0.9564, 0.04: 0.957, 0.043000000000000003: 0.9571, 0.046: 0.9565, 0.049: 0.9564, 0.052000000000000005: 0.9566, 0.055: 0.9562, 0.058: 0.9565, 0.061: 0.9571, 0.064: 0.9567, 0.067: 0.9566, 0.07: 0.9563, 0.07300000000000001: 0.9562, 0.076: 0.9563, 0.079: 0.9562, 0.082: 0.9563, 0.085: 0.9562, 0.08800000000000001: 0.9558, 0.091: 0.9555, 0.094: 0.9552, 0.097: 0.9545, 0.1: 0.9542, 0.10300000000000001: 0.9536, 0.106: 0.9531, 0.109: 0.9527, 0.112: 0.9525, 0.115: 0.9524, 0.11800000000000001: 0.9522, 0.121: 0.9517, 0.124: 0.9511, 0.127: 0.9507, 0.13: 0.9503, 0.133: 0.9505, 0.136: 0.9504, 0.139: 0.95, 0.14200000000000002: 0.9499, 0.14500000000000002: 0.9495, 0.148: 0.9494, 0.151: 0.9492, 0.154: 0.9491, 0.157: 0.9485, 0.16: 0.9483, 0.163: 0.9479, 0.166: 0.9475, 0.169: 0.9473, 0.17200000000000001: 0.9474, 0.17500000000000002: 0.9473, 0.178: 0.9469, 0.181: 0.9467, 0.184: 0.9465, 0.187: 0.9464, 0.19: 0.9465, 0.193: 0.9464, 0.196: 0.9459, 0.199: 0.9455, 0.202: 0.9448, 0.20500000000000002: 0.9446, 0.20800000000000002: 0.944, 0.211: 0.9436, 0.214: 0.9433, 0.217: 0.9433, 0.22: 0.9432, 0.223: 0.9428, 0.226: 0.9426, 0.229: 0.942}\n",
            "{0.001: 0.9108, 0.004: 0.9355, 0.007: 0.9423, 0.010000000000000002: 0.9473, 0.013000000000000001: 0.9498, 0.016: 0.9516, 0.019000000000000003: 0.953, 0.022000000000000002: 0.9546, 0.025: 0.9556, 0.028: 0.956, 0.031: 0.9562, 0.034: 0.9564, 0.037000000000000005: 0.9564, 0.04: 0.957, 0.043000000000000003: 0.9571, 0.046: 0.9565, 0.049: 0.9564, 0.052000000000000005: 0.9566, 0.055: 0.9562, 0.058: 0.9565, 0.061: 0.9571, 0.064: 0.9567, 0.067: 0.9566, 0.07: 0.9563, 0.07300000000000001: 0.9562, 0.076: 0.9563, 0.079: 0.9562, 0.082: 0.9563, 0.085: 0.9562, 0.08800000000000001: 0.9558, 0.091: 0.9555, 0.094: 0.9552, 0.097: 0.9545, 0.1: 0.9542, 0.10300000000000001: 0.9536, 0.106: 0.9531, 0.109: 0.9527, 0.112: 0.9525, 0.115: 0.9524, 0.11800000000000001: 0.9522, 0.121: 0.9517, 0.124: 0.9511, 0.127: 0.9507, 0.13: 0.9503, 0.133: 0.9505, 0.136: 0.9504, 0.139: 0.95, 0.14200000000000002: 0.9499, 0.14500000000000002: 0.9495, 0.148: 0.9494, 0.151: 0.9492, 0.154: 0.9491, 0.157: 0.9485, 0.16: 0.9483, 0.163: 0.9479, 0.166: 0.9475, 0.169: 0.9473, 0.17200000000000001: 0.9474, 0.17500000000000002: 0.9473, 0.178: 0.9469, 0.181: 0.9467, 0.184: 0.9465, 0.187: 0.9464, 0.19: 0.9465, 0.193: 0.9464, 0.196: 0.9459, 0.199: 0.9455, 0.202: 0.9448, 0.20500000000000002: 0.9446, 0.20800000000000002: 0.944, 0.211: 0.9436, 0.214: 0.9433, 0.217: 0.9433, 0.22: 0.9432, 0.223: 0.9428, 0.226: 0.9426, 0.229: 0.942, 0.232: 0.9417}\n",
            "{0.001: 0.9108, 0.004: 0.9355, 0.007: 0.9423, 0.010000000000000002: 0.9473, 0.013000000000000001: 0.9498, 0.016: 0.9516, 0.019000000000000003: 0.953, 0.022000000000000002: 0.9546, 0.025: 0.9556, 0.028: 0.956, 0.031: 0.9562, 0.034: 0.9564, 0.037000000000000005: 0.9564, 0.04: 0.957, 0.043000000000000003: 0.9571, 0.046: 0.9565, 0.049: 0.9564, 0.052000000000000005: 0.9566, 0.055: 0.9562, 0.058: 0.9565, 0.061: 0.9571, 0.064: 0.9567, 0.067: 0.9566, 0.07: 0.9563, 0.07300000000000001: 0.9562, 0.076: 0.9563, 0.079: 0.9562, 0.082: 0.9563, 0.085: 0.9562, 0.08800000000000001: 0.9558, 0.091: 0.9555, 0.094: 0.9552, 0.097: 0.9545, 0.1: 0.9542, 0.10300000000000001: 0.9536, 0.106: 0.9531, 0.109: 0.9527, 0.112: 0.9525, 0.115: 0.9524, 0.11800000000000001: 0.9522, 0.121: 0.9517, 0.124: 0.9511, 0.127: 0.9507, 0.13: 0.9503, 0.133: 0.9505, 0.136: 0.9504, 0.139: 0.95, 0.14200000000000002: 0.9499, 0.14500000000000002: 0.9495, 0.148: 0.9494, 0.151: 0.9492, 0.154: 0.9491, 0.157: 0.9485, 0.16: 0.9483, 0.163: 0.9479, 0.166: 0.9475, 0.169: 0.9473, 0.17200000000000001: 0.9474, 0.17500000000000002: 0.9473, 0.178: 0.9469, 0.181: 0.9467, 0.184: 0.9465, 0.187: 0.9464, 0.19: 0.9465, 0.193: 0.9464, 0.196: 0.9459, 0.199: 0.9455, 0.202: 0.9448, 0.20500000000000002: 0.9446, 0.20800000000000002: 0.944, 0.211: 0.9436, 0.214: 0.9433, 0.217: 0.9433, 0.22: 0.9432, 0.223: 0.9428, 0.226: 0.9426, 0.229: 0.942, 0.232: 0.9417, 0.23500000000000001: 0.9414}\n",
            "{0.001: 0.9108, 0.004: 0.9355, 0.007: 0.9423, 0.010000000000000002: 0.9473, 0.013000000000000001: 0.9498, 0.016: 0.9516, 0.019000000000000003: 0.953, 0.022000000000000002: 0.9546, 0.025: 0.9556, 0.028: 0.956, 0.031: 0.9562, 0.034: 0.9564, 0.037000000000000005: 0.9564, 0.04: 0.957, 0.043000000000000003: 0.9571, 0.046: 0.9565, 0.049: 0.9564, 0.052000000000000005: 0.9566, 0.055: 0.9562, 0.058: 0.9565, 0.061: 0.9571, 0.064: 0.9567, 0.067: 0.9566, 0.07: 0.9563, 0.07300000000000001: 0.9562, 0.076: 0.9563, 0.079: 0.9562, 0.082: 0.9563, 0.085: 0.9562, 0.08800000000000001: 0.9558, 0.091: 0.9555, 0.094: 0.9552, 0.097: 0.9545, 0.1: 0.9542, 0.10300000000000001: 0.9536, 0.106: 0.9531, 0.109: 0.9527, 0.112: 0.9525, 0.115: 0.9524, 0.11800000000000001: 0.9522, 0.121: 0.9517, 0.124: 0.9511, 0.127: 0.9507, 0.13: 0.9503, 0.133: 0.9505, 0.136: 0.9504, 0.139: 0.95, 0.14200000000000002: 0.9499, 0.14500000000000002: 0.9495, 0.148: 0.9494, 0.151: 0.9492, 0.154: 0.9491, 0.157: 0.9485, 0.16: 0.9483, 0.163: 0.9479, 0.166: 0.9475, 0.169: 0.9473, 0.17200000000000001: 0.9474, 0.17500000000000002: 0.9473, 0.178: 0.9469, 0.181: 0.9467, 0.184: 0.9465, 0.187: 0.9464, 0.19: 0.9465, 0.193: 0.9464, 0.196: 0.9459, 0.199: 0.9455, 0.202: 0.9448, 0.20500000000000002: 0.9446, 0.20800000000000002: 0.944, 0.211: 0.9436, 0.214: 0.9433, 0.217: 0.9433, 0.22: 0.9432, 0.223: 0.9428, 0.226: 0.9426, 0.229: 0.942, 0.232: 0.9417, 0.23500000000000001: 0.9414, 0.23800000000000002: 0.941}\n",
            "{0.001: 0.9108, 0.004: 0.9355, 0.007: 0.9423, 0.010000000000000002: 0.9473, 0.013000000000000001: 0.9498, 0.016: 0.9516, 0.019000000000000003: 0.953, 0.022000000000000002: 0.9546, 0.025: 0.9556, 0.028: 0.956, 0.031: 0.9562, 0.034: 0.9564, 0.037000000000000005: 0.9564, 0.04: 0.957, 0.043000000000000003: 0.9571, 0.046: 0.9565, 0.049: 0.9564, 0.052000000000000005: 0.9566, 0.055: 0.9562, 0.058: 0.9565, 0.061: 0.9571, 0.064: 0.9567, 0.067: 0.9566, 0.07: 0.9563, 0.07300000000000001: 0.9562, 0.076: 0.9563, 0.079: 0.9562, 0.082: 0.9563, 0.085: 0.9562, 0.08800000000000001: 0.9558, 0.091: 0.9555, 0.094: 0.9552, 0.097: 0.9545, 0.1: 0.9542, 0.10300000000000001: 0.9536, 0.106: 0.9531, 0.109: 0.9527, 0.112: 0.9525, 0.115: 0.9524, 0.11800000000000001: 0.9522, 0.121: 0.9517, 0.124: 0.9511, 0.127: 0.9507, 0.13: 0.9503, 0.133: 0.9505, 0.136: 0.9504, 0.139: 0.95, 0.14200000000000002: 0.9499, 0.14500000000000002: 0.9495, 0.148: 0.9494, 0.151: 0.9492, 0.154: 0.9491, 0.157: 0.9485, 0.16: 0.9483, 0.163: 0.9479, 0.166: 0.9475, 0.169: 0.9473, 0.17200000000000001: 0.9474, 0.17500000000000002: 0.9473, 0.178: 0.9469, 0.181: 0.9467, 0.184: 0.9465, 0.187: 0.9464, 0.19: 0.9465, 0.193: 0.9464, 0.196: 0.9459, 0.199: 0.9455, 0.202: 0.9448, 0.20500000000000002: 0.9446, 0.20800000000000002: 0.944, 0.211: 0.9436, 0.214: 0.9433, 0.217: 0.9433, 0.22: 0.9432, 0.223: 0.9428, 0.226: 0.9426, 0.229: 0.942, 0.232: 0.9417, 0.23500000000000001: 0.9414, 0.23800000000000002: 0.941, 0.241: 0.9407}\n",
            "{0.001: 0.9108, 0.004: 0.9355, 0.007: 0.9423, 0.010000000000000002: 0.9473, 0.013000000000000001: 0.9498, 0.016: 0.9516, 0.019000000000000003: 0.953, 0.022000000000000002: 0.9546, 0.025: 0.9556, 0.028: 0.956, 0.031: 0.9562, 0.034: 0.9564, 0.037000000000000005: 0.9564, 0.04: 0.957, 0.043000000000000003: 0.9571, 0.046: 0.9565, 0.049: 0.9564, 0.052000000000000005: 0.9566, 0.055: 0.9562, 0.058: 0.9565, 0.061: 0.9571, 0.064: 0.9567, 0.067: 0.9566, 0.07: 0.9563, 0.07300000000000001: 0.9562, 0.076: 0.9563, 0.079: 0.9562, 0.082: 0.9563, 0.085: 0.9562, 0.08800000000000001: 0.9558, 0.091: 0.9555, 0.094: 0.9552, 0.097: 0.9545, 0.1: 0.9542, 0.10300000000000001: 0.9536, 0.106: 0.9531, 0.109: 0.9527, 0.112: 0.9525, 0.115: 0.9524, 0.11800000000000001: 0.9522, 0.121: 0.9517, 0.124: 0.9511, 0.127: 0.9507, 0.13: 0.9503, 0.133: 0.9505, 0.136: 0.9504, 0.139: 0.95, 0.14200000000000002: 0.9499, 0.14500000000000002: 0.9495, 0.148: 0.9494, 0.151: 0.9492, 0.154: 0.9491, 0.157: 0.9485, 0.16: 0.9483, 0.163: 0.9479, 0.166: 0.9475, 0.169: 0.9473, 0.17200000000000001: 0.9474, 0.17500000000000002: 0.9473, 0.178: 0.9469, 0.181: 0.9467, 0.184: 0.9465, 0.187: 0.9464, 0.19: 0.9465, 0.193: 0.9464, 0.196: 0.9459, 0.199: 0.9455, 0.202: 0.9448, 0.20500000000000002: 0.9446, 0.20800000000000002: 0.944, 0.211: 0.9436, 0.214: 0.9433, 0.217: 0.9433, 0.22: 0.9432, 0.223: 0.9428, 0.226: 0.9426, 0.229: 0.942, 0.232: 0.9417, 0.23500000000000001: 0.9414, 0.23800000000000002: 0.941, 0.241: 0.9407, 0.244: 0.9407}\n",
            "{0.001: 0.9108, 0.004: 0.9355, 0.007: 0.9423, 0.010000000000000002: 0.9473, 0.013000000000000001: 0.9498, 0.016: 0.9516, 0.019000000000000003: 0.953, 0.022000000000000002: 0.9546, 0.025: 0.9556, 0.028: 0.956, 0.031: 0.9562, 0.034: 0.9564, 0.037000000000000005: 0.9564, 0.04: 0.957, 0.043000000000000003: 0.9571, 0.046: 0.9565, 0.049: 0.9564, 0.052000000000000005: 0.9566, 0.055: 0.9562, 0.058: 0.9565, 0.061: 0.9571, 0.064: 0.9567, 0.067: 0.9566, 0.07: 0.9563, 0.07300000000000001: 0.9562, 0.076: 0.9563, 0.079: 0.9562, 0.082: 0.9563, 0.085: 0.9562, 0.08800000000000001: 0.9558, 0.091: 0.9555, 0.094: 0.9552, 0.097: 0.9545, 0.1: 0.9542, 0.10300000000000001: 0.9536, 0.106: 0.9531, 0.109: 0.9527, 0.112: 0.9525, 0.115: 0.9524, 0.11800000000000001: 0.9522, 0.121: 0.9517, 0.124: 0.9511, 0.127: 0.9507, 0.13: 0.9503, 0.133: 0.9505, 0.136: 0.9504, 0.139: 0.95, 0.14200000000000002: 0.9499, 0.14500000000000002: 0.9495, 0.148: 0.9494, 0.151: 0.9492, 0.154: 0.9491, 0.157: 0.9485, 0.16: 0.9483, 0.163: 0.9479, 0.166: 0.9475, 0.169: 0.9473, 0.17200000000000001: 0.9474, 0.17500000000000002: 0.9473, 0.178: 0.9469, 0.181: 0.9467, 0.184: 0.9465, 0.187: 0.9464, 0.19: 0.9465, 0.193: 0.9464, 0.196: 0.9459, 0.199: 0.9455, 0.202: 0.9448, 0.20500000000000002: 0.9446, 0.20800000000000002: 0.944, 0.211: 0.9436, 0.214: 0.9433, 0.217: 0.9433, 0.22: 0.9432, 0.223: 0.9428, 0.226: 0.9426, 0.229: 0.942, 0.232: 0.9417, 0.23500000000000001: 0.9414, 0.23800000000000002: 0.941, 0.241: 0.9407, 0.244: 0.9407, 0.247: 0.9403}\n",
            "{0.001: 0.9108, 0.004: 0.9355, 0.007: 0.9423, 0.010000000000000002: 0.9473, 0.013000000000000001: 0.9498, 0.016: 0.9516, 0.019000000000000003: 0.953, 0.022000000000000002: 0.9546, 0.025: 0.9556, 0.028: 0.956, 0.031: 0.9562, 0.034: 0.9564, 0.037000000000000005: 0.9564, 0.04: 0.957, 0.043000000000000003: 0.9571, 0.046: 0.9565, 0.049: 0.9564, 0.052000000000000005: 0.9566, 0.055: 0.9562, 0.058: 0.9565, 0.061: 0.9571, 0.064: 0.9567, 0.067: 0.9566, 0.07: 0.9563, 0.07300000000000001: 0.9562, 0.076: 0.9563, 0.079: 0.9562, 0.082: 0.9563, 0.085: 0.9562, 0.08800000000000001: 0.9558, 0.091: 0.9555, 0.094: 0.9552, 0.097: 0.9545, 0.1: 0.9542, 0.10300000000000001: 0.9536, 0.106: 0.9531, 0.109: 0.9527, 0.112: 0.9525, 0.115: 0.9524, 0.11800000000000001: 0.9522, 0.121: 0.9517, 0.124: 0.9511, 0.127: 0.9507, 0.13: 0.9503, 0.133: 0.9505, 0.136: 0.9504, 0.139: 0.95, 0.14200000000000002: 0.9499, 0.14500000000000002: 0.9495, 0.148: 0.9494, 0.151: 0.9492, 0.154: 0.9491, 0.157: 0.9485, 0.16: 0.9483, 0.163: 0.9479, 0.166: 0.9475, 0.169: 0.9473, 0.17200000000000001: 0.9474, 0.17500000000000002: 0.9473, 0.178: 0.9469, 0.181: 0.9467, 0.184: 0.9465, 0.187: 0.9464, 0.19: 0.9465, 0.193: 0.9464, 0.196: 0.9459, 0.199: 0.9455, 0.202: 0.9448, 0.20500000000000002: 0.9446, 0.20800000000000002: 0.944, 0.211: 0.9436, 0.214: 0.9433, 0.217: 0.9433, 0.22: 0.9432, 0.223: 0.9428, 0.226: 0.9426, 0.229: 0.942, 0.232: 0.9417, 0.23500000000000001: 0.9414, 0.23800000000000002: 0.941, 0.241: 0.9407, 0.244: 0.9407, 0.247: 0.9403, 0.25: 0.9403}\n",
            "{0.001: 0.9108, 0.004: 0.9355, 0.007: 0.9423, 0.010000000000000002: 0.9473, 0.013000000000000001: 0.9498, 0.016: 0.9516, 0.019000000000000003: 0.953, 0.022000000000000002: 0.9546, 0.025: 0.9556, 0.028: 0.956, 0.031: 0.9562, 0.034: 0.9564, 0.037000000000000005: 0.9564, 0.04: 0.957, 0.043000000000000003: 0.9571, 0.046: 0.9565, 0.049: 0.9564, 0.052000000000000005: 0.9566, 0.055: 0.9562, 0.058: 0.9565, 0.061: 0.9571, 0.064: 0.9567, 0.067: 0.9566, 0.07: 0.9563, 0.07300000000000001: 0.9562, 0.076: 0.9563, 0.079: 0.9562, 0.082: 0.9563, 0.085: 0.9562, 0.08800000000000001: 0.9558, 0.091: 0.9555, 0.094: 0.9552, 0.097: 0.9545, 0.1: 0.9542, 0.10300000000000001: 0.9536, 0.106: 0.9531, 0.109: 0.9527, 0.112: 0.9525, 0.115: 0.9524, 0.11800000000000001: 0.9522, 0.121: 0.9517, 0.124: 0.9511, 0.127: 0.9507, 0.13: 0.9503, 0.133: 0.9505, 0.136: 0.9504, 0.139: 0.95, 0.14200000000000002: 0.9499, 0.14500000000000002: 0.9495, 0.148: 0.9494, 0.151: 0.9492, 0.154: 0.9491, 0.157: 0.9485, 0.16: 0.9483, 0.163: 0.9479, 0.166: 0.9475, 0.169: 0.9473, 0.17200000000000001: 0.9474, 0.17500000000000002: 0.9473, 0.178: 0.9469, 0.181: 0.9467, 0.184: 0.9465, 0.187: 0.9464, 0.19: 0.9465, 0.193: 0.9464, 0.196: 0.9459, 0.199: 0.9455, 0.202: 0.9448, 0.20500000000000002: 0.9446, 0.20800000000000002: 0.944, 0.211: 0.9436, 0.214: 0.9433, 0.217: 0.9433, 0.22: 0.9432, 0.223: 0.9428, 0.226: 0.9426, 0.229: 0.942, 0.232: 0.9417, 0.23500000000000001: 0.9414, 0.23800000000000002: 0.941, 0.241: 0.9407, 0.244: 0.9407, 0.247: 0.9403, 0.25: 0.9403, 0.253: 0.9401}\n",
            "{0.001: 0.9108, 0.004: 0.9355, 0.007: 0.9423, 0.010000000000000002: 0.9473, 0.013000000000000001: 0.9498, 0.016: 0.9516, 0.019000000000000003: 0.953, 0.022000000000000002: 0.9546, 0.025: 0.9556, 0.028: 0.956, 0.031: 0.9562, 0.034: 0.9564, 0.037000000000000005: 0.9564, 0.04: 0.957, 0.043000000000000003: 0.9571, 0.046: 0.9565, 0.049: 0.9564, 0.052000000000000005: 0.9566, 0.055: 0.9562, 0.058: 0.9565, 0.061: 0.9571, 0.064: 0.9567, 0.067: 0.9566, 0.07: 0.9563, 0.07300000000000001: 0.9562, 0.076: 0.9563, 0.079: 0.9562, 0.082: 0.9563, 0.085: 0.9562, 0.08800000000000001: 0.9558, 0.091: 0.9555, 0.094: 0.9552, 0.097: 0.9545, 0.1: 0.9542, 0.10300000000000001: 0.9536, 0.106: 0.9531, 0.109: 0.9527, 0.112: 0.9525, 0.115: 0.9524, 0.11800000000000001: 0.9522, 0.121: 0.9517, 0.124: 0.9511, 0.127: 0.9507, 0.13: 0.9503, 0.133: 0.9505, 0.136: 0.9504, 0.139: 0.95, 0.14200000000000002: 0.9499, 0.14500000000000002: 0.9495, 0.148: 0.9494, 0.151: 0.9492, 0.154: 0.9491, 0.157: 0.9485, 0.16: 0.9483, 0.163: 0.9479, 0.166: 0.9475, 0.169: 0.9473, 0.17200000000000001: 0.9474, 0.17500000000000002: 0.9473, 0.178: 0.9469, 0.181: 0.9467, 0.184: 0.9465, 0.187: 0.9464, 0.19: 0.9465, 0.193: 0.9464, 0.196: 0.9459, 0.199: 0.9455, 0.202: 0.9448, 0.20500000000000002: 0.9446, 0.20800000000000002: 0.944, 0.211: 0.9436, 0.214: 0.9433, 0.217: 0.9433, 0.22: 0.9432, 0.223: 0.9428, 0.226: 0.9426, 0.229: 0.942, 0.232: 0.9417, 0.23500000000000001: 0.9414, 0.23800000000000002: 0.941, 0.241: 0.9407, 0.244: 0.9407, 0.247: 0.9403, 0.25: 0.9403, 0.253: 0.9401, 0.256: 0.9402}\n",
            "{0.001: 0.9108, 0.004: 0.9355, 0.007: 0.9423, 0.010000000000000002: 0.9473, 0.013000000000000001: 0.9498, 0.016: 0.9516, 0.019000000000000003: 0.953, 0.022000000000000002: 0.9546, 0.025: 0.9556, 0.028: 0.956, 0.031: 0.9562, 0.034: 0.9564, 0.037000000000000005: 0.9564, 0.04: 0.957, 0.043000000000000003: 0.9571, 0.046: 0.9565, 0.049: 0.9564, 0.052000000000000005: 0.9566, 0.055: 0.9562, 0.058: 0.9565, 0.061: 0.9571, 0.064: 0.9567, 0.067: 0.9566, 0.07: 0.9563, 0.07300000000000001: 0.9562, 0.076: 0.9563, 0.079: 0.9562, 0.082: 0.9563, 0.085: 0.9562, 0.08800000000000001: 0.9558, 0.091: 0.9555, 0.094: 0.9552, 0.097: 0.9545, 0.1: 0.9542, 0.10300000000000001: 0.9536, 0.106: 0.9531, 0.109: 0.9527, 0.112: 0.9525, 0.115: 0.9524, 0.11800000000000001: 0.9522, 0.121: 0.9517, 0.124: 0.9511, 0.127: 0.9507, 0.13: 0.9503, 0.133: 0.9505, 0.136: 0.9504, 0.139: 0.95, 0.14200000000000002: 0.9499, 0.14500000000000002: 0.9495, 0.148: 0.9494, 0.151: 0.9492, 0.154: 0.9491, 0.157: 0.9485, 0.16: 0.9483, 0.163: 0.9479, 0.166: 0.9475, 0.169: 0.9473, 0.17200000000000001: 0.9474, 0.17500000000000002: 0.9473, 0.178: 0.9469, 0.181: 0.9467, 0.184: 0.9465, 0.187: 0.9464, 0.19: 0.9465, 0.193: 0.9464, 0.196: 0.9459, 0.199: 0.9455, 0.202: 0.9448, 0.20500000000000002: 0.9446, 0.20800000000000002: 0.944, 0.211: 0.9436, 0.214: 0.9433, 0.217: 0.9433, 0.22: 0.9432, 0.223: 0.9428, 0.226: 0.9426, 0.229: 0.942, 0.232: 0.9417, 0.23500000000000001: 0.9414, 0.23800000000000002: 0.941, 0.241: 0.9407, 0.244: 0.9407, 0.247: 0.9403, 0.25: 0.9403, 0.253: 0.9401, 0.256: 0.9402, 0.259: 0.94}\n",
            "{0.001: 0.9108, 0.004: 0.9355, 0.007: 0.9423, 0.010000000000000002: 0.9473, 0.013000000000000001: 0.9498, 0.016: 0.9516, 0.019000000000000003: 0.953, 0.022000000000000002: 0.9546, 0.025: 0.9556, 0.028: 0.956, 0.031: 0.9562, 0.034: 0.9564, 0.037000000000000005: 0.9564, 0.04: 0.957, 0.043000000000000003: 0.9571, 0.046: 0.9565, 0.049: 0.9564, 0.052000000000000005: 0.9566, 0.055: 0.9562, 0.058: 0.9565, 0.061: 0.9571, 0.064: 0.9567, 0.067: 0.9566, 0.07: 0.9563, 0.07300000000000001: 0.9562, 0.076: 0.9563, 0.079: 0.9562, 0.082: 0.9563, 0.085: 0.9562, 0.08800000000000001: 0.9558, 0.091: 0.9555, 0.094: 0.9552, 0.097: 0.9545, 0.1: 0.9542, 0.10300000000000001: 0.9536, 0.106: 0.9531, 0.109: 0.9527, 0.112: 0.9525, 0.115: 0.9524, 0.11800000000000001: 0.9522, 0.121: 0.9517, 0.124: 0.9511, 0.127: 0.9507, 0.13: 0.9503, 0.133: 0.9505, 0.136: 0.9504, 0.139: 0.95, 0.14200000000000002: 0.9499, 0.14500000000000002: 0.9495, 0.148: 0.9494, 0.151: 0.9492, 0.154: 0.9491, 0.157: 0.9485, 0.16: 0.9483, 0.163: 0.9479, 0.166: 0.9475, 0.169: 0.9473, 0.17200000000000001: 0.9474, 0.17500000000000002: 0.9473, 0.178: 0.9469, 0.181: 0.9467, 0.184: 0.9465, 0.187: 0.9464, 0.19: 0.9465, 0.193: 0.9464, 0.196: 0.9459, 0.199: 0.9455, 0.202: 0.9448, 0.20500000000000002: 0.9446, 0.20800000000000002: 0.944, 0.211: 0.9436, 0.214: 0.9433, 0.217: 0.9433, 0.22: 0.9432, 0.223: 0.9428, 0.226: 0.9426, 0.229: 0.942, 0.232: 0.9417, 0.23500000000000001: 0.9414, 0.23800000000000002: 0.941, 0.241: 0.9407, 0.244: 0.9407, 0.247: 0.9403, 0.25: 0.9403, 0.253: 0.9401, 0.256: 0.9402, 0.259: 0.94, 0.262: 0.9398}\n",
            "{0.001: 0.9108, 0.004: 0.9355, 0.007: 0.9423, 0.010000000000000002: 0.9473, 0.013000000000000001: 0.9498, 0.016: 0.9516, 0.019000000000000003: 0.953, 0.022000000000000002: 0.9546, 0.025: 0.9556, 0.028: 0.956, 0.031: 0.9562, 0.034: 0.9564, 0.037000000000000005: 0.9564, 0.04: 0.957, 0.043000000000000003: 0.9571, 0.046: 0.9565, 0.049: 0.9564, 0.052000000000000005: 0.9566, 0.055: 0.9562, 0.058: 0.9565, 0.061: 0.9571, 0.064: 0.9567, 0.067: 0.9566, 0.07: 0.9563, 0.07300000000000001: 0.9562, 0.076: 0.9563, 0.079: 0.9562, 0.082: 0.9563, 0.085: 0.9562, 0.08800000000000001: 0.9558, 0.091: 0.9555, 0.094: 0.9552, 0.097: 0.9545, 0.1: 0.9542, 0.10300000000000001: 0.9536, 0.106: 0.9531, 0.109: 0.9527, 0.112: 0.9525, 0.115: 0.9524, 0.11800000000000001: 0.9522, 0.121: 0.9517, 0.124: 0.9511, 0.127: 0.9507, 0.13: 0.9503, 0.133: 0.9505, 0.136: 0.9504, 0.139: 0.95, 0.14200000000000002: 0.9499, 0.14500000000000002: 0.9495, 0.148: 0.9494, 0.151: 0.9492, 0.154: 0.9491, 0.157: 0.9485, 0.16: 0.9483, 0.163: 0.9479, 0.166: 0.9475, 0.169: 0.9473, 0.17200000000000001: 0.9474, 0.17500000000000002: 0.9473, 0.178: 0.9469, 0.181: 0.9467, 0.184: 0.9465, 0.187: 0.9464, 0.19: 0.9465, 0.193: 0.9464, 0.196: 0.9459, 0.199: 0.9455, 0.202: 0.9448, 0.20500000000000002: 0.9446, 0.20800000000000002: 0.944, 0.211: 0.9436, 0.214: 0.9433, 0.217: 0.9433, 0.22: 0.9432, 0.223: 0.9428, 0.226: 0.9426, 0.229: 0.942, 0.232: 0.9417, 0.23500000000000001: 0.9414, 0.23800000000000002: 0.941, 0.241: 0.9407, 0.244: 0.9407, 0.247: 0.9403, 0.25: 0.9403, 0.253: 0.9401, 0.256: 0.9402, 0.259: 0.94, 0.262: 0.9398, 0.265: 0.9397}\n",
            "{0.001: 0.9108, 0.004: 0.9355, 0.007: 0.9423, 0.010000000000000002: 0.9473, 0.013000000000000001: 0.9498, 0.016: 0.9516, 0.019000000000000003: 0.953, 0.022000000000000002: 0.9546, 0.025: 0.9556, 0.028: 0.956, 0.031: 0.9562, 0.034: 0.9564, 0.037000000000000005: 0.9564, 0.04: 0.957, 0.043000000000000003: 0.9571, 0.046: 0.9565, 0.049: 0.9564, 0.052000000000000005: 0.9566, 0.055: 0.9562, 0.058: 0.9565, 0.061: 0.9571, 0.064: 0.9567, 0.067: 0.9566, 0.07: 0.9563, 0.07300000000000001: 0.9562, 0.076: 0.9563, 0.079: 0.9562, 0.082: 0.9563, 0.085: 0.9562, 0.08800000000000001: 0.9558, 0.091: 0.9555, 0.094: 0.9552, 0.097: 0.9545, 0.1: 0.9542, 0.10300000000000001: 0.9536, 0.106: 0.9531, 0.109: 0.9527, 0.112: 0.9525, 0.115: 0.9524, 0.11800000000000001: 0.9522, 0.121: 0.9517, 0.124: 0.9511, 0.127: 0.9507, 0.13: 0.9503, 0.133: 0.9505, 0.136: 0.9504, 0.139: 0.95, 0.14200000000000002: 0.9499, 0.14500000000000002: 0.9495, 0.148: 0.9494, 0.151: 0.9492, 0.154: 0.9491, 0.157: 0.9485, 0.16: 0.9483, 0.163: 0.9479, 0.166: 0.9475, 0.169: 0.9473, 0.17200000000000001: 0.9474, 0.17500000000000002: 0.9473, 0.178: 0.9469, 0.181: 0.9467, 0.184: 0.9465, 0.187: 0.9464, 0.19: 0.9465, 0.193: 0.9464, 0.196: 0.9459, 0.199: 0.9455, 0.202: 0.9448, 0.20500000000000002: 0.9446, 0.20800000000000002: 0.944, 0.211: 0.9436, 0.214: 0.9433, 0.217: 0.9433, 0.22: 0.9432, 0.223: 0.9428, 0.226: 0.9426, 0.229: 0.942, 0.232: 0.9417, 0.23500000000000001: 0.9414, 0.23800000000000002: 0.941, 0.241: 0.9407, 0.244: 0.9407, 0.247: 0.9403, 0.25: 0.9403, 0.253: 0.9401, 0.256: 0.9402, 0.259: 0.94, 0.262: 0.9398, 0.265: 0.9397, 0.268: 0.9397}\n",
            "{0.001: 0.9108, 0.004: 0.9355, 0.007: 0.9423, 0.010000000000000002: 0.9473, 0.013000000000000001: 0.9498, 0.016: 0.9516, 0.019000000000000003: 0.953, 0.022000000000000002: 0.9546, 0.025: 0.9556, 0.028: 0.956, 0.031: 0.9562, 0.034: 0.9564, 0.037000000000000005: 0.9564, 0.04: 0.957, 0.043000000000000003: 0.9571, 0.046: 0.9565, 0.049: 0.9564, 0.052000000000000005: 0.9566, 0.055: 0.9562, 0.058: 0.9565, 0.061: 0.9571, 0.064: 0.9567, 0.067: 0.9566, 0.07: 0.9563, 0.07300000000000001: 0.9562, 0.076: 0.9563, 0.079: 0.9562, 0.082: 0.9563, 0.085: 0.9562, 0.08800000000000001: 0.9558, 0.091: 0.9555, 0.094: 0.9552, 0.097: 0.9545, 0.1: 0.9542, 0.10300000000000001: 0.9536, 0.106: 0.9531, 0.109: 0.9527, 0.112: 0.9525, 0.115: 0.9524, 0.11800000000000001: 0.9522, 0.121: 0.9517, 0.124: 0.9511, 0.127: 0.9507, 0.13: 0.9503, 0.133: 0.9505, 0.136: 0.9504, 0.139: 0.95, 0.14200000000000002: 0.9499, 0.14500000000000002: 0.9495, 0.148: 0.9494, 0.151: 0.9492, 0.154: 0.9491, 0.157: 0.9485, 0.16: 0.9483, 0.163: 0.9479, 0.166: 0.9475, 0.169: 0.9473, 0.17200000000000001: 0.9474, 0.17500000000000002: 0.9473, 0.178: 0.9469, 0.181: 0.9467, 0.184: 0.9465, 0.187: 0.9464, 0.19: 0.9465, 0.193: 0.9464, 0.196: 0.9459, 0.199: 0.9455, 0.202: 0.9448, 0.20500000000000002: 0.9446, 0.20800000000000002: 0.944, 0.211: 0.9436, 0.214: 0.9433, 0.217: 0.9433, 0.22: 0.9432, 0.223: 0.9428, 0.226: 0.9426, 0.229: 0.942, 0.232: 0.9417, 0.23500000000000001: 0.9414, 0.23800000000000002: 0.941, 0.241: 0.9407, 0.244: 0.9407, 0.247: 0.9403, 0.25: 0.9403, 0.253: 0.9401, 0.256: 0.9402, 0.259: 0.94, 0.262: 0.9398, 0.265: 0.9397, 0.268: 0.9397, 0.271: 0.9397}\n",
            "{0.001: 0.9108, 0.004: 0.9355, 0.007: 0.9423, 0.010000000000000002: 0.9473, 0.013000000000000001: 0.9498, 0.016: 0.9516, 0.019000000000000003: 0.953, 0.022000000000000002: 0.9546, 0.025: 0.9556, 0.028: 0.956, 0.031: 0.9562, 0.034: 0.9564, 0.037000000000000005: 0.9564, 0.04: 0.957, 0.043000000000000003: 0.9571, 0.046: 0.9565, 0.049: 0.9564, 0.052000000000000005: 0.9566, 0.055: 0.9562, 0.058: 0.9565, 0.061: 0.9571, 0.064: 0.9567, 0.067: 0.9566, 0.07: 0.9563, 0.07300000000000001: 0.9562, 0.076: 0.9563, 0.079: 0.9562, 0.082: 0.9563, 0.085: 0.9562, 0.08800000000000001: 0.9558, 0.091: 0.9555, 0.094: 0.9552, 0.097: 0.9545, 0.1: 0.9542, 0.10300000000000001: 0.9536, 0.106: 0.9531, 0.109: 0.9527, 0.112: 0.9525, 0.115: 0.9524, 0.11800000000000001: 0.9522, 0.121: 0.9517, 0.124: 0.9511, 0.127: 0.9507, 0.13: 0.9503, 0.133: 0.9505, 0.136: 0.9504, 0.139: 0.95, 0.14200000000000002: 0.9499, 0.14500000000000002: 0.9495, 0.148: 0.9494, 0.151: 0.9492, 0.154: 0.9491, 0.157: 0.9485, 0.16: 0.9483, 0.163: 0.9479, 0.166: 0.9475, 0.169: 0.9473, 0.17200000000000001: 0.9474, 0.17500000000000002: 0.9473, 0.178: 0.9469, 0.181: 0.9467, 0.184: 0.9465, 0.187: 0.9464, 0.19: 0.9465, 0.193: 0.9464, 0.196: 0.9459, 0.199: 0.9455, 0.202: 0.9448, 0.20500000000000002: 0.9446, 0.20800000000000002: 0.944, 0.211: 0.9436, 0.214: 0.9433, 0.217: 0.9433, 0.22: 0.9432, 0.223: 0.9428, 0.226: 0.9426, 0.229: 0.942, 0.232: 0.9417, 0.23500000000000001: 0.9414, 0.23800000000000002: 0.941, 0.241: 0.9407, 0.244: 0.9407, 0.247: 0.9403, 0.25: 0.9403, 0.253: 0.9401, 0.256: 0.9402, 0.259: 0.94, 0.262: 0.9398, 0.265: 0.9397, 0.268: 0.9397, 0.271: 0.9397, 0.274: 0.9394}\n",
            "{0.001: 0.9108, 0.004: 0.9355, 0.007: 0.9423, 0.010000000000000002: 0.9473, 0.013000000000000001: 0.9498, 0.016: 0.9516, 0.019000000000000003: 0.953, 0.022000000000000002: 0.9546, 0.025: 0.9556, 0.028: 0.956, 0.031: 0.9562, 0.034: 0.9564, 0.037000000000000005: 0.9564, 0.04: 0.957, 0.043000000000000003: 0.9571, 0.046: 0.9565, 0.049: 0.9564, 0.052000000000000005: 0.9566, 0.055: 0.9562, 0.058: 0.9565, 0.061: 0.9571, 0.064: 0.9567, 0.067: 0.9566, 0.07: 0.9563, 0.07300000000000001: 0.9562, 0.076: 0.9563, 0.079: 0.9562, 0.082: 0.9563, 0.085: 0.9562, 0.08800000000000001: 0.9558, 0.091: 0.9555, 0.094: 0.9552, 0.097: 0.9545, 0.1: 0.9542, 0.10300000000000001: 0.9536, 0.106: 0.9531, 0.109: 0.9527, 0.112: 0.9525, 0.115: 0.9524, 0.11800000000000001: 0.9522, 0.121: 0.9517, 0.124: 0.9511, 0.127: 0.9507, 0.13: 0.9503, 0.133: 0.9505, 0.136: 0.9504, 0.139: 0.95, 0.14200000000000002: 0.9499, 0.14500000000000002: 0.9495, 0.148: 0.9494, 0.151: 0.9492, 0.154: 0.9491, 0.157: 0.9485, 0.16: 0.9483, 0.163: 0.9479, 0.166: 0.9475, 0.169: 0.9473, 0.17200000000000001: 0.9474, 0.17500000000000002: 0.9473, 0.178: 0.9469, 0.181: 0.9467, 0.184: 0.9465, 0.187: 0.9464, 0.19: 0.9465, 0.193: 0.9464, 0.196: 0.9459, 0.199: 0.9455, 0.202: 0.9448, 0.20500000000000002: 0.9446, 0.20800000000000002: 0.944, 0.211: 0.9436, 0.214: 0.9433, 0.217: 0.9433, 0.22: 0.9432, 0.223: 0.9428, 0.226: 0.9426, 0.229: 0.942, 0.232: 0.9417, 0.23500000000000001: 0.9414, 0.23800000000000002: 0.941, 0.241: 0.9407, 0.244: 0.9407, 0.247: 0.9403, 0.25: 0.9403, 0.253: 0.9401, 0.256: 0.9402, 0.259: 0.94, 0.262: 0.9398, 0.265: 0.9397, 0.268: 0.9397, 0.271: 0.9397, 0.274: 0.9394, 0.277: 0.9394}\n",
            "{0.001: 0.9108, 0.004: 0.9355, 0.007: 0.9423, 0.010000000000000002: 0.9473, 0.013000000000000001: 0.9498, 0.016: 0.9516, 0.019000000000000003: 0.953, 0.022000000000000002: 0.9546, 0.025: 0.9556, 0.028: 0.956, 0.031: 0.9562, 0.034: 0.9564, 0.037000000000000005: 0.9564, 0.04: 0.957, 0.043000000000000003: 0.9571, 0.046: 0.9565, 0.049: 0.9564, 0.052000000000000005: 0.9566, 0.055: 0.9562, 0.058: 0.9565, 0.061: 0.9571, 0.064: 0.9567, 0.067: 0.9566, 0.07: 0.9563, 0.07300000000000001: 0.9562, 0.076: 0.9563, 0.079: 0.9562, 0.082: 0.9563, 0.085: 0.9562, 0.08800000000000001: 0.9558, 0.091: 0.9555, 0.094: 0.9552, 0.097: 0.9545, 0.1: 0.9542, 0.10300000000000001: 0.9536, 0.106: 0.9531, 0.109: 0.9527, 0.112: 0.9525, 0.115: 0.9524, 0.11800000000000001: 0.9522, 0.121: 0.9517, 0.124: 0.9511, 0.127: 0.9507, 0.13: 0.9503, 0.133: 0.9505, 0.136: 0.9504, 0.139: 0.95, 0.14200000000000002: 0.9499, 0.14500000000000002: 0.9495, 0.148: 0.9494, 0.151: 0.9492, 0.154: 0.9491, 0.157: 0.9485, 0.16: 0.9483, 0.163: 0.9479, 0.166: 0.9475, 0.169: 0.9473, 0.17200000000000001: 0.9474, 0.17500000000000002: 0.9473, 0.178: 0.9469, 0.181: 0.9467, 0.184: 0.9465, 0.187: 0.9464, 0.19: 0.9465, 0.193: 0.9464, 0.196: 0.9459, 0.199: 0.9455, 0.202: 0.9448, 0.20500000000000002: 0.9446, 0.20800000000000002: 0.944, 0.211: 0.9436, 0.214: 0.9433, 0.217: 0.9433, 0.22: 0.9432, 0.223: 0.9428, 0.226: 0.9426, 0.229: 0.942, 0.232: 0.9417, 0.23500000000000001: 0.9414, 0.23800000000000002: 0.941, 0.241: 0.9407, 0.244: 0.9407, 0.247: 0.9403, 0.25: 0.9403, 0.253: 0.9401, 0.256: 0.9402, 0.259: 0.94, 0.262: 0.9398, 0.265: 0.9397, 0.268: 0.9397, 0.271: 0.9397, 0.274: 0.9394, 0.277: 0.9394, 0.28: 0.9389}\n",
            "{0.001: 0.9108, 0.004: 0.9355, 0.007: 0.9423, 0.010000000000000002: 0.9473, 0.013000000000000001: 0.9498, 0.016: 0.9516, 0.019000000000000003: 0.953, 0.022000000000000002: 0.9546, 0.025: 0.9556, 0.028: 0.956, 0.031: 0.9562, 0.034: 0.9564, 0.037000000000000005: 0.9564, 0.04: 0.957, 0.043000000000000003: 0.9571, 0.046: 0.9565, 0.049: 0.9564, 0.052000000000000005: 0.9566, 0.055: 0.9562, 0.058: 0.9565, 0.061: 0.9571, 0.064: 0.9567, 0.067: 0.9566, 0.07: 0.9563, 0.07300000000000001: 0.9562, 0.076: 0.9563, 0.079: 0.9562, 0.082: 0.9563, 0.085: 0.9562, 0.08800000000000001: 0.9558, 0.091: 0.9555, 0.094: 0.9552, 0.097: 0.9545, 0.1: 0.9542, 0.10300000000000001: 0.9536, 0.106: 0.9531, 0.109: 0.9527, 0.112: 0.9525, 0.115: 0.9524, 0.11800000000000001: 0.9522, 0.121: 0.9517, 0.124: 0.9511, 0.127: 0.9507, 0.13: 0.9503, 0.133: 0.9505, 0.136: 0.9504, 0.139: 0.95, 0.14200000000000002: 0.9499, 0.14500000000000002: 0.9495, 0.148: 0.9494, 0.151: 0.9492, 0.154: 0.9491, 0.157: 0.9485, 0.16: 0.9483, 0.163: 0.9479, 0.166: 0.9475, 0.169: 0.9473, 0.17200000000000001: 0.9474, 0.17500000000000002: 0.9473, 0.178: 0.9469, 0.181: 0.9467, 0.184: 0.9465, 0.187: 0.9464, 0.19: 0.9465, 0.193: 0.9464, 0.196: 0.9459, 0.199: 0.9455, 0.202: 0.9448, 0.20500000000000002: 0.9446, 0.20800000000000002: 0.944, 0.211: 0.9436, 0.214: 0.9433, 0.217: 0.9433, 0.22: 0.9432, 0.223: 0.9428, 0.226: 0.9426, 0.229: 0.942, 0.232: 0.9417, 0.23500000000000001: 0.9414, 0.23800000000000002: 0.941, 0.241: 0.9407, 0.244: 0.9407, 0.247: 0.9403, 0.25: 0.9403, 0.253: 0.9401, 0.256: 0.9402, 0.259: 0.94, 0.262: 0.9398, 0.265: 0.9397, 0.268: 0.9397, 0.271: 0.9397, 0.274: 0.9394, 0.277: 0.9394, 0.28: 0.9389, 0.28300000000000003: 0.9386}\n",
            "{0.001: 0.9108, 0.004: 0.9355, 0.007: 0.9423, 0.010000000000000002: 0.9473, 0.013000000000000001: 0.9498, 0.016: 0.9516, 0.019000000000000003: 0.953, 0.022000000000000002: 0.9546, 0.025: 0.9556, 0.028: 0.956, 0.031: 0.9562, 0.034: 0.9564, 0.037000000000000005: 0.9564, 0.04: 0.957, 0.043000000000000003: 0.9571, 0.046: 0.9565, 0.049: 0.9564, 0.052000000000000005: 0.9566, 0.055: 0.9562, 0.058: 0.9565, 0.061: 0.9571, 0.064: 0.9567, 0.067: 0.9566, 0.07: 0.9563, 0.07300000000000001: 0.9562, 0.076: 0.9563, 0.079: 0.9562, 0.082: 0.9563, 0.085: 0.9562, 0.08800000000000001: 0.9558, 0.091: 0.9555, 0.094: 0.9552, 0.097: 0.9545, 0.1: 0.9542, 0.10300000000000001: 0.9536, 0.106: 0.9531, 0.109: 0.9527, 0.112: 0.9525, 0.115: 0.9524, 0.11800000000000001: 0.9522, 0.121: 0.9517, 0.124: 0.9511, 0.127: 0.9507, 0.13: 0.9503, 0.133: 0.9505, 0.136: 0.9504, 0.139: 0.95, 0.14200000000000002: 0.9499, 0.14500000000000002: 0.9495, 0.148: 0.9494, 0.151: 0.9492, 0.154: 0.9491, 0.157: 0.9485, 0.16: 0.9483, 0.163: 0.9479, 0.166: 0.9475, 0.169: 0.9473, 0.17200000000000001: 0.9474, 0.17500000000000002: 0.9473, 0.178: 0.9469, 0.181: 0.9467, 0.184: 0.9465, 0.187: 0.9464, 0.19: 0.9465, 0.193: 0.9464, 0.196: 0.9459, 0.199: 0.9455, 0.202: 0.9448, 0.20500000000000002: 0.9446, 0.20800000000000002: 0.944, 0.211: 0.9436, 0.214: 0.9433, 0.217: 0.9433, 0.22: 0.9432, 0.223: 0.9428, 0.226: 0.9426, 0.229: 0.942, 0.232: 0.9417, 0.23500000000000001: 0.9414, 0.23800000000000002: 0.941, 0.241: 0.9407, 0.244: 0.9407, 0.247: 0.9403, 0.25: 0.9403, 0.253: 0.9401, 0.256: 0.9402, 0.259: 0.94, 0.262: 0.9398, 0.265: 0.9397, 0.268: 0.9397, 0.271: 0.9397, 0.274: 0.9394, 0.277: 0.9394, 0.28: 0.9389, 0.28300000000000003: 0.9386, 0.28600000000000003: 0.938}\n",
            "{0.001: 0.9108, 0.004: 0.9355, 0.007: 0.9423, 0.010000000000000002: 0.9473, 0.013000000000000001: 0.9498, 0.016: 0.9516, 0.019000000000000003: 0.953, 0.022000000000000002: 0.9546, 0.025: 0.9556, 0.028: 0.956, 0.031: 0.9562, 0.034: 0.9564, 0.037000000000000005: 0.9564, 0.04: 0.957, 0.043000000000000003: 0.9571, 0.046: 0.9565, 0.049: 0.9564, 0.052000000000000005: 0.9566, 0.055: 0.9562, 0.058: 0.9565, 0.061: 0.9571, 0.064: 0.9567, 0.067: 0.9566, 0.07: 0.9563, 0.07300000000000001: 0.9562, 0.076: 0.9563, 0.079: 0.9562, 0.082: 0.9563, 0.085: 0.9562, 0.08800000000000001: 0.9558, 0.091: 0.9555, 0.094: 0.9552, 0.097: 0.9545, 0.1: 0.9542, 0.10300000000000001: 0.9536, 0.106: 0.9531, 0.109: 0.9527, 0.112: 0.9525, 0.115: 0.9524, 0.11800000000000001: 0.9522, 0.121: 0.9517, 0.124: 0.9511, 0.127: 0.9507, 0.13: 0.9503, 0.133: 0.9505, 0.136: 0.9504, 0.139: 0.95, 0.14200000000000002: 0.9499, 0.14500000000000002: 0.9495, 0.148: 0.9494, 0.151: 0.9492, 0.154: 0.9491, 0.157: 0.9485, 0.16: 0.9483, 0.163: 0.9479, 0.166: 0.9475, 0.169: 0.9473, 0.17200000000000001: 0.9474, 0.17500000000000002: 0.9473, 0.178: 0.9469, 0.181: 0.9467, 0.184: 0.9465, 0.187: 0.9464, 0.19: 0.9465, 0.193: 0.9464, 0.196: 0.9459, 0.199: 0.9455, 0.202: 0.9448, 0.20500000000000002: 0.9446, 0.20800000000000002: 0.944, 0.211: 0.9436, 0.214: 0.9433, 0.217: 0.9433, 0.22: 0.9432, 0.223: 0.9428, 0.226: 0.9426, 0.229: 0.942, 0.232: 0.9417, 0.23500000000000001: 0.9414, 0.23800000000000002: 0.941, 0.241: 0.9407, 0.244: 0.9407, 0.247: 0.9403, 0.25: 0.9403, 0.253: 0.9401, 0.256: 0.9402, 0.259: 0.94, 0.262: 0.9398, 0.265: 0.9397, 0.268: 0.9397, 0.271: 0.9397, 0.274: 0.9394, 0.277: 0.9394, 0.28: 0.9389, 0.28300000000000003: 0.9386, 0.28600000000000003: 0.938, 0.28900000000000003: 0.9378}\n",
            "{0.001: 0.9108, 0.004: 0.9355, 0.007: 0.9423, 0.010000000000000002: 0.9473, 0.013000000000000001: 0.9498, 0.016: 0.9516, 0.019000000000000003: 0.953, 0.022000000000000002: 0.9546, 0.025: 0.9556, 0.028: 0.956, 0.031: 0.9562, 0.034: 0.9564, 0.037000000000000005: 0.9564, 0.04: 0.957, 0.043000000000000003: 0.9571, 0.046: 0.9565, 0.049: 0.9564, 0.052000000000000005: 0.9566, 0.055: 0.9562, 0.058: 0.9565, 0.061: 0.9571, 0.064: 0.9567, 0.067: 0.9566, 0.07: 0.9563, 0.07300000000000001: 0.9562, 0.076: 0.9563, 0.079: 0.9562, 0.082: 0.9563, 0.085: 0.9562, 0.08800000000000001: 0.9558, 0.091: 0.9555, 0.094: 0.9552, 0.097: 0.9545, 0.1: 0.9542, 0.10300000000000001: 0.9536, 0.106: 0.9531, 0.109: 0.9527, 0.112: 0.9525, 0.115: 0.9524, 0.11800000000000001: 0.9522, 0.121: 0.9517, 0.124: 0.9511, 0.127: 0.9507, 0.13: 0.9503, 0.133: 0.9505, 0.136: 0.9504, 0.139: 0.95, 0.14200000000000002: 0.9499, 0.14500000000000002: 0.9495, 0.148: 0.9494, 0.151: 0.9492, 0.154: 0.9491, 0.157: 0.9485, 0.16: 0.9483, 0.163: 0.9479, 0.166: 0.9475, 0.169: 0.9473, 0.17200000000000001: 0.9474, 0.17500000000000002: 0.9473, 0.178: 0.9469, 0.181: 0.9467, 0.184: 0.9465, 0.187: 0.9464, 0.19: 0.9465, 0.193: 0.9464, 0.196: 0.9459, 0.199: 0.9455, 0.202: 0.9448, 0.20500000000000002: 0.9446, 0.20800000000000002: 0.944, 0.211: 0.9436, 0.214: 0.9433, 0.217: 0.9433, 0.22: 0.9432, 0.223: 0.9428, 0.226: 0.9426, 0.229: 0.942, 0.232: 0.9417, 0.23500000000000001: 0.9414, 0.23800000000000002: 0.941, 0.241: 0.9407, 0.244: 0.9407, 0.247: 0.9403, 0.25: 0.9403, 0.253: 0.9401, 0.256: 0.9402, 0.259: 0.94, 0.262: 0.9398, 0.265: 0.9397, 0.268: 0.9397, 0.271: 0.9397, 0.274: 0.9394, 0.277: 0.9394, 0.28: 0.9389, 0.28300000000000003: 0.9386, 0.28600000000000003: 0.938, 0.28900000000000003: 0.9378, 0.292: 0.9373}\n",
            "{0.001: 0.9108, 0.004: 0.9355, 0.007: 0.9423, 0.010000000000000002: 0.9473, 0.013000000000000001: 0.9498, 0.016: 0.9516, 0.019000000000000003: 0.953, 0.022000000000000002: 0.9546, 0.025: 0.9556, 0.028: 0.956, 0.031: 0.9562, 0.034: 0.9564, 0.037000000000000005: 0.9564, 0.04: 0.957, 0.043000000000000003: 0.9571, 0.046: 0.9565, 0.049: 0.9564, 0.052000000000000005: 0.9566, 0.055: 0.9562, 0.058: 0.9565, 0.061: 0.9571, 0.064: 0.9567, 0.067: 0.9566, 0.07: 0.9563, 0.07300000000000001: 0.9562, 0.076: 0.9563, 0.079: 0.9562, 0.082: 0.9563, 0.085: 0.9562, 0.08800000000000001: 0.9558, 0.091: 0.9555, 0.094: 0.9552, 0.097: 0.9545, 0.1: 0.9542, 0.10300000000000001: 0.9536, 0.106: 0.9531, 0.109: 0.9527, 0.112: 0.9525, 0.115: 0.9524, 0.11800000000000001: 0.9522, 0.121: 0.9517, 0.124: 0.9511, 0.127: 0.9507, 0.13: 0.9503, 0.133: 0.9505, 0.136: 0.9504, 0.139: 0.95, 0.14200000000000002: 0.9499, 0.14500000000000002: 0.9495, 0.148: 0.9494, 0.151: 0.9492, 0.154: 0.9491, 0.157: 0.9485, 0.16: 0.9483, 0.163: 0.9479, 0.166: 0.9475, 0.169: 0.9473, 0.17200000000000001: 0.9474, 0.17500000000000002: 0.9473, 0.178: 0.9469, 0.181: 0.9467, 0.184: 0.9465, 0.187: 0.9464, 0.19: 0.9465, 0.193: 0.9464, 0.196: 0.9459, 0.199: 0.9455, 0.202: 0.9448, 0.20500000000000002: 0.9446, 0.20800000000000002: 0.944, 0.211: 0.9436, 0.214: 0.9433, 0.217: 0.9433, 0.22: 0.9432, 0.223: 0.9428, 0.226: 0.9426, 0.229: 0.942, 0.232: 0.9417, 0.23500000000000001: 0.9414, 0.23800000000000002: 0.941, 0.241: 0.9407, 0.244: 0.9407, 0.247: 0.9403, 0.25: 0.9403, 0.253: 0.9401, 0.256: 0.9402, 0.259: 0.94, 0.262: 0.9398, 0.265: 0.9397, 0.268: 0.9397, 0.271: 0.9397, 0.274: 0.9394, 0.277: 0.9394, 0.28: 0.9389, 0.28300000000000003: 0.9386, 0.28600000000000003: 0.938, 0.28900000000000003: 0.9378, 0.292: 0.9373, 0.295: 0.9369}\n",
            "{0.001: 0.9108, 0.004: 0.9355, 0.007: 0.9423, 0.010000000000000002: 0.9473, 0.013000000000000001: 0.9498, 0.016: 0.9516, 0.019000000000000003: 0.953, 0.022000000000000002: 0.9546, 0.025: 0.9556, 0.028: 0.956, 0.031: 0.9562, 0.034: 0.9564, 0.037000000000000005: 0.9564, 0.04: 0.957, 0.043000000000000003: 0.9571, 0.046: 0.9565, 0.049: 0.9564, 0.052000000000000005: 0.9566, 0.055: 0.9562, 0.058: 0.9565, 0.061: 0.9571, 0.064: 0.9567, 0.067: 0.9566, 0.07: 0.9563, 0.07300000000000001: 0.9562, 0.076: 0.9563, 0.079: 0.9562, 0.082: 0.9563, 0.085: 0.9562, 0.08800000000000001: 0.9558, 0.091: 0.9555, 0.094: 0.9552, 0.097: 0.9545, 0.1: 0.9542, 0.10300000000000001: 0.9536, 0.106: 0.9531, 0.109: 0.9527, 0.112: 0.9525, 0.115: 0.9524, 0.11800000000000001: 0.9522, 0.121: 0.9517, 0.124: 0.9511, 0.127: 0.9507, 0.13: 0.9503, 0.133: 0.9505, 0.136: 0.9504, 0.139: 0.95, 0.14200000000000002: 0.9499, 0.14500000000000002: 0.9495, 0.148: 0.9494, 0.151: 0.9492, 0.154: 0.9491, 0.157: 0.9485, 0.16: 0.9483, 0.163: 0.9479, 0.166: 0.9475, 0.169: 0.9473, 0.17200000000000001: 0.9474, 0.17500000000000002: 0.9473, 0.178: 0.9469, 0.181: 0.9467, 0.184: 0.9465, 0.187: 0.9464, 0.19: 0.9465, 0.193: 0.9464, 0.196: 0.9459, 0.199: 0.9455, 0.202: 0.9448, 0.20500000000000002: 0.9446, 0.20800000000000002: 0.944, 0.211: 0.9436, 0.214: 0.9433, 0.217: 0.9433, 0.22: 0.9432, 0.223: 0.9428, 0.226: 0.9426, 0.229: 0.942, 0.232: 0.9417, 0.23500000000000001: 0.9414, 0.23800000000000002: 0.941, 0.241: 0.9407, 0.244: 0.9407, 0.247: 0.9403, 0.25: 0.9403, 0.253: 0.9401, 0.256: 0.9402, 0.259: 0.94, 0.262: 0.9398, 0.265: 0.9397, 0.268: 0.9397, 0.271: 0.9397, 0.274: 0.9394, 0.277: 0.9394, 0.28: 0.9389, 0.28300000000000003: 0.9386, 0.28600000000000003: 0.938, 0.28900000000000003: 0.9378, 0.292: 0.9373, 0.295: 0.9369, 0.298: 0.9366}\n",
            "{0.001: 0.9108, 0.004: 0.9355, 0.007: 0.9423, 0.010000000000000002: 0.9473, 0.013000000000000001: 0.9498, 0.016: 0.9516, 0.019000000000000003: 0.953, 0.022000000000000002: 0.9546, 0.025: 0.9556, 0.028: 0.956, 0.031: 0.9562, 0.034: 0.9564, 0.037000000000000005: 0.9564, 0.04: 0.957, 0.043000000000000003: 0.9571, 0.046: 0.9565, 0.049: 0.9564, 0.052000000000000005: 0.9566, 0.055: 0.9562, 0.058: 0.9565, 0.061: 0.9571, 0.064: 0.9567, 0.067: 0.9566, 0.07: 0.9563, 0.07300000000000001: 0.9562, 0.076: 0.9563, 0.079: 0.9562, 0.082: 0.9563, 0.085: 0.9562, 0.08800000000000001: 0.9558, 0.091: 0.9555, 0.094: 0.9552, 0.097: 0.9545, 0.1: 0.9542, 0.10300000000000001: 0.9536, 0.106: 0.9531, 0.109: 0.9527, 0.112: 0.9525, 0.115: 0.9524, 0.11800000000000001: 0.9522, 0.121: 0.9517, 0.124: 0.9511, 0.127: 0.9507, 0.13: 0.9503, 0.133: 0.9505, 0.136: 0.9504, 0.139: 0.95, 0.14200000000000002: 0.9499, 0.14500000000000002: 0.9495, 0.148: 0.9494, 0.151: 0.9492, 0.154: 0.9491, 0.157: 0.9485, 0.16: 0.9483, 0.163: 0.9479, 0.166: 0.9475, 0.169: 0.9473, 0.17200000000000001: 0.9474, 0.17500000000000002: 0.9473, 0.178: 0.9469, 0.181: 0.9467, 0.184: 0.9465, 0.187: 0.9464, 0.19: 0.9465, 0.193: 0.9464, 0.196: 0.9459, 0.199: 0.9455, 0.202: 0.9448, 0.20500000000000002: 0.9446, 0.20800000000000002: 0.944, 0.211: 0.9436, 0.214: 0.9433, 0.217: 0.9433, 0.22: 0.9432, 0.223: 0.9428, 0.226: 0.9426, 0.229: 0.942, 0.232: 0.9417, 0.23500000000000001: 0.9414, 0.23800000000000002: 0.941, 0.241: 0.9407, 0.244: 0.9407, 0.247: 0.9403, 0.25: 0.9403, 0.253: 0.9401, 0.256: 0.9402, 0.259: 0.94, 0.262: 0.9398, 0.265: 0.9397, 0.268: 0.9397, 0.271: 0.9397, 0.274: 0.9394, 0.277: 0.9394, 0.28: 0.9389, 0.28300000000000003: 0.9386, 0.28600000000000003: 0.938, 0.28900000000000003: 0.9378, 0.292: 0.9373, 0.295: 0.9369, 0.298: 0.9366, 0.301: 0.9361}\n",
            "{0.001: 0.9108, 0.004: 0.9355, 0.007: 0.9423, 0.010000000000000002: 0.9473, 0.013000000000000001: 0.9498, 0.016: 0.9516, 0.019000000000000003: 0.953, 0.022000000000000002: 0.9546, 0.025: 0.9556, 0.028: 0.956, 0.031: 0.9562, 0.034: 0.9564, 0.037000000000000005: 0.9564, 0.04: 0.957, 0.043000000000000003: 0.9571, 0.046: 0.9565, 0.049: 0.9564, 0.052000000000000005: 0.9566, 0.055: 0.9562, 0.058: 0.9565, 0.061: 0.9571, 0.064: 0.9567, 0.067: 0.9566, 0.07: 0.9563, 0.07300000000000001: 0.9562, 0.076: 0.9563, 0.079: 0.9562, 0.082: 0.9563, 0.085: 0.9562, 0.08800000000000001: 0.9558, 0.091: 0.9555, 0.094: 0.9552, 0.097: 0.9545, 0.1: 0.9542, 0.10300000000000001: 0.9536, 0.106: 0.9531, 0.109: 0.9527, 0.112: 0.9525, 0.115: 0.9524, 0.11800000000000001: 0.9522, 0.121: 0.9517, 0.124: 0.9511, 0.127: 0.9507, 0.13: 0.9503, 0.133: 0.9505, 0.136: 0.9504, 0.139: 0.95, 0.14200000000000002: 0.9499, 0.14500000000000002: 0.9495, 0.148: 0.9494, 0.151: 0.9492, 0.154: 0.9491, 0.157: 0.9485, 0.16: 0.9483, 0.163: 0.9479, 0.166: 0.9475, 0.169: 0.9473, 0.17200000000000001: 0.9474, 0.17500000000000002: 0.9473, 0.178: 0.9469, 0.181: 0.9467, 0.184: 0.9465, 0.187: 0.9464, 0.19: 0.9465, 0.193: 0.9464, 0.196: 0.9459, 0.199: 0.9455, 0.202: 0.9448, 0.20500000000000002: 0.9446, 0.20800000000000002: 0.944, 0.211: 0.9436, 0.214: 0.9433, 0.217: 0.9433, 0.22: 0.9432, 0.223: 0.9428, 0.226: 0.9426, 0.229: 0.942, 0.232: 0.9417, 0.23500000000000001: 0.9414, 0.23800000000000002: 0.941, 0.241: 0.9407, 0.244: 0.9407, 0.247: 0.9403, 0.25: 0.9403, 0.253: 0.9401, 0.256: 0.9402, 0.259: 0.94, 0.262: 0.9398, 0.265: 0.9397, 0.268: 0.9397, 0.271: 0.9397, 0.274: 0.9394, 0.277: 0.9394, 0.28: 0.9389, 0.28300000000000003: 0.9386, 0.28600000000000003: 0.938, 0.28900000000000003: 0.9378, 0.292: 0.9373, 0.295: 0.9369, 0.298: 0.9366, 0.301: 0.9361, 0.304: 0.9355}\n",
            "{0.001: 0.9108, 0.004: 0.9355, 0.007: 0.9423, 0.010000000000000002: 0.9473, 0.013000000000000001: 0.9498, 0.016: 0.9516, 0.019000000000000003: 0.953, 0.022000000000000002: 0.9546, 0.025: 0.9556, 0.028: 0.956, 0.031: 0.9562, 0.034: 0.9564, 0.037000000000000005: 0.9564, 0.04: 0.957, 0.043000000000000003: 0.9571, 0.046: 0.9565, 0.049: 0.9564, 0.052000000000000005: 0.9566, 0.055: 0.9562, 0.058: 0.9565, 0.061: 0.9571, 0.064: 0.9567, 0.067: 0.9566, 0.07: 0.9563, 0.07300000000000001: 0.9562, 0.076: 0.9563, 0.079: 0.9562, 0.082: 0.9563, 0.085: 0.9562, 0.08800000000000001: 0.9558, 0.091: 0.9555, 0.094: 0.9552, 0.097: 0.9545, 0.1: 0.9542, 0.10300000000000001: 0.9536, 0.106: 0.9531, 0.109: 0.9527, 0.112: 0.9525, 0.115: 0.9524, 0.11800000000000001: 0.9522, 0.121: 0.9517, 0.124: 0.9511, 0.127: 0.9507, 0.13: 0.9503, 0.133: 0.9505, 0.136: 0.9504, 0.139: 0.95, 0.14200000000000002: 0.9499, 0.14500000000000002: 0.9495, 0.148: 0.9494, 0.151: 0.9492, 0.154: 0.9491, 0.157: 0.9485, 0.16: 0.9483, 0.163: 0.9479, 0.166: 0.9475, 0.169: 0.9473, 0.17200000000000001: 0.9474, 0.17500000000000002: 0.9473, 0.178: 0.9469, 0.181: 0.9467, 0.184: 0.9465, 0.187: 0.9464, 0.19: 0.9465, 0.193: 0.9464, 0.196: 0.9459, 0.199: 0.9455, 0.202: 0.9448, 0.20500000000000002: 0.9446, 0.20800000000000002: 0.944, 0.211: 0.9436, 0.214: 0.9433, 0.217: 0.9433, 0.22: 0.9432, 0.223: 0.9428, 0.226: 0.9426, 0.229: 0.942, 0.232: 0.9417, 0.23500000000000001: 0.9414, 0.23800000000000002: 0.941, 0.241: 0.9407, 0.244: 0.9407, 0.247: 0.9403, 0.25: 0.9403, 0.253: 0.9401, 0.256: 0.9402, 0.259: 0.94, 0.262: 0.9398, 0.265: 0.9397, 0.268: 0.9397, 0.271: 0.9397, 0.274: 0.9394, 0.277: 0.9394, 0.28: 0.9389, 0.28300000000000003: 0.9386, 0.28600000000000003: 0.938, 0.28900000000000003: 0.9378, 0.292: 0.9373, 0.295: 0.9369, 0.298: 0.9366, 0.301: 0.9361, 0.304: 0.9355, 0.307: 0.9353}\n",
            "{0.001: 0.9108, 0.004: 0.9355, 0.007: 0.9423, 0.010000000000000002: 0.9473, 0.013000000000000001: 0.9498, 0.016: 0.9516, 0.019000000000000003: 0.953, 0.022000000000000002: 0.9546, 0.025: 0.9556, 0.028: 0.956, 0.031: 0.9562, 0.034: 0.9564, 0.037000000000000005: 0.9564, 0.04: 0.957, 0.043000000000000003: 0.9571, 0.046: 0.9565, 0.049: 0.9564, 0.052000000000000005: 0.9566, 0.055: 0.9562, 0.058: 0.9565, 0.061: 0.9571, 0.064: 0.9567, 0.067: 0.9566, 0.07: 0.9563, 0.07300000000000001: 0.9562, 0.076: 0.9563, 0.079: 0.9562, 0.082: 0.9563, 0.085: 0.9562, 0.08800000000000001: 0.9558, 0.091: 0.9555, 0.094: 0.9552, 0.097: 0.9545, 0.1: 0.9542, 0.10300000000000001: 0.9536, 0.106: 0.9531, 0.109: 0.9527, 0.112: 0.9525, 0.115: 0.9524, 0.11800000000000001: 0.9522, 0.121: 0.9517, 0.124: 0.9511, 0.127: 0.9507, 0.13: 0.9503, 0.133: 0.9505, 0.136: 0.9504, 0.139: 0.95, 0.14200000000000002: 0.9499, 0.14500000000000002: 0.9495, 0.148: 0.9494, 0.151: 0.9492, 0.154: 0.9491, 0.157: 0.9485, 0.16: 0.9483, 0.163: 0.9479, 0.166: 0.9475, 0.169: 0.9473, 0.17200000000000001: 0.9474, 0.17500000000000002: 0.9473, 0.178: 0.9469, 0.181: 0.9467, 0.184: 0.9465, 0.187: 0.9464, 0.19: 0.9465, 0.193: 0.9464, 0.196: 0.9459, 0.199: 0.9455, 0.202: 0.9448, 0.20500000000000002: 0.9446, 0.20800000000000002: 0.944, 0.211: 0.9436, 0.214: 0.9433, 0.217: 0.9433, 0.22: 0.9432, 0.223: 0.9428, 0.226: 0.9426, 0.229: 0.942, 0.232: 0.9417, 0.23500000000000001: 0.9414, 0.23800000000000002: 0.941, 0.241: 0.9407, 0.244: 0.9407, 0.247: 0.9403, 0.25: 0.9403, 0.253: 0.9401, 0.256: 0.9402, 0.259: 0.94, 0.262: 0.9398, 0.265: 0.9397, 0.268: 0.9397, 0.271: 0.9397, 0.274: 0.9394, 0.277: 0.9394, 0.28: 0.9389, 0.28300000000000003: 0.9386, 0.28600000000000003: 0.938, 0.28900000000000003: 0.9378, 0.292: 0.9373, 0.295: 0.9369, 0.298: 0.9366, 0.301: 0.9361, 0.304: 0.9355, 0.307: 0.9353, 0.31: 0.9352}\n",
            "{0.001: 0.9108, 0.004: 0.9355, 0.007: 0.9423, 0.010000000000000002: 0.9473, 0.013000000000000001: 0.9498, 0.016: 0.9516, 0.019000000000000003: 0.953, 0.022000000000000002: 0.9546, 0.025: 0.9556, 0.028: 0.956, 0.031: 0.9562, 0.034: 0.9564, 0.037000000000000005: 0.9564, 0.04: 0.957, 0.043000000000000003: 0.9571, 0.046: 0.9565, 0.049: 0.9564, 0.052000000000000005: 0.9566, 0.055: 0.9562, 0.058: 0.9565, 0.061: 0.9571, 0.064: 0.9567, 0.067: 0.9566, 0.07: 0.9563, 0.07300000000000001: 0.9562, 0.076: 0.9563, 0.079: 0.9562, 0.082: 0.9563, 0.085: 0.9562, 0.08800000000000001: 0.9558, 0.091: 0.9555, 0.094: 0.9552, 0.097: 0.9545, 0.1: 0.9542, 0.10300000000000001: 0.9536, 0.106: 0.9531, 0.109: 0.9527, 0.112: 0.9525, 0.115: 0.9524, 0.11800000000000001: 0.9522, 0.121: 0.9517, 0.124: 0.9511, 0.127: 0.9507, 0.13: 0.9503, 0.133: 0.9505, 0.136: 0.9504, 0.139: 0.95, 0.14200000000000002: 0.9499, 0.14500000000000002: 0.9495, 0.148: 0.9494, 0.151: 0.9492, 0.154: 0.9491, 0.157: 0.9485, 0.16: 0.9483, 0.163: 0.9479, 0.166: 0.9475, 0.169: 0.9473, 0.17200000000000001: 0.9474, 0.17500000000000002: 0.9473, 0.178: 0.9469, 0.181: 0.9467, 0.184: 0.9465, 0.187: 0.9464, 0.19: 0.9465, 0.193: 0.9464, 0.196: 0.9459, 0.199: 0.9455, 0.202: 0.9448, 0.20500000000000002: 0.9446, 0.20800000000000002: 0.944, 0.211: 0.9436, 0.214: 0.9433, 0.217: 0.9433, 0.22: 0.9432, 0.223: 0.9428, 0.226: 0.9426, 0.229: 0.942, 0.232: 0.9417, 0.23500000000000001: 0.9414, 0.23800000000000002: 0.941, 0.241: 0.9407, 0.244: 0.9407, 0.247: 0.9403, 0.25: 0.9403, 0.253: 0.9401, 0.256: 0.9402, 0.259: 0.94, 0.262: 0.9398, 0.265: 0.9397, 0.268: 0.9397, 0.271: 0.9397, 0.274: 0.9394, 0.277: 0.9394, 0.28: 0.9389, 0.28300000000000003: 0.9386, 0.28600000000000003: 0.938, 0.28900000000000003: 0.9378, 0.292: 0.9373, 0.295: 0.9369, 0.298: 0.9366, 0.301: 0.9361, 0.304: 0.9355, 0.307: 0.9353, 0.31: 0.9352, 0.313: 0.9351}\n",
            "{0.001: 0.9108, 0.004: 0.9355, 0.007: 0.9423, 0.010000000000000002: 0.9473, 0.013000000000000001: 0.9498, 0.016: 0.9516, 0.019000000000000003: 0.953, 0.022000000000000002: 0.9546, 0.025: 0.9556, 0.028: 0.956, 0.031: 0.9562, 0.034: 0.9564, 0.037000000000000005: 0.9564, 0.04: 0.957, 0.043000000000000003: 0.9571, 0.046: 0.9565, 0.049: 0.9564, 0.052000000000000005: 0.9566, 0.055: 0.9562, 0.058: 0.9565, 0.061: 0.9571, 0.064: 0.9567, 0.067: 0.9566, 0.07: 0.9563, 0.07300000000000001: 0.9562, 0.076: 0.9563, 0.079: 0.9562, 0.082: 0.9563, 0.085: 0.9562, 0.08800000000000001: 0.9558, 0.091: 0.9555, 0.094: 0.9552, 0.097: 0.9545, 0.1: 0.9542, 0.10300000000000001: 0.9536, 0.106: 0.9531, 0.109: 0.9527, 0.112: 0.9525, 0.115: 0.9524, 0.11800000000000001: 0.9522, 0.121: 0.9517, 0.124: 0.9511, 0.127: 0.9507, 0.13: 0.9503, 0.133: 0.9505, 0.136: 0.9504, 0.139: 0.95, 0.14200000000000002: 0.9499, 0.14500000000000002: 0.9495, 0.148: 0.9494, 0.151: 0.9492, 0.154: 0.9491, 0.157: 0.9485, 0.16: 0.9483, 0.163: 0.9479, 0.166: 0.9475, 0.169: 0.9473, 0.17200000000000001: 0.9474, 0.17500000000000002: 0.9473, 0.178: 0.9469, 0.181: 0.9467, 0.184: 0.9465, 0.187: 0.9464, 0.19: 0.9465, 0.193: 0.9464, 0.196: 0.9459, 0.199: 0.9455, 0.202: 0.9448, 0.20500000000000002: 0.9446, 0.20800000000000002: 0.944, 0.211: 0.9436, 0.214: 0.9433, 0.217: 0.9433, 0.22: 0.9432, 0.223: 0.9428, 0.226: 0.9426, 0.229: 0.942, 0.232: 0.9417, 0.23500000000000001: 0.9414, 0.23800000000000002: 0.941, 0.241: 0.9407, 0.244: 0.9407, 0.247: 0.9403, 0.25: 0.9403, 0.253: 0.9401, 0.256: 0.9402, 0.259: 0.94, 0.262: 0.9398, 0.265: 0.9397, 0.268: 0.9397, 0.271: 0.9397, 0.274: 0.9394, 0.277: 0.9394, 0.28: 0.9389, 0.28300000000000003: 0.9386, 0.28600000000000003: 0.938, 0.28900000000000003: 0.9378, 0.292: 0.9373, 0.295: 0.9369, 0.298: 0.9366, 0.301: 0.9361, 0.304: 0.9355, 0.307: 0.9353, 0.31: 0.9352, 0.313: 0.9351, 0.316: 0.9346}\n",
            "{0.001: 0.9108, 0.004: 0.9355, 0.007: 0.9423, 0.010000000000000002: 0.9473, 0.013000000000000001: 0.9498, 0.016: 0.9516, 0.019000000000000003: 0.953, 0.022000000000000002: 0.9546, 0.025: 0.9556, 0.028: 0.956, 0.031: 0.9562, 0.034: 0.9564, 0.037000000000000005: 0.9564, 0.04: 0.957, 0.043000000000000003: 0.9571, 0.046: 0.9565, 0.049: 0.9564, 0.052000000000000005: 0.9566, 0.055: 0.9562, 0.058: 0.9565, 0.061: 0.9571, 0.064: 0.9567, 0.067: 0.9566, 0.07: 0.9563, 0.07300000000000001: 0.9562, 0.076: 0.9563, 0.079: 0.9562, 0.082: 0.9563, 0.085: 0.9562, 0.08800000000000001: 0.9558, 0.091: 0.9555, 0.094: 0.9552, 0.097: 0.9545, 0.1: 0.9542, 0.10300000000000001: 0.9536, 0.106: 0.9531, 0.109: 0.9527, 0.112: 0.9525, 0.115: 0.9524, 0.11800000000000001: 0.9522, 0.121: 0.9517, 0.124: 0.9511, 0.127: 0.9507, 0.13: 0.9503, 0.133: 0.9505, 0.136: 0.9504, 0.139: 0.95, 0.14200000000000002: 0.9499, 0.14500000000000002: 0.9495, 0.148: 0.9494, 0.151: 0.9492, 0.154: 0.9491, 0.157: 0.9485, 0.16: 0.9483, 0.163: 0.9479, 0.166: 0.9475, 0.169: 0.9473, 0.17200000000000001: 0.9474, 0.17500000000000002: 0.9473, 0.178: 0.9469, 0.181: 0.9467, 0.184: 0.9465, 0.187: 0.9464, 0.19: 0.9465, 0.193: 0.9464, 0.196: 0.9459, 0.199: 0.9455, 0.202: 0.9448, 0.20500000000000002: 0.9446, 0.20800000000000002: 0.944, 0.211: 0.9436, 0.214: 0.9433, 0.217: 0.9433, 0.22: 0.9432, 0.223: 0.9428, 0.226: 0.9426, 0.229: 0.942, 0.232: 0.9417, 0.23500000000000001: 0.9414, 0.23800000000000002: 0.941, 0.241: 0.9407, 0.244: 0.9407, 0.247: 0.9403, 0.25: 0.9403, 0.253: 0.9401, 0.256: 0.9402, 0.259: 0.94, 0.262: 0.9398, 0.265: 0.9397, 0.268: 0.9397, 0.271: 0.9397, 0.274: 0.9394, 0.277: 0.9394, 0.28: 0.9389, 0.28300000000000003: 0.9386, 0.28600000000000003: 0.938, 0.28900000000000003: 0.9378, 0.292: 0.9373, 0.295: 0.9369, 0.298: 0.9366, 0.301: 0.9361, 0.304: 0.9355, 0.307: 0.9353, 0.31: 0.9352, 0.313: 0.9351, 0.316: 0.9346, 0.319: 0.9342}\n",
            "{0.001: 0.9108, 0.004: 0.9355, 0.007: 0.9423, 0.010000000000000002: 0.9473, 0.013000000000000001: 0.9498, 0.016: 0.9516, 0.019000000000000003: 0.953, 0.022000000000000002: 0.9546, 0.025: 0.9556, 0.028: 0.956, 0.031: 0.9562, 0.034: 0.9564, 0.037000000000000005: 0.9564, 0.04: 0.957, 0.043000000000000003: 0.9571, 0.046: 0.9565, 0.049: 0.9564, 0.052000000000000005: 0.9566, 0.055: 0.9562, 0.058: 0.9565, 0.061: 0.9571, 0.064: 0.9567, 0.067: 0.9566, 0.07: 0.9563, 0.07300000000000001: 0.9562, 0.076: 0.9563, 0.079: 0.9562, 0.082: 0.9563, 0.085: 0.9562, 0.08800000000000001: 0.9558, 0.091: 0.9555, 0.094: 0.9552, 0.097: 0.9545, 0.1: 0.9542, 0.10300000000000001: 0.9536, 0.106: 0.9531, 0.109: 0.9527, 0.112: 0.9525, 0.115: 0.9524, 0.11800000000000001: 0.9522, 0.121: 0.9517, 0.124: 0.9511, 0.127: 0.9507, 0.13: 0.9503, 0.133: 0.9505, 0.136: 0.9504, 0.139: 0.95, 0.14200000000000002: 0.9499, 0.14500000000000002: 0.9495, 0.148: 0.9494, 0.151: 0.9492, 0.154: 0.9491, 0.157: 0.9485, 0.16: 0.9483, 0.163: 0.9479, 0.166: 0.9475, 0.169: 0.9473, 0.17200000000000001: 0.9474, 0.17500000000000002: 0.9473, 0.178: 0.9469, 0.181: 0.9467, 0.184: 0.9465, 0.187: 0.9464, 0.19: 0.9465, 0.193: 0.9464, 0.196: 0.9459, 0.199: 0.9455, 0.202: 0.9448, 0.20500000000000002: 0.9446, 0.20800000000000002: 0.944, 0.211: 0.9436, 0.214: 0.9433, 0.217: 0.9433, 0.22: 0.9432, 0.223: 0.9428, 0.226: 0.9426, 0.229: 0.942, 0.232: 0.9417, 0.23500000000000001: 0.9414, 0.23800000000000002: 0.941, 0.241: 0.9407, 0.244: 0.9407, 0.247: 0.9403, 0.25: 0.9403, 0.253: 0.9401, 0.256: 0.9402, 0.259: 0.94, 0.262: 0.9398, 0.265: 0.9397, 0.268: 0.9397, 0.271: 0.9397, 0.274: 0.9394, 0.277: 0.9394, 0.28: 0.9389, 0.28300000000000003: 0.9386, 0.28600000000000003: 0.938, 0.28900000000000003: 0.9378, 0.292: 0.9373, 0.295: 0.9369, 0.298: 0.9366, 0.301: 0.9361, 0.304: 0.9355, 0.307: 0.9353, 0.31: 0.9352, 0.313: 0.9351, 0.316: 0.9346, 0.319: 0.9342, 0.322: 0.934}\n",
            "{0.001: 0.9108, 0.004: 0.9355, 0.007: 0.9423, 0.010000000000000002: 0.9473, 0.013000000000000001: 0.9498, 0.016: 0.9516, 0.019000000000000003: 0.953, 0.022000000000000002: 0.9546, 0.025: 0.9556, 0.028: 0.956, 0.031: 0.9562, 0.034: 0.9564, 0.037000000000000005: 0.9564, 0.04: 0.957, 0.043000000000000003: 0.9571, 0.046: 0.9565, 0.049: 0.9564, 0.052000000000000005: 0.9566, 0.055: 0.9562, 0.058: 0.9565, 0.061: 0.9571, 0.064: 0.9567, 0.067: 0.9566, 0.07: 0.9563, 0.07300000000000001: 0.9562, 0.076: 0.9563, 0.079: 0.9562, 0.082: 0.9563, 0.085: 0.9562, 0.08800000000000001: 0.9558, 0.091: 0.9555, 0.094: 0.9552, 0.097: 0.9545, 0.1: 0.9542, 0.10300000000000001: 0.9536, 0.106: 0.9531, 0.109: 0.9527, 0.112: 0.9525, 0.115: 0.9524, 0.11800000000000001: 0.9522, 0.121: 0.9517, 0.124: 0.9511, 0.127: 0.9507, 0.13: 0.9503, 0.133: 0.9505, 0.136: 0.9504, 0.139: 0.95, 0.14200000000000002: 0.9499, 0.14500000000000002: 0.9495, 0.148: 0.9494, 0.151: 0.9492, 0.154: 0.9491, 0.157: 0.9485, 0.16: 0.9483, 0.163: 0.9479, 0.166: 0.9475, 0.169: 0.9473, 0.17200000000000001: 0.9474, 0.17500000000000002: 0.9473, 0.178: 0.9469, 0.181: 0.9467, 0.184: 0.9465, 0.187: 0.9464, 0.19: 0.9465, 0.193: 0.9464, 0.196: 0.9459, 0.199: 0.9455, 0.202: 0.9448, 0.20500000000000002: 0.9446, 0.20800000000000002: 0.944, 0.211: 0.9436, 0.214: 0.9433, 0.217: 0.9433, 0.22: 0.9432, 0.223: 0.9428, 0.226: 0.9426, 0.229: 0.942, 0.232: 0.9417, 0.23500000000000001: 0.9414, 0.23800000000000002: 0.941, 0.241: 0.9407, 0.244: 0.9407, 0.247: 0.9403, 0.25: 0.9403, 0.253: 0.9401, 0.256: 0.9402, 0.259: 0.94, 0.262: 0.9398, 0.265: 0.9397, 0.268: 0.9397, 0.271: 0.9397, 0.274: 0.9394, 0.277: 0.9394, 0.28: 0.9389, 0.28300000000000003: 0.9386, 0.28600000000000003: 0.938, 0.28900000000000003: 0.9378, 0.292: 0.9373, 0.295: 0.9369, 0.298: 0.9366, 0.301: 0.9361, 0.304: 0.9355, 0.307: 0.9353, 0.31: 0.9352, 0.313: 0.9351, 0.316: 0.9346, 0.319: 0.9342, 0.322: 0.934, 0.325: 0.9339}\n",
            "{0.001: 0.9108, 0.004: 0.9355, 0.007: 0.9423, 0.010000000000000002: 0.9473, 0.013000000000000001: 0.9498, 0.016: 0.9516, 0.019000000000000003: 0.953, 0.022000000000000002: 0.9546, 0.025: 0.9556, 0.028: 0.956, 0.031: 0.9562, 0.034: 0.9564, 0.037000000000000005: 0.9564, 0.04: 0.957, 0.043000000000000003: 0.9571, 0.046: 0.9565, 0.049: 0.9564, 0.052000000000000005: 0.9566, 0.055: 0.9562, 0.058: 0.9565, 0.061: 0.9571, 0.064: 0.9567, 0.067: 0.9566, 0.07: 0.9563, 0.07300000000000001: 0.9562, 0.076: 0.9563, 0.079: 0.9562, 0.082: 0.9563, 0.085: 0.9562, 0.08800000000000001: 0.9558, 0.091: 0.9555, 0.094: 0.9552, 0.097: 0.9545, 0.1: 0.9542, 0.10300000000000001: 0.9536, 0.106: 0.9531, 0.109: 0.9527, 0.112: 0.9525, 0.115: 0.9524, 0.11800000000000001: 0.9522, 0.121: 0.9517, 0.124: 0.9511, 0.127: 0.9507, 0.13: 0.9503, 0.133: 0.9505, 0.136: 0.9504, 0.139: 0.95, 0.14200000000000002: 0.9499, 0.14500000000000002: 0.9495, 0.148: 0.9494, 0.151: 0.9492, 0.154: 0.9491, 0.157: 0.9485, 0.16: 0.9483, 0.163: 0.9479, 0.166: 0.9475, 0.169: 0.9473, 0.17200000000000001: 0.9474, 0.17500000000000002: 0.9473, 0.178: 0.9469, 0.181: 0.9467, 0.184: 0.9465, 0.187: 0.9464, 0.19: 0.9465, 0.193: 0.9464, 0.196: 0.9459, 0.199: 0.9455, 0.202: 0.9448, 0.20500000000000002: 0.9446, 0.20800000000000002: 0.944, 0.211: 0.9436, 0.214: 0.9433, 0.217: 0.9433, 0.22: 0.9432, 0.223: 0.9428, 0.226: 0.9426, 0.229: 0.942, 0.232: 0.9417, 0.23500000000000001: 0.9414, 0.23800000000000002: 0.941, 0.241: 0.9407, 0.244: 0.9407, 0.247: 0.9403, 0.25: 0.9403, 0.253: 0.9401, 0.256: 0.9402, 0.259: 0.94, 0.262: 0.9398, 0.265: 0.9397, 0.268: 0.9397, 0.271: 0.9397, 0.274: 0.9394, 0.277: 0.9394, 0.28: 0.9389, 0.28300000000000003: 0.9386, 0.28600000000000003: 0.938, 0.28900000000000003: 0.9378, 0.292: 0.9373, 0.295: 0.9369, 0.298: 0.9366, 0.301: 0.9361, 0.304: 0.9355, 0.307: 0.9353, 0.31: 0.9352, 0.313: 0.9351, 0.316: 0.9346, 0.319: 0.9342, 0.322: 0.934, 0.325: 0.9339, 0.328: 0.9338}\n",
            "{0.001: 0.9108, 0.004: 0.9355, 0.007: 0.9423, 0.010000000000000002: 0.9473, 0.013000000000000001: 0.9498, 0.016: 0.9516, 0.019000000000000003: 0.953, 0.022000000000000002: 0.9546, 0.025: 0.9556, 0.028: 0.956, 0.031: 0.9562, 0.034: 0.9564, 0.037000000000000005: 0.9564, 0.04: 0.957, 0.043000000000000003: 0.9571, 0.046: 0.9565, 0.049: 0.9564, 0.052000000000000005: 0.9566, 0.055: 0.9562, 0.058: 0.9565, 0.061: 0.9571, 0.064: 0.9567, 0.067: 0.9566, 0.07: 0.9563, 0.07300000000000001: 0.9562, 0.076: 0.9563, 0.079: 0.9562, 0.082: 0.9563, 0.085: 0.9562, 0.08800000000000001: 0.9558, 0.091: 0.9555, 0.094: 0.9552, 0.097: 0.9545, 0.1: 0.9542, 0.10300000000000001: 0.9536, 0.106: 0.9531, 0.109: 0.9527, 0.112: 0.9525, 0.115: 0.9524, 0.11800000000000001: 0.9522, 0.121: 0.9517, 0.124: 0.9511, 0.127: 0.9507, 0.13: 0.9503, 0.133: 0.9505, 0.136: 0.9504, 0.139: 0.95, 0.14200000000000002: 0.9499, 0.14500000000000002: 0.9495, 0.148: 0.9494, 0.151: 0.9492, 0.154: 0.9491, 0.157: 0.9485, 0.16: 0.9483, 0.163: 0.9479, 0.166: 0.9475, 0.169: 0.9473, 0.17200000000000001: 0.9474, 0.17500000000000002: 0.9473, 0.178: 0.9469, 0.181: 0.9467, 0.184: 0.9465, 0.187: 0.9464, 0.19: 0.9465, 0.193: 0.9464, 0.196: 0.9459, 0.199: 0.9455, 0.202: 0.9448, 0.20500000000000002: 0.9446, 0.20800000000000002: 0.944, 0.211: 0.9436, 0.214: 0.9433, 0.217: 0.9433, 0.22: 0.9432, 0.223: 0.9428, 0.226: 0.9426, 0.229: 0.942, 0.232: 0.9417, 0.23500000000000001: 0.9414, 0.23800000000000002: 0.941, 0.241: 0.9407, 0.244: 0.9407, 0.247: 0.9403, 0.25: 0.9403, 0.253: 0.9401, 0.256: 0.9402, 0.259: 0.94, 0.262: 0.9398, 0.265: 0.9397, 0.268: 0.9397, 0.271: 0.9397, 0.274: 0.9394, 0.277: 0.9394, 0.28: 0.9389, 0.28300000000000003: 0.9386, 0.28600000000000003: 0.938, 0.28900000000000003: 0.9378, 0.292: 0.9373, 0.295: 0.9369, 0.298: 0.9366, 0.301: 0.9361, 0.304: 0.9355, 0.307: 0.9353, 0.31: 0.9352, 0.313: 0.9351, 0.316: 0.9346, 0.319: 0.9342, 0.322: 0.934, 0.325: 0.9339, 0.328: 0.9338, 0.331: 0.9334}\n",
            "{0.001: 0.9108, 0.004: 0.9355, 0.007: 0.9423, 0.010000000000000002: 0.9473, 0.013000000000000001: 0.9498, 0.016: 0.9516, 0.019000000000000003: 0.953, 0.022000000000000002: 0.9546, 0.025: 0.9556, 0.028: 0.956, 0.031: 0.9562, 0.034: 0.9564, 0.037000000000000005: 0.9564, 0.04: 0.957, 0.043000000000000003: 0.9571, 0.046: 0.9565, 0.049: 0.9564, 0.052000000000000005: 0.9566, 0.055: 0.9562, 0.058: 0.9565, 0.061: 0.9571, 0.064: 0.9567, 0.067: 0.9566, 0.07: 0.9563, 0.07300000000000001: 0.9562, 0.076: 0.9563, 0.079: 0.9562, 0.082: 0.9563, 0.085: 0.9562, 0.08800000000000001: 0.9558, 0.091: 0.9555, 0.094: 0.9552, 0.097: 0.9545, 0.1: 0.9542, 0.10300000000000001: 0.9536, 0.106: 0.9531, 0.109: 0.9527, 0.112: 0.9525, 0.115: 0.9524, 0.11800000000000001: 0.9522, 0.121: 0.9517, 0.124: 0.9511, 0.127: 0.9507, 0.13: 0.9503, 0.133: 0.9505, 0.136: 0.9504, 0.139: 0.95, 0.14200000000000002: 0.9499, 0.14500000000000002: 0.9495, 0.148: 0.9494, 0.151: 0.9492, 0.154: 0.9491, 0.157: 0.9485, 0.16: 0.9483, 0.163: 0.9479, 0.166: 0.9475, 0.169: 0.9473, 0.17200000000000001: 0.9474, 0.17500000000000002: 0.9473, 0.178: 0.9469, 0.181: 0.9467, 0.184: 0.9465, 0.187: 0.9464, 0.19: 0.9465, 0.193: 0.9464, 0.196: 0.9459, 0.199: 0.9455, 0.202: 0.9448, 0.20500000000000002: 0.9446, 0.20800000000000002: 0.944, 0.211: 0.9436, 0.214: 0.9433, 0.217: 0.9433, 0.22: 0.9432, 0.223: 0.9428, 0.226: 0.9426, 0.229: 0.942, 0.232: 0.9417, 0.23500000000000001: 0.9414, 0.23800000000000002: 0.941, 0.241: 0.9407, 0.244: 0.9407, 0.247: 0.9403, 0.25: 0.9403, 0.253: 0.9401, 0.256: 0.9402, 0.259: 0.94, 0.262: 0.9398, 0.265: 0.9397, 0.268: 0.9397, 0.271: 0.9397, 0.274: 0.9394, 0.277: 0.9394, 0.28: 0.9389, 0.28300000000000003: 0.9386, 0.28600000000000003: 0.938, 0.28900000000000003: 0.9378, 0.292: 0.9373, 0.295: 0.9369, 0.298: 0.9366, 0.301: 0.9361, 0.304: 0.9355, 0.307: 0.9353, 0.31: 0.9352, 0.313: 0.9351, 0.316: 0.9346, 0.319: 0.9342, 0.322: 0.934, 0.325: 0.9339, 0.328: 0.9338, 0.331: 0.9334, 0.334: 0.9332}\n",
            "{0.001: 0.9108, 0.004: 0.9355, 0.007: 0.9423, 0.010000000000000002: 0.9473, 0.013000000000000001: 0.9498, 0.016: 0.9516, 0.019000000000000003: 0.953, 0.022000000000000002: 0.9546, 0.025: 0.9556, 0.028: 0.956, 0.031: 0.9562, 0.034: 0.9564, 0.037000000000000005: 0.9564, 0.04: 0.957, 0.043000000000000003: 0.9571, 0.046: 0.9565, 0.049: 0.9564, 0.052000000000000005: 0.9566, 0.055: 0.9562, 0.058: 0.9565, 0.061: 0.9571, 0.064: 0.9567, 0.067: 0.9566, 0.07: 0.9563, 0.07300000000000001: 0.9562, 0.076: 0.9563, 0.079: 0.9562, 0.082: 0.9563, 0.085: 0.9562, 0.08800000000000001: 0.9558, 0.091: 0.9555, 0.094: 0.9552, 0.097: 0.9545, 0.1: 0.9542, 0.10300000000000001: 0.9536, 0.106: 0.9531, 0.109: 0.9527, 0.112: 0.9525, 0.115: 0.9524, 0.11800000000000001: 0.9522, 0.121: 0.9517, 0.124: 0.9511, 0.127: 0.9507, 0.13: 0.9503, 0.133: 0.9505, 0.136: 0.9504, 0.139: 0.95, 0.14200000000000002: 0.9499, 0.14500000000000002: 0.9495, 0.148: 0.9494, 0.151: 0.9492, 0.154: 0.9491, 0.157: 0.9485, 0.16: 0.9483, 0.163: 0.9479, 0.166: 0.9475, 0.169: 0.9473, 0.17200000000000001: 0.9474, 0.17500000000000002: 0.9473, 0.178: 0.9469, 0.181: 0.9467, 0.184: 0.9465, 0.187: 0.9464, 0.19: 0.9465, 0.193: 0.9464, 0.196: 0.9459, 0.199: 0.9455, 0.202: 0.9448, 0.20500000000000002: 0.9446, 0.20800000000000002: 0.944, 0.211: 0.9436, 0.214: 0.9433, 0.217: 0.9433, 0.22: 0.9432, 0.223: 0.9428, 0.226: 0.9426, 0.229: 0.942, 0.232: 0.9417, 0.23500000000000001: 0.9414, 0.23800000000000002: 0.941, 0.241: 0.9407, 0.244: 0.9407, 0.247: 0.9403, 0.25: 0.9403, 0.253: 0.9401, 0.256: 0.9402, 0.259: 0.94, 0.262: 0.9398, 0.265: 0.9397, 0.268: 0.9397, 0.271: 0.9397, 0.274: 0.9394, 0.277: 0.9394, 0.28: 0.9389, 0.28300000000000003: 0.9386, 0.28600000000000003: 0.938, 0.28900000000000003: 0.9378, 0.292: 0.9373, 0.295: 0.9369, 0.298: 0.9366, 0.301: 0.9361, 0.304: 0.9355, 0.307: 0.9353, 0.31: 0.9352, 0.313: 0.9351, 0.316: 0.9346, 0.319: 0.9342, 0.322: 0.934, 0.325: 0.9339, 0.328: 0.9338, 0.331: 0.9334, 0.334: 0.9332, 0.337: 0.9331}\n",
            "{0.001: 0.9108, 0.004: 0.9355, 0.007: 0.9423, 0.010000000000000002: 0.9473, 0.013000000000000001: 0.9498, 0.016: 0.9516, 0.019000000000000003: 0.953, 0.022000000000000002: 0.9546, 0.025: 0.9556, 0.028: 0.956, 0.031: 0.9562, 0.034: 0.9564, 0.037000000000000005: 0.9564, 0.04: 0.957, 0.043000000000000003: 0.9571, 0.046: 0.9565, 0.049: 0.9564, 0.052000000000000005: 0.9566, 0.055: 0.9562, 0.058: 0.9565, 0.061: 0.9571, 0.064: 0.9567, 0.067: 0.9566, 0.07: 0.9563, 0.07300000000000001: 0.9562, 0.076: 0.9563, 0.079: 0.9562, 0.082: 0.9563, 0.085: 0.9562, 0.08800000000000001: 0.9558, 0.091: 0.9555, 0.094: 0.9552, 0.097: 0.9545, 0.1: 0.9542, 0.10300000000000001: 0.9536, 0.106: 0.9531, 0.109: 0.9527, 0.112: 0.9525, 0.115: 0.9524, 0.11800000000000001: 0.9522, 0.121: 0.9517, 0.124: 0.9511, 0.127: 0.9507, 0.13: 0.9503, 0.133: 0.9505, 0.136: 0.9504, 0.139: 0.95, 0.14200000000000002: 0.9499, 0.14500000000000002: 0.9495, 0.148: 0.9494, 0.151: 0.9492, 0.154: 0.9491, 0.157: 0.9485, 0.16: 0.9483, 0.163: 0.9479, 0.166: 0.9475, 0.169: 0.9473, 0.17200000000000001: 0.9474, 0.17500000000000002: 0.9473, 0.178: 0.9469, 0.181: 0.9467, 0.184: 0.9465, 0.187: 0.9464, 0.19: 0.9465, 0.193: 0.9464, 0.196: 0.9459, 0.199: 0.9455, 0.202: 0.9448, 0.20500000000000002: 0.9446, 0.20800000000000002: 0.944, 0.211: 0.9436, 0.214: 0.9433, 0.217: 0.9433, 0.22: 0.9432, 0.223: 0.9428, 0.226: 0.9426, 0.229: 0.942, 0.232: 0.9417, 0.23500000000000001: 0.9414, 0.23800000000000002: 0.941, 0.241: 0.9407, 0.244: 0.9407, 0.247: 0.9403, 0.25: 0.9403, 0.253: 0.9401, 0.256: 0.9402, 0.259: 0.94, 0.262: 0.9398, 0.265: 0.9397, 0.268: 0.9397, 0.271: 0.9397, 0.274: 0.9394, 0.277: 0.9394, 0.28: 0.9389, 0.28300000000000003: 0.9386, 0.28600000000000003: 0.938, 0.28900000000000003: 0.9378, 0.292: 0.9373, 0.295: 0.9369, 0.298: 0.9366, 0.301: 0.9361, 0.304: 0.9355, 0.307: 0.9353, 0.31: 0.9352, 0.313: 0.9351, 0.316: 0.9346, 0.319: 0.9342, 0.322: 0.934, 0.325: 0.9339, 0.328: 0.9338, 0.331: 0.9334, 0.334: 0.9332, 0.337: 0.9331, 0.34: 0.9328}\n",
            "{0.001: 0.9108, 0.004: 0.9355, 0.007: 0.9423, 0.010000000000000002: 0.9473, 0.013000000000000001: 0.9498, 0.016: 0.9516, 0.019000000000000003: 0.953, 0.022000000000000002: 0.9546, 0.025: 0.9556, 0.028: 0.956, 0.031: 0.9562, 0.034: 0.9564, 0.037000000000000005: 0.9564, 0.04: 0.957, 0.043000000000000003: 0.9571, 0.046: 0.9565, 0.049: 0.9564, 0.052000000000000005: 0.9566, 0.055: 0.9562, 0.058: 0.9565, 0.061: 0.9571, 0.064: 0.9567, 0.067: 0.9566, 0.07: 0.9563, 0.07300000000000001: 0.9562, 0.076: 0.9563, 0.079: 0.9562, 0.082: 0.9563, 0.085: 0.9562, 0.08800000000000001: 0.9558, 0.091: 0.9555, 0.094: 0.9552, 0.097: 0.9545, 0.1: 0.9542, 0.10300000000000001: 0.9536, 0.106: 0.9531, 0.109: 0.9527, 0.112: 0.9525, 0.115: 0.9524, 0.11800000000000001: 0.9522, 0.121: 0.9517, 0.124: 0.9511, 0.127: 0.9507, 0.13: 0.9503, 0.133: 0.9505, 0.136: 0.9504, 0.139: 0.95, 0.14200000000000002: 0.9499, 0.14500000000000002: 0.9495, 0.148: 0.9494, 0.151: 0.9492, 0.154: 0.9491, 0.157: 0.9485, 0.16: 0.9483, 0.163: 0.9479, 0.166: 0.9475, 0.169: 0.9473, 0.17200000000000001: 0.9474, 0.17500000000000002: 0.9473, 0.178: 0.9469, 0.181: 0.9467, 0.184: 0.9465, 0.187: 0.9464, 0.19: 0.9465, 0.193: 0.9464, 0.196: 0.9459, 0.199: 0.9455, 0.202: 0.9448, 0.20500000000000002: 0.9446, 0.20800000000000002: 0.944, 0.211: 0.9436, 0.214: 0.9433, 0.217: 0.9433, 0.22: 0.9432, 0.223: 0.9428, 0.226: 0.9426, 0.229: 0.942, 0.232: 0.9417, 0.23500000000000001: 0.9414, 0.23800000000000002: 0.941, 0.241: 0.9407, 0.244: 0.9407, 0.247: 0.9403, 0.25: 0.9403, 0.253: 0.9401, 0.256: 0.9402, 0.259: 0.94, 0.262: 0.9398, 0.265: 0.9397, 0.268: 0.9397, 0.271: 0.9397, 0.274: 0.9394, 0.277: 0.9394, 0.28: 0.9389, 0.28300000000000003: 0.9386, 0.28600000000000003: 0.938, 0.28900000000000003: 0.9378, 0.292: 0.9373, 0.295: 0.9369, 0.298: 0.9366, 0.301: 0.9361, 0.304: 0.9355, 0.307: 0.9353, 0.31: 0.9352, 0.313: 0.9351, 0.316: 0.9346, 0.319: 0.9342, 0.322: 0.934, 0.325: 0.9339, 0.328: 0.9338, 0.331: 0.9334, 0.334: 0.9332, 0.337: 0.9331, 0.34: 0.9328, 0.343: 0.9328}\n",
            "{0.001: 0.9108, 0.004: 0.9355, 0.007: 0.9423, 0.010000000000000002: 0.9473, 0.013000000000000001: 0.9498, 0.016: 0.9516, 0.019000000000000003: 0.953, 0.022000000000000002: 0.9546, 0.025: 0.9556, 0.028: 0.956, 0.031: 0.9562, 0.034: 0.9564, 0.037000000000000005: 0.9564, 0.04: 0.957, 0.043000000000000003: 0.9571, 0.046: 0.9565, 0.049: 0.9564, 0.052000000000000005: 0.9566, 0.055: 0.9562, 0.058: 0.9565, 0.061: 0.9571, 0.064: 0.9567, 0.067: 0.9566, 0.07: 0.9563, 0.07300000000000001: 0.9562, 0.076: 0.9563, 0.079: 0.9562, 0.082: 0.9563, 0.085: 0.9562, 0.08800000000000001: 0.9558, 0.091: 0.9555, 0.094: 0.9552, 0.097: 0.9545, 0.1: 0.9542, 0.10300000000000001: 0.9536, 0.106: 0.9531, 0.109: 0.9527, 0.112: 0.9525, 0.115: 0.9524, 0.11800000000000001: 0.9522, 0.121: 0.9517, 0.124: 0.9511, 0.127: 0.9507, 0.13: 0.9503, 0.133: 0.9505, 0.136: 0.9504, 0.139: 0.95, 0.14200000000000002: 0.9499, 0.14500000000000002: 0.9495, 0.148: 0.9494, 0.151: 0.9492, 0.154: 0.9491, 0.157: 0.9485, 0.16: 0.9483, 0.163: 0.9479, 0.166: 0.9475, 0.169: 0.9473, 0.17200000000000001: 0.9474, 0.17500000000000002: 0.9473, 0.178: 0.9469, 0.181: 0.9467, 0.184: 0.9465, 0.187: 0.9464, 0.19: 0.9465, 0.193: 0.9464, 0.196: 0.9459, 0.199: 0.9455, 0.202: 0.9448, 0.20500000000000002: 0.9446, 0.20800000000000002: 0.944, 0.211: 0.9436, 0.214: 0.9433, 0.217: 0.9433, 0.22: 0.9432, 0.223: 0.9428, 0.226: 0.9426, 0.229: 0.942, 0.232: 0.9417, 0.23500000000000001: 0.9414, 0.23800000000000002: 0.941, 0.241: 0.9407, 0.244: 0.9407, 0.247: 0.9403, 0.25: 0.9403, 0.253: 0.9401, 0.256: 0.9402, 0.259: 0.94, 0.262: 0.9398, 0.265: 0.9397, 0.268: 0.9397, 0.271: 0.9397, 0.274: 0.9394, 0.277: 0.9394, 0.28: 0.9389, 0.28300000000000003: 0.9386, 0.28600000000000003: 0.938, 0.28900000000000003: 0.9378, 0.292: 0.9373, 0.295: 0.9369, 0.298: 0.9366, 0.301: 0.9361, 0.304: 0.9355, 0.307: 0.9353, 0.31: 0.9352, 0.313: 0.9351, 0.316: 0.9346, 0.319: 0.9342, 0.322: 0.934, 0.325: 0.9339, 0.328: 0.9338, 0.331: 0.9334, 0.334: 0.9332, 0.337: 0.9331, 0.34: 0.9328, 0.343: 0.9328, 0.34600000000000003: 0.9326}\n",
            "{0.001: 0.9108, 0.004: 0.9355, 0.007: 0.9423, 0.010000000000000002: 0.9473, 0.013000000000000001: 0.9498, 0.016: 0.9516, 0.019000000000000003: 0.953, 0.022000000000000002: 0.9546, 0.025: 0.9556, 0.028: 0.956, 0.031: 0.9562, 0.034: 0.9564, 0.037000000000000005: 0.9564, 0.04: 0.957, 0.043000000000000003: 0.9571, 0.046: 0.9565, 0.049: 0.9564, 0.052000000000000005: 0.9566, 0.055: 0.9562, 0.058: 0.9565, 0.061: 0.9571, 0.064: 0.9567, 0.067: 0.9566, 0.07: 0.9563, 0.07300000000000001: 0.9562, 0.076: 0.9563, 0.079: 0.9562, 0.082: 0.9563, 0.085: 0.9562, 0.08800000000000001: 0.9558, 0.091: 0.9555, 0.094: 0.9552, 0.097: 0.9545, 0.1: 0.9542, 0.10300000000000001: 0.9536, 0.106: 0.9531, 0.109: 0.9527, 0.112: 0.9525, 0.115: 0.9524, 0.11800000000000001: 0.9522, 0.121: 0.9517, 0.124: 0.9511, 0.127: 0.9507, 0.13: 0.9503, 0.133: 0.9505, 0.136: 0.9504, 0.139: 0.95, 0.14200000000000002: 0.9499, 0.14500000000000002: 0.9495, 0.148: 0.9494, 0.151: 0.9492, 0.154: 0.9491, 0.157: 0.9485, 0.16: 0.9483, 0.163: 0.9479, 0.166: 0.9475, 0.169: 0.9473, 0.17200000000000001: 0.9474, 0.17500000000000002: 0.9473, 0.178: 0.9469, 0.181: 0.9467, 0.184: 0.9465, 0.187: 0.9464, 0.19: 0.9465, 0.193: 0.9464, 0.196: 0.9459, 0.199: 0.9455, 0.202: 0.9448, 0.20500000000000002: 0.9446, 0.20800000000000002: 0.944, 0.211: 0.9436, 0.214: 0.9433, 0.217: 0.9433, 0.22: 0.9432, 0.223: 0.9428, 0.226: 0.9426, 0.229: 0.942, 0.232: 0.9417, 0.23500000000000001: 0.9414, 0.23800000000000002: 0.941, 0.241: 0.9407, 0.244: 0.9407, 0.247: 0.9403, 0.25: 0.9403, 0.253: 0.9401, 0.256: 0.9402, 0.259: 0.94, 0.262: 0.9398, 0.265: 0.9397, 0.268: 0.9397, 0.271: 0.9397, 0.274: 0.9394, 0.277: 0.9394, 0.28: 0.9389, 0.28300000000000003: 0.9386, 0.28600000000000003: 0.938, 0.28900000000000003: 0.9378, 0.292: 0.9373, 0.295: 0.9369, 0.298: 0.9366, 0.301: 0.9361, 0.304: 0.9355, 0.307: 0.9353, 0.31: 0.9352, 0.313: 0.9351, 0.316: 0.9346, 0.319: 0.9342, 0.322: 0.934, 0.325: 0.9339, 0.328: 0.9338, 0.331: 0.9334, 0.334: 0.9332, 0.337: 0.9331, 0.34: 0.9328, 0.343: 0.9328, 0.34600000000000003: 0.9326, 0.34900000000000003: 0.9324}\n",
            "{0.001: 0.9108, 0.004: 0.9355, 0.007: 0.9423, 0.010000000000000002: 0.9473, 0.013000000000000001: 0.9498, 0.016: 0.9516, 0.019000000000000003: 0.953, 0.022000000000000002: 0.9546, 0.025: 0.9556, 0.028: 0.956, 0.031: 0.9562, 0.034: 0.9564, 0.037000000000000005: 0.9564, 0.04: 0.957, 0.043000000000000003: 0.9571, 0.046: 0.9565, 0.049: 0.9564, 0.052000000000000005: 0.9566, 0.055: 0.9562, 0.058: 0.9565, 0.061: 0.9571, 0.064: 0.9567, 0.067: 0.9566, 0.07: 0.9563, 0.07300000000000001: 0.9562, 0.076: 0.9563, 0.079: 0.9562, 0.082: 0.9563, 0.085: 0.9562, 0.08800000000000001: 0.9558, 0.091: 0.9555, 0.094: 0.9552, 0.097: 0.9545, 0.1: 0.9542, 0.10300000000000001: 0.9536, 0.106: 0.9531, 0.109: 0.9527, 0.112: 0.9525, 0.115: 0.9524, 0.11800000000000001: 0.9522, 0.121: 0.9517, 0.124: 0.9511, 0.127: 0.9507, 0.13: 0.9503, 0.133: 0.9505, 0.136: 0.9504, 0.139: 0.95, 0.14200000000000002: 0.9499, 0.14500000000000002: 0.9495, 0.148: 0.9494, 0.151: 0.9492, 0.154: 0.9491, 0.157: 0.9485, 0.16: 0.9483, 0.163: 0.9479, 0.166: 0.9475, 0.169: 0.9473, 0.17200000000000001: 0.9474, 0.17500000000000002: 0.9473, 0.178: 0.9469, 0.181: 0.9467, 0.184: 0.9465, 0.187: 0.9464, 0.19: 0.9465, 0.193: 0.9464, 0.196: 0.9459, 0.199: 0.9455, 0.202: 0.9448, 0.20500000000000002: 0.9446, 0.20800000000000002: 0.944, 0.211: 0.9436, 0.214: 0.9433, 0.217: 0.9433, 0.22: 0.9432, 0.223: 0.9428, 0.226: 0.9426, 0.229: 0.942, 0.232: 0.9417, 0.23500000000000001: 0.9414, 0.23800000000000002: 0.941, 0.241: 0.9407, 0.244: 0.9407, 0.247: 0.9403, 0.25: 0.9403, 0.253: 0.9401, 0.256: 0.9402, 0.259: 0.94, 0.262: 0.9398, 0.265: 0.9397, 0.268: 0.9397, 0.271: 0.9397, 0.274: 0.9394, 0.277: 0.9394, 0.28: 0.9389, 0.28300000000000003: 0.9386, 0.28600000000000003: 0.938, 0.28900000000000003: 0.9378, 0.292: 0.9373, 0.295: 0.9369, 0.298: 0.9366, 0.301: 0.9361, 0.304: 0.9355, 0.307: 0.9353, 0.31: 0.9352, 0.313: 0.9351, 0.316: 0.9346, 0.319: 0.9342, 0.322: 0.934, 0.325: 0.9339, 0.328: 0.9338, 0.331: 0.9334, 0.334: 0.9332, 0.337: 0.9331, 0.34: 0.9328, 0.343: 0.9328, 0.34600000000000003: 0.9326, 0.34900000000000003: 0.9324, 0.35200000000000004: 0.9321}\n",
            "{0.001: 0.9108, 0.004: 0.9355, 0.007: 0.9423, 0.010000000000000002: 0.9473, 0.013000000000000001: 0.9498, 0.016: 0.9516, 0.019000000000000003: 0.953, 0.022000000000000002: 0.9546, 0.025: 0.9556, 0.028: 0.956, 0.031: 0.9562, 0.034: 0.9564, 0.037000000000000005: 0.9564, 0.04: 0.957, 0.043000000000000003: 0.9571, 0.046: 0.9565, 0.049: 0.9564, 0.052000000000000005: 0.9566, 0.055: 0.9562, 0.058: 0.9565, 0.061: 0.9571, 0.064: 0.9567, 0.067: 0.9566, 0.07: 0.9563, 0.07300000000000001: 0.9562, 0.076: 0.9563, 0.079: 0.9562, 0.082: 0.9563, 0.085: 0.9562, 0.08800000000000001: 0.9558, 0.091: 0.9555, 0.094: 0.9552, 0.097: 0.9545, 0.1: 0.9542, 0.10300000000000001: 0.9536, 0.106: 0.9531, 0.109: 0.9527, 0.112: 0.9525, 0.115: 0.9524, 0.11800000000000001: 0.9522, 0.121: 0.9517, 0.124: 0.9511, 0.127: 0.9507, 0.13: 0.9503, 0.133: 0.9505, 0.136: 0.9504, 0.139: 0.95, 0.14200000000000002: 0.9499, 0.14500000000000002: 0.9495, 0.148: 0.9494, 0.151: 0.9492, 0.154: 0.9491, 0.157: 0.9485, 0.16: 0.9483, 0.163: 0.9479, 0.166: 0.9475, 0.169: 0.9473, 0.17200000000000001: 0.9474, 0.17500000000000002: 0.9473, 0.178: 0.9469, 0.181: 0.9467, 0.184: 0.9465, 0.187: 0.9464, 0.19: 0.9465, 0.193: 0.9464, 0.196: 0.9459, 0.199: 0.9455, 0.202: 0.9448, 0.20500000000000002: 0.9446, 0.20800000000000002: 0.944, 0.211: 0.9436, 0.214: 0.9433, 0.217: 0.9433, 0.22: 0.9432, 0.223: 0.9428, 0.226: 0.9426, 0.229: 0.942, 0.232: 0.9417, 0.23500000000000001: 0.9414, 0.23800000000000002: 0.941, 0.241: 0.9407, 0.244: 0.9407, 0.247: 0.9403, 0.25: 0.9403, 0.253: 0.9401, 0.256: 0.9402, 0.259: 0.94, 0.262: 0.9398, 0.265: 0.9397, 0.268: 0.9397, 0.271: 0.9397, 0.274: 0.9394, 0.277: 0.9394, 0.28: 0.9389, 0.28300000000000003: 0.9386, 0.28600000000000003: 0.938, 0.28900000000000003: 0.9378, 0.292: 0.9373, 0.295: 0.9369, 0.298: 0.9366, 0.301: 0.9361, 0.304: 0.9355, 0.307: 0.9353, 0.31: 0.9352, 0.313: 0.9351, 0.316: 0.9346, 0.319: 0.9342, 0.322: 0.934, 0.325: 0.9339, 0.328: 0.9338, 0.331: 0.9334, 0.334: 0.9332, 0.337: 0.9331, 0.34: 0.9328, 0.343: 0.9328, 0.34600000000000003: 0.9326, 0.34900000000000003: 0.9324, 0.35200000000000004: 0.9321, 0.355: 0.9317}\n",
            "{0.001: 0.9108, 0.004: 0.9355, 0.007: 0.9423, 0.010000000000000002: 0.9473, 0.013000000000000001: 0.9498, 0.016: 0.9516, 0.019000000000000003: 0.953, 0.022000000000000002: 0.9546, 0.025: 0.9556, 0.028: 0.956, 0.031: 0.9562, 0.034: 0.9564, 0.037000000000000005: 0.9564, 0.04: 0.957, 0.043000000000000003: 0.9571, 0.046: 0.9565, 0.049: 0.9564, 0.052000000000000005: 0.9566, 0.055: 0.9562, 0.058: 0.9565, 0.061: 0.9571, 0.064: 0.9567, 0.067: 0.9566, 0.07: 0.9563, 0.07300000000000001: 0.9562, 0.076: 0.9563, 0.079: 0.9562, 0.082: 0.9563, 0.085: 0.9562, 0.08800000000000001: 0.9558, 0.091: 0.9555, 0.094: 0.9552, 0.097: 0.9545, 0.1: 0.9542, 0.10300000000000001: 0.9536, 0.106: 0.9531, 0.109: 0.9527, 0.112: 0.9525, 0.115: 0.9524, 0.11800000000000001: 0.9522, 0.121: 0.9517, 0.124: 0.9511, 0.127: 0.9507, 0.13: 0.9503, 0.133: 0.9505, 0.136: 0.9504, 0.139: 0.95, 0.14200000000000002: 0.9499, 0.14500000000000002: 0.9495, 0.148: 0.9494, 0.151: 0.9492, 0.154: 0.9491, 0.157: 0.9485, 0.16: 0.9483, 0.163: 0.9479, 0.166: 0.9475, 0.169: 0.9473, 0.17200000000000001: 0.9474, 0.17500000000000002: 0.9473, 0.178: 0.9469, 0.181: 0.9467, 0.184: 0.9465, 0.187: 0.9464, 0.19: 0.9465, 0.193: 0.9464, 0.196: 0.9459, 0.199: 0.9455, 0.202: 0.9448, 0.20500000000000002: 0.9446, 0.20800000000000002: 0.944, 0.211: 0.9436, 0.214: 0.9433, 0.217: 0.9433, 0.22: 0.9432, 0.223: 0.9428, 0.226: 0.9426, 0.229: 0.942, 0.232: 0.9417, 0.23500000000000001: 0.9414, 0.23800000000000002: 0.941, 0.241: 0.9407, 0.244: 0.9407, 0.247: 0.9403, 0.25: 0.9403, 0.253: 0.9401, 0.256: 0.9402, 0.259: 0.94, 0.262: 0.9398, 0.265: 0.9397, 0.268: 0.9397, 0.271: 0.9397, 0.274: 0.9394, 0.277: 0.9394, 0.28: 0.9389, 0.28300000000000003: 0.9386, 0.28600000000000003: 0.938, 0.28900000000000003: 0.9378, 0.292: 0.9373, 0.295: 0.9369, 0.298: 0.9366, 0.301: 0.9361, 0.304: 0.9355, 0.307: 0.9353, 0.31: 0.9352, 0.313: 0.9351, 0.316: 0.9346, 0.319: 0.9342, 0.322: 0.934, 0.325: 0.9339, 0.328: 0.9338, 0.331: 0.9334, 0.334: 0.9332, 0.337: 0.9331, 0.34: 0.9328, 0.343: 0.9328, 0.34600000000000003: 0.9326, 0.34900000000000003: 0.9324, 0.35200000000000004: 0.9321, 0.355: 0.9317, 0.358: 0.9316}\n",
            "{0.001: 0.9108, 0.004: 0.9355, 0.007: 0.9423, 0.010000000000000002: 0.9473, 0.013000000000000001: 0.9498, 0.016: 0.9516, 0.019000000000000003: 0.953, 0.022000000000000002: 0.9546, 0.025: 0.9556, 0.028: 0.956, 0.031: 0.9562, 0.034: 0.9564, 0.037000000000000005: 0.9564, 0.04: 0.957, 0.043000000000000003: 0.9571, 0.046: 0.9565, 0.049: 0.9564, 0.052000000000000005: 0.9566, 0.055: 0.9562, 0.058: 0.9565, 0.061: 0.9571, 0.064: 0.9567, 0.067: 0.9566, 0.07: 0.9563, 0.07300000000000001: 0.9562, 0.076: 0.9563, 0.079: 0.9562, 0.082: 0.9563, 0.085: 0.9562, 0.08800000000000001: 0.9558, 0.091: 0.9555, 0.094: 0.9552, 0.097: 0.9545, 0.1: 0.9542, 0.10300000000000001: 0.9536, 0.106: 0.9531, 0.109: 0.9527, 0.112: 0.9525, 0.115: 0.9524, 0.11800000000000001: 0.9522, 0.121: 0.9517, 0.124: 0.9511, 0.127: 0.9507, 0.13: 0.9503, 0.133: 0.9505, 0.136: 0.9504, 0.139: 0.95, 0.14200000000000002: 0.9499, 0.14500000000000002: 0.9495, 0.148: 0.9494, 0.151: 0.9492, 0.154: 0.9491, 0.157: 0.9485, 0.16: 0.9483, 0.163: 0.9479, 0.166: 0.9475, 0.169: 0.9473, 0.17200000000000001: 0.9474, 0.17500000000000002: 0.9473, 0.178: 0.9469, 0.181: 0.9467, 0.184: 0.9465, 0.187: 0.9464, 0.19: 0.9465, 0.193: 0.9464, 0.196: 0.9459, 0.199: 0.9455, 0.202: 0.9448, 0.20500000000000002: 0.9446, 0.20800000000000002: 0.944, 0.211: 0.9436, 0.214: 0.9433, 0.217: 0.9433, 0.22: 0.9432, 0.223: 0.9428, 0.226: 0.9426, 0.229: 0.942, 0.232: 0.9417, 0.23500000000000001: 0.9414, 0.23800000000000002: 0.941, 0.241: 0.9407, 0.244: 0.9407, 0.247: 0.9403, 0.25: 0.9403, 0.253: 0.9401, 0.256: 0.9402, 0.259: 0.94, 0.262: 0.9398, 0.265: 0.9397, 0.268: 0.9397, 0.271: 0.9397, 0.274: 0.9394, 0.277: 0.9394, 0.28: 0.9389, 0.28300000000000003: 0.9386, 0.28600000000000003: 0.938, 0.28900000000000003: 0.9378, 0.292: 0.9373, 0.295: 0.9369, 0.298: 0.9366, 0.301: 0.9361, 0.304: 0.9355, 0.307: 0.9353, 0.31: 0.9352, 0.313: 0.9351, 0.316: 0.9346, 0.319: 0.9342, 0.322: 0.934, 0.325: 0.9339, 0.328: 0.9338, 0.331: 0.9334, 0.334: 0.9332, 0.337: 0.9331, 0.34: 0.9328, 0.343: 0.9328, 0.34600000000000003: 0.9326, 0.34900000000000003: 0.9324, 0.35200000000000004: 0.9321, 0.355: 0.9317, 0.358: 0.9316, 0.361: 0.9314}\n",
            "{0.001: 0.9108, 0.004: 0.9355, 0.007: 0.9423, 0.010000000000000002: 0.9473, 0.013000000000000001: 0.9498, 0.016: 0.9516, 0.019000000000000003: 0.953, 0.022000000000000002: 0.9546, 0.025: 0.9556, 0.028: 0.956, 0.031: 0.9562, 0.034: 0.9564, 0.037000000000000005: 0.9564, 0.04: 0.957, 0.043000000000000003: 0.9571, 0.046: 0.9565, 0.049: 0.9564, 0.052000000000000005: 0.9566, 0.055: 0.9562, 0.058: 0.9565, 0.061: 0.9571, 0.064: 0.9567, 0.067: 0.9566, 0.07: 0.9563, 0.07300000000000001: 0.9562, 0.076: 0.9563, 0.079: 0.9562, 0.082: 0.9563, 0.085: 0.9562, 0.08800000000000001: 0.9558, 0.091: 0.9555, 0.094: 0.9552, 0.097: 0.9545, 0.1: 0.9542, 0.10300000000000001: 0.9536, 0.106: 0.9531, 0.109: 0.9527, 0.112: 0.9525, 0.115: 0.9524, 0.11800000000000001: 0.9522, 0.121: 0.9517, 0.124: 0.9511, 0.127: 0.9507, 0.13: 0.9503, 0.133: 0.9505, 0.136: 0.9504, 0.139: 0.95, 0.14200000000000002: 0.9499, 0.14500000000000002: 0.9495, 0.148: 0.9494, 0.151: 0.9492, 0.154: 0.9491, 0.157: 0.9485, 0.16: 0.9483, 0.163: 0.9479, 0.166: 0.9475, 0.169: 0.9473, 0.17200000000000001: 0.9474, 0.17500000000000002: 0.9473, 0.178: 0.9469, 0.181: 0.9467, 0.184: 0.9465, 0.187: 0.9464, 0.19: 0.9465, 0.193: 0.9464, 0.196: 0.9459, 0.199: 0.9455, 0.202: 0.9448, 0.20500000000000002: 0.9446, 0.20800000000000002: 0.944, 0.211: 0.9436, 0.214: 0.9433, 0.217: 0.9433, 0.22: 0.9432, 0.223: 0.9428, 0.226: 0.9426, 0.229: 0.942, 0.232: 0.9417, 0.23500000000000001: 0.9414, 0.23800000000000002: 0.941, 0.241: 0.9407, 0.244: 0.9407, 0.247: 0.9403, 0.25: 0.9403, 0.253: 0.9401, 0.256: 0.9402, 0.259: 0.94, 0.262: 0.9398, 0.265: 0.9397, 0.268: 0.9397, 0.271: 0.9397, 0.274: 0.9394, 0.277: 0.9394, 0.28: 0.9389, 0.28300000000000003: 0.9386, 0.28600000000000003: 0.938, 0.28900000000000003: 0.9378, 0.292: 0.9373, 0.295: 0.9369, 0.298: 0.9366, 0.301: 0.9361, 0.304: 0.9355, 0.307: 0.9353, 0.31: 0.9352, 0.313: 0.9351, 0.316: 0.9346, 0.319: 0.9342, 0.322: 0.934, 0.325: 0.9339, 0.328: 0.9338, 0.331: 0.9334, 0.334: 0.9332, 0.337: 0.9331, 0.34: 0.9328, 0.343: 0.9328, 0.34600000000000003: 0.9326, 0.34900000000000003: 0.9324, 0.35200000000000004: 0.9321, 0.355: 0.9317, 0.358: 0.9316, 0.361: 0.9314, 0.364: 0.931}\n",
            "{0.001: 0.9108, 0.004: 0.9355, 0.007: 0.9423, 0.010000000000000002: 0.9473, 0.013000000000000001: 0.9498, 0.016: 0.9516, 0.019000000000000003: 0.953, 0.022000000000000002: 0.9546, 0.025: 0.9556, 0.028: 0.956, 0.031: 0.9562, 0.034: 0.9564, 0.037000000000000005: 0.9564, 0.04: 0.957, 0.043000000000000003: 0.9571, 0.046: 0.9565, 0.049: 0.9564, 0.052000000000000005: 0.9566, 0.055: 0.9562, 0.058: 0.9565, 0.061: 0.9571, 0.064: 0.9567, 0.067: 0.9566, 0.07: 0.9563, 0.07300000000000001: 0.9562, 0.076: 0.9563, 0.079: 0.9562, 0.082: 0.9563, 0.085: 0.9562, 0.08800000000000001: 0.9558, 0.091: 0.9555, 0.094: 0.9552, 0.097: 0.9545, 0.1: 0.9542, 0.10300000000000001: 0.9536, 0.106: 0.9531, 0.109: 0.9527, 0.112: 0.9525, 0.115: 0.9524, 0.11800000000000001: 0.9522, 0.121: 0.9517, 0.124: 0.9511, 0.127: 0.9507, 0.13: 0.9503, 0.133: 0.9505, 0.136: 0.9504, 0.139: 0.95, 0.14200000000000002: 0.9499, 0.14500000000000002: 0.9495, 0.148: 0.9494, 0.151: 0.9492, 0.154: 0.9491, 0.157: 0.9485, 0.16: 0.9483, 0.163: 0.9479, 0.166: 0.9475, 0.169: 0.9473, 0.17200000000000001: 0.9474, 0.17500000000000002: 0.9473, 0.178: 0.9469, 0.181: 0.9467, 0.184: 0.9465, 0.187: 0.9464, 0.19: 0.9465, 0.193: 0.9464, 0.196: 0.9459, 0.199: 0.9455, 0.202: 0.9448, 0.20500000000000002: 0.9446, 0.20800000000000002: 0.944, 0.211: 0.9436, 0.214: 0.9433, 0.217: 0.9433, 0.22: 0.9432, 0.223: 0.9428, 0.226: 0.9426, 0.229: 0.942, 0.232: 0.9417, 0.23500000000000001: 0.9414, 0.23800000000000002: 0.941, 0.241: 0.9407, 0.244: 0.9407, 0.247: 0.9403, 0.25: 0.9403, 0.253: 0.9401, 0.256: 0.9402, 0.259: 0.94, 0.262: 0.9398, 0.265: 0.9397, 0.268: 0.9397, 0.271: 0.9397, 0.274: 0.9394, 0.277: 0.9394, 0.28: 0.9389, 0.28300000000000003: 0.9386, 0.28600000000000003: 0.938, 0.28900000000000003: 0.9378, 0.292: 0.9373, 0.295: 0.9369, 0.298: 0.9366, 0.301: 0.9361, 0.304: 0.9355, 0.307: 0.9353, 0.31: 0.9352, 0.313: 0.9351, 0.316: 0.9346, 0.319: 0.9342, 0.322: 0.934, 0.325: 0.9339, 0.328: 0.9338, 0.331: 0.9334, 0.334: 0.9332, 0.337: 0.9331, 0.34: 0.9328, 0.343: 0.9328, 0.34600000000000003: 0.9326, 0.34900000000000003: 0.9324, 0.35200000000000004: 0.9321, 0.355: 0.9317, 0.358: 0.9316, 0.361: 0.9314, 0.364: 0.931, 0.367: 0.9311}\n",
            "{0.001: 0.9108, 0.004: 0.9355, 0.007: 0.9423, 0.010000000000000002: 0.9473, 0.013000000000000001: 0.9498, 0.016: 0.9516, 0.019000000000000003: 0.953, 0.022000000000000002: 0.9546, 0.025: 0.9556, 0.028: 0.956, 0.031: 0.9562, 0.034: 0.9564, 0.037000000000000005: 0.9564, 0.04: 0.957, 0.043000000000000003: 0.9571, 0.046: 0.9565, 0.049: 0.9564, 0.052000000000000005: 0.9566, 0.055: 0.9562, 0.058: 0.9565, 0.061: 0.9571, 0.064: 0.9567, 0.067: 0.9566, 0.07: 0.9563, 0.07300000000000001: 0.9562, 0.076: 0.9563, 0.079: 0.9562, 0.082: 0.9563, 0.085: 0.9562, 0.08800000000000001: 0.9558, 0.091: 0.9555, 0.094: 0.9552, 0.097: 0.9545, 0.1: 0.9542, 0.10300000000000001: 0.9536, 0.106: 0.9531, 0.109: 0.9527, 0.112: 0.9525, 0.115: 0.9524, 0.11800000000000001: 0.9522, 0.121: 0.9517, 0.124: 0.9511, 0.127: 0.9507, 0.13: 0.9503, 0.133: 0.9505, 0.136: 0.9504, 0.139: 0.95, 0.14200000000000002: 0.9499, 0.14500000000000002: 0.9495, 0.148: 0.9494, 0.151: 0.9492, 0.154: 0.9491, 0.157: 0.9485, 0.16: 0.9483, 0.163: 0.9479, 0.166: 0.9475, 0.169: 0.9473, 0.17200000000000001: 0.9474, 0.17500000000000002: 0.9473, 0.178: 0.9469, 0.181: 0.9467, 0.184: 0.9465, 0.187: 0.9464, 0.19: 0.9465, 0.193: 0.9464, 0.196: 0.9459, 0.199: 0.9455, 0.202: 0.9448, 0.20500000000000002: 0.9446, 0.20800000000000002: 0.944, 0.211: 0.9436, 0.214: 0.9433, 0.217: 0.9433, 0.22: 0.9432, 0.223: 0.9428, 0.226: 0.9426, 0.229: 0.942, 0.232: 0.9417, 0.23500000000000001: 0.9414, 0.23800000000000002: 0.941, 0.241: 0.9407, 0.244: 0.9407, 0.247: 0.9403, 0.25: 0.9403, 0.253: 0.9401, 0.256: 0.9402, 0.259: 0.94, 0.262: 0.9398, 0.265: 0.9397, 0.268: 0.9397, 0.271: 0.9397, 0.274: 0.9394, 0.277: 0.9394, 0.28: 0.9389, 0.28300000000000003: 0.9386, 0.28600000000000003: 0.938, 0.28900000000000003: 0.9378, 0.292: 0.9373, 0.295: 0.9369, 0.298: 0.9366, 0.301: 0.9361, 0.304: 0.9355, 0.307: 0.9353, 0.31: 0.9352, 0.313: 0.9351, 0.316: 0.9346, 0.319: 0.9342, 0.322: 0.934, 0.325: 0.9339, 0.328: 0.9338, 0.331: 0.9334, 0.334: 0.9332, 0.337: 0.9331, 0.34: 0.9328, 0.343: 0.9328, 0.34600000000000003: 0.9326, 0.34900000000000003: 0.9324, 0.35200000000000004: 0.9321, 0.355: 0.9317, 0.358: 0.9316, 0.361: 0.9314, 0.364: 0.931, 0.367: 0.9311, 0.37: 0.9308}\n",
            "{0.001: 0.9108, 0.004: 0.9355, 0.007: 0.9423, 0.010000000000000002: 0.9473, 0.013000000000000001: 0.9498, 0.016: 0.9516, 0.019000000000000003: 0.953, 0.022000000000000002: 0.9546, 0.025: 0.9556, 0.028: 0.956, 0.031: 0.9562, 0.034: 0.9564, 0.037000000000000005: 0.9564, 0.04: 0.957, 0.043000000000000003: 0.9571, 0.046: 0.9565, 0.049: 0.9564, 0.052000000000000005: 0.9566, 0.055: 0.9562, 0.058: 0.9565, 0.061: 0.9571, 0.064: 0.9567, 0.067: 0.9566, 0.07: 0.9563, 0.07300000000000001: 0.9562, 0.076: 0.9563, 0.079: 0.9562, 0.082: 0.9563, 0.085: 0.9562, 0.08800000000000001: 0.9558, 0.091: 0.9555, 0.094: 0.9552, 0.097: 0.9545, 0.1: 0.9542, 0.10300000000000001: 0.9536, 0.106: 0.9531, 0.109: 0.9527, 0.112: 0.9525, 0.115: 0.9524, 0.11800000000000001: 0.9522, 0.121: 0.9517, 0.124: 0.9511, 0.127: 0.9507, 0.13: 0.9503, 0.133: 0.9505, 0.136: 0.9504, 0.139: 0.95, 0.14200000000000002: 0.9499, 0.14500000000000002: 0.9495, 0.148: 0.9494, 0.151: 0.9492, 0.154: 0.9491, 0.157: 0.9485, 0.16: 0.9483, 0.163: 0.9479, 0.166: 0.9475, 0.169: 0.9473, 0.17200000000000001: 0.9474, 0.17500000000000002: 0.9473, 0.178: 0.9469, 0.181: 0.9467, 0.184: 0.9465, 0.187: 0.9464, 0.19: 0.9465, 0.193: 0.9464, 0.196: 0.9459, 0.199: 0.9455, 0.202: 0.9448, 0.20500000000000002: 0.9446, 0.20800000000000002: 0.944, 0.211: 0.9436, 0.214: 0.9433, 0.217: 0.9433, 0.22: 0.9432, 0.223: 0.9428, 0.226: 0.9426, 0.229: 0.942, 0.232: 0.9417, 0.23500000000000001: 0.9414, 0.23800000000000002: 0.941, 0.241: 0.9407, 0.244: 0.9407, 0.247: 0.9403, 0.25: 0.9403, 0.253: 0.9401, 0.256: 0.9402, 0.259: 0.94, 0.262: 0.9398, 0.265: 0.9397, 0.268: 0.9397, 0.271: 0.9397, 0.274: 0.9394, 0.277: 0.9394, 0.28: 0.9389, 0.28300000000000003: 0.9386, 0.28600000000000003: 0.938, 0.28900000000000003: 0.9378, 0.292: 0.9373, 0.295: 0.9369, 0.298: 0.9366, 0.301: 0.9361, 0.304: 0.9355, 0.307: 0.9353, 0.31: 0.9352, 0.313: 0.9351, 0.316: 0.9346, 0.319: 0.9342, 0.322: 0.934, 0.325: 0.9339, 0.328: 0.9338, 0.331: 0.9334, 0.334: 0.9332, 0.337: 0.9331, 0.34: 0.9328, 0.343: 0.9328, 0.34600000000000003: 0.9326, 0.34900000000000003: 0.9324, 0.35200000000000004: 0.9321, 0.355: 0.9317, 0.358: 0.9316, 0.361: 0.9314, 0.364: 0.931, 0.367: 0.9311, 0.37: 0.9308, 0.373: 0.9308}\n",
            "{0.001: 0.9108, 0.004: 0.9355, 0.007: 0.9423, 0.010000000000000002: 0.9473, 0.013000000000000001: 0.9498, 0.016: 0.9516, 0.019000000000000003: 0.953, 0.022000000000000002: 0.9546, 0.025: 0.9556, 0.028: 0.956, 0.031: 0.9562, 0.034: 0.9564, 0.037000000000000005: 0.9564, 0.04: 0.957, 0.043000000000000003: 0.9571, 0.046: 0.9565, 0.049: 0.9564, 0.052000000000000005: 0.9566, 0.055: 0.9562, 0.058: 0.9565, 0.061: 0.9571, 0.064: 0.9567, 0.067: 0.9566, 0.07: 0.9563, 0.07300000000000001: 0.9562, 0.076: 0.9563, 0.079: 0.9562, 0.082: 0.9563, 0.085: 0.9562, 0.08800000000000001: 0.9558, 0.091: 0.9555, 0.094: 0.9552, 0.097: 0.9545, 0.1: 0.9542, 0.10300000000000001: 0.9536, 0.106: 0.9531, 0.109: 0.9527, 0.112: 0.9525, 0.115: 0.9524, 0.11800000000000001: 0.9522, 0.121: 0.9517, 0.124: 0.9511, 0.127: 0.9507, 0.13: 0.9503, 0.133: 0.9505, 0.136: 0.9504, 0.139: 0.95, 0.14200000000000002: 0.9499, 0.14500000000000002: 0.9495, 0.148: 0.9494, 0.151: 0.9492, 0.154: 0.9491, 0.157: 0.9485, 0.16: 0.9483, 0.163: 0.9479, 0.166: 0.9475, 0.169: 0.9473, 0.17200000000000001: 0.9474, 0.17500000000000002: 0.9473, 0.178: 0.9469, 0.181: 0.9467, 0.184: 0.9465, 0.187: 0.9464, 0.19: 0.9465, 0.193: 0.9464, 0.196: 0.9459, 0.199: 0.9455, 0.202: 0.9448, 0.20500000000000002: 0.9446, 0.20800000000000002: 0.944, 0.211: 0.9436, 0.214: 0.9433, 0.217: 0.9433, 0.22: 0.9432, 0.223: 0.9428, 0.226: 0.9426, 0.229: 0.942, 0.232: 0.9417, 0.23500000000000001: 0.9414, 0.23800000000000002: 0.941, 0.241: 0.9407, 0.244: 0.9407, 0.247: 0.9403, 0.25: 0.9403, 0.253: 0.9401, 0.256: 0.9402, 0.259: 0.94, 0.262: 0.9398, 0.265: 0.9397, 0.268: 0.9397, 0.271: 0.9397, 0.274: 0.9394, 0.277: 0.9394, 0.28: 0.9389, 0.28300000000000003: 0.9386, 0.28600000000000003: 0.938, 0.28900000000000003: 0.9378, 0.292: 0.9373, 0.295: 0.9369, 0.298: 0.9366, 0.301: 0.9361, 0.304: 0.9355, 0.307: 0.9353, 0.31: 0.9352, 0.313: 0.9351, 0.316: 0.9346, 0.319: 0.9342, 0.322: 0.934, 0.325: 0.9339, 0.328: 0.9338, 0.331: 0.9334, 0.334: 0.9332, 0.337: 0.9331, 0.34: 0.9328, 0.343: 0.9328, 0.34600000000000003: 0.9326, 0.34900000000000003: 0.9324, 0.35200000000000004: 0.9321, 0.355: 0.9317, 0.358: 0.9316, 0.361: 0.9314, 0.364: 0.931, 0.367: 0.9311, 0.37: 0.9308, 0.373: 0.9308, 0.376: 0.9303}\n",
            "{0.001: 0.9108, 0.004: 0.9355, 0.007: 0.9423, 0.010000000000000002: 0.9473, 0.013000000000000001: 0.9498, 0.016: 0.9516, 0.019000000000000003: 0.953, 0.022000000000000002: 0.9546, 0.025: 0.9556, 0.028: 0.956, 0.031: 0.9562, 0.034: 0.9564, 0.037000000000000005: 0.9564, 0.04: 0.957, 0.043000000000000003: 0.9571, 0.046: 0.9565, 0.049: 0.9564, 0.052000000000000005: 0.9566, 0.055: 0.9562, 0.058: 0.9565, 0.061: 0.9571, 0.064: 0.9567, 0.067: 0.9566, 0.07: 0.9563, 0.07300000000000001: 0.9562, 0.076: 0.9563, 0.079: 0.9562, 0.082: 0.9563, 0.085: 0.9562, 0.08800000000000001: 0.9558, 0.091: 0.9555, 0.094: 0.9552, 0.097: 0.9545, 0.1: 0.9542, 0.10300000000000001: 0.9536, 0.106: 0.9531, 0.109: 0.9527, 0.112: 0.9525, 0.115: 0.9524, 0.11800000000000001: 0.9522, 0.121: 0.9517, 0.124: 0.9511, 0.127: 0.9507, 0.13: 0.9503, 0.133: 0.9505, 0.136: 0.9504, 0.139: 0.95, 0.14200000000000002: 0.9499, 0.14500000000000002: 0.9495, 0.148: 0.9494, 0.151: 0.9492, 0.154: 0.9491, 0.157: 0.9485, 0.16: 0.9483, 0.163: 0.9479, 0.166: 0.9475, 0.169: 0.9473, 0.17200000000000001: 0.9474, 0.17500000000000002: 0.9473, 0.178: 0.9469, 0.181: 0.9467, 0.184: 0.9465, 0.187: 0.9464, 0.19: 0.9465, 0.193: 0.9464, 0.196: 0.9459, 0.199: 0.9455, 0.202: 0.9448, 0.20500000000000002: 0.9446, 0.20800000000000002: 0.944, 0.211: 0.9436, 0.214: 0.9433, 0.217: 0.9433, 0.22: 0.9432, 0.223: 0.9428, 0.226: 0.9426, 0.229: 0.942, 0.232: 0.9417, 0.23500000000000001: 0.9414, 0.23800000000000002: 0.941, 0.241: 0.9407, 0.244: 0.9407, 0.247: 0.9403, 0.25: 0.9403, 0.253: 0.9401, 0.256: 0.9402, 0.259: 0.94, 0.262: 0.9398, 0.265: 0.9397, 0.268: 0.9397, 0.271: 0.9397, 0.274: 0.9394, 0.277: 0.9394, 0.28: 0.9389, 0.28300000000000003: 0.9386, 0.28600000000000003: 0.938, 0.28900000000000003: 0.9378, 0.292: 0.9373, 0.295: 0.9369, 0.298: 0.9366, 0.301: 0.9361, 0.304: 0.9355, 0.307: 0.9353, 0.31: 0.9352, 0.313: 0.9351, 0.316: 0.9346, 0.319: 0.9342, 0.322: 0.934, 0.325: 0.9339, 0.328: 0.9338, 0.331: 0.9334, 0.334: 0.9332, 0.337: 0.9331, 0.34: 0.9328, 0.343: 0.9328, 0.34600000000000003: 0.9326, 0.34900000000000003: 0.9324, 0.35200000000000004: 0.9321, 0.355: 0.9317, 0.358: 0.9316, 0.361: 0.9314, 0.364: 0.931, 0.367: 0.9311, 0.37: 0.9308, 0.373: 0.9308, 0.376: 0.9303, 0.379: 0.9299}\n",
            "{0.001: 0.9108, 0.004: 0.9355, 0.007: 0.9423, 0.010000000000000002: 0.9473, 0.013000000000000001: 0.9498, 0.016: 0.9516, 0.019000000000000003: 0.953, 0.022000000000000002: 0.9546, 0.025: 0.9556, 0.028: 0.956, 0.031: 0.9562, 0.034: 0.9564, 0.037000000000000005: 0.9564, 0.04: 0.957, 0.043000000000000003: 0.9571, 0.046: 0.9565, 0.049: 0.9564, 0.052000000000000005: 0.9566, 0.055: 0.9562, 0.058: 0.9565, 0.061: 0.9571, 0.064: 0.9567, 0.067: 0.9566, 0.07: 0.9563, 0.07300000000000001: 0.9562, 0.076: 0.9563, 0.079: 0.9562, 0.082: 0.9563, 0.085: 0.9562, 0.08800000000000001: 0.9558, 0.091: 0.9555, 0.094: 0.9552, 0.097: 0.9545, 0.1: 0.9542, 0.10300000000000001: 0.9536, 0.106: 0.9531, 0.109: 0.9527, 0.112: 0.9525, 0.115: 0.9524, 0.11800000000000001: 0.9522, 0.121: 0.9517, 0.124: 0.9511, 0.127: 0.9507, 0.13: 0.9503, 0.133: 0.9505, 0.136: 0.9504, 0.139: 0.95, 0.14200000000000002: 0.9499, 0.14500000000000002: 0.9495, 0.148: 0.9494, 0.151: 0.9492, 0.154: 0.9491, 0.157: 0.9485, 0.16: 0.9483, 0.163: 0.9479, 0.166: 0.9475, 0.169: 0.9473, 0.17200000000000001: 0.9474, 0.17500000000000002: 0.9473, 0.178: 0.9469, 0.181: 0.9467, 0.184: 0.9465, 0.187: 0.9464, 0.19: 0.9465, 0.193: 0.9464, 0.196: 0.9459, 0.199: 0.9455, 0.202: 0.9448, 0.20500000000000002: 0.9446, 0.20800000000000002: 0.944, 0.211: 0.9436, 0.214: 0.9433, 0.217: 0.9433, 0.22: 0.9432, 0.223: 0.9428, 0.226: 0.9426, 0.229: 0.942, 0.232: 0.9417, 0.23500000000000001: 0.9414, 0.23800000000000002: 0.941, 0.241: 0.9407, 0.244: 0.9407, 0.247: 0.9403, 0.25: 0.9403, 0.253: 0.9401, 0.256: 0.9402, 0.259: 0.94, 0.262: 0.9398, 0.265: 0.9397, 0.268: 0.9397, 0.271: 0.9397, 0.274: 0.9394, 0.277: 0.9394, 0.28: 0.9389, 0.28300000000000003: 0.9386, 0.28600000000000003: 0.938, 0.28900000000000003: 0.9378, 0.292: 0.9373, 0.295: 0.9369, 0.298: 0.9366, 0.301: 0.9361, 0.304: 0.9355, 0.307: 0.9353, 0.31: 0.9352, 0.313: 0.9351, 0.316: 0.9346, 0.319: 0.9342, 0.322: 0.934, 0.325: 0.9339, 0.328: 0.9338, 0.331: 0.9334, 0.334: 0.9332, 0.337: 0.9331, 0.34: 0.9328, 0.343: 0.9328, 0.34600000000000003: 0.9326, 0.34900000000000003: 0.9324, 0.35200000000000004: 0.9321, 0.355: 0.9317, 0.358: 0.9316, 0.361: 0.9314, 0.364: 0.931, 0.367: 0.9311, 0.37: 0.9308, 0.373: 0.9308, 0.376: 0.9303, 0.379: 0.9299, 0.382: 0.93}\n",
            "{0.001: 0.9108, 0.004: 0.9355, 0.007: 0.9423, 0.010000000000000002: 0.9473, 0.013000000000000001: 0.9498, 0.016: 0.9516, 0.019000000000000003: 0.953, 0.022000000000000002: 0.9546, 0.025: 0.9556, 0.028: 0.956, 0.031: 0.9562, 0.034: 0.9564, 0.037000000000000005: 0.9564, 0.04: 0.957, 0.043000000000000003: 0.9571, 0.046: 0.9565, 0.049: 0.9564, 0.052000000000000005: 0.9566, 0.055: 0.9562, 0.058: 0.9565, 0.061: 0.9571, 0.064: 0.9567, 0.067: 0.9566, 0.07: 0.9563, 0.07300000000000001: 0.9562, 0.076: 0.9563, 0.079: 0.9562, 0.082: 0.9563, 0.085: 0.9562, 0.08800000000000001: 0.9558, 0.091: 0.9555, 0.094: 0.9552, 0.097: 0.9545, 0.1: 0.9542, 0.10300000000000001: 0.9536, 0.106: 0.9531, 0.109: 0.9527, 0.112: 0.9525, 0.115: 0.9524, 0.11800000000000001: 0.9522, 0.121: 0.9517, 0.124: 0.9511, 0.127: 0.9507, 0.13: 0.9503, 0.133: 0.9505, 0.136: 0.9504, 0.139: 0.95, 0.14200000000000002: 0.9499, 0.14500000000000002: 0.9495, 0.148: 0.9494, 0.151: 0.9492, 0.154: 0.9491, 0.157: 0.9485, 0.16: 0.9483, 0.163: 0.9479, 0.166: 0.9475, 0.169: 0.9473, 0.17200000000000001: 0.9474, 0.17500000000000002: 0.9473, 0.178: 0.9469, 0.181: 0.9467, 0.184: 0.9465, 0.187: 0.9464, 0.19: 0.9465, 0.193: 0.9464, 0.196: 0.9459, 0.199: 0.9455, 0.202: 0.9448, 0.20500000000000002: 0.9446, 0.20800000000000002: 0.944, 0.211: 0.9436, 0.214: 0.9433, 0.217: 0.9433, 0.22: 0.9432, 0.223: 0.9428, 0.226: 0.9426, 0.229: 0.942, 0.232: 0.9417, 0.23500000000000001: 0.9414, 0.23800000000000002: 0.941, 0.241: 0.9407, 0.244: 0.9407, 0.247: 0.9403, 0.25: 0.9403, 0.253: 0.9401, 0.256: 0.9402, 0.259: 0.94, 0.262: 0.9398, 0.265: 0.9397, 0.268: 0.9397, 0.271: 0.9397, 0.274: 0.9394, 0.277: 0.9394, 0.28: 0.9389, 0.28300000000000003: 0.9386, 0.28600000000000003: 0.938, 0.28900000000000003: 0.9378, 0.292: 0.9373, 0.295: 0.9369, 0.298: 0.9366, 0.301: 0.9361, 0.304: 0.9355, 0.307: 0.9353, 0.31: 0.9352, 0.313: 0.9351, 0.316: 0.9346, 0.319: 0.9342, 0.322: 0.934, 0.325: 0.9339, 0.328: 0.9338, 0.331: 0.9334, 0.334: 0.9332, 0.337: 0.9331, 0.34: 0.9328, 0.343: 0.9328, 0.34600000000000003: 0.9326, 0.34900000000000003: 0.9324, 0.35200000000000004: 0.9321, 0.355: 0.9317, 0.358: 0.9316, 0.361: 0.9314, 0.364: 0.931, 0.367: 0.9311, 0.37: 0.9308, 0.373: 0.9308, 0.376: 0.9303, 0.379: 0.9299, 0.382: 0.93, 0.385: 0.9301}\n",
            "{0.001: 0.9108, 0.004: 0.9355, 0.007: 0.9423, 0.010000000000000002: 0.9473, 0.013000000000000001: 0.9498, 0.016: 0.9516, 0.019000000000000003: 0.953, 0.022000000000000002: 0.9546, 0.025: 0.9556, 0.028: 0.956, 0.031: 0.9562, 0.034: 0.9564, 0.037000000000000005: 0.9564, 0.04: 0.957, 0.043000000000000003: 0.9571, 0.046: 0.9565, 0.049: 0.9564, 0.052000000000000005: 0.9566, 0.055: 0.9562, 0.058: 0.9565, 0.061: 0.9571, 0.064: 0.9567, 0.067: 0.9566, 0.07: 0.9563, 0.07300000000000001: 0.9562, 0.076: 0.9563, 0.079: 0.9562, 0.082: 0.9563, 0.085: 0.9562, 0.08800000000000001: 0.9558, 0.091: 0.9555, 0.094: 0.9552, 0.097: 0.9545, 0.1: 0.9542, 0.10300000000000001: 0.9536, 0.106: 0.9531, 0.109: 0.9527, 0.112: 0.9525, 0.115: 0.9524, 0.11800000000000001: 0.9522, 0.121: 0.9517, 0.124: 0.9511, 0.127: 0.9507, 0.13: 0.9503, 0.133: 0.9505, 0.136: 0.9504, 0.139: 0.95, 0.14200000000000002: 0.9499, 0.14500000000000002: 0.9495, 0.148: 0.9494, 0.151: 0.9492, 0.154: 0.9491, 0.157: 0.9485, 0.16: 0.9483, 0.163: 0.9479, 0.166: 0.9475, 0.169: 0.9473, 0.17200000000000001: 0.9474, 0.17500000000000002: 0.9473, 0.178: 0.9469, 0.181: 0.9467, 0.184: 0.9465, 0.187: 0.9464, 0.19: 0.9465, 0.193: 0.9464, 0.196: 0.9459, 0.199: 0.9455, 0.202: 0.9448, 0.20500000000000002: 0.9446, 0.20800000000000002: 0.944, 0.211: 0.9436, 0.214: 0.9433, 0.217: 0.9433, 0.22: 0.9432, 0.223: 0.9428, 0.226: 0.9426, 0.229: 0.942, 0.232: 0.9417, 0.23500000000000001: 0.9414, 0.23800000000000002: 0.941, 0.241: 0.9407, 0.244: 0.9407, 0.247: 0.9403, 0.25: 0.9403, 0.253: 0.9401, 0.256: 0.9402, 0.259: 0.94, 0.262: 0.9398, 0.265: 0.9397, 0.268: 0.9397, 0.271: 0.9397, 0.274: 0.9394, 0.277: 0.9394, 0.28: 0.9389, 0.28300000000000003: 0.9386, 0.28600000000000003: 0.938, 0.28900000000000003: 0.9378, 0.292: 0.9373, 0.295: 0.9369, 0.298: 0.9366, 0.301: 0.9361, 0.304: 0.9355, 0.307: 0.9353, 0.31: 0.9352, 0.313: 0.9351, 0.316: 0.9346, 0.319: 0.9342, 0.322: 0.934, 0.325: 0.9339, 0.328: 0.9338, 0.331: 0.9334, 0.334: 0.9332, 0.337: 0.9331, 0.34: 0.9328, 0.343: 0.9328, 0.34600000000000003: 0.9326, 0.34900000000000003: 0.9324, 0.35200000000000004: 0.9321, 0.355: 0.9317, 0.358: 0.9316, 0.361: 0.9314, 0.364: 0.931, 0.367: 0.9311, 0.37: 0.9308, 0.373: 0.9308, 0.376: 0.9303, 0.379: 0.9299, 0.382: 0.93, 0.385: 0.9301, 0.388: 0.9297}\n",
            "{0.001: 0.9108, 0.004: 0.9355, 0.007: 0.9423, 0.010000000000000002: 0.9473, 0.013000000000000001: 0.9498, 0.016: 0.9516, 0.019000000000000003: 0.953, 0.022000000000000002: 0.9546, 0.025: 0.9556, 0.028: 0.956, 0.031: 0.9562, 0.034: 0.9564, 0.037000000000000005: 0.9564, 0.04: 0.957, 0.043000000000000003: 0.9571, 0.046: 0.9565, 0.049: 0.9564, 0.052000000000000005: 0.9566, 0.055: 0.9562, 0.058: 0.9565, 0.061: 0.9571, 0.064: 0.9567, 0.067: 0.9566, 0.07: 0.9563, 0.07300000000000001: 0.9562, 0.076: 0.9563, 0.079: 0.9562, 0.082: 0.9563, 0.085: 0.9562, 0.08800000000000001: 0.9558, 0.091: 0.9555, 0.094: 0.9552, 0.097: 0.9545, 0.1: 0.9542, 0.10300000000000001: 0.9536, 0.106: 0.9531, 0.109: 0.9527, 0.112: 0.9525, 0.115: 0.9524, 0.11800000000000001: 0.9522, 0.121: 0.9517, 0.124: 0.9511, 0.127: 0.9507, 0.13: 0.9503, 0.133: 0.9505, 0.136: 0.9504, 0.139: 0.95, 0.14200000000000002: 0.9499, 0.14500000000000002: 0.9495, 0.148: 0.9494, 0.151: 0.9492, 0.154: 0.9491, 0.157: 0.9485, 0.16: 0.9483, 0.163: 0.9479, 0.166: 0.9475, 0.169: 0.9473, 0.17200000000000001: 0.9474, 0.17500000000000002: 0.9473, 0.178: 0.9469, 0.181: 0.9467, 0.184: 0.9465, 0.187: 0.9464, 0.19: 0.9465, 0.193: 0.9464, 0.196: 0.9459, 0.199: 0.9455, 0.202: 0.9448, 0.20500000000000002: 0.9446, 0.20800000000000002: 0.944, 0.211: 0.9436, 0.214: 0.9433, 0.217: 0.9433, 0.22: 0.9432, 0.223: 0.9428, 0.226: 0.9426, 0.229: 0.942, 0.232: 0.9417, 0.23500000000000001: 0.9414, 0.23800000000000002: 0.941, 0.241: 0.9407, 0.244: 0.9407, 0.247: 0.9403, 0.25: 0.9403, 0.253: 0.9401, 0.256: 0.9402, 0.259: 0.94, 0.262: 0.9398, 0.265: 0.9397, 0.268: 0.9397, 0.271: 0.9397, 0.274: 0.9394, 0.277: 0.9394, 0.28: 0.9389, 0.28300000000000003: 0.9386, 0.28600000000000003: 0.938, 0.28900000000000003: 0.9378, 0.292: 0.9373, 0.295: 0.9369, 0.298: 0.9366, 0.301: 0.9361, 0.304: 0.9355, 0.307: 0.9353, 0.31: 0.9352, 0.313: 0.9351, 0.316: 0.9346, 0.319: 0.9342, 0.322: 0.934, 0.325: 0.9339, 0.328: 0.9338, 0.331: 0.9334, 0.334: 0.9332, 0.337: 0.9331, 0.34: 0.9328, 0.343: 0.9328, 0.34600000000000003: 0.9326, 0.34900000000000003: 0.9324, 0.35200000000000004: 0.9321, 0.355: 0.9317, 0.358: 0.9316, 0.361: 0.9314, 0.364: 0.931, 0.367: 0.9311, 0.37: 0.9308, 0.373: 0.9308, 0.376: 0.9303, 0.379: 0.9299, 0.382: 0.93, 0.385: 0.9301, 0.388: 0.9297, 0.391: 0.9289}\n",
            "{0.001: 0.9108, 0.004: 0.9355, 0.007: 0.9423, 0.010000000000000002: 0.9473, 0.013000000000000001: 0.9498, 0.016: 0.9516, 0.019000000000000003: 0.953, 0.022000000000000002: 0.9546, 0.025: 0.9556, 0.028: 0.956, 0.031: 0.9562, 0.034: 0.9564, 0.037000000000000005: 0.9564, 0.04: 0.957, 0.043000000000000003: 0.9571, 0.046: 0.9565, 0.049: 0.9564, 0.052000000000000005: 0.9566, 0.055: 0.9562, 0.058: 0.9565, 0.061: 0.9571, 0.064: 0.9567, 0.067: 0.9566, 0.07: 0.9563, 0.07300000000000001: 0.9562, 0.076: 0.9563, 0.079: 0.9562, 0.082: 0.9563, 0.085: 0.9562, 0.08800000000000001: 0.9558, 0.091: 0.9555, 0.094: 0.9552, 0.097: 0.9545, 0.1: 0.9542, 0.10300000000000001: 0.9536, 0.106: 0.9531, 0.109: 0.9527, 0.112: 0.9525, 0.115: 0.9524, 0.11800000000000001: 0.9522, 0.121: 0.9517, 0.124: 0.9511, 0.127: 0.9507, 0.13: 0.9503, 0.133: 0.9505, 0.136: 0.9504, 0.139: 0.95, 0.14200000000000002: 0.9499, 0.14500000000000002: 0.9495, 0.148: 0.9494, 0.151: 0.9492, 0.154: 0.9491, 0.157: 0.9485, 0.16: 0.9483, 0.163: 0.9479, 0.166: 0.9475, 0.169: 0.9473, 0.17200000000000001: 0.9474, 0.17500000000000002: 0.9473, 0.178: 0.9469, 0.181: 0.9467, 0.184: 0.9465, 0.187: 0.9464, 0.19: 0.9465, 0.193: 0.9464, 0.196: 0.9459, 0.199: 0.9455, 0.202: 0.9448, 0.20500000000000002: 0.9446, 0.20800000000000002: 0.944, 0.211: 0.9436, 0.214: 0.9433, 0.217: 0.9433, 0.22: 0.9432, 0.223: 0.9428, 0.226: 0.9426, 0.229: 0.942, 0.232: 0.9417, 0.23500000000000001: 0.9414, 0.23800000000000002: 0.941, 0.241: 0.9407, 0.244: 0.9407, 0.247: 0.9403, 0.25: 0.9403, 0.253: 0.9401, 0.256: 0.9402, 0.259: 0.94, 0.262: 0.9398, 0.265: 0.9397, 0.268: 0.9397, 0.271: 0.9397, 0.274: 0.9394, 0.277: 0.9394, 0.28: 0.9389, 0.28300000000000003: 0.9386, 0.28600000000000003: 0.938, 0.28900000000000003: 0.9378, 0.292: 0.9373, 0.295: 0.9369, 0.298: 0.9366, 0.301: 0.9361, 0.304: 0.9355, 0.307: 0.9353, 0.31: 0.9352, 0.313: 0.9351, 0.316: 0.9346, 0.319: 0.9342, 0.322: 0.934, 0.325: 0.9339, 0.328: 0.9338, 0.331: 0.9334, 0.334: 0.9332, 0.337: 0.9331, 0.34: 0.9328, 0.343: 0.9328, 0.34600000000000003: 0.9326, 0.34900000000000003: 0.9324, 0.35200000000000004: 0.9321, 0.355: 0.9317, 0.358: 0.9316, 0.361: 0.9314, 0.364: 0.931, 0.367: 0.9311, 0.37: 0.9308, 0.373: 0.9308, 0.376: 0.9303, 0.379: 0.9299, 0.382: 0.93, 0.385: 0.9301, 0.388: 0.9297, 0.391: 0.9289, 0.394: 0.9287}\n",
            "{0.001: 0.9108, 0.004: 0.9355, 0.007: 0.9423, 0.010000000000000002: 0.9473, 0.013000000000000001: 0.9498, 0.016: 0.9516, 0.019000000000000003: 0.953, 0.022000000000000002: 0.9546, 0.025: 0.9556, 0.028: 0.956, 0.031: 0.9562, 0.034: 0.9564, 0.037000000000000005: 0.9564, 0.04: 0.957, 0.043000000000000003: 0.9571, 0.046: 0.9565, 0.049: 0.9564, 0.052000000000000005: 0.9566, 0.055: 0.9562, 0.058: 0.9565, 0.061: 0.9571, 0.064: 0.9567, 0.067: 0.9566, 0.07: 0.9563, 0.07300000000000001: 0.9562, 0.076: 0.9563, 0.079: 0.9562, 0.082: 0.9563, 0.085: 0.9562, 0.08800000000000001: 0.9558, 0.091: 0.9555, 0.094: 0.9552, 0.097: 0.9545, 0.1: 0.9542, 0.10300000000000001: 0.9536, 0.106: 0.9531, 0.109: 0.9527, 0.112: 0.9525, 0.115: 0.9524, 0.11800000000000001: 0.9522, 0.121: 0.9517, 0.124: 0.9511, 0.127: 0.9507, 0.13: 0.9503, 0.133: 0.9505, 0.136: 0.9504, 0.139: 0.95, 0.14200000000000002: 0.9499, 0.14500000000000002: 0.9495, 0.148: 0.9494, 0.151: 0.9492, 0.154: 0.9491, 0.157: 0.9485, 0.16: 0.9483, 0.163: 0.9479, 0.166: 0.9475, 0.169: 0.9473, 0.17200000000000001: 0.9474, 0.17500000000000002: 0.9473, 0.178: 0.9469, 0.181: 0.9467, 0.184: 0.9465, 0.187: 0.9464, 0.19: 0.9465, 0.193: 0.9464, 0.196: 0.9459, 0.199: 0.9455, 0.202: 0.9448, 0.20500000000000002: 0.9446, 0.20800000000000002: 0.944, 0.211: 0.9436, 0.214: 0.9433, 0.217: 0.9433, 0.22: 0.9432, 0.223: 0.9428, 0.226: 0.9426, 0.229: 0.942, 0.232: 0.9417, 0.23500000000000001: 0.9414, 0.23800000000000002: 0.941, 0.241: 0.9407, 0.244: 0.9407, 0.247: 0.9403, 0.25: 0.9403, 0.253: 0.9401, 0.256: 0.9402, 0.259: 0.94, 0.262: 0.9398, 0.265: 0.9397, 0.268: 0.9397, 0.271: 0.9397, 0.274: 0.9394, 0.277: 0.9394, 0.28: 0.9389, 0.28300000000000003: 0.9386, 0.28600000000000003: 0.938, 0.28900000000000003: 0.9378, 0.292: 0.9373, 0.295: 0.9369, 0.298: 0.9366, 0.301: 0.9361, 0.304: 0.9355, 0.307: 0.9353, 0.31: 0.9352, 0.313: 0.9351, 0.316: 0.9346, 0.319: 0.9342, 0.322: 0.934, 0.325: 0.9339, 0.328: 0.9338, 0.331: 0.9334, 0.334: 0.9332, 0.337: 0.9331, 0.34: 0.9328, 0.343: 0.9328, 0.34600000000000003: 0.9326, 0.34900000000000003: 0.9324, 0.35200000000000004: 0.9321, 0.355: 0.9317, 0.358: 0.9316, 0.361: 0.9314, 0.364: 0.931, 0.367: 0.9311, 0.37: 0.9308, 0.373: 0.9308, 0.376: 0.9303, 0.379: 0.9299, 0.382: 0.93, 0.385: 0.9301, 0.388: 0.9297, 0.391: 0.9289, 0.394: 0.9287, 0.397: 0.9286}\n",
            "{0.001: 0.9108, 0.004: 0.9355, 0.007: 0.9423, 0.010000000000000002: 0.9473, 0.013000000000000001: 0.9498, 0.016: 0.9516, 0.019000000000000003: 0.953, 0.022000000000000002: 0.9546, 0.025: 0.9556, 0.028: 0.956, 0.031: 0.9562, 0.034: 0.9564, 0.037000000000000005: 0.9564, 0.04: 0.957, 0.043000000000000003: 0.9571, 0.046: 0.9565, 0.049: 0.9564, 0.052000000000000005: 0.9566, 0.055: 0.9562, 0.058: 0.9565, 0.061: 0.9571, 0.064: 0.9567, 0.067: 0.9566, 0.07: 0.9563, 0.07300000000000001: 0.9562, 0.076: 0.9563, 0.079: 0.9562, 0.082: 0.9563, 0.085: 0.9562, 0.08800000000000001: 0.9558, 0.091: 0.9555, 0.094: 0.9552, 0.097: 0.9545, 0.1: 0.9542, 0.10300000000000001: 0.9536, 0.106: 0.9531, 0.109: 0.9527, 0.112: 0.9525, 0.115: 0.9524, 0.11800000000000001: 0.9522, 0.121: 0.9517, 0.124: 0.9511, 0.127: 0.9507, 0.13: 0.9503, 0.133: 0.9505, 0.136: 0.9504, 0.139: 0.95, 0.14200000000000002: 0.9499, 0.14500000000000002: 0.9495, 0.148: 0.9494, 0.151: 0.9492, 0.154: 0.9491, 0.157: 0.9485, 0.16: 0.9483, 0.163: 0.9479, 0.166: 0.9475, 0.169: 0.9473, 0.17200000000000001: 0.9474, 0.17500000000000002: 0.9473, 0.178: 0.9469, 0.181: 0.9467, 0.184: 0.9465, 0.187: 0.9464, 0.19: 0.9465, 0.193: 0.9464, 0.196: 0.9459, 0.199: 0.9455, 0.202: 0.9448, 0.20500000000000002: 0.9446, 0.20800000000000002: 0.944, 0.211: 0.9436, 0.214: 0.9433, 0.217: 0.9433, 0.22: 0.9432, 0.223: 0.9428, 0.226: 0.9426, 0.229: 0.942, 0.232: 0.9417, 0.23500000000000001: 0.9414, 0.23800000000000002: 0.941, 0.241: 0.9407, 0.244: 0.9407, 0.247: 0.9403, 0.25: 0.9403, 0.253: 0.9401, 0.256: 0.9402, 0.259: 0.94, 0.262: 0.9398, 0.265: 0.9397, 0.268: 0.9397, 0.271: 0.9397, 0.274: 0.9394, 0.277: 0.9394, 0.28: 0.9389, 0.28300000000000003: 0.9386, 0.28600000000000003: 0.938, 0.28900000000000003: 0.9378, 0.292: 0.9373, 0.295: 0.9369, 0.298: 0.9366, 0.301: 0.9361, 0.304: 0.9355, 0.307: 0.9353, 0.31: 0.9352, 0.313: 0.9351, 0.316: 0.9346, 0.319: 0.9342, 0.322: 0.934, 0.325: 0.9339, 0.328: 0.9338, 0.331: 0.9334, 0.334: 0.9332, 0.337: 0.9331, 0.34: 0.9328, 0.343: 0.9328, 0.34600000000000003: 0.9326, 0.34900000000000003: 0.9324, 0.35200000000000004: 0.9321, 0.355: 0.9317, 0.358: 0.9316, 0.361: 0.9314, 0.364: 0.931, 0.367: 0.9311, 0.37: 0.9308, 0.373: 0.9308, 0.376: 0.9303, 0.379: 0.9299, 0.382: 0.93, 0.385: 0.9301, 0.388: 0.9297, 0.391: 0.9289, 0.394: 0.9287, 0.397: 0.9286, 0.4: 0.9284}\n",
            "{0.001: 0.9108, 0.004: 0.9355, 0.007: 0.9423, 0.010000000000000002: 0.9473, 0.013000000000000001: 0.9498, 0.016: 0.9516, 0.019000000000000003: 0.953, 0.022000000000000002: 0.9546, 0.025: 0.9556, 0.028: 0.956, 0.031: 0.9562, 0.034: 0.9564, 0.037000000000000005: 0.9564, 0.04: 0.957, 0.043000000000000003: 0.9571, 0.046: 0.9565, 0.049: 0.9564, 0.052000000000000005: 0.9566, 0.055: 0.9562, 0.058: 0.9565, 0.061: 0.9571, 0.064: 0.9567, 0.067: 0.9566, 0.07: 0.9563, 0.07300000000000001: 0.9562, 0.076: 0.9563, 0.079: 0.9562, 0.082: 0.9563, 0.085: 0.9562, 0.08800000000000001: 0.9558, 0.091: 0.9555, 0.094: 0.9552, 0.097: 0.9545, 0.1: 0.9542, 0.10300000000000001: 0.9536, 0.106: 0.9531, 0.109: 0.9527, 0.112: 0.9525, 0.115: 0.9524, 0.11800000000000001: 0.9522, 0.121: 0.9517, 0.124: 0.9511, 0.127: 0.9507, 0.13: 0.9503, 0.133: 0.9505, 0.136: 0.9504, 0.139: 0.95, 0.14200000000000002: 0.9499, 0.14500000000000002: 0.9495, 0.148: 0.9494, 0.151: 0.9492, 0.154: 0.9491, 0.157: 0.9485, 0.16: 0.9483, 0.163: 0.9479, 0.166: 0.9475, 0.169: 0.9473, 0.17200000000000001: 0.9474, 0.17500000000000002: 0.9473, 0.178: 0.9469, 0.181: 0.9467, 0.184: 0.9465, 0.187: 0.9464, 0.19: 0.9465, 0.193: 0.9464, 0.196: 0.9459, 0.199: 0.9455, 0.202: 0.9448, 0.20500000000000002: 0.9446, 0.20800000000000002: 0.944, 0.211: 0.9436, 0.214: 0.9433, 0.217: 0.9433, 0.22: 0.9432, 0.223: 0.9428, 0.226: 0.9426, 0.229: 0.942, 0.232: 0.9417, 0.23500000000000001: 0.9414, 0.23800000000000002: 0.941, 0.241: 0.9407, 0.244: 0.9407, 0.247: 0.9403, 0.25: 0.9403, 0.253: 0.9401, 0.256: 0.9402, 0.259: 0.94, 0.262: 0.9398, 0.265: 0.9397, 0.268: 0.9397, 0.271: 0.9397, 0.274: 0.9394, 0.277: 0.9394, 0.28: 0.9389, 0.28300000000000003: 0.9386, 0.28600000000000003: 0.938, 0.28900000000000003: 0.9378, 0.292: 0.9373, 0.295: 0.9369, 0.298: 0.9366, 0.301: 0.9361, 0.304: 0.9355, 0.307: 0.9353, 0.31: 0.9352, 0.313: 0.9351, 0.316: 0.9346, 0.319: 0.9342, 0.322: 0.934, 0.325: 0.9339, 0.328: 0.9338, 0.331: 0.9334, 0.334: 0.9332, 0.337: 0.9331, 0.34: 0.9328, 0.343: 0.9328, 0.34600000000000003: 0.9326, 0.34900000000000003: 0.9324, 0.35200000000000004: 0.9321, 0.355: 0.9317, 0.358: 0.9316, 0.361: 0.9314, 0.364: 0.931, 0.367: 0.9311, 0.37: 0.9308, 0.373: 0.9308, 0.376: 0.9303, 0.379: 0.9299, 0.382: 0.93, 0.385: 0.9301, 0.388: 0.9297, 0.391: 0.9289, 0.394: 0.9287, 0.397: 0.9286, 0.4: 0.9284, 0.403: 0.9282}\n",
            "{0.001: 0.9108, 0.004: 0.9355, 0.007: 0.9423, 0.010000000000000002: 0.9473, 0.013000000000000001: 0.9498, 0.016: 0.9516, 0.019000000000000003: 0.953, 0.022000000000000002: 0.9546, 0.025: 0.9556, 0.028: 0.956, 0.031: 0.9562, 0.034: 0.9564, 0.037000000000000005: 0.9564, 0.04: 0.957, 0.043000000000000003: 0.9571, 0.046: 0.9565, 0.049: 0.9564, 0.052000000000000005: 0.9566, 0.055: 0.9562, 0.058: 0.9565, 0.061: 0.9571, 0.064: 0.9567, 0.067: 0.9566, 0.07: 0.9563, 0.07300000000000001: 0.9562, 0.076: 0.9563, 0.079: 0.9562, 0.082: 0.9563, 0.085: 0.9562, 0.08800000000000001: 0.9558, 0.091: 0.9555, 0.094: 0.9552, 0.097: 0.9545, 0.1: 0.9542, 0.10300000000000001: 0.9536, 0.106: 0.9531, 0.109: 0.9527, 0.112: 0.9525, 0.115: 0.9524, 0.11800000000000001: 0.9522, 0.121: 0.9517, 0.124: 0.9511, 0.127: 0.9507, 0.13: 0.9503, 0.133: 0.9505, 0.136: 0.9504, 0.139: 0.95, 0.14200000000000002: 0.9499, 0.14500000000000002: 0.9495, 0.148: 0.9494, 0.151: 0.9492, 0.154: 0.9491, 0.157: 0.9485, 0.16: 0.9483, 0.163: 0.9479, 0.166: 0.9475, 0.169: 0.9473, 0.17200000000000001: 0.9474, 0.17500000000000002: 0.9473, 0.178: 0.9469, 0.181: 0.9467, 0.184: 0.9465, 0.187: 0.9464, 0.19: 0.9465, 0.193: 0.9464, 0.196: 0.9459, 0.199: 0.9455, 0.202: 0.9448, 0.20500000000000002: 0.9446, 0.20800000000000002: 0.944, 0.211: 0.9436, 0.214: 0.9433, 0.217: 0.9433, 0.22: 0.9432, 0.223: 0.9428, 0.226: 0.9426, 0.229: 0.942, 0.232: 0.9417, 0.23500000000000001: 0.9414, 0.23800000000000002: 0.941, 0.241: 0.9407, 0.244: 0.9407, 0.247: 0.9403, 0.25: 0.9403, 0.253: 0.9401, 0.256: 0.9402, 0.259: 0.94, 0.262: 0.9398, 0.265: 0.9397, 0.268: 0.9397, 0.271: 0.9397, 0.274: 0.9394, 0.277: 0.9394, 0.28: 0.9389, 0.28300000000000003: 0.9386, 0.28600000000000003: 0.938, 0.28900000000000003: 0.9378, 0.292: 0.9373, 0.295: 0.9369, 0.298: 0.9366, 0.301: 0.9361, 0.304: 0.9355, 0.307: 0.9353, 0.31: 0.9352, 0.313: 0.9351, 0.316: 0.9346, 0.319: 0.9342, 0.322: 0.934, 0.325: 0.9339, 0.328: 0.9338, 0.331: 0.9334, 0.334: 0.9332, 0.337: 0.9331, 0.34: 0.9328, 0.343: 0.9328, 0.34600000000000003: 0.9326, 0.34900000000000003: 0.9324, 0.35200000000000004: 0.9321, 0.355: 0.9317, 0.358: 0.9316, 0.361: 0.9314, 0.364: 0.931, 0.367: 0.9311, 0.37: 0.9308, 0.373: 0.9308, 0.376: 0.9303, 0.379: 0.9299, 0.382: 0.93, 0.385: 0.9301, 0.388: 0.9297, 0.391: 0.9289, 0.394: 0.9287, 0.397: 0.9286, 0.4: 0.9284, 0.403: 0.9282, 0.406: 0.9282}\n",
            "{0.001: 0.9108, 0.004: 0.9355, 0.007: 0.9423, 0.010000000000000002: 0.9473, 0.013000000000000001: 0.9498, 0.016: 0.9516, 0.019000000000000003: 0.953, 0.022000000000000002: 0.9546, 0.025: 0.9556, 0.028: 0.956, 0.031: 0.9562, 0.034: 0.9564, 0.037000000000000005: 0.9564, 0.04: 0.957, 0.043000000000000003: 0.9571, 0.046: 0.9565, 0.049: 0.9564, 0.052000000000000005: 0.9566, 0.055: 0.9562, 0.058: 0.9565, 0.061: 0.9571, 0.064: 0.9567, 0.067: 0.9566, 0.07: 0.9563, 0.07300000000000001: 0.9562, 0.076: 0.9563, 0.079: 0.9562, 0.082: 0.9563, 0.085: 0.9562, 0.08800000000000001: 0.9558, 0.091: 0.9555, 0.094: 0.9552, 0.097: 0.9545, 0.1: 0.9542, 0.10300000000000001: 0.9536, 0.106: 0.9531, 0.109: 0.9527, 0.112: 0.9525, 0.115: 0.9524, 0.11800000000000001: 0.9522, 0.121: 0.9517, 0.124: 0.9511, 0.127: 0.9507, 0.13: 0.9503, 0.133: 0.9505, 0.136: 0.9504, 0.139: 0.95, 0.14200000000000002: 0.9499, 0.14500000000000002: 0.9495, 0.148: 0.9494, 0.151: 0.9492, 0.154: 0.9491, 0.157: 0.9485, 0.16: 0.9483, 0.163: 0.9479, 0.166: 0.9475, 0.169: 0.9473, 0.17200000000000001: 0.9474, 0.17500000000000002: 0.9473, 0.178: 0.9469, 0.181: 0.9467, 0.184: 0.9465, 0.187: 0.9464, 0.19: 0.9465, 0.193: 0.9464, 0.196: 0.9459, 0.199: 0.9455, 0.202: 0.9448, 0.20500000000000002: 0.9446, 0.20800000000000002: 0.944, 0.211: 0.9436, 0.214: 0.9433, 0.217: 0.9433, 0.22: 0.9432, 0.223: 0.9428, 0.226: 0.9426, 0.229: 0.942, 0.232: 0.9417, 0.23500000000000001: 0.9414, 0.23800000000000002: 0.941, 0.241: 0.9407, 0.244: 0.9407, 0.247: 0.9403, 0.25: 0.9403, 0.253: 0.9401, 0.256: 0.9402, 0.259: 0.94, 0.262: 0.9398, 0.265: 0.9397, 0.268: 0.9397, 0.271: 0.9397, 0.274: 0.9394, 0.277: 0.9394, 0.28: 0.9389, 0.28300000000000003: 0.9386, 0.28600000000000003: 0.938, 0.28900000000000003: 0.9378, 0.292: 0.9373, 0.295: 0.9369, 0.298: 0.9366, 0.301: 0.9361, 0.304: 0.9355, 0.307: 0.9353, 0.31: 0.9352, 0.313: 0.9351, 0.316: 0.9346, 0.319: 0.9342, 0.322: 0.934, 0.325: 0.9339, 0.328: 0.9338, 0.331: 0.9334, 0.334: 0.9332, 0.337: 0.9331, 0.34: 0.9328, 0.343: 0.9328, 0.34600000000000003: 0.9326, 0.34900000000000003: 0.9324, 0.35200000000000004: 0.9321, 0.355: 0.9317, 0.358: 0.9316, 0.361: 0.9314, 0.364: 0.931, 0.367: 0.9311, 0.37: 0.9308, 0.373: 0.9308, 0.376: 0.9303, 0.379: 0.9299, 0.382: 0.93, 0.385: 0.9301, 0.388: 0.9297, 0.391: 0.9289, 0.394: 0.9287, 0.397: 0.9286, 0.4: 0.9284, 0.403: 0.9282, 0.406: 0.9282, 0.40900000000000003: 0.9278}\n",
            "{0.001: 0.9108, 0.004: 0.9355, 0.007: 0.9423, 0.010000000000000002: 0.9473, 0.013000000000000001: 0.9498, 0.016: 0.9516, 0.019000000000000003: 0.953, 0.022000000000000002: 0.9546, 0.025: 0.9556, 0.028: 0.956, 0.031: 0.9562, 0.034: 0.9564, 0.037000000000000005: 0.9564, 0.04: 0.957, 0.043000000000000003: 0.9571, 0.046: 0.9565, 0.049: 0.9564, 0.052000000000000005: 0.9566, 0.055: 0.9562, 0.058: 0.9565, 0.061: 0.9571, 0.064: 0.9567, 0.067: 0.9566, 0.07: 0.9563, 0.07300000000000001: 0.9562, 0.076: 0.9563, 0.079: 0.9562, 0.082: 0.9563, 0.085: 0.9562, 0.08800000000000001: 0.9558, 0.091: 0.9555, 0.094: 0.9552, 0.097: 0.9545, 0.1: 0.9542, 0.10300000000000001: 0.9536, 0.106: 0.9531, 0.109: 0.9527, 0.112: 0.9525, 0.115: 0.9524, 0.11800000000000001: 0.9522, 0.121: 0.9517, 0.124: 0.9511, 0.127: 0.9507, 0.13: 0.9503, 0.133: 0.9505, 0.136: 0.9504, 0.139: 0.95, 0.14200000000000002: 0.9499, 0.14500000000000002: 0.9495, 0.148: 0.9494, 0.151: 0.9492, 0.154: 0.9491, 0.157: 0.9485, 0.16: 0.9483, 0.163: 0.9479, 0.166: 0.9475, 0.169: 0.9473, 0.17200000000000001: 0.9474, 0.17500000000000002: 0.9473, 0.178: 0.9469, 0.181: 0.9467, 0.184: 0.9465, 0.187: 0.9464, 0.19: 0.9465, 0.193: 0.9464, 0.196: 0.9459, 0.199: 0.9455, 0.202: 0.9448, 0.20500000000000002: 0.9446, 0.20800000000000002: 0.944, 0.211: 0.9436, 0.214: 0.9433, 0.217: 0.9433, 0.22: 0.9432, 0.223: 0.9428, 0.226: 0.9426, 0.229: 0.942, 0.232: 0.9417, 0.23500000000000001: 0.9414, 0.23800000000000002: 0.941, 0.241: 0.9407, 0.244: 0.9407, 0.247: 0.9403, 0.25: 0.9403, 0.253: 0.9401, 0.256: 0.9402, 0.259: 0.94, 0.262: 0.9398, 0.265: 0.9397, 0.268: 0.9397, 0.271: 0.9397, 0.274: 0.9394, 0.277: 0.9394, 0.28: 0.9389, 0.28300000000000003: 0.9386, 0.28600000000000003: 0.938, 0.28900000000000003: 0.9378, 0.292: 0.9373, 0.295: 0.9369, 0.298: 0.9366, 0.301: 0.9361, 0.304: 0.9355, 0.307: 0.9353, 0.31: 0.9352, 0.313: 0.9351, 0.316: 0.9346, 0.319: 0.9342, 0.322: 0.934, 0.325: 0.9339, 0.328: 0.9338, 0.331: 0.9334, 0.334: 0.9332, 0.337: 0.9331, 0.34: 0.9328, 0.343: 0.9328, 0.34600000000000003: 0.9326, 0.34900000000000003: 0.9324, 0.35200000000000004: 0.9321, 0.355: 0.9317, 0.358: 0.9316, 0.361: 0.9314, 0.364: 0.931, 0.367: 0.9311, 0.37: 0.9308, 0.373: 0.9308, 0.376: 0.9303, 0.379: 0.9299, 0.382: 0.93, 0.385: 0.9301, 0.388: 0.9297, 0.391: 0.9289, 0.394: 0.9287, 0.397: 0.9286, 0.4: 0.9284, 0.403: 0.9282, 0.406: 0.9282, 0.40900000000000003: 0.9278, 0.41200000000000003: 0.9278}\n",
            "{0.001: 0.9108, 0.004: 0.9355, 0.007: 0.9423, 0.010000000000000002: 0.9473, 0.013000000000000001: 0.9498, 0.016: 0.9516, 0.019000000000000003: 0.953, 0.022000000000000002: 0.9546, 0.025: 0.9556, 0.028: 0.956, 0.031: 0.9562, 0.034: 0.9564, 0.037000000000000005: 0.9564, 0.04: 0.957, 0.043000000000000003: 0.9571, 0.046: 0.9565, 0.049: 0.9564, 0.052000000000000005: 0.9566, 0.055: 0.9562, 0.058: 0.9565, 0.061: 0.9571, 0.064: 0.9567, 0.067: 0.9566, 0.07: 0.9563, 0.07300000000000001: 0.9562, 0.076: 0.9563, 0.079: 0.9562, 0.082: 0.9563, 0.085: 0.9562, 0.08800000000000001: 0.9558, 0.091: 0.9555, 0.094: 0.9552, 0.097: 0.9545, 0.1: 0.9542, 0.10300000000000001: 0.9536, 0.106: 0.9531, 0.109: 0.9527, 0.112: 0.9525, 0.115: 0.9524, 0.11800000000000001: 0.9522, 0.121: 0.9517, 0.124: 0.9511, 0.127: 0.9507, 0.13: 0.9503, 0.133: 0.9505, 0.136: 0.9504, 0.139: 0.95, 0.14200000000000002: 0.9499, 0.14500000000000002: 0.9495, 0.148: 0.9494, 0.151: 0.9492, 0.154: 0.9491, 0.157: 0.9485, 0.16: 0.9483, 0.163: 0.9479, 0.166: 0.9475, 0.169: 0.9473, 0.17200000000000001: 0.9474, 0.17500000000000002: 0.9473, 0.178: 0.9469, 0.181: 0.9467, 0.184: 0.9465, 0.187: 0.9464, 0.19: 0.9465, 0.193: 0.9464, 0.196: 0.9459, 0.199: 0.9455, 0.202: 0.9448, 0.20500000000000002: 0.9446, 0.20800000000000002: 0.944, 0.211: 0.9436, 0.214: 0.9433, 0.217: 0.9433, 0.22: 0.9432, 0.223: 0.9428, 0.226: 0.9426, 0.229: 0.942, 0.232: 0.9417, 0.23500000000000001: 0.9414, 0.23800000000000002: 0.941, 0.241: 0.9407, 0.244: 0.9407, 0.247: 0.9403, 0.25: 0.9403, 0.253: 0.9401, 0.256: 0.9402, 0.259: 0.94, 0.262: 0.9398, 0.265: 0.9397, 0.268: 0.9397, 0.271: 0.9397, 0.274: 0.9394, 0.277: 0.9394, 0.28: 0.9389, 0.28300000000000003: 0.9386, 0.28600000000000003: 0.938, 0.28900000000000003: 0.9378, 0.292: 0.9373, 0.295: 0.9369, 0.298: 0.9366, 0.301: 0.9361, 0.304: 0.9355, 0.307: 0.9353, 0.31: 0.9352, 0.313: 0.9351, 0.316: 0.9346, 0.319: 0.9342, 0.322: 0.934, 0.325: 0.9339, 0.328: 0.9338, 0.331: 0.9334, 0.334: 0.9332, 0.337: 0.9331, 0.34: 0.9328, 0.343: 0.9328, 0.34600000000000003: 0.9326, 0.34900000000000003: 0.9324, 0.35200000000000004: 0.9321, 0.355: 0.9317, 0.358: 0.9316, 0.361: 0.9314, 0.364: 0.931, 0.367: 0.9311, 0.37: 0.9308, 0.373: 0.9308, 0.376: 0.9303, 0.379: 0.9299, 0.382: 0.93, 0.385: 0.9301, 0.388: 0.9297, 0.391: 0.9289, 0.394: 0.9287, 0.397: 0.9286, 0.4: 0.9284, 0.403: 0.9282, 0.406: 0.9282, 0.40900000000000003: 0.9278, 0.41200000000000003: 0.9278, 0.41500000000000004: 0.9274}\n",
            "{0.001: 0.9108, 0.004: 0.9355, 0.007: 0.9423, 0.010000000000000002: 0.9473, 0.013000000000000001: 0.9498, 0.016: 0.9516, 0.019000000000000003: 0.953, 0.022000000000000002: 0.9546, 0.025: 0.9556, 0.028: 0.956, 0.031: 0.9562, 0.034: 0.9564, 0.037000000000000005: 0.9564, 0.04: 0.957, 0.043000000000000003: 0.9571, 0.046: 0.9565, 0.049: 0.9564, 0.052000000000000005: 0.9566, 0.055: 0.9562, 0.058: 0.9565, 0.061: 0.9571, 0.064: 0.9567, 0.067: 0.9566, 0.07: 0.9563, 0.07300000000000001: 0.9562, 0.076: 0.9563, 0.079: 0.9562, 0.082: 0.9563, 0.085: 0.9562, 0.08800000000000001: 0.9558, 0.091: 0.9555, 0.094: 0.9552, 0.097: 0.9545, 0.1: 0.9542, 0.10300000000000001: 0.9536, 0.106: 0.9531, 0.109: 0.9527, 0.112: 0.9525, 0.115: 0.9524, 0.11800000000000001: 0.9522, 0.121: 0.9517, 0.124: 0.9511, 0.127: 0.9507, 0.13: 0.9503, 0.133: 0.9505, 0.136: 0.9504, 0.139: 0.95, 0.14200000000000002: 0.9499, 0.14500000000000002: 0.9495, 0.148: 0.9494, 0.151: 0.9492, 0.154: 0.9491, 0.157: 0.9485, 0.16: 0.9483, 0.163: 0.9479, 0.166: 0.9475, 0.169: 0.9473, 0.17200000000000001: 0.9474, 0.17500000000000002: 0.9473, 0.178: 0.9469, 0.181: 0.9467, 0.184: 0.9465, 0.187: 0.9464, 0.19: 0.9465, 0.193: 0.9464, 0.196: 0.9459, 0.199: 0.9455, 0.202: 0.9448, 0.20500000000000002: 0.9446, 0.20800000000000002: 0.944, 0.211: 0.9436, 0.214: 0.9433, 0.217: 0.9433, 0.22: 0.9432, 0.223: 0.9428, 0.226: 0.9426, 0.229: 0.942, 0.232: 0.9417, 0.23500000000000001: 0.9414, 0.23800000000000002: 0.941, 0.241: 0.9407, 0.244: 0.9407, 0.247: 0.9403, 0.25: 0.9403, 0.253: 0.9401, 0.256: 0.9402, 0.259: 0.94, 0.262: 0.9398, 0.265: 0.9397, 0.268: 0.9397, 0.271: 0.9397, 0.274: 0.9394, 0.277: 0.9394, 0.28: 0.9389, 0.28300000000000003: 0.9386, 0.28600000000000003: 0.938, 0.28900000000000003: 0.9378, 0.292: 0.9373, 0.295: 0.9369, 0.298: 0.9366, 0.301: 0.9361, 0.304: 0.9355, 0.307: 0.9353, 0.31: 0.9352, 0.313: 0.9351, 0.316: 0.9346, 0.319: 0.9342, 0.322: 0.934, 0.325: 0.9339, 0.328: 0.9338, 0.331: 0.9334, 0.334: 0.9332, 0.337: 0.9331, 0.34: 0.9328, 0.343: 0.9328, 0.34600000000000003: 0.9326, 0.34900000000000003: 0.9324, 0.35200000000000004: 0.9321, 0.355: 0.9317, 0.358: 0.9316, 0.361: 0.9314, 0.364: 0.931, 0.367: 0.9311, 0.37: 0.9308, 0.373: 0.9308, 0.376: 0.9303, 0.379: 0.9299, 0.382: 0.93, 0.385: 0.9301, 0.388: 0.9297, 0.391: 0.9289, 0.394: 0.9287, 0.397: 0.9286, 0.4: 0.9284, 0.403: 0.9282, 0.406: 0.9282, 0.40900000000000003: 0.9278, 0.41200000000000003: 0.9278, 0.41500000000000004: 0.9274, 0.418: 0.9272}\n",
            "{0.001: 0.9108, 0.004: 0.9355, 0.007: 0.9423, 0.010000000000000002: 0.9473, 0.013000000000000001: 0.9498, 0.016: 0.9516, 0.019000000000000003: 0.953, 0.022000000000000002: 0.9546, 0.025: 0.9556, 0.028: 0.956, 0.031: 0.9562, 0.034: 0.9564, 0.037000000000000005: 0.9564, 0.04: 0.957, 0.043000000000000003: 0.9571, 0.046: 0.9565, 0.049: 0.9564, 0.052000000000000005: 0.9566, 0.055: 0.9562, 0.058: 0.9565, 0.061: 0.9571, 0.064: 0.9567, 0.067: 0.9566, 0.07: 0.9563, 0.07300000000000001: 0.9562, 0.076: 0.9563, 0.079: 0.9562, 0.082: 0.9563, 0.085: 0.9562, 0.08800000000000001: 0.9558, 0.091: 0.9555, 0.094: 0.9552, 0.097: 0.9545, 0.1: 0.9542, 0.10300000000000001: 0.9536, 0.106: 0.9531, 0.109: 0.9527, 0.112: 0.9525, 0.115: 0.9524, 0.11800000000000001: 0.9522, 0.121: 0.9517, 0.124: 0.9511, 0.127: 0.9507, 0.13: 0.9503, 0.133: 0.9505, 0.136: 0.9504, 0.139: 0.95, 0.14200000000000002: 0.9499, 0.14500000000000002: 0.9495, 0.148: 0.9494, 0.151: 0.9492, 0.154: 0.9491, 0.157: 0.9485, 0.16: 0.9483, 0.163: 0.9479, 0.166: 0.9475, 0.169: 0.9473, 0.17200000000000001: 0.9474, 0.17500000000000002: 0.9473, 0.178: 0.9469, 0.181: 0.9467, 0.184: 0.9465, 0.187: 0.9464, 0.19: 0.9465, 0.193: 0.9464, 0.196: 0.9459, 0.199: 0.9455, 0.202: 0.9448, 0.20500000000000002: 0.9446, 0.20800000000000002: 0.944, 0.211: 0.9436, 0.214: 0.9433, 0.217: 0.9433, 0.22: 0.9432, 0.223: 0.9428, 0.226: 0.9426, 0.229: 0.942, 0.232: 0.9417, 0.23500000000000001: 0.9414, 0.23800000000000002: 0.941, 0.241: 0.9407, 0.244: 0.9407, 0.247: 0.9403, 0.25: 0.9403, 0.253: 0.9401, 0.256: 0.9402, 0.259: 0.94, 0.262: 0.9398, 0.265: 0.9397, 0.268: 0.9397, 0.271: 0.9397, 0.274: 0.9394, 0.277: 0.9394, 0.28: 0.9389, 0.28300000000000003: 0.9386, 0.28600000000000003: 0.938, 0.28900000000000003: 0.9378, 0.292: 0.9373, 0.295: 0.9369, 0.298: 0.9366, 0.301: 0.9361, 0.304: 0.9355, 0.307: 0.9353, 0.31: 0.9352, 0.313: 0.9351, 0.316: 0.9346, 0.319: 0.9342, 0.322: 0.934, 0.325: 0.9339, 0.328: 0.9338, 0.331: 0.9334, 0.334: 0.9332, 0.337: 0.9331, 0.34: 0.9328, 0.343: 0.9328, 0.34600000000000003: 0.9326, 0.34900000000000003: 0.9324, 0.35200000000000004: 0.9321, 0.355: 0.9317, 0.358: 0.9316, 0.361: 0.9314, 0.364: 0.931, 0.367: 0.9311, 0.37: 0.9308, 0.373: 0.9308, 0.376: 0.9303, 0.379: 0.9299, 0.382: 0.93, 0.385: 0.9301, 0.388: 0.9297, 0.391: 0.9289, 0.394: 0.9287, 0.397: 0.9286, 0.4: 0.9284, 0.403: 0.9282, 0.406: 0.9282, 0.40900000000000003: 0.9278, 0.41200000000000003: 0.9278, 0.41500000000000004: 0.9274, 0.418: 0.9272, 0.421: 0.9269}\n",
            "{0.001: 0.9108, 0.004: 0.9355, 0.007: 0.9423, 0.010000000000000002: 0.9473, 0.013000000000000001: 0.9498, 0.016: 0.9516, 0.019000000000000003: 0.953, 0.022000000000000002: 0.9546, 0.025: 0.9556, 0.028: 0.956, 0.031: 0.9562, 0.034: 0.9564, 0.037000000000000005: 0.9564, 0.04: 0.957, 0.043000000000000003: 0.9571, 0.046: 0.9565, 0.049: 0.9564, 0.052000000000000005: 0.9566, 0.055: 0.9562, 0.058: 0.9565, 0.061: 0.9571, 0.064: 0.9567, 0.067: 0.9566, 0.07: 0.9563, 0.07300000000000001: 0.9562, 0.076: 0.9563, 0.079: 0.9562, 0.082: 0.9563, 0.085: 0.9562, 0.08800000000000001: 0.9558, 0.091: 0.9555, 0.094: 0.9552, 0.097: 0.9545, 0.1: 0.9542, 0.10300000000000001: 0.9536, 0.106: 0.9531, 0.109: 0.9527, 0.112: 0.9525, 0.115: 0.9524, 0.11800000000000001: 0.9522, 0.121: 0.9517, 0.124: 0.9511, 0.127: 0.9507, 0.13: 0.9503, 0.133: 0.9505, 0.136: 0.9504, 0.139: 0.95, 0.14200000000000002: 0.9499, 0.14500000000000002: 0.9495, 0.148: 0.9494, 0.151: 0.9492, 0.154: 0.9491, 0.157: 0.9485, 0.16: 0.9483, 0.163: 0.9479, 0.166: 0.9475, 0.169: 0.9473, 0.17200000000000001: 0.9474, 0.17500000000000002: 0.9473, 0.178: 0.9469, 0.181: 0.9467, 0.184: 0.9465, 0.187: 0.9464, 0.19: 0.9465, 0.193: 0.9464, 0.196: 0.9459, 0.199: 0.9455, 0.202: 0.9448, 0.20500000000000002: 0.9446, 0.20800000000000002: 0.944, 0.211: 0.9436, 0.214: 0.9433, 0.217: 0.9433, 0.22: 0.9432, 0.223: 0.9428, 0.226: 0.9426, 0.229: 0.942, 0.232: 0.9417, 0.23500000000000001: 0.9414, 0.23800000000000002: 0.941, 0.241: 0.9407, 0.244: 0.9407, 0.247: 0.9403, 0.25: 0.9403, 0.253: 0.9401, 0.256: 0.9402, 0.259: 0.94, 0.262: 0.9398, 0.265: 0.9397, 0.268: 0.9397, 0.271: 0.9397, 0.274: 0.9394, 0.277: 0.9394, 0.28: 0.9389, 0.28300000000000003: 0.9386, 0.28600000000000003: 0.938, 0.28900000000000003: 0.9378, 0.292: 0.9373, 0.295: 0.9369, 0.298: 0.9366, 0.301: 0.9361, 0.304: 0.9355, 0.307: 0.9353, 0.31: 0.9352, 0.313: 0.9351, 0.316: 0.9346, 0.319: 0.9342, 0.322: 0.934, 0.325: 0.9339, 0.328: 0.9338, 0.331: 0.9334, 0.334: 0.9332, 0.337: 0.9331, 0.34: 0.9328, 0.343: 0.9328, 0.34600000000000003: 0.9326, 0.34900000000000003: 0.9324, 0.35200000000000004: 0.9321, 0.355: 0.9317, 0.358: 0.9316, 0.361: 0.9314, 0.364: 0.931, 0.367: 0.9311, 0.37: 0.9308, 0.373: 0.9308, 0.376: 0.9303, 0.379: 0.9299, 0.382: 0.93, 0.385: 0.9301, 0.388: 0.9297, 0.391: 0.9289, 0.394: 0.9287, 0.397: 0.9286, 0.4: 0.9284, 0.403: 0.9282, 0.406: 0.9282, 0.40900000000000003: 0.9278, 0.41200000000000003: 0.9278, 0.41500000000000004: 0.9274, 0.418: 0.9272, 0.421: 0.9269, 0.424: 0.9268}\n",
            "{0.001: 0.9108, 0.004: 0.9355, 0.007: 0.9423, 0.010000000000000002: 0.9473, 0.013000000000000001: 0.9498, 0.016: 0.9516, 0.019000000000000003: 0.953, 0.022000000000000002: 0.9546, 0.025: 0.9556, 0.028: 0.956, 0.031: 0.9562, 0.034: 0.9564, 0.037000000000000005: 0.9564, 0.04: 0.957, 0.043000000000000003: 0.9571, 0.046: 0.9565, 0.049: 0.9564, 0.052000000000000005: 0.9566, 0.055: 0.9562, 0.058: 0.9565, 0.061: 0.9571, 0.064: 0.9567, 0.067: 0.9566, 0.07: 0.9563, 0.07300000000000001: 0.9562, 0.076: 0.9563, 0.079: 0.9562, 0.082: 0.9563, 0.085: 0.9562, 0.08800000000000001: 0.9558, 0.091: 0.9555, 0.094: 0.9552, 0.097: 0.9545, 0.1: 0.9542, 0.10300000000000001: 0.9536, 0.106: 0.9531, 0.109: 0.9527, 0.112: 0.9525, 0.115: 0.9524, 0.11800000000000001: 0.9522, 0.121: 0.9517, 0.124: 0.9511, 0.127: 0.9507, 0.13: 0.9503, 0.133: 0.9505, 0.136: 0.9504, 0.139: 0.95, 0.14200000000000002: 0.9499, 0.14500000000000002: 0.9495, 0.148: 0.9494, 0.151: 0.9492, 0.154: 0.9491, 0.157: 0.9485, 0.16: 0.9483, 0.163: 0.9479, 0.166: 0.9475, 0.169: 0.9473, 0.17200000000000001: 0.9474, 0.17500000000000002: 0.9473, 0.178: 0.9469, 0.181: 0.9467, 0.184: 0.9465, 0.187: 0.9464, 0.19: 0.9465, 0.193: 0.9464, 0.196: 0.9459, 0.199: 0.9455, 0.202: 0.9448, 0.20500000000000002: 0.9446, 0.20800000000000002: 0.944, 0.211: 0.9436, 0.214: 0.9433, 0.217: 0.9433, 0.22: 0.9432, 0.223: 0.9428, 0.226: 0.9426, 0.229: 0.942, 0.232: 0.9417, 0.23500000000000001: 0.9414, 0.23800000000000002: 0.941, 0.241: 0.9407, 0.244: 0.9407, 0.247: 0.9403, 0.25: 0.9403, 0.253: 0.9401, 0.256: 0.9402, 0.259: 0.94, 0.262: 0.9398, 0.265: 0.9397, 0.268: 0.9397, 0.271: 0.9397, 0.274: 0.9394, 0.277: 0.9394, 0.28: 0.9389, 0.28300000000000003: 0.9386, 0.28600000000000003: 0.938, 0.28900000000000003: 0.9378, 0.292: 0.9373, 0.295: 0.9369, 0.298: 0.9366, 0.301: 0.9361, 0.304: 0.9355, 0.307: 0.9353, 0.31: 0.9352, 0.313: 0.9351, 0.316: 0.9346, 0.319: 0.9342, 0.322: 0.934, 0.325: 0.9339, 0.328: 0.9338, 0.331: 0.9334, 0.334: 0.9332, 0.337: 0.9331, 0.34: 0.9328, 0.343: 0.9328, 0.34600000000000003: 0.9326, 0.34900000000000003: 0.9324, 0.35200000000000004: 0.9321, 0.355: 0.9317, 0.358: 0.9316, 0.361: 0.9314, 0.364: 0.931, 0.367: 0.9311, 0.37: 0.9308, 0.373: 0.9308, 0.376: 0.9303, 0.379: 0.9299, 0.382: 0.93, 0.385: 0.9301, 0.388: 0.9297, 0.391: 0.9289, 0.394: 0.9287, 0.397: 0.9286, 0.4: 0.9284, 0.403: 0.9282, 0.406: 0.9282, 0.40900000000000003: 0.9278, 0.41200000000000003: 0.9278, 0.41500000000000004: 0.9274, 0.418: 0.9272, 0.421: 0.9269, 0.424: 0.9268, 0.427: 0.9268}\n",
            "{0.001: 0.9108, 0.004: 0.9355, 0.007: 0.9423, 0.010000000000000002: 0.9473, 0.013000000000000001: 0.9498, 0.016: 0.9516, 0.019000000000000003: 0.953, 0.022000000000000002: 0.9546, 0.025: 0.9556, 0.028: 0.956, 0.031: 0.9562, 0.034: 0.9564, 0.037000000000000005: 0.9564, 0.04: 0.957, 0.043000000000000003: 0.9571, 0.046: 0.9565, 0.049: 0.9564, 0.052000000000000005: 0.9566, 0.055: 0.9562, 0.058: 0.9565, 0.061: 0.9571, 0.064: 0.9567, 0.067: 0.9566, 0.07: 0.9563, 0.07300000000000001: 0.9562, 0.076: 0.9563, 0.079: 0.9562, 0.082: 0.9563, 0.085: 0.9562, 0.08800000000000001: 0.9558, 0.091: 0.9555, 0.094: 0.9552, 0.097: 0.9545, 0.1: 0.9542, 0.10300000000000001: 0.9536, 0.106: 0.9531, 0.109: 0.9527, 0.112: 0.9525, 0.115: 0.9524, 0.11800000000000001: 0.9522, 0.121: 0.9517, 0.124: 0.9511, 0.127: 0.9507, 0.13: 0.9503, 0.133: 0.9505, 0.136: 0.9504, 0.139: 0.95, 0.14200000000000002: 0.9499, 0.14500000000000002: 0.9495, 0.148: 0.9494, 0.151: 0.9492, 0.154: 0.9491, 0.157: 0.9485, 0.16: 0.9483, 0.163: 0.9479, 0.166: 0.9475, 0.169: 0.9473, 0.17200000000000001: 0.9474, 0.17500000000000002: 0.9473, 0.178: 0.9469, 0.181: 0.9467, 0.184: 0.9465, 0.187: 0.9464, 0.19: 0.9465, 0.193: 0.9464, 0.196: 0.9459, 0.199: 0.9455, 0.202: 0.9448, 0.20500000000000002: 0.9446, 0.20800000000000002: 0.944, 0.211: 0.9436, 0.214: 0.9433, 0.217: 0.9433, 0.22: 0.9432, 0.223: 0.9428, 0.226: 0.9426, 0.229: 0.942, 0.232: 0.9417, 0.23500000000000001: 0.9414, 0.23800000000000002: 0.941, 0.241: 0.9407, 0.244: 0.9407, 0.247: 0.9403, 0.25: 0.9403, 0.253: 0.9401, 0.256: 0.9402, 0.259: 0.94, 0.262: 0.9398, 0.265: 0.9397, 0.268: 0.9397, 0.271: 0.9397, 0.274: 0.9394, 0.277: 0.9394, 0.28: 0.9389, 0.28300000000000003: 0.9386, 0.28600000000000003: 0.938, 0.28900000000000003: 0.9378, 0.292: 0.9373, 0.295: 0.9369, 0.298: 0.9366, 0.301: 0.9361, 0.304: 0.9355, 0.307: 0.9353, 0.31: 0.9352, 0.313: 0.9351, 0.316: 0.9346, 0.319: 0.9342, 0.322: 0.934, 0.325: 0.9339, 0.328: 0.9338, 0.331: 0.9334, 0.334: 0.9332, 0.337: 0.9331, 0.34: 0.9328, 0.343: 0.9328, 0.34600000000000003: 0.9326, 0.34900000000000003: 0.9324, 0.35200000000000004: 0.9321, 0.355: 0.9317, 0.358: 0.9316, 0.361: 0.9314, 0.364: 0.931, 0.367: 0.9311, 0.37: 0.9308, 0.373: 0.9308, 0.376: 0.9303, 0.379: 0.9299, 0.382: 0.93, 0.385: 0.9301, 0.388: 0.9297, 0.391: 0.9289, 0.394: 0.9287, 0.397: 0.9286, 0.4: 0.9284, 0.403: 0.9282, 0.406: 0.9282, 0.40900000000000003: 0.9278, 0.41200000000000003: 0.9278, 0.41500000000000004: 0.9274, 0.418: 0.9272, 0.421: 0.9269, 0.424: 0.9268, 0.427: 0.9268, 0.43: 0.9262}\n",
            "{0.001: 0.9108, 0.004: 0.9355, 0.007: 0.9423, 0.010000000000000002: 0.9473, 0.013000000000000001: 0.9498, 0.016: 0.9516, 0.019000000000000003: 0.953, 0.022000000000000002: 0.9546, 0.025: 0.9556, 0.028: 0.956, 0.031: 0.9562, 0.034: 0.9564, 0.037000000000000005: 0.9564, 0.04: 0.957, 0.043000000000000003: 0.9571, 0.046: 0.9565, 0.049: 0.9564, 0.052000000000000005: 0.9566, 0.055: 0.9562, 0.058: 0.9565, 0.061: 0.9571, 0.064: 0.9567, 0.067: 0.9566, 0.07: 0.9563, 0.07300000000000001: 0.9562, 0.076: 0.9563, 0.079: 0.9562, 0.082: 0.9563, 0.085: 0.9562, 0.08800000000000001: 0.9558, 0.091: 0.9555, 0.094: 0.9552, 0.097: 0.9545, 0.1: 0.9542, 0.10300000000000001: 0.9536, 0.106: 0.9531, 0.109: 0.9527, 0.112: 0.9525, 0.115: 0.9524, 0.11800000000000001: 0.9522, 0.121: 0.9517, 0.124: 0.9511, 0.127: 0.9507, 0.13: 0.9503, 0.133: 0.9505, 0.136: 0.9504, 0.139: 0.95, 0.14200000000000002: 0.9499, 0.14500000000000002: 0.9495, 0.148: 0.9494, 0.151: 0.9492, 0.154: 0.9491, 0.157: 0.9485, 0.16: 0.9483, 0.163: 0.9479, 0.166: 0.9475, 0.169: 0.9473, 0.17200000000000001: 0.9474, 0.17500000000000002: 0.9473, 0.178: 0.9469, 0.181: 0.9467, 0.184: 0.9465, 0.187: 0.9464, 0.19: 0.9465, 0.193: 0.9464, 0.196: 0.9459, 0.199: 0.9455, 0.202: 0.9448, 0.20500000000000002: 0.9446, 0.20800000000000002: 0.944, 0.211: 0.9436, 0.214: 0.9433, 0.217: 0.9433, 0.22: 0.9432, 0.223: 0.9428, 0.226: 0.9426, 0.229: 0.942, 0.232: 0.9417, 0.23500000000000001: 0.9414, 0.23800000000000002: 0.941, 0.241: 0.9407, 0.244: 0.9407, 0.247: 0.9403, 0.25: 0.9403, 0.253: 0.9401, 0.256: 0.9402, 0.259: 0.94, 0.262: 0.9398, 0.265: 0.9397, 0.268: 0.9397, 0.271: 0.9397, 0.274: 0.9394, 0.277: 0.9394, 0.28: 0.9389, 0.28300000000000003: 0.9386, 0.28600000000000003: 0.938, 0.28900000000000003: 0.9378, 0.292: 0.9373, 0.295: 0.9369, 0.298: 0.9366, 0.301: 0.9361, 0.304: 0.9355, 0.307: 0.9353, 0.31: 0.9352, 0.313: 0.9351, 0.316: 0.9346, 0.319: 0.9342, 0.322: 0.934, 0.325: 0.9339, 0.328: 0.9338, 0.331: 0.9334, 0.334: 0.9332, 0.337: 0.9331, 0.34: 0.9328, 0.343: 0.9328, 0.34600000000000003: 0.9326, 0.34900000000000003: 0.9324, 0.35200000000000004: 0.9321, 0.355: 0.9317, 0.358: 0.9316, 0.361: 0.9314, 0.364: 0.931, 0.367: 0.9311, 0.37: 0.9308, 0.373: 0.9308, 0.376: 0.9303, 0.379: 0.9299, 0.382: 0.93, 0.385: 0.9301, 0.388: 0.9297, 0.391: 0.9289, 0.394: 0.9287, 0.397: 0.9286, 0.4: 0.9284, 0.403: 0.9282, 0.406: 0.9282, 0.40900000000000003: 0.9278, 0.41200000000000003: 0.9278, 0.41500000000000004: 0.9274, 0.418: 0.9272, 0.421: 0.9269, 0.424: 0.9268, 0.427: 0.9268, 0.43: 0.9262, 0.433: 0.9263}\n",
            "{0.001: 0.9108, 0.004: 0.9355, 0.007: 0.9423, 0.010000000000000002: 0.9473, 0.013000000000000001: 0.9498, 0.016: 0.9516, 0.019000000000000003: 0.953, 0.022000000000000002: 0.9546, 0.025: 0.9556, 0.028: 0.956, 0.031: 0.9562, 0.034: 0.9564, 0.037000000000000005: 0.9564, 0.04: 0.957, 0.043000000000000003: 0.9571, 0.046: 0.9565, 0.049: 0.9564, 0.052000000000000005: 0.9566, 0.055: 0.9562, 0.058: 0.9565, 0.061: 0.9571, 0.064: 0.9567, 0.067: 0.9566, 0.07: 0.9563, 0.07300000000000001: 0.9562, 0.076: 0.9563, 0.079: 0.9562, 0.082: 0.9563, 0.085: 0.9562, 0.08800000000000001: 0.9558, 0.091: 0.9555, 0.094: 0.9552, 0.097: 0.9545, 0.1: 0.9542, 0.10300000000000001: 0.9536, 0.106: 0.9531, 0.109: 0.9527, 0.112: 0.9525, 0.115: 0.9524, 0.11800000000000001: 0.9522, 0.121: 0.9517, 0.124: 0.9511, 0.127: 0.9507, 0.13: 0.9503, 0.133: 0.9505, 0.136: 0.9504, 0.139: 0.95, 0.14200000000000002: 0.9499, 0.14500000000000002: 0.9495, 0.148: 0.9494, 0.151: 0.9492, 0.154: 0.9491, 0.157: 0.9485, 0.16: 0.9483, 0.163: 0.9479, 0.166: 0.9475, 0.169: 0.9473, 0.17200000000000001: 0.9474, 0.17500000000000002: 0.9473, 0.178: 0.9469, 0.181: 0.9467, 0.184: 0.9465, 0.187: 0.9464, 0.19: 0.9465, 0.193: 0.9464, 0.196: 0.9459, 0.199: 0.9455, 0.202: 0.9448, 0.20500000000000002: 0.9446, 0.20800000000000002: 0.944, 0.211: 0.9436, 0.214: 0.9433, 0.217: 0.9433, 0.22: 0.9432, 0.223: 0.9428, 0.226: 0.9426, 0.229: 0.942, 0.232: 0.9417, 0.23500000000000001: 0.9414, 0.23800000000000002: 0.941, 0.241: 0.9407, 0.244: 0.9407, 0.247: 0.9403, 0.25: 0.9403, 0.253: 0.9401, 0.256: 0.9402, 0.259: 0.94, 0.262: 0.9398, 0.265: 0.9397, 0.268: 0.9397, 0.271: 0.9397, 0.274: 0.9394, 0.277: 0.9394, 0.28: 0.9389, 0.28300000000000003: 0.9386, 0.28600000000000003: 0.938, 0.28900000000000003: 0.9378, 0.292: 0.9373, 0.295: 0.9369, 0.298: 0.9366, 0.301: 0.9361, 0.304: 0.9355, 0.307: 0.9353, 0.31: 0.9352, 0.313: 0.9351, 0.316: 0.9346, 0.319: 0.9342, 0.322: 0.934, 0.325: 0.9339, 0.328: 0.9338, 0.331: 0.9334, 0.334: 0.9332, 0.337: 0.9331, 0.34: 0.9328, 0.343: 0.9328, 0.34600000000000003: 0.9326, 0.34900000000000003: 0.9324, 0.35200000000000004: 0.9321, 0.355: 0.9317, 0.358: 0.9316, 0.361: 0.9314, 0.364: 0.931, 0.367: 0.9311, 0.37: 0.9308, 0.373: 0.9308, 0.376: 0.9303, 0.379: 0.9299, 0.382: 0.93, 0.385: 0.9301, 0.388: 0.9297, 0.391: 0.9289, 0.394: 0.9287, 0.397: 0.9286, 0.4: 0.9284, 0.403: 0.9282, 0.406: 0.9282, 0.40900000000000003: 0.9278, 0.41200000000000003: 0.9278, 0.41500000000000004: 0.9274, 0.418: 0.9272, 0.421: 0.9269, 0.424: 0.9268, 0.427: 0.9268, 0.43: 0.9262, 0.433: 0.9263, 0.436: 0.926}\n",
            "{0.001: 0.9108, 0.004: 0.9355, 0.007: 0.9423, 0.010000000000000002: 0.9473, 0.013000000000000001: 0.9498, 0.016: 0.9516, 0.019000000000000003: 0.953, 0.022000000000000002: 0.9546, 0.025: 0.9556, 0.028: 0.956, 0.031: 0.9562, 0.034: 0.9564, 0.037000000000000005: 0.9564, 0.04: 0.957, 0.043000000000000003: 0.9571, 0.046: 0.9565, 0.049: 0.9564, 0.052000000000000005: 0.9566, 0.055: 0.9562, 0.058: 0.9565, 0.061: 0.9571, 0.064: 0.9567, 0.067: 0.9566, 0.07: 0.9563, 0.07300000000000001: 0.9562, 0.076: 0.9563, 0.079: 0.9562, 0.082: 0.9563, 0.085: 0.9562, 0.08800000000000001: 0.9558, 0.091: 0.9555, 0.094: 0.9552, 0.097: 0.9545, 0.1: 0.9542, 0.10300000000000001: 0.9536, 0.106: 0.9531, 0.109: 0.9527, 0.112: 0.9525, 0.115: 0.9524, 0.11800000000000001: 0.9522, 0.121: 0.9517, 0.124: 0.9511, 0.127: 0.9507, 0.13: 0.9503, 0.133: 0.9505, 0.136: 0.9504, 0.139: 0.95, 0.14200000000000002: 0.9499, 0.14500000000000002: 0.9495, 0.148: 0.9494, 0.151: 0.9492, 0.154: 0.9491, 0.157: 0.9485, 0.16: 0.9483, 0.163: 0.9479, 0.166: 0.9475, 0.169: 0.9473, 0.17200000000000001: 0.9474, 0.17500000000000002: 0.9473, 0.178: 0.9469, 0.181: 0.9467, 0.184: 0.9465, 0.187: 0.9464, 0.19: 0.9465, 0.193: 0.9464, 0.196: 0.9459, 0.199: 0.9455, 0.202: 0.9448, 0.20500000000000002: 0.9446, 0.20800000000000002: 0.944, 0.211: 0.9436, 0.214: 0.9433, 0.217: 0.9433, 0.22: 0.9432, 0.223: 0.9428, 0.226: 0.9426, 0.229: 0.942, 0.232: 0.9417, 0.23500000000000001: 0.9414, 0.23800000000000002: 0.941, 0.241: 0.9407, 0.244: 0.9407, 0.247: 0.9403, 0.25: 0.9403, 0.253: 0.9401, 0.256: 0.9402, 0.259: 0.94, 0.262: 0.9398, 0.265: 0.9397, 0.268: 0.9397, 0.271: 0.9397, 0.274: 0.9394, 0.277: 0.9394, 0.28: 0.9389, 0.28300000000000003: 0.9386, 0.28600000000000003: 0.938, 0.28900000000000003: 0.9378, 0.292: 0.9373, 0.295: 0.9369, 0.298: 0.9366, 0.301: 0.9361, 0.304: 0.9355, 0.307: 0.9353, 0.31: 0.9352, 0.313: 0.9351, 0.316: 0.9346, 0.319: 0.9342, 0.322: 0.934, 0.325: 0.9339, 0.328: 0.9338, 0.331: 0.9334, 0.334: 0.9332, 0.337: 0.9331, 0.34: 0.9328, 0.343: 0.9328, 0.34600000000000003: 0.9326, 0.34900000000000003: 0.9324, 0.35200000000000004: 0.9321, 0.355: 0.9317, 0.358: 0.9316, 0.361: 0.9314, 0.364: 0.931, 0.367: 0.9311, 0.37: 0.9308, 0.373: 0.9308, 0.376: 0.9303, 0.379: 0.9299, 0.382: 0.93, 0.385: 0.9301, 0.388: 0.9297, 0.391: 0.9289, 0.394: 0.9287, 0.397: 0.9286, 0.4: 0.9284, 0.403: 0.9282, 0.406: 0.9282, 0.40900000000000003: 0.9278, 0.41200000000000003: 0.9278, 0.41500000000000004: 0.9274, 0.418: 0.9272, 0.421: 0.9269, 0.424: 0.9268, 0.427: 0.9268, 0.43: 0.9262, 0.433: 0.9263, 0.436: 0.926, 0.439: 0.9258}\n",
            "{0.001: 0.9108, 0.004: 0.9355, 0.007: 0.9423, 0.010000000000000002: 0.9473, 0.013000000000000001: 0.9498, 0.016: 0.9516, 0.019000000000000003: 0.953, 0.022000000000000002: 0.9546, 0.025: 0.9556, 0.028: 0.956, 0.031: 0.9562, 0.034: 0.9564, 0.037000000000000005: 0.9564, 0.04: 0.957, 0.043000000000000003: 0.9571, 0.046: 0.9565, 0.049: 0.9564, 0.052000000000000005: 0.9566, 0.055: 0.9562, 0.058: 0.9565, 0.061: 0.9571, 0.064: 0.9567, 0.067: 0.9566, 0.07: 0.9563, 0.07300000000000001: 0.9562, 0.076: 0.9563, 0.079: 0.9562, 0.082: 0.9563, 0.085: 0.9562, 0.08800000000000001: 0.9558, 0.091: 0.9555, 0.094: 0.9552, 0.097: 0.9545, 0.1: 0.9542, 0.10300000000000001: 0.9536, 0.106: 0.9531, 0.109: 0.9527, 0.112: 0.9525, 0.115: 0.9524, 0.11800000000000001: 0.9522, 0.121: 0.9517, 0.124: 0.9511, 0.127: 0.9507, 0.13: 0.9503, 0.133: 0.9505, 0.136: 0.9504, 0.139: 0.95, 0.14200000000000002: 0.9499, 0.14500000000000002: 0.9495, 0.148: 0.9494, 0.151: 0.9492, 0.154: 0.9491, 0.157: 0.9485, 0.16: 0.9483, 0.163: 0.9479, 0.166: 0.9475, 0.169: 0.9473, 0.17200000000000001: 0.9474, 0.17500000000000002: 0.9473, 0.178: 0.9469, 0.181: 0.9467, 0.184: 0.9465, 0.187: 0.9464, 0.19: 0.9465, 0.193: 0.9464, 0.196: 0.9459, 0.199: 0.9455, 0.202: 0.9448, 0.20500000000000002: 0.9446, 0.20800000000000002: 0.944, 0.211: 0.9436, 0.214: 0.9433, 0.217: 0.9433, 0.22: 0.9432, 0.223: 0.9428, 0.226: 0.9426, 0.229: 0.942, 0.232: 0.9417, 0.23500000000000001: 0.9414, 0.23800000000000002: 0.941, 0.241: 0.9407, 0.244: 0.9407, 0.247: 0.9403, 0.25: 0.9403, 0.253: 0.9401, 0.256: 0.9402, 0.259: 0.94, 0.262: 0.9398, 0.265: 0.9397, 0.268: 0.9397, 0.271: 0.9397, 0.274: 0.9394, 0.277: 0.9394, 0.28: 0.9389, 0.28300000000000003: 0.9386, 0.28600000000000003: 0.938, 0.28900000000000003: 0.9378, 0.292: 0.9373, 0.295: 0.9369, 0.298: 0.9366, 0.301: 0.9361, 0.304: 0.9355, 0.307: 0.9353, 0.31: 0.9352, 0.313: 0.9351, 0.316: 0.9346, 0.319: 0.9342, 0.322: 0.934, 0.325: 0.9339, 0.328: 0.9338, 0.331: 0.9334, 0.334: 0.9332, 0.337: 0.9331, 0.34: 0.9328, 0.343: 0.9328, 0.34600000000000003: 0.9326, 0.34900000000000003: 0.9324, 0.35200000000000004: 0.9321, 0.355: 0.9317, 0.358: 0.9316, 0.361: 0.9314, 0.364: 0.931, 0.367: 0.9311, 0.37: 0.9308, 0.373: 0.9308, 0.376: 0.9303, 0.379: 0.9299, 0.382: 0.93, 0.385: 0.9301, 0.388: 0.9297, 0.391: 0.9289, 0.394: 0.9287, 0.397: 0.9286, 0.4: 0.9284, 0.403: 0.9282, 0.406: 0.9282, 0.40900000000000003: 0.9278, 0.41200000000000003: 0.9278, 0.41500000000000004: 0.9274, 0.418: 0.9272, 0.421: 0.9269, 0.424: 0.9268, 0.427: 0.9268, 0.43: 0.9262, 0.433: 0.9263, 0.436: 0.926, 0.439: 0.9258, 0.442: 0.9258}\n",
            "{0.001: 0.9108, 0.004: 0.9355, 0.007: 0.9423, 0.010000000000000002: 0.9473, 0.013000000000000001: 0.9498, 0.016: 0.9516, 0.019000000000000003: 0.953, 0.022000000000000002: 0.9546, 0.025: 0.9556, 0.028: 0.956, 0.031: 0.9562, 0.034: 0.9564, 0.037000000000000005: 0.9564, 0.04: 0.957, 0.043000000000000003: 0.9571, 0.046: 0.9565, 0.049: 0.9564, 0.052000000000000005: 0.9566, 0.055: 0.9562, 0.058: 0.9565, 0.061: 0.9571, 0.064: 0.9567, 0.067: 0.9566, 0.07: 0.9563, 0.07300000000000001: 0.9562, 0.076: 0.9563, 0.079: 0.9562, 0.082: 0.9563, 0.085: 0.9562, 0.08800000000000001: 0.9558, 0.091: 0.9555, 0.094: 0.9552, 0.097: 0.9545, 0.1: 0.9542, 0.10300000000000001: 0.9536, 0.106: 0.9531, 0.109: 0.9527, 0.112: 0.9525, 0.115: 0.9524, 0.11800000000000001: 0.9522, 0.121: 0.9517, 0.124: 0.9511, 0.127: 0.9507, 0.13: 0.9503, 0.133: 0.9505, 0.136: 0.9504, 0.139: 0.95, 0.14200000000000002: 0.9499, 0.14500000000000002: 0.9495, 0.148: 0.9494, 0.151: 0.9492, 0.154: 0.9491, 0.157: 0.9485, 0.16: 0.9483, 0.163: 0.9479, 0.166: 0.9475, 0.169: 0.9473, 0.17200000000000001: 0.9474, 0.17500000000000002: 0.9473, 0.178: 0.9469, 0.181: 0.9467, 0.184: 0.9465, 0.187: 0.9464, 0.19: 0.9465, 0.193: 0.9464, 0.196: 0.9459, 0.199: 0.9455, 0.202: 0.9448, 0.20500000000000002: 0.9446, 0.20800000000000002: 0.944, 0.211: 0.9436, 0.214: 0.9433, 0.217: 0.9433, 0.22: 0.9432, 0.223: 0.9428, 0.226: 0.9426, 0.229: 0.942, 0.232: 0.9417, 0.23500000000000001: 0.9414, 0.23800000000000002: 0.941, 0.241: 0.9407, 0.244: 0.9407, 0.247: 0.9403, 0.25: 0.9403, 0.253: 0.9401, 0.256: 0.9402, 0.259: 0.94, 0.262: 0.9398, 0.265: 0.9397, 0.268: 0.9397, 0.271: 0.9397, 0.274: 0.9394, 0.277: 0.9394, 0.28: 0.9389, 0.28300000000000003: 0.9386, 0.28600000000000003: 0.938, 0.28900000000000003: 0.9378, 0.292: 0.9373, 0.295: 0.9369, 0.298: 0.9366, 0.301: 0.9361, 0.304: 0.9355, 0.307: 0.9353, 0.31: 0.9352, 0.313: 0.9351, 0.316: 0.9346, 0.319: 0.9342, 0.322: 0.934, 0.325: 0.9339, 0.328: 0.9338, 0.331: 0.9334, 0.334: 0.9332, 0.337: 0.9331, 0.34: 0.9328, 0.343: 0.9328, 0.34600000000000003: 0.9326, 0.34900000000000003: 0.9324, 0.35200000000000004: 0.9321, 0.355: 0.9317, 0.358: 0.9316, 0.361: 0.9314, 0.364: 0.931, 0.367: 0.9311, 0.37: 0.9308, 0.373: 0.9308, 0.376: 0.9303, 0.379: 0.9299, 0.382: 0.93, 0.385: 0.9301, 0.388: 0.9297, 0.391: 0.9289, 0.394: 0.9287, 0.397: 0.9286, 0.4: 0.9284, 0.403: 0.9282, 0.406: 0.9282, 0.40900000000000003: 0.9278, 0.41200000000000003: 0.9278, 0.41500000000000004: 0.9274, 0.418: 0.9272, 0.421: 0.9269, 0.424: 0.9268, 0.427: 0.9268, 0.43: 0.9262, 0.433: 0.9263, 0.436: 0.926, 0.439: 0.9258, 0.442: 0.9258, 0.445: 0.9258}\n",
            "{0.001: 0.9108, 0.004: 0.9355, 0.007: 0.9423, 0.010000000000000002: 0.9473, 0.013000000000000001: 0.9498, 0.016: 0.9516, 0.019000000000000003: 0.953, 0.022000000000000002: 0.9546, 0.025: 0.9556, 0.028: 0.956, 0.031: 0.9562, 0.034: 0.9564, 0.037000000000000005: 0.9564, 0.04: 0.957, 0.043000000000000003: 0.9571, 0.046: 0.9565, 0.049: 0.9564, 0.052000000000000005: 0.9566, 0.055: 0.9562, 0.058: 0.9565, 0.061: 0.9571, 0.064: 0.9567, 0.067: 0.9566, 0.07: 0.9563, 0.07300000000000001: 0.9562, 0.076: 0.9563, 0.079: 0.9562, 0.082: 0.9563, 0.085: 0.9562, 0.08800000000000001: 0.9558, 0.091: 0.9555, 0.094: 0.9552, 0.097: 0.9545, 0.1: 0.9542, 0.10300000000000001: 0.9536, 0.106: 0.9531, 0.109: 0.9527, 0.112: 0.9525, 0.115: 0.9524, 0.11800000000000001: 0.9522, 0.121: 0.9517, 0.124: 0.9511, 0.127: 0.9507, 0.13: 0.9503, 0.133: 0.9505, 0.136: 0.9504, 0.139: 0.95, 0.14200000000000002: 0.9499, 0.14500000000000002: 0.9495, 0.148: 0.9494, 0.151: 0.9492, 0.154: 0.9491, 0.157: 0.9485, 0.16: 0.9483, 0.163: 0.9479, 0.166: 0.9475, 0.169: 0.9473, 0.17200000000000001: 0.9474, 0.17500000000000002: 0.9473, 0.178: 0.9469, 0.181: 0.9467, 0.184: 0.9465, 0.187: 0.9464, 0.19: 0.9465, 0.193: 0.9464, 0.196: 0.9459, 0.199: 0.9455, 0.202: 0.9448, 0.20500000000000002: 0.9446, 0.20800000000000002: 0.944, 0.211: 0.9436, 0.214: 0.9433, 0.217: 0.9433, 0.22: 0.9432, 0.223: 0.9428, 0.226: 0.9426, 0.229: 0.942, 0.232: 0.9417, 0.23500000000000001: 0.9414, 0.23800000000000002: 0.941, 0.241: 0.9407, 0.244: 0.9407, 0.247: 0.9403, 0.25: 0.9403, 0.253: 0.9401, 0.256: 0.9402, 0.259: 0.94, 0.262: 0.9398, 0.265: 0.9397, 0.268: 0.9397, 0.271: 0.9397, 0.274: 0.9394, 0.277: 0.9394, 0.28: 0.9389, 0.28300000000000003: 0.9386, 0.28600000000000003: 0.938, 0.28900000000000003: 0.9378, 0.292: 0.9373, 0.295: 0.9369, 0.298: 0.9366, 0.301: 0.9361, 0.304: 0.9355, 0.307: 0.9353, 0.31: 0.9352, 0.313: 0.9351, 0.316: 0.9346, 0.319: 0.9342, 0.322: 0.934, 0.325: 0.9339, 0.328: 0.9338, 0.331: 0.9334, 0.334: 0.9332, 0.337: 0.9331, 0.34: 0.9328, 0.343: 0.9328, 0.34600000000000003: 0.9326, 0.34900000000000003: 0.9324, 0.35200000000000004: 0.9321, 0.355: 0.9317, 0.358: 0.9316, 0.361: 0.9314, 0.364: 0.931, 0.367: 0.9311, 0.37: 0.9308, 0.373: 0.9308, 0.376: 0.9303, 0.379: 0.9299, 0.382: 0.93, 0.385: 0.9301, 0.388: 0.9297, 0.391: 0.9289, 0.394: 0.9287, 0.397: 0.9286, 0.4: 0.9284, 0.403: 0.9282, 0.406: 0.9282, 0.40900000000000003: 0.9278, 0.41200000000000003: 0.9278, 0.41500000000000004: 0.9274, 0.418: 0.9272, 0.421: 0.9269, 0.424: 0.9268, 0.427: 0.9268, 0.43: 0.9262, 0.433: 0.9263, 0.436: 0.926, 0.439: 0.9258, 0.442: 0.9258, 0.445: 0.9258, 0.448: 0.9258}\n",
            "{0.001: 0.9108, 0.004: 0.9355, 0.007: 0.9423, 0.010000000000000002: 0.9473, 0.013000000000000001: 0.9498, 0.016: 0.9516, 0.019000000000000003: 0.953, 0.022000000000000002: 0.9546, 0.025: 0.9556, 0.028: 0.956, 0.031: 0.9562, 0.034: 0.9564, 0.037000000000000005: 0.9564, 0.04: 0.957, 0.043000000000000003: 0.9571, 0.046: 0.9565, 0.049: 0.9564, 0.052000000000000005: 0.9566, 0.055: 0.9562, 0.058: 0.9565, 0.061: 0.9571, 0.064: 0.9567, 0.067: 0.9566, 0.07: 0.9563, 0.07300000000000001: 0.9562, 0.076: 0.9563, 0.079: 0.9562, 0.082: 0.9563, 0.085: 0.9562, 0.08800000000000001: 0.9558, 0.091: 0.9555, 0.094: 0.9552, 0.097: 0.9545, 0.1: 0.9542, 0.10300000000000001: 0.9536, 0.106: 0.9531, 0.109: 0.9527, 0.112: 0.9525, 0.115: 0.9524, 0.11800000000000001: 0.9522, 0.121: 0.9517, 0.124: 0.9511, 0.127: 0.9507, 0.13: 0.9503, 0.133: 0.9505, 0.136: 0.9504, 0.139: 0.95, 0.14200000000000002: 0.9499, 0.14500000000000002: 0.9495, 0.148: 0.9494, 0.151: 0.9492, 0.154: 0.9491, 0.157: 0.9485, 0.16: 0.9483, 0.163: 0.9479, 0.166: 0.9475, 0.169: 0.9473, 0.17200000000000001: 0.9474, 0.17500000000000002: 0.9473, 0.178: 0.9469, 0.181: 0.9467, 0.184: 0.9465, 0.187: 0.9464, 0.19: 0.9465, 0.193: 0.9464, 0.196: 0.9459, 0.199: 0.9455, 0.202: 0.9448, 0.20500000000000002: 0.9446, 0.20800000000000002: 0.944, 0.211: 0.9436, 0.214: 0.9433, 0.217: 0.9433, 0.22: 0.9432, 0.223: 0.9428, 0.226: 0.9426, 0.229: 0.942, 0.232: 0.9417, 0.23500000000000001: 0.9414, 0.23800000000000002: 0.941, 0.241: 0.9407, 0.244: 0.9407, 0.247: 0.9403, 0.25: 0.9403, 0.253: 0.9401, 0.256: 0.9402, 0.259: 0.94, 0.262: 0.9398, 0.265: 0.9397, 0.268: 0.9397, 0.271: 0.9397, 0.274: 0.9394, 0.277: 0.9394, 0.28: 0.9389, 0.28300000000000003: 0.9386, 0.28600000000000003: 0.938, 0.28900000000000003: 0.9378, 0.292: 0.9373, 0.295: 0.9369, 0.298: 0.9366, 0.301: 0.9361, 0.304: 0.9355, 0.307: 0.9353, 0.31: 0.9352, 0.313: 0.9351, 0.316: 0.9346, 0.319: 0.9342, 0.322: 0.934, 0.325: 0.9339, 0.328: 0.9338, 0.331: 0.9334, 0.334: 0.9332, 0.337: 0.9331, 0.34: 0.9328, 0.343: 0.9328, 0.34600000000000003: 0.9326, 0.34900000000000003: 0.9324, 0.35200000000000004: 0.9321, 0.355: 0.9317, 0.358: 0.9316, 0.361: 0.9314, 0.364: 0.931, 0.367: 0.9311, 0.37: 0.9308, 0.373: 0.9308, 0.376: 0.9303, 0.379: 0.9299, 0.382: 0.93, 0.385: 0.9301, 0.388: 0.9297, 0.391: 0.9289, 0.394: 0.9287, 0.397: 0.9286, 0.4: 0.9284, 0.403: 0.9282, 0.406: 0.9282, 0.40900000000000003: 0.9278, 0.41200000000000003: 0.9278, 0.41500000000000004: 0.9274, 0.418: 0.9272, 0.421: 0.9269, 0.424: 0.9268, 0.427: 0.9268, 0.43: 0.9262, 0.433: 0.9263, 0.436: 0.926, 0.439: 0.9258, 0.442: 0.9258, 0.445: 0.9258, 0.448: 0.9258, 0.451: 0.9254}\n",
            "{0.001: 0.9108, 0.004: 0.9355, 0.007: 0.9423, 0.010000000000000002: 0.9473, 0.013000000000000001: 0.9498, 0.016: 0.9516, 0.019000000000000003: 0.953, 0.022000000000000002: 0.9546, 0.025: 0.9556, 0.028: 0.956, 0.031: 0.9562, 0.034: 0.9564, 0.037000000000000005: 0.9564, 0.04: 0.957, 0.043000000000000003: 0.9571, 0.046: 0.9565, 0.049: 0.9564, 0.052000000000000005: 0.9566, 0.055: 0.9562, 0.058: 0.9565, 0.061: 0.9571, 0.064: 0.9567, 0.067: 0.9566, 0.07: 0.9563, 0.07300000000000001: 0.9562, 0.076: 0.9563, 0.079: 0.9562, 0.082: 0.9563, 0.085: 0.9562, 0.08800000000000001: 0.9558, 0.091: 0.9555, 0.094: 0.9552, 0.097: 0.9545, 0.1: 0.9542, 0.10300000000000001: 0.9536, 0.106: 0.9531, 0.109: 0.9527, 0.112: 0.9525, 0.115: 0.9524, 0.11800000000000001: 0.9522, 0.121: 0.9517, 0.124: 0.9511, 0.127: 0.9507, 0.13: 0.9503, 0.133: 0.9505, 0.136: 0.9504, 0.139: 0.95, 0.14200000000000002: 0.9499, 0.14500000000000002: 0.9495, 0.148: 0.9494, 0.151: 0.9492, 0.154: 0.9491, 0.157: 0.9485, 0.16: 0.9483, 0.163: 0.9479, 0.166: 0.9475, 0.169: 0.9473, 0.17200000000000001: 0.9474, 0.17500000000000002: 0.9473, 0.178: 0.9469, 0.181: 0.9467, 0.184: 0.9465, 0.187: 0.9464, 0.19: 0.9465, 0.193: 0.9464, 0.196: 0.9459, 0.199: 0.9455, 0.202: 0.9448, 0.20500000000000002: 0.9446, 0.20800000000000002: 0.944, 0.211: 0.9436, 0.214: 0.9433, 0.217: 0.9433, 0.22: 0.9432, 0.223: 0.9428, 0.226: 0.9426, 0.229: 0.942, 0.232: 0.9417, 0.23500000000000001: 0.9414, 0.23800000000000002: 0.941, 0.241: 0.9407, 0.244: 0.9407, 0.247: 0.9403, 0.25: 0.9403, 0.253: 0.9401, 0.256: 0.9402, 0.259: 0.94, 0.262: 0.9398, 0.265: 0.9397, 0.268: 0.9397, 0.271: 0.9397, 0.274: 0.9394, 0.277: 0.9394, 0.28: 0.9389, 0.28300000000000003: 0.9386, 0.28600000000000003: 0.938, 0.28900000000000003: 0.9378, 0.292: 0.9373, 0.295: 0.9369, 0.298: 0.9366, 0.301: 0.9361, 0.304: 0.9355, 0.307: 0.9353, 0.31: 0.9352, 0.313: 0.9351, 0.316: 0.9346, 0.319: 0.9342, 0.322: 0.934, 0.325: 0.9339, 0.328: 0.9338, 0.331: 0.9334, 0.334: 0.9332, 0.337: 0.9331, 0.34: 0.9328, 0.343: 0.9328, 0.34600000000000003: 0.9326, 0.34900000000000003: 0.9324, 0.35200000000000004: 0.9321, 0.355: 0.9317, 0.358: 0.9316, 0.361: 0.9314, 0.364: 0.931, 0.367: 0.9311, 0.37: 0.9308, 0.373: 0.9308, 0.376: 0.9303, 0.379: 0.9299, 0.382: 0.93, 0.385: 0.9301, 0.388: 0.9297, 0.391: 0.9289, 0.394: 0.9287, 0.397: 0.9286, 0.4: 0.9284, 0.403: 0.9282, 0.406: 0.9282, 0.40900000000000003: 0.9278, 0.41200000000000003: 0.9278, 0.41500000000000004: 0.9274, 0.418: 0.9272, 0.421: 0.9269, 0.424: 0.9268, 0.427: 0.9268, 0.43: 0.9262, 0.433: 0.9263, 0.436: 0.926, 0.439: 0.9258, 0.442: 0.9258, 0.445: 0.9258, 0.448: 0.9258, 0.451: 0.9254, 0.454: 0.9253}\n",
            "{0.001: 0.9108, 0.004: 0.9355, 0.007: 0.9423, 0.010000000000000002: 0.9473, 0.013000000000000001: 0.9498, 0.016: 0.9516, 0.019000000000000003: 0.953, 0.022000000000000002: 0.9546, 0.025: 0.9556, 0.028: 0.956, 0.031: 0.9562, 0.034: 0.9564, 0.037000000000000005: 0.9564, 0.04: 0.957, 0.043000000000000003: 0.9571, 0.046: 0.9565, 0.049: 0.9564, 0.052000000000000005: 0.9566, 0.055: 0.9562, 0.058: 0.9565, 0.061: 0.9571, 0.064: 0.9567, 0.067: 0.9566, 0.07: 0.9563, 0.07300000000000001: 0.9562, 0.076: 0.9563, 0.079: 0.9562, 0.082: 0.9563, 0.085: 0.9562, 0.08800000000000001: 0.9558, 0.091: 0.9555, 0.094: 0.9552, 0.097: 0.9545, 0.1: 0.9542, 0.10300000000000001: 0.9536, 0.106: 0.9531, 0.109: 0.9527, 0.112: 0.9525, 0.115: 0.9524, 0.11800000000000001: 0.9522, 0.121: 0.9517, 0.124: 0.9511, 0.127: 0.9507, 0.13: 0.9503, 0.133: 0.9505, 0.136: 0.9504, 0.139: 0.95, 0.14200000000000002: 0.9499, 0.14500000000000002: 0.9495, 0.148: 0.9494, 0.151: 0.9492, 0.154: 0.9491, 0.157: 0.9485, 0.16: 0.9483, 0.163: 0.9479, 0.166: 0.9475, 0.169: 0.9473, 0.17200000000000001: 0.9474, 0.17500000000000002: 0.9473, 0.178: 0.9469, 0.181: 0.9467, 0.184: 0.9465, 0.187: 0.9464, 0.19: 0.9465, 0.193: 0.9464, 0.196: 0.9459, 0.199: 0.9455, 0.202: 0.9448, 0.20500000000000002: 0.9446, 0.20800000000000002: 0.944, 0.211: 0.9436, 0.214: 0.9433, 0.217: 0.9433, 0.22: 0.9432, 0.223: 0.9428, 0.226: 0.9426, 0.229: 0.942, 0.232: 0.9417, 0.23500000000000001: 0.9414, 0.23800000000000002: 0.941, 0.241: 0.9407, 0.244: 0.9407, 0.247: 0.9403, 0.25: 0.9403, 0.253: 0.9401, 0.256: 0.9402, 0.259: 0.94, 0.262: 0.9398, 0.265: 0.9397, 0.268: 0.9397, 0.271: 0.9397, 0.274: 0.9394, 0.277: 0.9394, 0.28: 0.9389, 0.28300000000000003: 0.9386, 0.28600000000000003: 0.938, 0.28900000000000003: 0.9378, 0.292: 0.9373, 0.295: 0.9369, 0.298: 0.9366, 0.301: 0.9361, 0.304: 0.9355, 0.307: 0.9353, 0.31: 0.9352, 0.313: 0.9351, 0.316: 0.9346, 0.319: 0.9342, 0.322: 0.934, 0.325: 0.9339, 0.328: 0.9338, 0.331: 0.9334, 0.334: 0.9332, 0.337: 0.9331, 0.34: 0.9328, 0.343: 0.9328, 0.34600000000000003: 0.9326, 0.34900000000000003: 0.9324, 0.35200000000000004: 0.9321, 0.355: 0.9317, 0.358: 0.9316, 0.361: 0.9314, 0.364: 0.931, 0.367: 0.9311, 0.37: 0.9308, 0.373: 0.9308, 0.376: 0.9303, 0.379: 0.9299, 0.382: 0.93, 0.385: 0.9301, 0.388: 0.9297, 0.391: 0.9289, 0.394: 0.9287, 0.397: 0.9286, 0.4: 0.9284, 0.403: 0.9282, 0.406: 0.9282, 0.40900000000000003: 0.9278, 0.41200000000000003: 0.9278, 0.41500000000000004: 0.9274, 0.418: 0.9272, 0.421: 0.9269, 0.424: 0.9268, 0.427: 0.9268, 0.43: 0.9262, 0.433: 0.9263, 0.436: 0.926, 0.439: 0.9258, 0.442: 0.9258, 0.445: 0.9258, 0.448: 0.9258, 0.451: 0.9254, 0.454: 0.9253, 0.457: 0.9248}\n",
            "{0.001: 0.9108, 0.004: 0.9355, 0.007: 0.9423, 0.010000000000000002: 0.9473, 0.013000000000000001: 0.9498, 0.016: 0.9516, 0.019000000000000003: 0.953, 0.022000000000000002: 0.9546, 0.025: 0.9556, 0.028: 0.956, 0.031: 0.9562, 0.034: 0.9564, 0.037000000000000005: 0.9564, 0.04: 0.957, 0.043000000000000003: 0.9571, 0.046: 0.9565, 0.049: 0.9564, 0.052000000000000005: 0.9566, 0.055: 0.9562, 0.058: 0.9565, 0.061: 0.9571, 0.064: 0.9567, 0.067: 0.9566, 0.07: 0.9563, 0.07300000000000001: 0.9562, 0.076: 0.9563, 0.079: 0.9562, 0.082: 0.9563, 0.085: 0.9562, 0.08800000000000001: 0.9558, 0.091: 0.9555, 0.094: 0.9552, 0.097: 0.9545, 0.1: 0.9542, 0.10300000000000001: 0.9536, 0.106: 0.9531, 0.109: 0.9527, 0.112: 0.9525, 0.115: 0.9524, 0.11800000000000001: 0.9522, 0.121: 0.9517, 0.124: 0.9511, 0.127: 0.9507, 0.13: 0.9503, 0.133: 0.9505, 0.136: 0.9504, 0.139: 0.95, 0.14200000000000002: 0.9499, 0.14500000000000002: 0.9495, 0.148: 0.9494, 0.151: 0.9492, 0.154: 0.9491, 0.157: 0.9485, 0.16: 0.9483, 0.163: 0.9479, 0.166: 0.9475, 0.169: 0.9473, 0.17200000000000001: 0.9474, 0.17500000000000002: 0.9473, 0.178: 0.9469, 0.181: 0.9467, 0.184: 0.9465, 0.187: 0.9464, 0.19: 0.9465, 0.193: 0.9464, 0.196: 0.9459, 0.199: 0.9455, 0.202: 0.9448, 0.20500000000000002: 0.9446, 0.20800000000000002: 0.944, 0.211: 0.9436, 0.214: 0.9433, 0.217: 0.9433, 0.22: 0.9432, 0.223: 0.9428, 0.226: 0.9426, 0.229: 0.942, 0.232: 0.9417, 0.23500000000000001: 0.9414, 0.23800000000000002: 0.941, 0.241: 0.9407, 0.244: 0.9407, 0.247: 0.9403, 0.25: 0.9403, 0.253: 0.9401, 0.256: 0.9402, 0.259: 0.94, 0.262: 0.9398, 0.265: 0.9397, 0.268: 0.9397, 0.271: 0.9397, 0.274: 0.9394, 0.277: 0.9394, 0.28: 0.9389, 0.28300000000000003: 0.9386, 0.28600000000000003: 0.938, 0.28900000000000003: 0.9378, 0.292: 0.9373, 0.295: 0.9369, 0.298: 0.9366, 0.301: 0.9361, 0.304: 0.9355, 0.307: 0.9353, 0.31: 0.9352, 0.313: 0.9351, 0.316: 0.9346, 0.319: 0.9342, 0.322: 0.934, 0.325: 0.9339, 0.328: 0.9338, 0.331: 0.9334, 0.334: 0.9332, 0.337: 0.9331, 0.34: 0.9328, 0.343: 0.9328, 0.34600000000000003: 0.9326, 0.34900000000000003: 0.9324, 0.35200000000000004: 0.9321, 0.355: 0.9317, 0.358: 0.9316, 0.361: 0.9314, 0.364: 0.931, 0.367: 0.9311, 0.37: 0.9308, 0.373: 0.9308, 0.376: 0.9303, 0.379: 0.9299, 0.382: 0.93, 0.385: 0.9301, 0.388: 0.9297, 0.391: 0.9289, 0.394: 0.9287, 0.397: 0.9286, 0.4: 0.9284, 0.403: 0.9282, 0.406: 0.9282, 0.40900000000000003: 0.9278, 0.41200000000000003: 0.9278, 0.41500000000000004: 0.9274, 0.418: 0.9272, 0.421: 0.9269, 0.424: 0.9268, 0.427: 0.9268, 0.43: 0.9262, 0.433: 0.9263, 0.436: 0.926, 0.439: 0.9258, 0.442: 0.9258, 0.445: 0.9258, 0.448: 0.9258, 0.451: 0.9254, 0.454: 0.9253, 0.457: 0.9248, 0.46: 0.9247}\n",
            "{0.001: 0.9108, 0.004: 0.9355, 0.007: 0.9423, 0.010000000000000002: 0.9473, 0.013000000000000001: 0.9498, 0.016: 0.9516, 0.019000000000000003: 0.953, 0.022000000000000002: 0.9546, 0.025: 0.9556, 0.028: 0.956, 0.031: 0.9562, 0.034: 0.9564, 0.037000000000000005: 0.9564, 0.04: 0.957, 0.043000000000000003: 0.9571, 0.046: 0.9565, 0.049: 0.9564, 0.052000000000000005: 0.9566, 0.055: 0.9562, 0.058: 0.9565, 0.061: 0.9571, 0.064: 0.9567, 0.067: 0.9566, 0.07: 0.9563, 0.07300000000000001: 0.9562, 0.076: 0.9563, 0.079: 0.9562, 0.082: 0.9563, 0.085: 0.9562, 0.08800000000000001: 0.9558, 0.091: 0.9555, 0.094: 0.9552, 0.097: 0.9545, 0.1: 0.9542, 0.10300000000000001: 0.9536, 0.106: 0.9531, 0.109: 0.9527, 0.112: 0.9525, 0.115: 0.9524, 0.11800000000000001: 0.9522, 0.121: 0.9517, 0.124: 0.9511, 0.127: 0.9507, 0.13: 0.9503, 0.133: 0.9505, 0.136: 0.9504, 0.139: 0.95, 0.14200000000000002: 0.9499, 0.14500000000000002: 0.9495, 0.148: 0.9494, 0.151: 0.9492, 0.154: 0.9491, 0.157: 0.9485, 0.16: 0.9483, 0.163: 0.9479, 0.166: 0.9475, 0.169: 0.9473, 0.17200000000000001: 0.9474, 0.17500000000000002: 0.9473, 0.178: 0.9469, 0.181: 0.9467, 0.184: 0.9465, 0.187: 0.9464, 0.19: 0.9465, 0.193: 0.9464, 0.196: 0.9459, 0.199: 0.9455, 0.202: 0.9448, 0.20500000000000002: 0.9446, 0.20800000000000002: 0.944, 0.211: 0.9436, 0.214: 0.9433, 0.217: 0.9433, 0.22: 0.9432, 0.223: 0.9428, 0.226: 0.9426, 0.229: 0.942, 0.232: 0.9417, 0.23500000000000001: 0.9414, 0.23800000000000002: 0.941, 0.241: 0.9407, 0.244: 0.9407, 0.247: 0.9403, 0.25: 0.9403, 0.253: 0.9401, 0.256: 0.9402, 0.259: 0.94, 0.262: 0.9398, 0.265: 0.9397, 0.268: 0.9397, 0.271: 0.9397, 0.274: 0.9394, 0.277: 0.9394, 0.28: 0.9389, 0.28300000000000003: 0.9386, 0.28600000000000003: 0.938, 0.28900000000000003: 0.9378, 0.292: 0.9373, 0.295: 0.9369, 0.298: 0.9366, 0.301: 0.9361, 0.304: 0.9355, 0.307: 0.9353, 0.31: 0.9352, 0.313: 0.9351, 0.316: 0.9346, 0.319: 0.9342, 0.322: 0.934, 0.325: 0.9339, 0.328: 0.9338, 0.331: 0.9334, 0.334: 0.9332, 0.337: 0.9331, 0.34: 0.9328, 0.343: 0.9328, 0.34600000000000003: 0.9326, 0.34900000000000003: 0.9324, 0.35200000000000004: 0.9321, 0.355: 0.9317, 0.358: 0.9316, 0.361: 0.9314, 0.364: 0.931, 0.367: 0.9311, 0.37: 0.9308, 0.373: 0.9308, 0.376: 0.9303, 0.379: 0.9299, 0.382: 0.93, 0.385: 0.9301, 0.388: 0.9297, 0.391: 0.9289, 0.394: 0.9287, 0.397: 0.9286, 0.4: 0.9284, 0.403: 0.9282, 0.406: 0.9282, 0.40900000000000003: 0.9278, 0.41200000000000003: 0.9278, 0.41500000000000004: 0.9274, 0.418: 0.9272, 0.421: 0.9269, 0.424: 0.9268, 0.427: 0.9268, 0.43: 0.9262, 0.433: 0.9263, 0.436: 0.926, 0.439: 0.9258, 0.442: 0.9258, 0.445: 0.9258, 0.448: 0.9258, 0.451: 0.9254, 0.454: 0.9253, 0.457: 0.9248, 0.46: 0.9247, 0.463: 0.9243}\n",
            "{0.001: 0.9108, 0.004: 0.9355, 0.007: 0.9423, 0.010000000000000002: 0.9473, 0.013000000000000001: 0.9498, 0.016: 0.9516, 0.019000000000000003: 0.953, 0.022000000000000002: 0.9546, 0.025: 0.9556, 0.028: 0.956, 0.031: 0.9562, 0.034: 0.9564, 0.037000000000000005: 0.9564, 0.04: 0.957, 0.043000000000000003: 0.9571, 0.046: 0.9565, 0.049: 0.9564, 0.052000000000000005: 0.9566, 0.055: 0.9562, 0.058: 0.9565, 0.061: 0.9571, 0.064: 0.9567, 0.067: 0.9566, 0.07: 0.9563, 0.07300000000000001: 0.9562, 0.076: 0.9563, 0.079: 0.9562, 0.082: 0.9563, 0.085: 0.9562, 0.08800000000000001: 0.9558, 0.091: 0.9555, 0.094: 0.9552, 0.097: 0.9545, 0.1: 0.9542, 0.10300000000000001: 0.9536, 0.106: 0.9531, 0.109: 0.9527, 0.112: 0.9525, 0.115: 0.9524, 0.11800000000000001: 0.9522, 0.121: 0.9517, 0.124: 0.9511, 0.127: 0.9507, 0.13: 0.9503, 0.133: 0.9505, 0.136: 0.9504, 0.139: 0.95, 0.14200000000000002: 0.9499, 0.14500000000000002: 0.9495, 0.148: 0.9494, 0.151: 0.9492, 0.154: 0.9491, 0.157: 0.9485, 0.16: 0.9483, 0.163: 0.9479, 0.166: 0.9475, 0.169: 0.9473, 0.17200000000000001: 0.9474, 0.17500000000000002: 0.9473, 0.178: 0.9469, 0.181: 0.9467, 0.184: 0.9465, 0.187: 0.9464, 0.19: 0.9465, 0.193: 0.9464, 0.196: 0.9459, 0.199: 0.9455, 0.202: 0.9448, 0.20500000000000002: 0.9446, 0.20800000000000002: 0.944, 0.211: 0.9436, 0.214: 0.9433, 0.217: 0.9433, 0.22: 0.9432, 0.223: 0.9428, 0.226: 0.9426, 0.229: 0.942, 0.232: 0.9417, 0.23500000000000001: 0.9414, 0.23800000000000002: 0.941, 0.241: 0.9407, 0.244: 0.9407, 0.247: 0.9403, 0.25: 0.9403, 0.253: 0.9401, 0.256: 0.9402, 0.259: 0.94, 0.262: 0.9398, 0.265: 0.9397, 0.268: 0.9397, 0.271: 0.9397, 0.274: 0.9394, 0.277: 0.9394, 0.28: 0.9389, 0.28300000000000003: 0.9386, 0.28600000000000003: 0.938, 0.28900000000000003: 0.9378, 0.292: 0.9373, 0.295: 0.9369, 0.298: 0.9366, 0.301: 0.9361, 0.304: 0.9355, 0.307: 0.9353, 0.31: 0.9352, 0.313: 0.9351, 0.316: 0.9346, 0.319: 0.9342, 0.322: 0.934, 0.325: 0.9339, 0.328: 0.9338, 0.331: 0.9334, 0.334: 0.9332, 0.337: 0.9331, 0.34: 0.9328, 0.343: 0.9328, 0.34600000000000003: 0.9326, 0.34900000000000003: 0.9324, 0.35200000000000004: 0.9321, 0.355: 0.9317, 0.358: 0.9316, 0.361: 0.9314, 0.364: 0.931, 0.367: 0.9311, 0.37: 0.9308, 0.373: 0.9308, 0.376: 0.9303, 0.379: 0.9299, 0.382: 0.93, 0.385: 0.9301, 0.388: 0.9297, 0.391: 0.9289, 0.394: 0.9287, 0.397: 0.9286, 0.4: 0.9284, 0.403: 0.9282, 0.406: 0.9282, 0.40900000000000003: 0.9278, 0.41200000000000003: 0.9278, 0.41500000000000004: 0.9274, 0.418: 0.9272, 0.421: 0.9269, 0.424: 0.9268, 0.427: 0.9268, 0.43: 0.9262, 0.433: 0.9263, 0.436: 0.926, 0.439: 0.9258, 0.442: 0.9258, 0.445: 0.9258, 0.448: 0.9258, 0.451: 0.9254, 0.454: 0.9253, 0.457: 0.9248, 0.46: 0.9247, 0.463: 0.9243, 0.466: 0.9241}\n",
            "{0.001: 0.9108, 0.004: 0.9355, 0.007: 0.9423, 0.010000000000000002: 0.9473, 0.013000000000000001: 0.9498, 0.016: 0.9516, 0.019000000000000003: 0.953, 0.022000000000000002: 0.9546, 0.025: 0.9556, 0.028: 0.956, 0.031: 0.9562, 0.034: 0.9564, 0.037000000000000005: 0.9564, 0.04: 0.957, 0.043000000000000003: 0.9571, 0.046: 0.9565, 0.049: 0.9564, 0.052000000000000005: 0.9566, 0.055: 0.9562, 0.058: 0.9565, 0.061: 0.9571, 0.064: 0.9567, 0.067: 0.9566, 0.07: 0.9563, 0.07300000000000001: 0.9562, 0.076: 0.9563, 0.079: 0.9562, 0.082: 0.9563, 0.085: 0.9562, 0.08800000000000001: 0.9558, 0.091: 0.9555, 0.094: 0.9552, 0.097: 0.9545, 0.1: 0.9542, 0.10300000000000001: 0.9536, 0.106: 0.9531, 0.109: 0.9527, 0.112: 0.9525, 0.115: 0.9524, 0.11800000000000001: 0.9522, 0.121: 0.9517, 0.124: 0.9511, 0.127: 0.9507, 0.13: 0.9503, 0.133: 0.9505, 0.136: 0.9504, 0.139: 0.95, 0.14200000000000002: 0.9499, 0.14500000000000002: 0.9495, 0.148: 0.9494, 0.151: 0.9492, 0.154: 0.9491, 0.157: 0.9485, 0.16: 0.9483, 0.163: 0.9479, 0.166: 0.9475, 0.169: 0.9473, 0.17200000000000001: 0.9474, 0.17500000000000002: 0.9473, 0.178: 0.9469, 0.181: 0.9467, 0.184: 0.9465, 0.187: 0.9464, 0.19: 0.9465, 0.193: 0.9464, 0.196: 0.9459, 0.199: 0.9455, 0.202: 0.9448, 0.20500000000000002: 0.9446, 0.20800000000000002: 0.944, 0.211: 0.9436, 0.214: 0.9433, 0.217: 0.9433, 0.22: 0.9432, 0.223: 0.9428, 0.226: 0.9426, 0.229: 0.942, 0.232: 0.9417, 0.23500000000000001: 0.9414, 0.23800000000000002: 0.941, 0.241: 0.9407, 0.244: 0.9407, 0.247: 0.9403, 0.25: 0.9403, 0.253: 0.9401, 0.256: 0.9402, 0.259: 0.94, 0.262: 0.9398, 0.265: 0.9397, 0.268: 0.9397, 0.271: 0.9397, 0.274: 0.9394, 0.277: 0.9394, 0.28: 0.9389, 0.28300000000000003: 0.9386, 0.28600000000000003: 0.938, 0.28900000000000003: 0.9378, 0.292: 0.9373, 0.295: 0.9369, 0.298: 0.9366, 0.301: 0.9361, 0.304: 0.9355, 0.307: 0.9353, 0.31: 0.9352, 0.313: 0.9351, 0.316: 0.9346, 0.319: 0.9342, 0.322: 0.934, 0.325: 0.9339, 0.328: 0.9338, 0.331: 0.9334, 0.334: 0.9332, 0.337: 0.9331, 0.34: 0.9328, 0.343: 0.9328, 0.34600000000000003: 0.9326, 0.34900000000000003: 0.9324, 0.35200000000000004: 0.9321, 0.355: 0.9317, 0.358: 0.9316, 0.361: 0.9314, 0.364: 0.931, 0.367: 0.9311, 0.37: 0.9308, 0.373: 0.9308, 0.376: 0.9303, 0.379: 0.9299, 0.382: 0.93, 0.385: 0.9301, 0.388: 0.9297, 0.391: 0.9289, 0.394: 0.9287, 0.397: 0.9286, 0.4: 0.9284, 0.403: 0.9282, 0.406: 0.9282, 0.40900000000000003: 0.9278, 0.41200000000000003: 0.9278, 0.41500000000000004: 0.9274, 0.418: 0.9272, 0.421: 0.9269, 0.424: 0.9268, 0.427: 0.9268, 0.43: 0.9262, 0.433: 0.9263, 0.436: 0.926, 0.439: 0.9258, 0.442: 0.9258, 0.445: 0.9258, 0.448: 0.9258, 0.451: 0.9254, 0.454: 0.9253, 0.457: 0.9248, 0.46: 0.9247, 0.463: 0.9243, 0.466: 0.9241, 0.46900000000000003: 0.9236}\n",
            "{0.001: 0.9108, 0.004: 0.9355, 0.007: 0.9423, 0.010000000000000002: 0.9473, 0.013000000000000001: 0.9498, 0.016: 0.9516, 0.019000000000000003: 0.953, 0.022000000000000002: 0.9546, 0.025: 0.9556, 0.028: 0.956, 0.031: 0.9562, 0.034: 0.9564, 0.037000000000000005: 0.9564, 0.04: 0.957, 0.043000000000000003: 0.9571, 0.046: 0.9565, 0.049: 0.9564, 0.052000000000000005: 0.9566, 0.055: 0.9562, 0.058: 0.9565, 0.061: 0.9571, 0.064: 0.9567, 0.067: 0.9566, 0.07: 0.9563, 0.07300000000000001: 0.9562, 0.076: 0.9563, 0.079: 0.9562, 0.082: 0.9563, 0.085: 0.9562, 0.08800000000000001: 0.9558, 0.091: 0.9555, 0.094: 0.9552, 0.097: 0.9545, 0.1: 0.9542, 0.10300000000000001: 0.9536, 0.106: 0.9531, 0.109: 0.9527, 0.112: 0.9525, 0.115: 0.9524, 0.11800000000000001: 0.9522, 0.121: 0.9517, 0.124: 0.9511, 0.127: 0.9507, 0.13: 0.9503, 0.133: 0.9505, 0.136: 0.9504, 0.139: 0.95, 0.14200000000000002: 0.9499, 0.14500000000000002: 0.9495, 0.148: 0.9494, 0.151: 0.9492, 0.154: 0.9491, 0.157: 0.9485, 0.16: 0.9483, 0.163: 0.9479, 0.166: 0.9475, 0.169: 0.9473, 0.17200000000000001: 0.9474, 0.17500000000000002: 0.9473, 0.178: 0.9469, 0.181: 0.9467, 0.184: 0.9465, 0.187: 0.9464, 0.19: 0.9465, 0.193: 0.9464, 0.196: 0.9459, 0.199: 0.9455, 0.202: 0.9448, 0.20500000000000002: 0.9446, 0.20800000000000002: 0.944, 0.211: 0.9436, 0.214: 0.9433, 0.217: 0.9433, 0.22: 0.9432, 0.223: 0.9428, 0.226: 0.9426, 0.229: 0.942, 0.232: 0.9417, 0.23500000000000001: 0.9414, 0.23800000000000002: 0.941, 0.241: 0.9407, 0.244: 0.9407, 0.247: 0.9403, 0.25: 0.9403, 0.253: 0.9401, 0.256: 0.9402, 0.259: 0.94, 0.262: 0.9398, 0.265: 0.9397, 0.268: 0.9397, 0.271: 0.9397, 0.274: 0.9394, 0.277: 0.9394, 0.28: 0.9389, 0.28300000000000003: 0.9386, 0.28600000000000003: 0.938, 0.28900000000000003: 0.9378, 0.292: 0.9373, 0.295: 0.9369, 0.298: 0.9366, 0.301: 0.9361, 0.304: 0.9355, 0.307: 0.9353, 0.31: 0.9352, 0.313: 0.9351, 0.316: 0.9346, 0.319: 0.9342, 0.322: 0.934, 0.325: 0.9339, 0.328: 0.9338, 0.331: 0.9334, 0.334: 0.9332, 0.337: 0.9331, 0.34: 0.9328, 0.343: 0.9328, 0.34600000000000003: 0.9326, 0.34900000000000003: 0.9324, 0.35200000000000004: 0.9321, 0.355: 0.9317, 0.358: 0.9316, 0.361: 0.9314, 0.364: 0.931, 0.367: 0.9311, 0.37: 0.9308, 0.373: 0.9308, 0.376: 0.9303, 0.379: 0.9299, 0.382: 0.93, 0.385: 0.9301, 0.388: 0.9297, 0.391: 0.9289, 0.394: 0.9287, 0.397: 0.9286, 0.4: 0.9284, 0.403: 0.9282, 0.406: 0.9282, 0.40900000000000003: 0.9278, 0.41200000000000003: 0.9278, 0.41500000000000004: 0.9274, 0.418: 0.9272, 0.421: 0.9269, 0.424: 0.9268, 0.427: 0.9268, 0.43: 0.9262, 0.433: 0.9263, 0.436: 0.926, 0.439: 0.9258, 0.442: 0.9258, 0.445: 0.9258, 0.448: 0.9258, 0.451: 0.9254, 0.454: 0.9253, 0.457: 0.9248, 0.46: 0.9247, 0.463: 0.9243, 0.466: 0.9241, 0.46900000000000003: 0.9236, 0.47200000000000003: 0.9233}\n",
            "{0.001: 0.9108, 0.004: 0.9355, 0.007: 0.9423, 0.010000000000000002: 0.9473, 0.013000000000000001: 0.9498, 0.016: 0.9516, 0.019000000000000003: 0.953, 0.022000000000000002: 0.9546, 0.025: 0.9556, 0.028: 0.956, 0.031: 0.9562, 0.034: 0.9564, 0.037000000000000005: 0.9564, 0.04: 0.957, 0.043000000000000003: 0.9571, 0.046: 0.9565, 0.049: 0.9564, 0.052000000000000005: 0.9566, 0.055: 0.9562, 0.058: 0.9565, 0.061: 0.9571, 0.064: 0.9567, 0.067: 0.9566, 0.07: 0.9563, 0.07300000000000001: 0.9562, 0.076: 0.9563, 0.079: 0.9562, 0.082: 0.9563, 0.085: 0.9562, 0.08800000000000001: 0.9558, 0.091: 0.9555, 0.094: 0.9552, 0.097: 0.9545, 0.1: 0.9542, 0.10300000000000001: 0.9536, 0.106: 0.9531, 0.109: 0.9527, 0.112: 0.9525, 0.115: 0.9524, 0.11800000000000001: 0.9522, 0.121: 0.9517, 0.124: 0.9511, 0.127: 0.9507, 0.13: 0.9503, 0.133: 0.9505, 0.136: 0.9504, 0.139: 0.95, 0.14200000000000002: 0.9499, 0.14500000000000002: 0.9495, 0.148: 0.9494, 0.151: 0.9492, 0.154: 0.9491, 0.157: 0.9485, 0.16: 0.9483, 0.163: 0.9479, 0.166: 0.9475, 0.169: 0.9473, 0.17200000000000001: 0.9474, 0.17500000000000002: 0.9473, 0.178: 0.9469, 0.181: 0.9467, 0.184: 0.9465, 0.187: 0.9464, 0.19: 0.9465, 0.193: 0.9464, 0.196: 0.9459, 0.199: 0.9455, 0.202: 0.9448, 0.20500000000000002: 0.9446, 0.20800000000000002: 0.944, 0.211: 0.9436, 0.214: 0.9433, 0.217: 0.9433, 0.22: 0.9432, 0.223: 0.9428, 0.226: 0.9426, 0.229: 0.942, 0.232: 0.9417, 0.23500000000000001: 0.9414, 0.23800000000000002: 0.941, 0.241: 0.9407, 0.244: 0.9407, 0.247: 0.9403, 0.25: 0.9403, 0.253: 0.9401, 0.256: 0.9402, 0.259: 0.94, 0.262: 0.9398, 0.265: 0.9397, 0.268: 0.9397, 0.271: 0.9397, 0.274: 0.9394, 0.277: 0.9394, 0.28: 0.9389, 0.28300000000000003: 0.9386, 0.28600000000000003: 0.938, 0.28900000000000003: 0.9378, 0.292: 0.9373, 0.295: 0.9369, 0.298: 0.9366, 0.301: 0.9361, 0.304: 0.9355, 0.307: 0.9353, 0.31: 0.9352, 0.313: 0.9351, 0.316: 0.9346, 0.319: 0.9342, 0.322: 0.934, 0.325: 0.9339, 0.328: 0.9338, 0.331: 0.9334, 0.334: 0.9332, 0.337: 0.9331, 0.34: 0.9328, 0.343: 0.9328, 0.34600000000000003: 0.9326, 0.34900000000000003: 0.9324, 0.35200000000000004: 0.9321, 0.355: 0.9317, 0.358: 0.9316, 0.361: 0.9314, 0.364: 0.931, 0.367: 0.9311, 0.37: 0.9308, 0.373: 0.9308, 0.376: 0.9303, 0.379: 0.9299, 0.382: 0.93, 0.385: 0.9301, 0.388: 0.9297, 0.391: 0.9289, 0.394: 0.9287, 0.397: 0.9286, 0.4: 0.9284, 0.403: 0.9282, 0.406: 0.9282, 0.40900000000000003: 0.9278, 0.41200000000000003: 0.9278, 0.41500000000000004: 0.9274, 0.418: 0.9272, 0.421: 0.9269, 0.424: 0.9268, 0.427: 0.9268, 0.43: 0.9262, 0.433: 0.9263, 0.436: 0.926, 0.439: 0.9258, 0.442: 0.9258, 0.445: 0.9258, 0.448: 0.9258, 0.451: 0.9254, 0.454: 0.9253, 0.457: 0.9248, 0.46: 0.9247, 0.463: 0.9243, 0.466: 0.9241, 0.46900000000000003: 0.9236, 0.47200000000000003: 0.9233, 0.47500000000000003: 0.9229}\n",
            "{0.001: 0.9108, 0.004: 0.9355, 0.007: 0.9423, 0.010000000000000002: 0.9473, 0.013000000000000001: 0.9498, 0.016: 0.9516, 0.019000000000000003: 0.953, 0.022000000000000002: 0.9546, 0.025: 0.9556, 0.028: 0.956, 0.031: 0.9562, 0.034: 0.9564, 0.037000000000000005: 0.9564, 0.04: 0.957, 0.043000000000000003: 0.9571, 0.046: 0.9565, 0.049: 0.9564, 0.052000000000000005: 0.9566, 0.055: 0.9562, 0.058: 0.9565, 0.061: 0.9571, 0.064: 0.9567, 0.067: 0.9566, 0.07: 0.9563, 0.07300000000000001: 0.9562, 0.076: 0.9563, 0.079: 0.9562, 0.082: 0.9563, 0.085: 0.9562, 0.08800000000000001: 0.9558, 0.091: 0.9555, 0.094: 0.9552, 0.097: 0.9545, 0.1: 0.9542, 0.10300000000000001: 0.9536, 0.106: 0.9531, 0.109: 0.9527, 0.112: 0.9525, 0.115: 0.9524, 0.11800000000000001: 0.9522, 0.121: 0.9517, 0.124: 0.9511, 0.127: 0.9507, 0.13: 0.9503, 0.133: 0.9505, 0.136: 0.9504, 0.139: 0.95, 0.14200000000000002: 0.9499, 0.14500000000000002: 0.9495, 0.148: 0.9494, 0.151: 0.9492, 0.154: 0.9491, 0.157: 0.9485, 0.16: 0.9483, 0.163: 0.9479, 0.166: 0.9475, 0.169: 0.9473, 0.17200000000000001: 0.9474, 0.17500000000000002: 0.9473, 0.178: 0.9469, 0.181: 0.9467, 0.184: 0.9465, 0.187: 0.9464, 0.19: 0.9465, 0.193: 0.9464, 0.196: 0.9459, 0.199: 0.9455, 0.202: 0.9448, 0.20500000000000002: 0.9446, 0.20800000000000002: 0.944, 0.211: 0.9436, 0.214: 0.9433, 0.217: 0.9433, 0.22: 0.9432, 0.223: 0.9428, 0.226: 0.9426, 0.229: 0.942, 0.232: 0.9417, 0.23500000000000001: 0.9414, 0.23800000000000002: 0.941, 0.241: 0.9407, 0.244: 0.9407, 0.247: 0.9403, 0.25: 0.9403, 0.253: 0.9401, 0.256: 0.9402, 0.259: 0.94, 0.262: 0.9398, 0.265: 0.9397, 0.268: 0.9397, 0.271: 0.9397, 0.274: 0.9394, 0.277: 0.9394, 0.28: 0.9389, 0.28300000000000003: 0.9386, 0.28600000000000003: 0.938, 0.28900000000000003: 0.9378, 0.292: 0.9373, 0.295: 0.9369, 0.298: 0.9366, 0.301: 0.9361, 0.304: 0.9355, 0.307: 0.9353, 0.31: 0.9352, 0.313: 0.9351, 0.316: 0.9346, 0.319: 0.9342, 0.322: 0.934, 0.325: 0.9339, 0.328: 0.9338, 0.331: 0.9334, 0.334: 0.9332, 0.337: 0.9331, 0.34: 0.9328, 0.343: 0.9328, 0.34600000000000003: 0.9326, 0.34900000000000003: 0.9324, 0.35200000000000004: 0.9321, 0.355: 0.9317, 0.358: 0.9316, 0.361: 0.9314, 0.364: 0.931, 0.367: 0.9311, 0.37: 0.9308, 0.373: 0.9308, 0.376: 0.9303, 0.379: 0.9299, 0.382: 0.93, 0.385: 0.9301, 0.388: 0.9297, 0.391: 0.9289, 0.394: 0.9287, 0.397: 0.9286, 0.4: 0.9284, 0.403: 0.9282, 0.406: 0.9282, 0.40900000000000003: 0.9278, 0.41200000000000003: 0.9278, 0.41500000000000004: 0.9274, 0.418: 0.9272, 0.421: 0.9269, 0.424: 0.9268, 0.427: 0.9268, 0.43: 0.9262, 0.433: 0.9263, 0.436: 0.926, 0.439: 0.9258, 0.442: 0.9258, 0.445: 0.9258, 0.448: 0.9258, 0.451: 0.9254, 0.454: 0.9253, 0.457: 0.9248, 0.46: 0.9247, 0.463: 0.9243, 0.466: 0.9241, 0.46900000000000003: 0.9236, 0.47200000000000003: 0.9233, 0.47500000000000003: 0.9229, 0.47800000000000004: 0.9225}\n",
            "{0.001: 0.9108, 0.004: 0.9355, 0.007: 0.9423, 0.010000000000000002: 0.9473, 0.013000000000000001: 0.9498, 0.016: 0.9516, 0.019000000000000003: 0.953, 0.022000000000000002: 0.9546, 0.025: 0.9556, 0.028: 0.956, 0.031: 0.9562, 0.034: 0.9564, 0.037000000000000005: 0.9564, 0.04: 0.957, 0.043000000000000003: 0.9571, 0.046: 0.9565, 0.049: 0.9564, 0.052000000000000005: 0.9566, 0.055: 0.9562, 0.058: 0.9565, 0.061: 0.9571, 0.064: 0.9567, 0.067: 0.9566, 0.07: 0.9563, 0.07300000000000001: 0.9562, 0.076: 0.9563, 0.079: 0.9562, 0.082: 0.9563, 0.085: 0.9562, 0.08800000000000001: 0.9558, 0.091: 0.9555, 0.094: 0.9552, 0.097: 0.9545, 0.1: 0.9542, 0.10300000000000001: 0.9536, 0.106: 0.9531, 0.109: 0.9527, 0.112: 0.9525, 0.115: 0.9524, 0.11800000000000001: 0.9522, 0.121: 0.9517, 0.124: 0.9511, 0.127: 0.9507, 0.13: 0.9503, 0.133: 0.9505, 0.136: 0.9504, 0.139: 0.95, 0.14200000000000002: 0.9499, 0.14500000000000002: 0.9495, 0.148: 0.9494, 0.151: 0.9492, 0.154: 0.9491, 0.157: 0.9485, 0.16: 0.9483, 0.163: 0.9479, 0.166: 0.9475, 0.169: 0.9473, 0.17200000000000001: 0.9474, 0.17500000000000002: 0.9473, 0.178: 0.9469, 0.181: 0.9467, 0.184: 0.9465, 0.187: 0.9464, 0.19: 0.9465, 0.193: 0.9464, 0.196: 0.9459, 0.199: 0.9455, 0.202: 0.9448, 0.20500000000000002: 0.9446, 0.20800000000000002: 0.944, 0.211: 0.9436, 0.214: 0.9433, 0.217: 0.9433, 0.22: 0.9432, 0.223: 0.9428, 0.226: 0.9426, 0.229: 0.942, 0.232: 0.9417, 0.23500000000000001: 0.9414, 0.23800000000000002: 0.941, 0.241: 0.9407, 0.244: 0.9407, 0.247: 0.9403, 0.25: 0.9403, 0.253: 0.9401, 0.256: 0.9402, 0.259: 0.94, 0.262: 0.9398, 0.265: 0.9397, 0.268: 0.9397, 0.271: 0.9397, 0.274: 0.9394, 0.277: 0.9394, 0.28: 0.9389, 0.28300000000000003: 0.9386, 0.28600000000000003: 0.938, 0.28900000000000003: 0.9378, 0.292: 0.9373, 0.295: 0.9369, 0.298: 0.9366, 0.301: 0.9361, 0.304: 0.9355, 0.307: 0.9353, 0.31: 0.9352, 0.313: 0.9351, 0.316: 0.9346, 0.319: 0.9342, 0.322: 0.934, 0.325: 0.9339, 0.328: 0.9338, 0.331: 0.9334, 0.334: 0.9332, 0.337: 0.9331, 0.34: 0.9328, 0.343: 0.9328, 0.34600000000000003: 0.9326, 0.34900000000000003: 0.9324, 0.35200000000000004: 0.9321, 0.355: 0.9317, 0.358: 0.9316, 0.361: 0.9314, 0.364: 0.931, 0.367: 0.9311, 0.37: 0.9308, 0.373: 0.9308, 0.376: 0.9303, 0.379: 0.9299, 0.382: 0.93, 0.385: 0.9301, 0.388: 0.9297, 0.391: 0.9289, 0.394: 0.9287, 0.397: 0.9286, 0.4: 0.9284, 0.403: 0.9282, 0.406: 0.9282, 0.40900000000000003: 0.9278, 0.41200000000000003: 0.9278, 0.41500000000000004: 0.9274, 0.418: 0.9272, 0.421: 0.9269, 0.424: 0.9268, 0.427: 0.9268, 0.43: 0.9262, 0.433: 0.9263, 0.436: 0.926, 0.439: 0.9258, 0.442: 0.9258, 0.445: 0.9258, 0.448: 0.9258, 0.451: 0.9254, 0.454: 0.9253, 0.457: 0.9248, 0.46: 0.9247, 0.463: 0.9243, 0.466: 0.9241, 0.46900000000000003: 0.9236, 0.47200000000000003: 0.9233, 0.47500000000000003: 0.9229, 0.47800000000000004: 0.9225, 0.481: 0.9222}\n",
            "{0.001: 0.9108, 0.004: 0.9355, 0.007: 0.9423, 0.010000000000000002: 0.9473, 0.013000000000000001: 0.9498, 0.016: 0.9516, 0.019000000000000003: 0.953, 0.022000000000000002: 0.9546, 0.025: 0.9556, 0.028: 0.956, 0.031: 0.9562, 0.034: 0.9564, 0.037000000000000005: 0.9564, 0.04: 0.957, 0.043000000000000003: 0.9571, 0.046: 0.9565, 0.049: 0.9564, 0.052000000000000005: 0.9566, 0.055: 0.9562, 0.058: 0.9565, 0.061: 0.9571, 0.064: 0.9567, 0.067: 0.9566, 0.07: 0.9563, 0.07300000000000001: 0.9562, 0.076: 0.9563, 0.079: 0.9562, 0.082: 0.9563, 0.085: 0.9562, 0.08800000000000001: 0.9558, 0.091: 0.9555, 0.094: 0.9552, 0.097: 0.9545, 0.1: 0.9542, 0.10300000000000001: 0.9536, 0.106: 0.9531, 0.109: 0.9527, 0.112: 0.9525, 0.115: 0.9524, 0.11800000000000001: 0.9522, 0.121: 0.9517, 0.124: 0.9511, 0.127: 0.9507, 0.13: 0.9503, 0.133: 0.9505, 0.136: 0.9504, 0.139: 0.95, 0.14200000000000002: 0.9499, 0.14500000000000002: 0.9495, 0.148: 0.9494, 0.151: 0.9492, 0.154: 0.9491, 0.157: 0.9485, 0.16: 0.9483, 0.163: 0.9479, 0.166: 0.9475, 0.169: 0.9473, 0.17200000000000001: 0.9474, 0.17500000000000002: 0.9473, 0.178: 0.9469, 0.181: 0.9467, 0.184: 0.9465, 0.187: 0.9464, 0.19: 0.9465, 0.193: 0.9464, 0.196: 0.9459, 0.199: 0.9455, 0.202: 0.9448, 0.20500000000000002: 0.9446, 0.20800000000000002: 0.944, 0.211: 0.9436, 0.214: 0.9433, 0.217: 0.9433, 0.22: 0.9432, 0.223: 0.9428, 0.226: 0.9426, 0.229: 0.942, 0.232: 0.9417, 0.23500000000000001: 0.9414, 0.23800000000000002: 0.941, 0.241: 0.9407, 0.244: 0.9407, 0.247: 0.9403, 0.25: 0.9403, 0.253: 0.9401, 0.256: 0.9402, 0.259: 0.94, 0.262: 0.9398, 0.265: 0.9397, 0.268: 0.9397, 0.271: 0.9397, 0.274: 0.9394, 0.277: 0.9394, 0.28: 0.9389, 0.28300000000000003: 0.9386, 0.28600000000000003: 0.938, 0.28900000000000003: 0.9378, 0.292: 0.9373, 0.295: 0.9369, 0.298: 0.9366, 0.301: 0.9361, 0.304: 0.9355, 0.307: 0.9353, 0.31: 0.9352, 0.313: 0.9351, 0.316: 0.9346, 0.319: 0.9342, 0.322: 0.934, 0.325: 0.9339, 0.328: 0.9338, 0.331: 0.9334, 0.334: 0.9332, 0.337: 0.9331, 0.34: 0.9328, 0.343: 0.9328, 0.34600000000000003: 0.9326, 0.34900000000000003: 0.9324, 0.35200000000000004: 0.9321, 0.355: 0.9317, 0.358: 0.9316, 0.361: 0.9314, 0.364: 0.931, 0.367: 0.9311, 0.37: 0.9308, 0.373: 0.9308, 0.376: 0.9303, 0.379: 0.9299, 0.382: 0.93, 0.385: 0.9301, 0.388: 0.9297, 0.391: 0.9289, 0.394: 0.9287, 0.397: 0.9286, 0.4: 0.9284, 0.403: 0.9282, 0.406: 0.9282, 0.40900000000000003: 0.9278, 0.41200000000000003: 0.9278, 0.41500000000000004: 0.9274, 0.418: 0.9272, 0.421: 0.9269, 0.424: 0.9268, 0.427: 0.9268, 0.43: 0.9262, 0.433: 0.9263, 0.436: 0.926, 0.439: 0.9258, 0.442: 0.9258, 0.445: 0.9258, 0.448: 0.9258, 0.451: 0.9254, 0.454: 0.9253, 0.457: 0.9248, 0.46: 0.9247, 0.463: 0.9243, 0.466: 0.9241, 0.46900000000000003: 0.9236, 0.47200000000000003: 0.9233, 0.47500000000000003: 0.9229, 0.47800000000000004: 0.9225, 0.481: 0.9222, 0.484: 0.9218}\n",
            "{0.001: 0.9108, 0.004: 0.9355, 0.007: 0.9423, 0.010000000000000002: 0.9473, 0.013000000000000001: 0.9498, 0.016: 0.9516, 0.019000000000000003: 0.953, 0.022000000000000002: 0.9546, 0.025: 0.9556, 0.028: 0.956, 0.031: 0.9562, 0.034: 0.9564, 0.037000000000000005: 0.9564, 0.04: 0.957, 0.043000000000000003: 0.9571, 0.046: 0.9565, 0.049: 0.9564, 0.052000000000000005: 0.9566, 0.055: 0.9562, 0.058: 0.9565, 0.061: 0.9571, 0.064: 0.9567, 0.067: 0.9566, 0.07: 0.9563, 0.07300000000000001: 0.9562, 0.076: 0.9563, 0.079: 0.9562, 0.082: 0.9563, 0.085: 0.9562, 0.08800000000000001: 0.9558, 0.091: 0.9555, 0.094: 0.9552, 0.097: 0.9545, 0.1: 0.9542, 0.10300000000000001: 0.9536, 0.106: 0.9531, 0.109: 0.9527, 0.112: 0.9525, 0.115: 0.9524, 0.11800000000000001: 0.9522, 0.121: 0.9517, 0.124: 0.9511, 0.127: 0.9507, 0.13: 0.9503, 0.133: 0.9505, 0.136: 0.9504, 0.139: 0.95, 0.14200000000000002: 0.9499, 0.14500000000000002: 0.9495, 0.148: 0.9494, 0.151: 0.9492, 0.154: 0.9491, 0.157: 0.9485, 0.16: 0.9483, 0.163: 0.9479, 0.166: 0.9475, 0.169: 0.9473, 0.17200000000000001: 0.9474, 0.17500000000000002: 0.9473, 0.178: 0.9469, 0.181: 0.9467, 0.184: 0.9465, 0.187: 0.9464, 0.19: 0.9465, 0.193: 0.9464, 0.196: 0.9459, 0.199: 0.9455, 0.202: 0.9448, 0.20500000000000002: 0.9446, 0.20800000000000002: 0.944, 0.211: 0.9436, 0.214: 0.9433, 0.217: 0.9433, 0.22: 0.9432, 0.223: 0.9428, 0.226: 0.9426, 0.229: 0.942, 0.232: 0.9417, 0.23500000000000001: 0.9414, 0.23800000000000002: 0.941, 0.241: 0.9407, 0.244: 0.9407, 0.247: 0.9403, 0.25: 0.9403, 0.253: 0.9401, 0.256: 0.9402, 0.259: 0.94, 0.262: 0.9398, 0.265: 0.9397, 0.268: 0.9397, 0.271: 0.9397, 0.274: 0.9394, 0.277: 0.9394, 0.28: 0.9389, 0.28300000000000003: 0.9386, 0.28600000000000003: 0.938, 0.28900000000000003: 0.9378, 0.292: 0.9373, 0.295: 0.9369, 0.298: 0.9366, 0.301: 0.9361, 0.304: 0.9355, 0.307: 0.9353, 0.31: 0.9352, 0.313: 0.9351, 0.316: 0.9346, 0.319: 0.9342, 0.322: 0.934, 0.325: 0.9339, 0.328: 0.9338, 0.331: 0.9334, 0.334: 0.9332, 0.337: 0.9331, 0.34: 0.9328, 0.343: 0.9328, 0.34600000000000003: 0.9326, 0.34900000000000003: 0.9324, 0.35200000000000004: 0.9321, 0.355: 0.9317, 0.358: 0.9316, 0.361: 0.9314, 0.364: 0.931, 0.367: 0.9311, 0.37: 0.9308, 0.373: 0.9308, 0.376: 0.9303, 0.379: 0.9299, 0.382: 0.93, 0.385: 0.9301, 0.388: 0.9297, 0.391: 0.9289, 0.394: 0.9287, 0.397: 0.9286, 0.4: 0.9284, 0.403: 0.9282, 0.406: 0.9282, 0.40900000000000003: 0.9278, 0.41200000000000003: 0.9278, 0.41500000000000004: 0.9274, 0.418: 0.9272, 0.421: 0.9269, 0.424: 0.9268, 0.427: 0.9268, 0.43: 0.9262, 0.433: 0.9263, 0.436: 0.926, 0.439: 0.9258, 0.442: 0.9258, 0.445: 0.9258, 0.448: 0.9258, 0.451: 0.9254, 0.454: 0.9253, 0.457: 0.9248, 0.46: 0.9247, 0.463: 0.9243, 0.466: 0.9241, 0.46900000000000003: 0.9236, 0.47200000000000003: 0.9233, 0.47500000000000003: 0.9229, 0.47800000000000004: 0.9225, 0.481: 0.9222, 0.484: 0.9218, 0.487: 0.9216}\n",
            "{0.001: 0.9108, 0.004: 0.9355, 0.007: 0.9423, 0.010000000000000002: 0.9473, 0.013000000000000001: 0.9498, 0.016: 0.9516, 0.019000000000000003: 0.953, 0.022000000000000002: 0.9546, 0.025: 0.9556, 0.028: 0.956, 0.031: 0.9562, 0.034: 0.9564, 0.037000000000000005: 0.9564, 0.04: 0.957, 0.043000000000000003: 0.9571, 0.046: 0.9565, 0.049: 0.9564, 0.052000000000000005: 0.9566, 0.055: 0.9562, 0.058: 0.9565, 0.061: 0.9571, 0.064: 0.9567, 0.067: 0.9566, 0.07: 0.9563, 0.07300000000000001: 0.9562, 0.076: 0.9563, 0.079: 0.9562, 0.082: 0.9563, 0.085: 0.9562, 0.08800000000000001: 0.9558, 0.091: 0.9555, 0.094: 0.9552, 0.097: 0.9545, 0.1: 0.9542, 0.10300000000000001: 0.9536, 0.106: 0.9531, 0.109: 0.9527, 0.112: 0.9525, 0.115: 0.9524, 0.11800000000000001: 0.9522, 0.121: 0.9517, 0.124: 0.9511, 0.127: 0.9507, 0.13: 0.9503, 0.133: 0.9505, 0.136: 0.9504, 0.139: 0.95, 0.14200000000000002: 0.9499, 0.14500000000000002: 0.9495, 0.148: 0.9494, 0.151: 0.9492, 0.154: 0.9491, 0.157: 0.9485, 0.16: 0.9483, 0.163: 0.9479, 0.166: 0.9475, 0.169: 0.9473, 0.17200000000000001: 0.9474, 0.17500000000000002: 0.9473, 0.178: 0.9469, 0.181: 0.9467, 0.184: 0.9465, 0.187: 0.9464, 0.19: 0.9465, 0.193: 0.9464, 0.196: 0.9459, 0.199: 0.9455, 0.202: 0.9448, 0.20500000000000002: 0.9446, 0.20800000000000002: 0.944, 0.211: 0.9436, 0.214: 0.9433, 0.217: 0.9433, 0.22: 0.9432, 0.223: 0.9428, 0.226: 0.9426, 0.229: 0.942, 0.232: 0.9417, 0.23500000000000001: 0.9414, 0.23800000000000002: 0.941, 0.241: 0.9407, 0.244: 0.9407, 0.247: 0.9403, 0.25: 0.9403, 0.253: 0.9401, 0.256: 0.9402, 0.259: 0.94, 0.262: 0.9398, 0.265: 0.9397, 0.268: 0.9397, 0.271: 0.9397, 0.274: 0.9394, 0.277: 0.9394, 0.28: 0.9389, 0.28300000000000003: 0.9386, 0.28600000000000003: 0.938, 0.28900000000000003: 0.9378, 0.292: 0.9373, 0.295: 0.9369, 0.298: 0.9366, 0.301: 0.9361, 0.304: 0.9355, 0.307: 0.9353, 0.31: 0.9352, 0.313: 0.9351, 0.316: 0.9346, 0.319: 0.9342, 0.322: 0.934, 0.325: 0.9339, 0.328: 0.9338, 0.331: 0.9334, 0.334: 0.9332, 0.337: 0.9331, 0.34: 0.9328, 0.343: 0.9328, 0.34600000000000003: 0.9326, 0.34900000000000003: 0.9324, 0.35200000000000004: 0.9321, 0.355: 0.9317, 0.358: 0.9316, 0.361: 0.9314, 0.364: 0.931, 0.367: 0.9311, 0.37: 0.9308, 0.373: 0.9308, 0.376: 0.9303, 0.379: 0.9299, 0.382: 0.93, 0.385: 0.9301, 0.388: 0.9297, 0.391: 0.9289, 0.394: 0.9287, 0.397: 0.9286, 0.4: 0.9284, 0.403: 0.9282, 0.406: 0.9282, 0.40900000000000003: 0.9278, 0.41200000000000003: 0.9278, 0.41500000000000004: 0.9274, 0.418: 0.9272, 0.421: 0.9269, 0.424: 0.9268, 0.427: 0.9268, 0.43: 0.9262, 0.433: 0.9263, 0.436: 0.926, 0.439: 0.9258, 0.442: 0.9258, 0.445: 0.9258, 0.448: 0.9258, 0.451: 0.9254, 0.454: 0.9253, 0.457: 0.9248, 0.46: 0.9247, 0.463: 0.9243, 0.466: 0.9241, 0.46900000000000003: 0.9236, 0.47200000000000003: 0.9233, 0.47500000000000003: 0.9229, 0.47800000000000004: 0.9225, 0.481: 0.9222, 0.484: 0.9218, 0.487: 0.9216, 0.49: 0.9212}\n",
            "{0.001: 0.9108, 0.004: 0.9355, 0.007: 0.9423, 0.010000000000000002: 0.9473, 0.013000000000000001: 0.9498, 0.016: 0.9516, 0.019000000000000003: 0.953, 0.022000000000000002: 0.9546, 0.025: 0.9556, 0.028: 0.956, 0.031: 0.9562, 0.034: 0.9564, 0.037000000000000005: 0.9564, 0.04: 0.957, 0.043000000000000003: 0.9571, 0.046: 0.9565, 0.049: 0.9564, 0.052000000000000005: 0.9566, 0.055: 0.9562, 0.058: 0.9565, 0.061: 0.9571, 0.064: 0.9567, 0.067: 0.9566, 0.07: 0.9563, 0.07300000000000001: 0.9562, 0.076: 0.9563, 0.079: 0.9562, 0.082: 0.9563, 0.085: 0.9562, 0.08800000000000001: 0.9558, 0.091: 0.9555, 0.094: 0.9552, 0.097: 0.9545, 0.1: 0.9542, 0.10300000000000001: 0.9536, 0.106: 0.9531, 0.109: 0.9527, 0.112: 0.9525, 0.115: 0.9524, 0.11800000000000001: 0.9522, 0.121: 0.9517, 0.124: 0.9511, 0.127: 0.9507, 0.13: 0.9503, 0.133: 0.9505, 0.136: 0.9504, 0.139: 0.95, 0.14200000000000002: 0.9499, 0.14500000000000002: 0.9495, 0.148: 0.9494, 0.151: 0.9492, 0.154: 0.9491, 0.157: 0.9485, 0.16: 0.9483, 0.163: 0.9479, 0.166: 0.9475, 0.169: 0.9473, 0.17200000000000001: 0.9474, 0.17500000000000002: 0.9473, 0.178: 0.9469, 0.181: 0.9467, 0.184: 0.9465, 0.187: 0.9464, 0.19: 0.9465, 0.193: 0.9464, 0.196: 0.9459, 0.199: 0.9455, 0.202: 0.9448, 0.20500000000000002: 0.9446, 0.20800000000000002: 0.944, 0.211: 0.9436, 0.214: 0.9433, 0.217: 0.9433, 0.22: 0.9432, 0.223: 0.9428, 0.226: 0.9426, 0.229: 0.942, 0.232: 0.9417, 0.23500000000000001: 0.9414, 0.23800000000000002: 0.941, 0.241: 0.9407, 0.244: 0.9407, 0.247: 0.9403, 0.25: 0.9403, 0.253: 0.9401, 0.256: 0.9402, 0.259: 0.94, 0.262: 0.9398, 0.265: 0.9397, 0.268: 0.9397, 0.271: 0.9397, 0.274: 0.9394, 0.277: 0.9394, 0.28: 0.9389, 0.28300000000000003: 0.9386, 0.28600000000000003: 0.938, 0.28900000000000003: 0.9378, 0.292: 0.9373, 0.295: 0.9369, 0.298: 0.9366, 0.301: 0.9361, 0.304: 0.9355, 0.307: 0.9353, 0.31: 0.9352, 0.313: 0.9351, 0.316: 0.9346, 0.319: 0.9342, 0.322: 0.934, 0.325: 0.9339, 0.328: 0.9338, 0.331: 0.9334, 0.334: 0.9332, 0.337: 0.9331, 0.34: 0.9328, 0.343: 0.9328, 0.34600000000000003: 0.9326, 0.34900000000000003: 0.9324, 0.35200000000000004: 0.9321, 0.355: 0.9317, 0.358: 0.9316, 0.361: 0.9314, 0.364: 0.931, 0.367: 0.9311, 0.37: 0.9308, 0.373: 0.9308, 0.376: 0.9303, 0.379: 0.9299, 0.382: 0.93, 0.385: 0.9301, 0.388: 0.9297, 0.391: 0.9289, 0.394: 0.9287, 0.397: 0.9286, 0.4: 0.9284, 0.403: 0.9282, 0.406: 0.9282, 0.40900000000000003: 0.9278, 0.41200000000000003: 0.9278, 0.41500000000000004: 0.9274, 0.418: 0.9272, 0.421: 0.9269, 0.424: 0.9268, 0.427: 0.9268, 0.43: 0.9262, 0.433: 0.9263, 0.436: 0.926, 0.439: 0.9258, 0.442: 0.9258, 0.445: 0.9258, 0.448: 0.9258, 0.451: 0.9254, 0.454: 0.9253, 0.457: 0.9248, 0.46: 0.9247, 0.463: 0.9243, 0.466: 0.9241, 0.46900000000000003: 0.9236, 0.47200000000000003: 0.9233, 0.47500000000000003: 0.9229, 0.47800000000000004: 0.9225, 0.481: 0.9222, 0.484: 0.9218, 0.487: 0.9216, 0.49: 0.9212, 0.493: 0.921}\n",
            "{0.001: 0.9108, 0.004: 0.9355, 0.007: 0.9423, 0.010000000000000002: 0.9473, 0.013000000000000001: 0.9498, 0.016: 0.9516, 0.019000000000000003: 0.953, 0.022000000000000002: 0.9546, 0.025: 0.9556, 0.028: 0.956, 0.031: 0.9562, 0.034: 0.9564, 0.037000000000000005: 0.9564, 0.04: 0.957, 0.043000000000000003: 0.9571, 0.046: 0.9565, 0.049: 0.9564, 0.052000000000000005: 0.9566, 0.055: 0.9562, 0.058: 0.9565, 0.061: 0.9571, 0.064: 0.9567, 0.067: 0.9566, 0.07: 0.9563, 0.07300000000000001: 0.9562, 0.076: 0.9563, 0.079: 0.9562, 0.082: 0.9563, 0.085: 0.9562, 0.08800000000000001: 0.9558, 0.091: 0.9555, 0.094: 0.9552, 0.097: 0.9545, 0.1: 0.9542, 0.10300000000000001: 0.9536, 0.106: 0.9531, 0.109: 0.9527, 0.112: 0.9525, 0.115: 0.9524, 0.11800000000000001: 0.9522, 0.121: 0.9517, 0.124: 0.9511, 0.127: 0.9507, 0.13: 0.9503, 0.133: 0.9505, 0.136: 0.9504, 0.139: 0.95, 0.14200000000000002: 0.9499, 0.14500000000000002: 0.9495, 0.148: 0.9494, 0.151: 0.9492, 0.154: 0.9491, 0.157: 0.9485, 0.16: 0.9483, 0.163: 0.9479, 0.166: 0.9475, 0.169: 0.9473, 0.17200000000000001: 0.9474, 0.17500000000000002: 0.9473, 0.178: 0.9469, 0.181: 0.9467, 0.184: 0.9465, 0.187: 0.9464, 0.19: 0.9465, 0.193: 0.9464, 0.196: 0.9459, 0.199: 0.9455, 0.202: 0.9448, 0.20500000000000002: 0.9446, 0.20800000000000002: 0.944, 0.211: 0.9436, 0.214: 0.9433, 0.217: 0.9433, 0.22: 0.9432, 0.223: 0.9428, 0.226: 0.9426, 0.229: 0.942, 0.232: 0.9417, 0.23500000000000001: 0.9414, 0.23800000000000002: 0.941, 0.241: 0.9407, 0.244: 0.9407, 0.247: 0.9403, 0.25: 0.9403, 0.253: 0.9401, 0.256: 0.9402, 0.259: 0.94, 0.262: 0.9398, 0.265: 0.9397, 0.268: 0.9397, 0.271: 0.9397, 0.274: 0.9394, 0.277: 0.9394, 0.28: 0.9389, 0.28300000000000003: 0.9386, 0.28600000000000003: 0.938, 0.28900000000000003: 0.9378, 0.292: 0.9373, 0.295: 0.9369, 0.298: 0.9366, 0.301: 0.9361, 0.304: 0.9355, 0.307: 0.9353, 0.31: 0.9352, 0.313: 0.9351, 0.316: 0.9346, 0.319: 0.9342, 0.322: 0.934, 0.325: 0.9339, 0.328: 0.9338, 0.331: 0.9334, 0.334: 0.9332, 0.337: 0.9331, 0.34: 0.9328, 0.343: 0.9328, 0.34600000000000003: 0.9326, 0.34900000000000003: 0.9324, 0.35200000000000004: 0.9321, 0.355: 0.9317, 0.358: 0.9316, 0.361: 0.9314, 0.364: 0.931, 0.367: 0.9311, 0.37: 0.9308, 0.373: 0.9308, 0.376: 0.9303, 0.379: 0.9299, 0.382: 0.93, 0.385: 0.9301, 0.388: 0.9297, 0.391: 0.9289, 0.394: 0.9287, 0.397: 0.9286, 0.4: 0.9284, 0.403: 0.9282, 0.406: 0.9282, 0.40900000000000003: 0.9278, 0.41200000000000003: 0.9278, 0.41500000000000004: 0.9274, 0.418: 0.9272, 0.421: 0.9269, 0.424: 0.9268, 0.427: 0.9268, 0.43: 0.9262, 0.433: 0.9263, 0.436: 0.926, 0.439: 0.9258, 0.442: 0.9258, 0.445: 0.9258, 0.448: 0.9258, 0.451: 0.9254, 0.454: 0.9253, 0.457: 0.9248, 0.46: 0.9247, 0.463: 0.9243, 0.466: 0.9241, 0.46900000000000003: 0.9236, 0.47200000000000003: 0.9233, 0.47500000000000003: 0.9229, 0.47800000000000004: 0.9225, 0.481: 0.9222, 0.484: 0.9218, 0.487: 0.9216, 0.49: 0.9212, 0.493: 0.921, 0.496: 0.9207}\n",
            "{0.001: 0.9108, 0.004: 0.9355, 0.007: 0.9423, 0.010000000000000002: 0.9473, 0.013000000000000001: 0.9498, 0.016: 0.9516, 0.019000000000000003: 0.953, 0.022000000000000002: 0.9546, 0.025: 0.9556, 0.028: 0.956, 0.031: 0.9562, 0.034: 0.9564, 0.037000000000000005: 0.9564, 0.04: 0.957, 0.043000000000000003: 0.9571, 0.046: 0.9565, 0.049: 0.9564, 0.052000000000000005: 0.9566, 0.055: 0.9562, 0.058: 0.9565, 0.061: 0.9571, 0.064: 0.9567, 0.067: 0.9566, 0.07: 0.9563, 0.07300000000000001: 0.9562, 0.076: 0.9563, 0.079: 0.9562, 0.082: 0.9563, 0.085: 0.9562, 0.08800000000000001: 0.9558, 0.091: 0.9555, 0.094: 0.9552, 0.097: 0.9545, 0.1: 0.9542, 0.10300000000000001: 0.9536, 0.106: 0.9531, 0.109: 0.9527, 0.112: 0.9525, 0.115: 0.9524, 0.11800000000000001: 0.9522, 0.121: 0.9517, 0.124: 0.9511, 0.127: 0.9507, 0.13: 0.9503, 0.133: 0.9505, 0.136: 0.9504, 0.139: 0.95, 0.14200000000000002: 0.9499, 0.14500000000000002: 0.9495, 0.148: 0.9494, 0.151: 0.9492, 0.154: 0.9491, 0.157: 0.9485, 0.16: 0.9483, 0.163: 0.9479, 0.166: 0.9475, 0.169: 0.9473, 0.17200000000000001: 0.9474, 0.17500000000000002: 0.9473, 0.178: 0.9469, 0.181: 0.9467, 0.184: 0.9465, 0.187: 0.9464, 0.19: 0.9465, 0.193: 0.9464, 0.196: 0.9459, 0.199: 0.9455, 0.202: 0.9448, 0.20500000000000002: 0.9446, 0.20800000000000002: 0.944, 0.211: 0.9436, 0.214: 0.9433, 0.217: 0.9433, 0.22: 0.9432, 0.223: 0.9428, 0.226: 0.9426, 0.229: 0.942, 0.232: 0.9417, 0.23500000000000001: 0.9414, 0.23800000000000002: 0.941, 0.241: 0.9407, 0.244: 0.9407, 0.247: 0.9403, 0.25: 0.9403, 0.253: 0.9401, 0.256: 0.9402, 0.259: 0.94, 0.262: 0.9398, 0.265: 0.9397, 0.268: 0.9397, 0.271: 0.9397, 0.274: 0.9394, 0.277: 0.9394, 0.28: 0.9389, 0.28300000000000003: 0.9386, 0.28600000000000003: 0.938, 0.28900000000000003: 0.9378, 0.292: 0.9373, 0.295: 0.9369, 0.298: 0.9366, 0.301: 0.9361, 0.304: 0.9355, 0.307: 0.9353, 0.31: 0.9352, 0.313: 0.9351, 0.316: 0.9346, 0.319: 0.9342, 0.322: 0.934, 0.325: 0.9339, 0.328: 0.9338, 0.331: 0.9334, 0.334: 0.9332, 0.337: 0.9331, 0.34: 0.9328, 0.343: 0.9328, 0.34600000000000003: 0.9326, 0.34900000000000003: 0.9324, 0.35200000000000004: 0.9321, 0.355: 0.9317, 0.358: 0.9316, 0.361: 0.9314, 0.364: 0.931, 0.367: 0.9311, 0.37: 0.9308, 0.373: 0.9308, 0.376: 0.9303, 0.379: 0.9299, 0.382: 0.93, 0.385: 0.9301, 0.388: 0.9297, 0.391: 0.9289, 0.394: 0.9287, 0.397: 0.9286, 0.4: 0.9284, 0.403: 0.9282, 0.406: 0.9282, 0.40900000000000003: 0.9278, 0.41200000000000003: 0.9278, 0.41500000000000004: 0.9274, 0.418: 0.9272, 0.421: 0.9269, 0.424: 0.9268, 0.427: 0.9268, 0.43: 0.9262, 0.433: 0.9263, 0.436: 0.926, 0.439: 0.9258, 0.442: 0.9258, 0.445: 0.9258, 0.448: 0.9258, 0.451: 0.9254, 0.454: 0.9253, 0.457: 0.9248, 0.46: 0.9247, 0.463: 0.9243, 0.466: 0.9241, 0.46900000000000003: 0.9236, 0.47200000000000003: 0.9233, 0.47500000000000003: 0.9229, 0.47800000000000004: 0.9225, 0.481: 0.9222, 0.484: 0.9218, 0.487: 0.9216, 0.49: 0.9212, 0.493: 0.921, 0.496: 0.9207, 0.499: 0.9201}\n"
          ]
        }
      ]
    },
    {
      "cell_type": "code",
      "source": [
        "accuracy_gauss_bayes_dict"
      ],
      "metadata": {
        "colab": {
          "base_uri": "https://localhost:8080/"
        },
        "id": "lEuihYrCk4Te",
        "outputId": "17352a10-3e64-4848-a48c-41374b09629b"
      },
      "execution_count": 95,
      "outputs": [
        {
          "output_type": "execute_result",
          "data": {
            "text/plain": [
              "{0.001: 0.9108,\n",
              " 0.004: 0.9355,\n",
              " 0.007: 0.9423,\n",
              " 0.010000000000000002: 0.9473,\n",
              " 0.013000000000000001: 0.9498,\n",
              " 0.016: 0.9516,\n",
              " 0.019000000000000003: 0.953,\n",
              " 0.022000000000000002: 0.9546,\n",
              " 0.025: 0.9556,\n",
              " 0.028: 0.956,\n",
              " 0.031: 0.9562,\n",
              " 0.034: 0.9564,\n",
              " 0.037000000000000005: 0.9564,\n",
              " 0.04: 0.957,\n",
              " 0.043000000000000003: 0.9571,\n",
              " 0.046: 0.9565,\n",
              " 0.049: 0.9564,\n",
              " 0.052000000000000005: 0.9566,\n",
              " 0.055: 0.9562,\n",
              " 0.058: 0.9565,\n",
              " 0.061: 0.9571,\n",
              " 0.064: 0.9567,\n",
              " 0.067: 0.9566,\n",
              " 0.07: 0.9563,\n",
              " 0.07300000000000001: 0.9562,\n",
              " 0.076: 0.9563,\n",
              " 0.079: 0.9562,\n",
              " 0.082: 0.9563,\n",
              " 0.085: 0.9562,\n",
              " 0.08800000000000001: 0.9558,\n",
              " 0.091: 0.9555,\n",
              " 0.094: 0.9552,\n",
              " 0.097: 0.9545,\n",
              " 0.1: 0.9542,\n",
              " 0.10300000000000001: 0.9536,\n",
              " 0.106: 0.9531,\n",
              " 0.109: 0.9527,\n",
              " 0.112: 0.9525,\n",
              " 0.115: 0.9524,\n",
              " 0.11800000000000001: 0.9522,\n",
              " 0.121: 0.9517,\n",
              " 0.124: 0.9511,\n",
              " 0.127: 0.9507,\n",
              " 0.13: 0.9503,\n",
              " 0.133: 0.9505,\n",
              " 0.136: 0.9504,\n",
              " 0.139: 0.95,\n",
              " 0.14200000000000002: 0.9499,\n",
              " 0.14500000000000002: 0.9495,\n",
              " 0.148: 0.9494,\n",
              " 0.151: 0.9492,\n",
              " 0.154: 0.9491,\n",
              " 0.157: 0.9485,\n",
              " 0.16: 0.9483,\n",
              " 0.163: 0.9479,\n",
              " 0.166: 0.9475,\n",
              " 0.169: 0.9473,\n",
              " 0.17200000000000001: 0.9474,\n",
              " 0.17500000000000002: 0.9473,\n",
              " 0.178: 0.9469,\n",
              " 0.181: 0.9467,\n",
              " 0.184: 0.9465,\n",
              " 0.187: 0.9464,\n",
              " 0.19: 0.9465,\n",
              " 0.193: 0.9464,\n",
              " 0.196: 0.9459,\n",
              " 0.199: 0.9455,\n",
              " 0.202: 0.9448,\n",
              " 0.20500000000000002: 0.9446,\n",
              " 0.20800000000000002: 0.944,\n",
              " 0.211: 0.9436,\n",
              " 0.214: 0.9433,\n",
              " 0.217: 0.9433,\n",
              " 0.22: 0.9432,\n",
              " 0.223: 0.9428,\n",
              " 0.226: 0.9426,\n",
              " 0.229: 0.942,\n",
              " 0.232: 0.9417,\n",
              " 0.23500000000000001: 0.9414,\n",
              " 0.23800000000000002: 0.941,\n",
              " 0.241: 0.9407,\n",
              " 0.244: 0.9407,\n",
              " 0.247: 0.9403,\n",
              " 0.25: 0.9403,\n",
              " 0.253: 0.9401,\n",
              " 0.256: 0.9402,\n",
              " 0.259: 0.94,\n",
              " 0.262: 0.9398,\n",
              " 0.265: 0.9397,\n",
              " 0.268: 0.9397,\n",
              " 0.271: 0.9397,\n",
              " 0.274: 0.9394,\n",
              " 0.277: 0.9394,\n",
              " 0.28: 0.9389,\n",
              " 0.28300000000000003: 0.9386,\n",
              " 0.28600000000000003: 0.938,\n",
              " 0.28900000000000003: 0.9378,\n",
              " 0.292: 0.9373,\n",
              " 0.295: 0.9369,\n",
              " 0.298: 0.9366,\n",
              " 0.301: 0.9361,\n",
              " 0.304: 0.9355,\n",
              " 0.307: 0.9353,\n",
              " 0.31: 0.9352,\n",
              " 0.313: 0.9351,\n",
              " 0.316: 0.9346,\n",
              " 0.319: 0.9342,\n",
              " 0.322: 0.934,\n",
              " 0.325: 0.9339,\n",
              " 0.328: 0.9338,\n",
              " 0.331: 0.9334,\n",
              " 0.334: 0.9332,\n",
              " 0.337: 0.9331,\n",
              " 0.34: 0.9328,\n",
              " 0.343: 0.9328,\n",
              " 0.34600000000000003: 0.9326,\n",
              " 0.34900000000000003: 0.9324,\n",
              " 0.35200000000000004: 0.9321,\n",
              " 0.355: 0.9317,\n",
              " 0.358: 0.9316,\n",
              " 0.361: 0.9314,\n",
              " 0.364: 0.931,\n",
              " 0.367: 0.9311,\n",
              " 0.37: 0.9308,\n",
              " 0.373: 0.9308,\n",
              " 0.376: 0.9303,\n",
              " 0.379: 0.9299,\n",
              " 0.382: 0.93,\n",
              " 0.385: 0.9301,\n",
              " 0.388: 0.9297,\n",
              " 0.391: 0.9289,\n",
              " 0.394: 0.9287,\n",
              " 0.397: 0.9286,\n",
              " 0.4: 0.9284,\n",
              " 0.403: 0.9282,\n",
              " 0.406: 0.9282,\n",
              " 0.40900000000000003: 0.9278,\n",
              " 0.41200000000000003: 0.9278,\n",
              " 0.41500000000000004: 0.9274,\n",
              " 0.418: 0.9272,\n",
              " 0.421: 0.9269,\n",
              " 0.424: 0.9268,\n",
              " 0.427: 0.9268,\n",
              " 0.43: 0.9262,\n",
              " 0.433: 0.9263,\n",
              " 0.436: 0.926,\n",
              " 0.439: 0.9258,\n",
              " 0.442: 0.9258,\n",
              " 0.445: 0.9258,\n",
              " 0.448: 0.9258,\n",
              " 0.451: 0.9254,\n",
              " 0.454: 0.9253,\n",
              " 0.457: 0.9248,\n",
              " 0.46: 0.9247,\n",
              " 0.463: 0.9243,\n",
              " 0.466: 0.9241,\n",
              " 0.46900000000000003: 0.9236,\n",
              " 0.47200000000000003: 0.9233,\n",
              " 0.47500000000000003: 0.9229,\n",
              " 0.47800000000000004: 0.9225,\n",
              " 0.481: 0.9222,\n",
              " 0.484: 0.9218,\n",
              " 0.487: 0.9216,\n",
              " 0.49: 0.9212,\n",
              " 0.493: 0.921,\n",
              " 0.496: 0.9207,\n",
              " 0.499: 0.9201}"
            ]
          },
          "metadata": {},
          "execution_count": 95
        }
      ]
    },
    {
      "cell_type": "code",
      "source": [
        "accuracy_gauss_bayes_df = pd.DataFrame(accuracy_gauss_bayes_dict.keys(),accuracy_gauss_bayes_dict.values())"
      ],
      "metadata": {
        "id": "hKr5u0-ilk7e"
      },
      "execution_count": 96,
      "outputs": []
    },
    {
      "cell_type": "code",
      "source": [
        "accuracy_gauss_bayes_df.rename(columns = {0:'epsilon_value'},inplace = True)"
      ],
      "metadata": {
        "id": "i5RZgycAlJmi"
      },
      "execution_count": 105,
      "outputs": []
    },
    {
      "cell_type": "code",
      "source": [
        "accuracy_gauss_bayes_df"
      ],
      "metadata": {
        "colab": {
          "base_uri": "https://localhost:8080/",
          "height": 424
        },
        "id": "mfCHKJadmqBS",
        "outputId": "85f97e69-3a80-4480-a3f0-b5c48ecd50f6"
      },
      "execution_count": 106,
      "outputs": [
        {
          "output_type": "execute_result",
          "data": {
            "text/plain": [
              "     accuracy  epsilon_value\n",
              "0      0.9108          0.001\n",
              "1      0.9355          0.004\n",
              "2      0.9423          0.007\n",
              "3      0.9473          0.010\n",
              "4      0.9498          0.013\n",
              "..        ...            ...\n",
              "162    0.9216          0.487\n",
              "163    0.9212          0.490\n",
              "164    0.9210          0.493\n",
              "165    0.9207          0.496\n",
              "166    0.9201          0.499\n",
              "\n",
              "[167 rows x 2 columns]"
            ],
            "text/html": [
              "\n",
              "  <div id=\"df-f150f1f1-94c3-4a77-87fa-2b4c93b543dd\" class=\"colab-df-container\">\n",
              "    <div>\n",
              "<style scoped>\n",
              "    .dataframe tbody tr th:only-of-type {\n",
              "        vertical-align: middle;\n",
              "    }\n",
              "\n",
              "    .dataframe tbody tr th {\n",
              "        vertical-align: top;\n",
              "    }\n",
              "\n",
              "    .dataframe thead th {\n",
              "        text-align: right;\n",
              "    }\n",
              "</style>\n",
              "<table border=\"1\" class=\"dataframe\">\n",
              "  <thead>\n",
              "    <tr style=\"text-align: right;\">\n",
              "      <th></th>\n",
              "      <th>accuracy</th>\n",
              "      <th>epsilon_value</th>\n",
              "    </tr>\n",
              "  </thead>\n",
              "  <tbody>\n",
              "    <tr>\n",
              "      <th>0</th>\n",
              "      <td>0.9108</td>\n",
              "      <td>0.001</td>\n",
              "    </tr>\n",
              "    <tr>\n",
              "      <th>1</th>\n",
              "      <td>0.9355</td>\n",
              "      <td>0.004</td>\n",
              "    </tr>\n",
              "    <tr>\n",
              "      <th>2</th>\n",
              "      <td>0.9423</td>\n",
              "      <td>0.007</td>\n",
              "    </tr>\n",
              "    <tr>\n",
              "      <th>3</th>\n",
              "      <td>0.9473</td>\n",
              "      <td>0.010</td>\n",
              "    </tr>\n",
              "    <tr>\n",
              "      <th>4</th>\n",
              "      <td>0.9498</td>\n",
              "      <td>0.013</td>\n",
              "    </tr>\n",
              "    <tr>\n",
              "      <th>...</th>\n",
              "      <td>...</td>\n",
              "      <td>...</td>\n",
              "    </tr>\n",
              "    <tr>\n",
              "      <th>162</th>\n",
              "      <td>0.9216</td>\n",
              "      <td>0.487</td>\n",
              "    </tr>\n",
              "    <tr>\n",
              "      <th>163</th>\n",
              "      <td>0.9212</td>\n",
              "      <td>0.490</td>\n",
              "    </tr>\n",
              "    <tr>\n",
              "      <th>164</th>\n",
              "      <td>0.9210</td>\n",
              "      <td>0.493</td>\n",
              "    </tr>\n",
              "    <tr>\n",
              "      <th>165</th>\n",
              "      <td>0.9207</td>\n",
              "      <td>0.496</td>\n",
              "    </tr>\n",
              "    <tr>\n",
              "      <th>166</th>\n",
              "      <td>0.9201</td>\n",
              "      <td>0.499</td>\n",
              "    </tr>\n",
              "  </tbody>\n",
              "</table>\n",
              "<p>167 rows × 2 columns</p>\n",
              "</div>\n",
              "    <div class=\"colab-df-buttons\">\n",
              "\n",
              "  <div class=\"colab-df-container\">\n",
              "    <button class=\"colab-df-convert\" onclick=\"convertToInteractive('df-f150f1f1-94c3-4a77-87fa-2b4c93b543dd')\"\n",
              "            title=\"Convert this dataframe to an interactive table.\"\n",
              "            style=\"display:none;\">\n",
              "\n",
              "  <svg xmlns=\"http://www.w3.org/2000/svg\" height=\"24px\" viewBox=\"0 -960 960 960\">\n",
              "    <path d=\"M120-120v-720h720v720H120Zm60-500h600v-160H180v160Zm220 220h160v-160H400v160Zm0 220h160v-160H400v160ZM180-400h160v-160H180v160Zm440 0h160v-160H620v160ZM180-180h160v-160H180v160Zm440 0h160v-160H620v160Z\"/>\n",
              "  </svg>\n",
              "    </button>\n",
              "\n",
              "  <style>\n",
              "    .colab-df-container {\n",
              "      display:flex;\n",
              "      gap: 12px;\n",
              "    }\n",
              "\n",
              "    .colab-df-convert {\n",
              "      background-color: #E8F0FE;\n",
              "      border: none;\n",
              "      border-radius: 50%;\n",
              "      cursor: pointer;\n",
              "      display: none;\n",
              "      fill: #1967D2;\n",
              "      height: 32px;\n",
              "      padding: 0 0 0 0;\n",
              "      width: 32px;\n",
              "    }\n",
              "\n",
              "    .colab-df-convert:hover {\n",
              "      background-color: #E2EBFA;\n",
              "      box-shadow: 0px 1px 2px rgba(60, 64, 67, 0.3), 0px 1px 3px 1px rgba(60, 64, 67, 0.15);\n",
              "      fill: #174EA6;\n",
              "    }\n",
              "\n",
              "    .colab-df-buttons div {\n",
              "      margin-bottom: 4px;\n",
              "    }\n",
              "\n",
              "    [theme=dark] .colab-df-convert {\n",
              "      background-color: #3B4455;\n",
              "      fill: #D2E3FC;\n",
              "    }\n",
              "\n",
              "    [theme=dark] .colab-df-convert:hover {\n",
              "      background-color: #434B5C;\n",
              "      box-shadow: 0px 1px 3px 1px rgba(0, 0, 0, 0.15);\n",
              "      filter: drop-shadow(0px 1px 2px rgba(0, 0, 0, 0.3));\n",
              "      fill: #FFFFFF;\n",
              "    }\n",
              "  </style>\n",
              "\n",
              "    <script>\n",
              "      const buttonEl =\n",
              "        document.querySelector('#df-f150f1f1-94c3-4a77-87fa-2b4c93b543dd button.colab-df-convert');\n",
              "      buttonEl.style.display =\n",
              "        google.colab.kernel.accessAllowed ? 'block' : 'none';\n",
              "\n",
              "      async function convertToInteractive(key) {\n",
              "        const element = document.querySelector('#df-f150f1f1-94c3-4a77-87fa-2b4c93b543dd');\n",
              "        const dataTable =\n",
              "          await google.colab.kernel.invokeFunction('convertToInteractive',\n",
              "                                                    [key], {});\n",
              "        if (!dataTable) return;\n",
              "\n",
              "        const docLinkHtml = 'Like what you see? Visit the ' +\n",
              "          '<a target=\"_blank\" href=https://colab.research.google.com/notebooks/data_table.ipynb>data table notebook</a>'\n",
              "          + ' to learn more about interactive tables.';\n",
              "        element.innerHTML = '';\n",
              "        dataTable['output_type'] = 'display_data';\n",
              "        await google.colab.output.renderOutput(dataTable, element);\n",
              "        const docLink = document.createElement('div');\n",
              "        docLink.innerHTML = docLinkHtml;\n",
              "        element.appendChild(docLink);\n",
              "      }\n",
              "    </script>\n",
              "  </div>\n",
              "\n",
              "\n",
              "<div id=\"df-514d60fc-fcba-4f19-801d-b28dd4c52433\">\n",
              "  <button class=\"colab-df-quickchart\" onclick=\"quickchart('df-514d60fc-fcba-4f19-801d-b28dd4c52433')\"\n",
              "            title=\"Suggest charts\"\n",
              "            style=\"display:none;\">\n",
              "\n",
              "<svg xmlns=\"http://www.w3.org/2000/svg\" height=\"24px\"viewBox=\"0 0 24 24\"\n",
              "     width=\"24px\">\n",
              "    <g>\n",
              "        <path d=\"M19 3H5c-1.1 0-2 .9-2 2v14c0 1.1.9 2 2 2h14c1.1 0 2-.9 2-2V5c0-1.1-.9-2-2-2zM9 17H7v-7h2v7zm4 0h-2V7h2v10zm4 0h-2v-4h2v4z\"/>\n",
              "    </g>\n",
              "</svg>\n",
              "  </button>\n",
              "\n",
              "<style>\n",
              "  .colab-df-quickchart {\n",
              "      --bg-color: #E8F0FE;\n",
              "      --fill-color: #1967D2;\n",
              "      --hover-bg-color: #E2EBFA;\n",
              "      --hover-fill-color: #174EA6;\n",
              "      --disabled-fill-color: #AAA;\n",
              "      --disabled-bg-color: #DDD;\n",
              "  }\n",
              "\n",
              "  [theme=dark] .colab-df-quickchart {\n",
              "      --bg-color: #3B4455;\n",
              "      --fill-color: #D2E3FC;\n",
              "      --hover-bg-color: #434B5C;\n",
              "      --hover-fill-color: #FFFFFF;\n",
              "      --disabled-bg-color: #3B4455;\n",
              "      --disabled-fill-color: #666;\n",
              "  }\n",
              "\n",
              "  .colab-df-quickchart {\n",
              "    background-color: var(--bg-color);\n",
              "    border: none;\n",
              "    border-radius: 50%;\n",
              "    cursor: pointer;\n",
              "    display: none;\n",
              "    fill: var(--fill-color);\n",
              "    height: 32px;\n",
              "    padding: 0;\n",
              "    width: 32px;\n",
              "  }\n",
              "\n",
              "  .colab-df-quickchart:hover {\n",
              "    background-color: var(--hover-bg-color);\n",
              "    box-shadow: 0 1px 2px rgba(60, 64, 67, 0.3), 0 1px 3px 1px rgba(60, 64, 67, 0.15);\n",
              "    fill: var(--button-hover-fill-color);\n",
              "  }\n",
              "\n",
              "  .colab-df-quickchart-complete:disabled,\n",
              "  .colab-df-quickchart-complete:disabled:hover {\n",
              "    background-color: var(--disabled-bg-color);\n",
              "    fill: var(--disabled-fill-color);\n",
              "    box-shadow: none;\n",
              "  }\n",
              "\n",
              "  .colab-df-spinner {\n",
              "    border: 2px solid var(--fill-color);\n",
              "    border-color: transparent;\n",
              "    border-bottom-color: var(--fill-color);\n",
              "    animation:\n",
              "      spin 1s steps(1) infinite;\n",
              "  }\n",
              "\n",
              "  @keyframes spin {\n",
              "    0% {\n",
              "      border-color: transparent;\n",
              "      border-bottom-color: var(--fill-color);\n",
              "      border-left-color: var(--fill-color);\n",
              "    }\n",
              "    20% {\n",
              "      border-color: transparent;\n",
              "      border-left-color: var(--fill-color);\n",
              "      border-top-color: var(--fill-color);\n",
              "    }\n",
              "    30% {\n",
              "      border-color: transparent;\n",
              "      border-left-color: var(--fill-color);\n",
              "      border-top-color: var(--fill-color);\n",
              "      border-right-color: var(--fill-color);\n",
              "    }\n",
              "    40% {\n",
              "      border-color: transparent;\n",
              "      border-right-color: var(--fill-color);\n",
              "      border-top-color: var(--fill-color);\n",
              "    }\n",
              "    60% {\n",
              "      border-color: transparent;\n",
              "      border-right-color: var(--fill-color);\n",
              "    }\n",
              "    80% {\n",
              "      border-color: transparent;\n",
              "      border-right-color: var(--fill-color);\n",
              "      border-bottom-color: var(--fill-color);\n",
              "    }\n",
              "    90% {\n",
              "      border-color: transparent;\n",
              "      border-bottom-color: var(--fill-color);\n",
              "    }\n",
              "  }\n",
              "</style>\n",
              "\n",
              "  <script>\n",
              "    async function quickchart(key) {\n",
              "      const quickchartButtonEl =\n",
              "        document.querySelector('#' + key + ' button');\n",
              "      quickchartButtonEl.disabled = true;  // To prevent multiple clicks.\n",
              "      quickchartButtonEl.classList.add('colab-df-spinner');\n",
              "      try {\n",
              "        const charts = await google.colab.kernel.invokeFunction(\n",
              "            'suggestCharts', [key], {});\n",
              "      } catch (error) {\n",
              "        console.error('Error during call to suggestCharts:', error);\n",
              "      }\n",
              "      quickchartButtonEl.classList.remove('colab-df-spinner');\n",
              "      quickchartButtonEl.classList.add('colab-df-quickchart-complete');\n",
              "    }\n",
              "    (() => {\n",
              "      let quickchartButtonEl =\n",
              "        document.querySelector('#df-514d60fc-fcba-4f19-801d-b28dd4c52433 button');\n",
              "      quickchartButtonEl.style.display =\n",
              "        google.colab.kernel.accessAllowed ? 'block' : 'none';\n",
              "    })();\n",
              "  </script>\n",
              "</div>\n",
              "    </div>\n",
              "  </div>\n"
            ],
            "application/vnd.google.colaboratory.intrinsic+json": {
              "type": "dataframe",
              "variable_name": "accuracy_gauss_bayes_df",
              "summary": "{\n  \"name\": \"accuracy_gauss_bayes_df\",\n  \"rows\": 167,\n  \"fields\": [\n    {\n      \"column\": \"accuracy\",\n      \"properties\": {\n        \"dtype\": \"number\",\n        \"std\": 0.011391472198219002,\n        \"min\": 0.9108,\n        \"max\": 0.9571,\n        \"num_unique_values\": 137,\n        \"samples\": [\n          0.9297,\n          0.9301,\n          0.957\n        ],\n        \"semantic_type\": \"\",\n        \"description\": \"\"\n      }\n    },\n    {\n      \"column\": \"epsilon_value\",\n      \"properties\": {\n        \"dtype\": \"number\",\n        \"std\": 0.14505860884483898,\n        \"min\": 0.001,\n        \"max\": 0.499,\n        \"num_unique_values\": 167,\n        \"samples\": [\n          0.304,\n          0.325,\n          0.23500000000000001\n        ],\n        \"semantic_type\": \"\",\n        \"description\": \"\"\n      }\n    }\n  ]\n}"
            }
          },
          "metadata": {},
          "execution_count": 106
        }
      ]
    },
    {
      "cell_type": "code",
      "source": [
        "accuracy_gauss_bayes_df.reset_index(names = 'accuracy',inplace= True)"
      ],
      "metadata": {
        "id": "Ib-a2Zrhle33"
      },
      "execution_count": 100,
      "outputs": []
    },
    {
      "cell_type": "code",
      "source": [
        "sns.scatterplot(data = accuracy_gauss_bayes_df,x='epsilon_value',y='accuracy')"
      ],
      "metadata": {
        "colab": {
          "base_uri": "https://localhost:8080/",
          "height": 467
        },
        "id": "uyx11ngxmX0i",
        "outputId": "9baeb262-f52f-4f65-f130-1bbd639f33ff"
      },
      "execution_count": 107,
      "outputs": [
        {
          "output_type": "execute_result",
          "data": {
            "text/plain": [
              "<Axes: xlabel='epsilon_value', ylabel='accuracy'>"
            ]
          },
          "metadata": {},
          "execution_count": 107
        },
        {
          "output_type": "display_data",
          "data": {
            "text/plain": [
              "<Figure size 640x480 with 1 Axes>"
            ],
            "image/png": "[encoded data removed]"
          },
          "metadata": {}
        }
      ]
    },
    {
      "cell_type": "markdown",
      "source": [
        "##### after trying the above combinations we deduce that best accuracy = 95.69 with epsilon value : 0.065"
      ],
      "metadata": {
        "id": "cjqFfj0irLIa"
      }
    },
    {
      "cell_type": "code",
      "source": [
        "final_gauss_bayes_instance = MnistGaussBayes(epsilon = 0.064)\n",
        "final_gauss_bayes_instance.gaussbayes_fit(X_train_independent_var_dataset=X_train_independent_var_scaled_dataset,y_train_digit_dependent_var=y_train_digit_dependent_var)\n",
        "gauss_bayes_digit_predicted_train_set = final_gauss_bayes_instance.gaussbayes_predict(X_train_independent_var_scaled_dataset)\n",
        "gauss_bayes_digit_predicted_test_set = final_gauss_bayes_instance.gaussbayes_predict(X_test_independent_var_scaled_dataset)\n",
        "accuracy_gb_testset_final = accuracy(gauss_bayes_digit_predicted_test_set,y_test_digit_dependent_var)\n",
        "accuracy_gb_testset_final"
      ],
      "metadata": {
        "id": "-b-GYFylrb6l"
      },
      "execution_count": null,
      "outputs": []
    },
    {
      "cell_type": "markdown",
      "source": [
        "#### KNN means nearest neighbour"
      ],
      "metadata": {
        "id": "ZseZQDoiuRap"
      }
    },
    {
      "cell_type": "code",
      "source": [
        "class KMeansNearestNeighbour():\n",
        "  def k_means_fit(self,X_train_independent_var_dataset,y_train_digit_dependent_var,\n",
        "                  epsilon = 1e-3):\n",
        "    self.X_train_independent_var_dataset = X_train_independent_var_dataset\n",
        "    self.y_train_digit_dependent_var = y_train_digit_dependent_var\n",
        "    self.epsilon = epsilon\n",
        "\n",
        "  def k_means_predict(self,X_test_independent_var_dataset,number_of_neighbours_K):\n",
        "    length_of_test_dataset = len(X_test_independent_var_dataset)\n",
        "    probablities_array = np.zeros(length_of_test_dataset)\n",
        "\n",
        "    for single_value in range(length_of_test_dataset):\n",
        "      distance = np.sum((self.X_train_independent_var_dataset-X_test_independent_var_dataset[single_value])**2,axis = 1)\n",
        "      idxt = np.argsort(distance)[:number_of_neighbours_K]\n",
        "      gamma_k = 1/(np.sqrt(distance[idxt]+ self.epsilon))\n",
        "      probablities_array[single_value] = np.bincount(self.y_train_digit_dependent_var[idxt],weights = gamma_k).argmax()\n",
        "    return probablities_array\n",
        "\n",
        "\n"
      ],
      "metadata": {
        "id": "0PbIOLsTvRNz"
      },
      "execution_count": 108,
      "outputs": []
    },
    {
      "cell_type": "markdown",
      "source": [
        "we have the test data and train data so we can run the model right away"
      ],
      "metadata": {
        "id": "eMdmwJAU6Frv"
      }
    },
    {
      "cell_type": "code",
      "source": [
        "def accuracy(y, y_hat):\n",
        "  return np.mean(y==y_hat)"
      ],
      "metadata": {
        "id": "fPMMEHMQsh8i"
      },
      "execution_count": 109,
      "outputs": []
    },
    {
      "cell_type": "code",
      "source": [
        "knn_instance_1 = KMeansNearestNeighbour()\n",
        "knn_instance_1.k_means_fit(X_train_independent_var_scaled_dataset,y_train_digit_dependent_var)\n",
        "\n",
        "digit_predicted_knn_1 = knn_instance_1.k_means_predict(X_test_independent_var_scaled_dataset,number_of_neighbours_K=1000)\n",
        "print('.')\n",
        "# digit_predicted_knn_for_train_data = knn_instance_1.k_means_predict(X_train_independent_var_scaled_dataset,number_of_neighbours_K = 50)"
      ],
      "metadata": {
        "id": "helIuH8LnwHb",
        "colab": {
          "base_uri": "https://localhost:8080/"
        },
        "outputId": "d6f1a67c-dc43-4123-daae-6ee494772a3c"
      },
      "execution_count": 110,
      "outputs": [
        {
          "output_type": "stream",
          "name": "stdout",
          "text": [
            ".\n"
          ]
        }
      ]
    },
    {
      "cell_type": "code",
      "source": [
        "accuracy(digit_predicted_knn_1,y_test_digit_dependent_var)"
      ],
      "metadata": {
        "colab": {
          "base_uri": "https://localhost:8080/"
        },
        "id": "bFC1j0_inwD4",
        "outputId": "935c12c3-f536-4f8e-bdea-6850a5be5495"
      },
      "execution_count": 67,
      "outputs": [
        {
          "output_type": "execute_result",
          "data": {
            "text/plain": [
              "0.8788"
            ]
          },
          "metadata": {},
          "execution_count": 67
        }
      ]
    },
    {
      "cell_type": "code",
      "source": [
        "accuracy(digit_predicted_knn_for_train_data,y_train_digit_dependent_var)"
      ],
      "metadata": {
        "colab": {
          "base_uri": "https://localhost:8080/",
          "height": 141
        },
        "id": "wB9tP0nNnwAh",
        "outputId": "ca18961d-750d-4404-bf68-c061bd46b130"
      },
      "execution_count": null,
      "outputs": [
        {
          "output_type": "error",
          "ename": "NameError",
          "evalue": "name 'digit_predicted_knn_for_train_data' is not defined",
          "traceback": [
            "\u001b[0;31m---------------------------------------------------------------------------\u001b[0m",
            "\u001b[0;31mNameError\u001b[0m                                 Traceback (most recent call last)",
            "\u001b[0;32m<ipython-input-62-6adcaa7c38c3>\u001b[0m in \u001b[0;36m<cell line: 1>\u001b[0;34m()\u001b[0m\n\u001b[0;32m----> 1\u001b[0;31m \u001b[0maccuracy\u001b[0m\u001b[0;34m(\u001b[0m\u001b[0mdigit_predicted_knn_for_train_data\u001b[0m\u001b[0;34m,\u001b[0m\u001b[0my_train_digit_dependent_var\u001b[0m\u001b[0;34m)\u001b[0m\u001b[0;34m\u001b[0m\u001b[0;34m\u001b[0m\u001b[0m\n\u001b[0m",
            "\u001b[0;31mNameError\u001b[0m: name 'digit_predicted_knn_for_train_data' is not defined"
          ]
        }
      ]
    },
    {
      "cell_type": "code",
      "source": [
        "dictionary_for_k_means = {}"
      ],
      "metadata": {
        "id": "kn82WqSkbAlM"
      },
      "execution_count": 73,
      "outputs": []
    },
    {
      "cell_type": "code",
      "source": [
        "values_of_K = np.arange(500,8000,50)"
      ],
      "metadata": {
        "id": "oXSpA4YHnv9j"
      },
      "execution_count": 74,
      "outputs": []
    },
    {
      "cell_type": "code",
      "source": [
        "current_instance = KMeansNearestNeighbour()\n",
        "current_instance.k_means_fit(X_train_independent_var_scaled_dataset,y_train_digit_dependent_var)\n",
        "for K in values_of_K:\n",
        "  # current_instance = KMeansNearestNeighbour()\n",
        "  # current_instance.k_means_fit(X_train_independent_var_scaled_dataset,y_train_digit_dependent_var)\n",
        "  digit_predicted_by_current_instance_knn = current_instance.k_means_predict(X_test_independent_var_scaled_dataset,number_of_neighbours_K=K)\n",
        "  accuracy_value = accuracy(digit_predicted_by_current_instance_knn,y_test_digit_dependent_var)\n",
        "  dictionary_for_k_means[K]=[accuracy_value]\n",
        "  print(f'dictionary so far: {dictionary_for_k_means}')\n"
      ],
      "metadata": {
        "id": "c8WGGwsknv6i",
        "colab": {
          "base_uri": "https://localhost:8080/",
          "height": 391
        },
        "outputId": "c4cefe20-2f17-4833-f44b-e0bf932924e3"
      },
      "execution_count": 75,
      "outputs": [
        {
          "output_type": "stream",
          "name": "stdout",
          "text": [
            "dictionary so far: {500: [0.9064]}\n",
            "dictionary so far: {500: [0.9064], 550: [0.9036]}\n"
          ]
        },
        {
          "output_type": "error",
          "ename": "KeyboardInterrupt",
          "evalue": "",
          "traceback": [
            "\u001b[0;31m---------------------------------------------------------------------------\u001b[0m",
            "\u001b[0;31mKeyboardInterrupt\u001b[0m                         Traceback (most recent call last)",
            "\u001b[0;32m<ipython-input-75-ebd1168e2883>\u001b[0m in \u001b[0;36m<cell line: 3>\u001b[0;34m()\u001b[0m\n\u001b[1;32m      4\u001b[0m   \u001b[0;31m# current_instance = KMeansNearestNeighbour()\u001b[0m\u001b[0;34m\u001b[0m\u001b[0;34m\u001b[0m\u001b[0m\n\u001b[1;32m      5\u001b[0m   \u001b[0;31m# current_instance.k_means_fit(X_train_independent_var_scaled_dataset,y_train_digit_dependent_var)\u001b[0m\u001b[0;34m\u001b[0m\u001b[0;34m\u001b[0m\u001b[0m\n\u001b[0;32m----> 6\u001b[0;31m   \u001b[0mdigit_predicted_by_current_instance_knn\u001b[0m \u001b[0;34m=\u001b[0m \u001b[0mcurrent_instance\u001b[0m\u001b[0;34m.\u001b[0m\u001b[0mk_means_predict\u001b[0m\u001b[0;34m(\u001b[0m\u001b[0mX_test_independent_var_scaled_dataset\u001b[0m\u001b[0;34m,\u001b[0m\u001b[0mnumber_of_neighbours_K\u001b[0m\u001b[0;34m=\u001b[0m\u001b[0mK\u001b[0m\u001b[0;34m)\u001b[0m\u001b[0;34m\u001b[0m\u001b[0;34m\u001b[0m\u001b[0m\n\u001b[0m\u001b[1;32m      7\u001b[0m   \u001b[0maccuracy_value\u001b[0m \u001b[0;34m=\u001b[0m \u001b[0maccuracy\u001b[0m\u001b[0;34m(\u001b[0m\u001b[0mdigit_predicted_by_current_instance_knn\u001b[0m\u001b[0;34m,\u001b[0m\u001b[0my_test_digit_dependent_var\u001b[0m\u001b[0;34m)\u001b[0m\u001b[0;34m\u001b[0m\u001b[0;34m\u001b[0m\u001b[0m\n\u001b[1;32m      8\u001b[0m   \u001b[0mdictionary_for_k_means\u001b[0m\u001b[0;34m[\u001b[0m\u001b[0mK\u001b[0m\u001b[0;34m]\u001b[0m\u001b[0;34m=\u001b[0m\u001b[0;34m[\u001b[0m\u001b[0maccuracy_value\u001b[0m\u001b[0;34m]\u001b[0m\u001b[0;34m\u001b[0m\u001b[0;34m\u001b[0m\u001b[0m\n",
            "\u001b[0;32m<ipython-input-64-dd23081f71e0>\u001b[0m in \u001b[0;36mk_means_predict\u001b[0;34m(self, X_test_independent_var_dataset, number_of_neighbours_K)\u001b[0m\n\u001b[1;32m     10\u001b[0m \u001b[0;34m\u001b[0m\u001b[0m\n\u001b[1;32m     11\u001b[0m     \u001b[0;32mfor\u001b[0m \u001b[0msingle_value\u001b[0m \u001b[0;32min\u001b[0m \u001b[0mrange\u001b[0m\u001b[0;34m(\u001b[0m\u001b[0mlength_of_test_dataset\u001b[0m\u001b[0;34m)\u001b[0m\u001b[0;34m:\u001b[0m\u001b[0;34m\u001b[0m\u001b[0;34m\u001b[0m\u001b[0m\n\u001b[0;32m---> 12\u001b[0;31m       \u001b[0mdistance\u001b[0m \u001b[0;34m=\u001b[0m \u001b[0mnp\u001b[0m\u001b[0;34m.\u001b[0m\u001b[0msum\u001b[0m\u001b[0;34m(\u001b[0m\u001b[0;34m(\u001b[0m\u001b[0mself\u001b[0m\u001b[0;34m.\u001b[0m\u001b[0mX_train_independent_var_dataset\u001b[0m\u001b[0;34m-\u001b[0m\u001b[0mX_test_independent_var_dataset\u001b[0m\u001b[0;34m[\u001b[0m\u001b[0msingle_value\u001b[0m\u001b[0;34m]\u001b[0m\u001b[0;34m)\u001b[0m\u001b[0;34m**\u001b[0m\u001b[0;36m2\u001b[0m\u001b[0;34m,\u001b[0m\u001b[0maxis\u001b[0m \u001b[0;34m=\u001b[0m \u001b[0;36m1\u001b[0m\u001b[0;34m)\u001b[0m\u001b[0;34m\u001b[0m\u001b[0;34m\u001b[0m\u001b[0m\n\u001b[0m\u001b[1;32m     13\u001b[0m       \u001b[0midxt\u001b[0m \u001b[0;34m=\u001b[0m \u001b[0mnp\u001b[0m\u001b[0;34m.\u001b[0m\u001b[0margsort\u001b[0m\u001b[0;34m(\u001b[0m\u001b[0mdistance\u001b[0m\u001b[0;34m)\u001b[0m\u001b[0;34m[\u001b[0m\u001b[0;34m:\u001b[0m\u001b[0mnumber_of_neighbours_K\u001b[0m\u001b[0;34m]\u001b[0m\u001b[0;34m\u001b[0m\u001b[0;34m\u001b[0m\u001b[0m\n\u001b[1;32m     14\u001b[0m       \u001b[0mgamma_k\u001b[0m \u001b[0;34m=\u001b[0m \u001b[0;36m1\u001b[0m\u001b[0;34m/\u001b[0m\u001b[0;34m(\u001b[0m\u001b[0mnp\u001b[0m\u001b[0;34m.\u001b[0m\u001b[0msqrt\u001b[0m\u001b[0;34m(\u001b[0m\u001b[0mdistance\u001b[0m\u001b[0;34m[\u001b[0m\u001b[0midxt\u001b[0m\u001b[0;34m]\u001b[0m\u001b[0;34m+\u001b[0m \u001b[0mself\u001b[0m\u001b[0;34m.\u001b[0m\u001b[0mepsilon\u001b[0m\u001b[0;34m)\u001b[0m\u001b[0;34m)\u001b[0m\u001b[0;34m\u001b[0m\u001b[0;34m\u001b[0m\u001b[0m\n",
            "\u001b[0;32m/usr/local/lib/python3.10/dist-packages/numpy/core/fromnumeric.py\u001b[0m in \u001b[0;36m_sum_dispatcher\u001b[0;34m(a, axis, dtype, out, keepdims, initial, where)\u001b[0m\n\u001b[1;32m   2170\u001b[0m \u001b[0;34m\u001b[0m\u001b[0m\n\u001b[1;32m   2171\u001b[0m \u001b[0;34m\u001b[0m\u001b[0m\n\u001b[0;32m-> 2172\u001b[0;31m def _sum_dispatcher(a, axis=None, dtype=None, out=None, keepdims=None,\n\u001b[0m\u001b[1;32m   2173\u001b[0m                     initial=None, where=None):\n\u001b[1;32m   2174\u001b[0m     \u001b[0;32mreturn\u001b[0m \u001b[0;34m(\u001b[0m\u001b[0ma\u001b[0m\u001b[0;34m,\u001b[0m \u001b[0mout\u001b[0m\u001b[0;34m)\u001b[0m\u001b[0;34m\u001b[0m\u001b[0;34m\u001b[0m\u001b[0m\n",
            "\u001b[0;31mKeyboardInterrupt\u001b[0m: "
          ]
        }
      ]
    },
    {
      "cell_type": "code",
      "source": [
        "small_values_of_K = np.arange(20,8000,50)"
      ],
      "metadata": {
        "id": "vUiRPhtu8o_H"
      },
      "execution_count": 78,
      "outputs": []
    },
    {
      "cell_type": "code",
      "source": [
        "dictionary_for_k_means_small = {}"
      ],
      "metadata": {
        "id": "m4RdiR2U84IO"
      },
      "execution_count": 77,
      "outputs": []
    },
    {
      "cell_type": "code",
      "source": [
        "for K in small_values_of_K:\n",
        "  current_instance = KMeansNearestNeighbour()\n",
        "  current_instance.k_means_fit(X_train_independent_var_scaled_dataset,y_train_digit_dependent_var)\n",
        "  digit_predicted_by_current_instance_knn = current_instance.k_means_predict(X_test_independent_var_scaled_dataset,number_of_neighbours_K=K)\n",
        "  accuracy_value = accuracy(digit_predicted_by_current_instance_knn,y_test_digit_dependent_var)\n",
        "  dictionary_for_k_means_small[K]=[accuracy_value]\n",
        "  print(f'dictionary so far: {dictionary_for_k_means_small}')\n"
      ],
      "metadata": {
        "colab": {
          "base_uri": "https://localhost:8080/",
          "height": 408
        },
        "id": "F4MsKeSY7hP1",
        "outputId": "db82ca06-db3a-4105-bf65-11ff3d22a135"
      },
      "execution_count": 80,
      "outputs": [
        {
          "output_type": "stream",
          "name": "stdout",
          "text": [
            "dictionary so far: {20: [0.9633]}\n",
            "dictionary so far: {20: [0.9633], 70: [0.9502]}\n",
            "dictionary so far: {20: [0.9633], 70: [0.9502], 120: [0.9413]}\n"
          ]
        },
        {
          "output_type": "error",
          "ename": "KeyboardInterrupt",
          "evalue": "",
          "traceback": [
            "\u001b[0;31m---------------------------------------------------------------------------\u001b[0m",
            "\u001b[0;31mKeyboardInterrupt\u001b[0m                         Traceback (most recent call last)",
            "\u001b[0;32m<ipython-input-80-ade6baf9b75f>\u001b[0m in \u001b[0;36m<cell line: 1>\u001b[0;34m()\u001b[0m\n\u001b[1;32m      2\u001b[0m   \u001b[0mcurrent_instance\u001b[0m \u001b[0;34m=\u001b[0m \u001b[0mKMeansNearestNeighbour\u001b[0m\u001b[0;34m(\u001b[0m\u001b[0;34m)\u001b[0m\u001b[0;34m\u001b[0m\u001b[0;34m\u001b[0m\u001b[0m\n\u001b[1;32m      3\u001b[0m   \u001b[0mcurrent_instance\u001b[0m\u001b[0;34m.\u001b[0m\u001b[0mk_means_fit\u001b[0m\u001b[0;34m(\u001b[0m\u001b[0mX_train_independent_var_scaled_dataset\u001b[0m\u001b[0;34m,\u001b[0m\u001b[0my_train_digit_dependent_var\u001b[0m\u001b[0;34m)\u001b[0m\u001b[0;34m\u001b[0m\u001b[0;34m\u001b[0m\u001b[0m\n\u001b[0;32m----> 4\u001b[0;31m   \u001b[0mdigit_predicted_by_current_instance_knn\u001b[0m \u001b[0;34m=\u001b[0m \u001b[0mcurrent_instance\u001b[0m\u001b[0;34m.\u001b[0m\u001b[0mk_means_predict\u001b[0m\u001b[0;34m(\u001b[0m\u001b[0mX_test_independent_var_scaled_dataset\u001b[0m\u001b[0;34m,\u001b[0m\u001b[0mnumber_of_neighbours_K\u001b[0m\u001b[0;34m=\u001b[0m\u001b[0mK\u001b[0m\u001b[0;34m)\u001b[0m\u001b[0;34m\u001b[0m\u001b[0;34m\u001b[0m\u001b[0m\n\u001b[0m\u001b[1;32m      5\u001b[0m   \u001b[0maccuracy_value\u001b[0m \u001b[0;34m=\u001b[0m \u001b[0maccuracy\u001b[0m\u001b[0;34m(\u001b[0m\u001b[0mdigit_predicted_by_current_instance_knn\u001b[0m\u001b[0;34m,\u001b[0m\u001b[0my_test_digit_dependent_var\u001b[0m\u001b[0;34m)\u001b[0m\u001b[0;34m\u001b[0m\u001b[0;34m\u001b[0m\u001b[0m\n\u001b[1;32m      6\u001b[0m   \u001b[0mdictionary_for_k_means_small\u001b[0m\u001b[0;34m[\u001b[0m\u001b[0mK\u001b[0m\u001b[0;34m]\u001b[0m\u001b[0;34m=\u001b[0m\u001b[0;34m[\u001b[0m\u001b[0maccuracy_value\u001b[0m\u001b[0;34m]\u001b[0m\u001b[0;34m\u001b[0m\u001b[0;34m\u001b[0m\u001b[0m\n",
            "\u001b[0;32m<ipython-input-64-dd23081f71e0>\u001b[0m in \u001b[0;36mk_means_predict\u001b[0;34m(self, X_test_independent_var_dataset, number_of_neighbours_K)\u001b[0m\n\u001b[1;32m     10\u001b[0m \u001b[0;34m\u001b[0m\u001b[0m\n\u001b[1;32m     11\u001b[0m     \u001b[0;32mfor\u001b[0m \u001b[0msingle_value\u001b[0m \u001b[0;32min\u001b[0m \u001b[0mrange\u001b[0m\u001b[0;34m(\u001b[0m\u001b[0mlength_of_test_dataset\u001b[0m\u001b[0;34m)\u001b[0m\u001b[0;34m:\u001b[0m\u001b[0;34m\u001b[0m\u001b[0;34m\u001b[0m\u001b[0m\n\u001b[0;32m---> 12\u001b[0;31m       \u001b[0mdistance\u001b[0m \u001b[0;34m=\u001b[0m \u001b[0mnp\u001b[0m\u001b[0;34m.\u001b[0m\u001b[0msum\u001b[0m\u001b[0;34m(\u001b[0m\u001b[0;34m(\u001b[0m\u001b[0mself\u001b[0m\u001b[0;34m.\u001b[0m\u001b[0mX_train_independent_var_dataset\u001b[0m\u001b[0;34m-\u001b[0m\u001b[0mX_test_independent_var_dataset\u001b[0m\u001b[0;34m[\u001b[0m\u001b[0msingle_value\u001b[0m\u001b[0;34m]\u001b[0m\u001b[0;34m)\u001b[0m\u001b[0;34m**\u001b[0m\u001b[0;36m2\u001b[0m\u001b[0;34m,\u001b[0m\u001b[0maxis\u001b[0m \u001b[0;34m=\u001b[0m \u001b[0;36m1\u001b[0m\u001b[0;34m)\u001b[0m\u001b[0;34m\u001b[0m\u001b[0;34m\u001b[0m\u001b[0m\n\u001b[0m\u001b[1;32m     13\u001b[0m       \u001b[0midxt\u001b[0m \u001b[0;34m=\u001b[0m \u001b[0mnp\u001b[0m\u001b[0;34m.\u001b[0m\u001b[0margsort\u001b[0m\u001b[0;34m(\u001b[0m\u001b[0mdistance\u001b[0m\u001b[0;34m)\u001b[0m\u001b[0;34m[\u001b[0m\u001b[0;34m:\u001b[0m\u001b[0mnumber_of_neighbours_K\u001b[0m\u001b[0;34m]\u001b[0m\u001b[0;34m\u001b[0m\u001b[0;34m\u001b[0m\u001b[0m\n\u001b[1;32m     14\u001b[0m       \u001b[0mgamma_k\u001b[0m \u001b[0;34m=\u001b[0m \u001b[0;36m1\u001b[0m\u001b[0;34m/\u001b[0m\u001b[0;34m(\u001b[0m\u001b[0mnp\u001b[0m\u001b[0;34m.\u001b[0m\u001b[0msqrt\u001b[0m\u001b[0;34m(\u001b[0m\u001b[0mdistance\u001b[0m\u001b[0;34m[\u001b[0m\u001b[0midxt\u001b[0m\u001b[0;34m]\u001b[0m\u001b[0;34m+\u001b[0m \u001b[0mself\u001b[0m\u001b[0;34m.\u001b[0m\u001b[0mepsilon\u001b[0m\u001b[0;34m)\u001b[0m\u001b[0;34m)\u001b[0m\u001b[0;34m\u001b[0m\u001b[0;34m\u001b[0m\u001b[0m\n",
            "\u001b[0;32m/usr/local/lib/python3.10/dist-packages/numpy/core/fromnumeric.py\u001b[0m in \u001b[0;36m_sum_dispatcher\u001b[0;34m(a, axis, dtype, out, keepdims, initial, where)\u001b[0m\n\u001b[1;32m   2170\u001b[0m \u001b[0;34m\u001b[0m\u001b[0m\n\u001b[1;32m   2171\u001b[0m \u001b[0;34m\u001b[0m\u001b[0m\n\u001b[0;32m-> 2172\u001b[0;31m def _sum_dispatcher(a, axis=None, dtype=None, out=None, keepdims=None,\n\u001b[0m\u001b[1;32m   2173\u001b[0m                     initial=None, where=None):\n\u001b[1;32m   2174\u001b[0m     \u001b[0;32mreturn\u001b[0m \u001b[0;34m(\u001b[0m\u001b[0ma\u001b[0m\u001b[0;34m,\u001b[0m \u001b[0mout\u001b[0m\u001b[0;34m)\u001b[0m\u001b[0;34m\u001b[0m\u001b[0;34m\u001b[0m\u001b[0m\n",
            "\u001b[0;31mKeyboardInterrupt\u001b[0m: "
          ]
        }
      ]
    },
    {
      "cell_type": "markdown",
      "source": [
        "so we got maximum accuracy for K = 20 now for k = 20 we will check epsilon values"
      ],
      "metadata": {
        "id": "j_GK22MBZUv6"
      }
    },
    {
      "cell_type": "code",
      "source": [
        "K_small_values= [15,25,30]"
      ],
      "metadata": {
        "id": "Cf5zlShBZZ9f"
      },
      "execution_count": 84,
      "outputs": []
    },
    {
      "cell_type": "code",
      "source": [
        "for K in K_small_values:\n",
        "  current_instance = KMeansNearestNeighbour()\n",
        "  current_instance.k_means_fit(X_train_independent_var_scaled_dataset,y_train_digit_dependent_var)\n",
        "  digit_predicted_by_current_instance_knn = current_instance.k_means_predict(X_test_independent_var_scaled_dataset,number_of_neighbours_K=K)\n",
        "  accuracy_value = accuracy(digit_predicted_by_current_instance_knn,y_test_digit_dependent_var)\n",
        "  dictionary_for_k_means_small[K]=[accuracy_value]\n",
        "  print(f'dictionary so far: {dictionary_for_k_means_small}')"
      ],
      "metadata": {
        "colab": {
          "base_uri": "https://localhost:8080/"
        },
        "id": "1QgKimT-Zj0v",
        "outputId": "11e2a0b7-eb0b-47e1-a37d-b91c466b6a4a"
      },
      "execution_count": 85,
      "outputs": [
        {
          "output_type": "stream",
          "name": "stdout",
          "text": [
            "dictionary so far: {20: [0.9633], 70: [0.9502], 120: [0.9413], 15: [0.9647]}\n",
            "dictionary so far: {20: [0.9633], 70: [0.9502], 120: [0.9413], 15: [0.9647], 25: [0.9612]}\n",
            "dictionary so far: {20: [0.9633], 70: [0.9502], 120: [0.9413], 15: [0.9647], 25: [0.9612], 30: [0.9604]}\n"
          ]
        }
      ]
    },
    {
      "cell_type": "code",
      "source": [
        "# maximum accuracy so far is for K = 25 , accuracy -- 96.04"
      ],
      "metadata": {
        "id": "k-fkcP1znvrQ"
      },
      "execution_count": 86,
      "outputs": []
    },
    {
      "cell_type": "code",
      "source": [
        "for K in [24,26,27]:\n",
        "  current_instance = KMeansNearestNeighbour()\n",
        "  current_instance.k_means_fit(X_train_independent_var_scaled_dataset,y_train_digit_dependent_var)\n",
        "  digit_predicted_by_current_instance_knn = current_instance.k_means_predict(X_test_independent_var_scaled_dataset,number_of_neighbours_K=K)\n",
        "  accuracy_value = accuracy(digit_predicted_by_current_instance_knn,y_test_digit_dependent_var)\n",
        "  dictionary_for_k_means_small[K]=[accuracy_value]\n",
        "  print(f'dictionary so far: {dictionary_for_k_means_small}')"
      ],
      "metadata": {
        "id": "MDHVeSz2nvoF"
      },
      "execution_count": null,
      "outputs": []
    },
    {
      "cell_type": "code",
      "source": [],
      "metadata": {
        "id": "jaReiuyanvlO"
      },
      "execution_count": null,
      "outputs": []
    },
    {
      "cell_type": "code",
      "source": [],
      "metadata": {
        "id": "KT1lTv2VnviR"
      },
      "execution_count": null,
      "outputs": []
    },
    {
      "cell_type": "code",
      "source": [],
      "metadata": {
        "id": "_ZjEhgcHnvfv"
      },
      "execution_count": null,
      "outputs": []
    },
    {
      "cell_type": "code",
      "source": [],
      "metadata": {
        "id": "56mzDZlVnvcu"
      },
      "execution_count": null,
      "outputs": []
    },
    {
      "cell_type": "code",
      "source": [],
      "metadata": {
        "id": "PE6VwnJVnvZc"
      },
      "execution_count": null,
      "outputs": []
    },
    {
      "cell_type": "code",
      "source": [],
      "metadata": {
        "id": "PHLGGJdXnvLO"
      },
      "execution_count": null,
      "outputs": []
    }
  ]
}